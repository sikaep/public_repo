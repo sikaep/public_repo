{
 "cells": [
  {
   "cell_type": "markdown",
   "metadata": {},
   "source": [
    "# Interface to label images"
   ]
  },
  {
   "cell_type": "markdown",
   "metadata": {},
   "source": [
    "## What has been done before\n",
    "\n",
    "To use this script, all images, which are to be labeled, where transfered into one folder (\"image_folder\"). They all have unique names.\n",
    "\n",
    "A table listing all image names in one column and experimental data in the others was created. The column \"category\" was created and filled with 0 (= unrated).\n",
    "\n",
    "This dataframe was exported as CSV to be used here. It is \";\" separated and called \"image_df_initial.csv\"."
   ]
  },
  {
   "cell_type": "markdown",
   "metadata": {},
   "source": [
    "## Goals: \n",
    "\n",
    "- write script to access folder and pull random sample from list of images where category = 0\n",
    "- script: present image, ask for input, refresh\n",
    "- add all new ratings to dataframe, merge with original data frame\n",
    "- create exclusion list of already categorized images"
   ]
  },
  {
   "cell_type": "markdown",
   "metadata": {},
   "source": [
    "## Imports"
   ]
  },
  {
   "cell_type": "code",
   "execution_count": null,
   "metadata": {
    "ExecuteTime": {
     "end_time": "2019-08-07T09:07:20.376623Z",
     "start_time": "2019-08-07T09:07:19.944141Z"
    }
   },
   "outputs": [],
   "source": [
    "import os\n",
    "import numpy as np\n",
    "import pandas as pd\n",
    "\n",
    "# to access folder, get random image\n",
    "import random, os \n",
    "from os import listdir\n",
    "from random import choice\n",
    "from tqdm import tqdm\n",
    "\n",
    "from IPython.display import display, Image # display image inline\n",
    "from IPython.display import clear_output # clear user input, refresh image"
   ]
  },
  {
   "cell_type": "markdown",
   "metadata": {},
   "source": [
    "## Image-categorizer"
   ]
  },
  {
   "cell_type": "code",
   "execution_count": null,
   "metadata": {
    "ExecuteTime": {
     "end_time": "2019-08-07T09:07:26.388485Z",
     "start_time": "2019-08-07T09:07:26.269435Z"
    }
   },
   "outputs": [],
   "source": [
    "!pwd"
   ]
  },
  {
   "cell_type": "markdown",
   "metadata": {},
   "source": [
    "### Displaying random images from folder"
   ]
  },
  {
   "cell_type": "code",
   "execution_count": null,
   "metadata": {
    "ExecuteTime": {
     "end_time": "2019-07-24T07:24:04.524455Z",
     "start_time": "2019-07-24T07:24:04.522063Z"
    }
   },
   "outputs": [],
   "source": [
    "# directory to sample from\n",
    "\n",
    "dir = \"/path/image_folder/\""
   ]
  },
  {
   "cell_type": "raw",
   "metadata": {
    "ExecuteTime": {
     "end_time": "2019-07-15T10:10:08.493177Z",
     "start_time": "2019-07-15T10:10:08.277530Z"
    }
   },
   "source": [
    "# this code shows a random image name\n",
    "# can be used to check whether correct folder is accessed\n",
    "\n",
    "path = r\"/path/image_folder\"\n",
    "\n",
    "random_filename = random.choice([\n",
    "    x for x in os.listdir(path)\n",
    "    if os.path.isfile(os.path.join(path, x))\n",
    "])\n",
    "print(random_filename)"
   ]
  },
  {
   "cell_type": "code",
   "execution_count": null,
   "metadata": {
    "ExecuteTime": {
     "end_time": "2019-07-24T07:25:07.298012Z",
     "start_time": "2019-07-24T07:25:07.229290Z"
    }
   },
   "outputs": [],
   "source": [
    "# this code displays a random image from the folder\n",
    "\n",
    "# any type of image in this list will be shown\n",
    "ext2conttype = {\"jpg\": \"image/jpeg\",\n",
    "                \"jpeg\": \"image/jpeg\",\n",
    "                \"png\": \"image/png\",\n",
    "                \"gif\": \"image/gif\"}\n",
    "\n",
    "def content_type(filename):\n",
    "    return ext2conttype[filename[filename.rfind(\".\")+1:].lower()]\n",
    "\n",
    "def isimage(filename):\n",
    "    \"\"\"true if the filename's extension is in the content-type lookup\"\"\"\n",
    "    filename = filename.lower()\n",
    "    return filename[filename.rfind(\".\")+1:] in ext2conttype\n",
    "\n",
    "def random_file(dir):\n",
    "    \"\"\"returns the filename of a randomly chosen image in dir\"\"\"\n",
    "    images = [f for f in listdir(dir) if isimage(f)]\n",
    "    return choice(images)\n",
    "\n",
    "if __name__ == \"__main__\":\n",
    "    dir = dir\n",
    "    r = random_file(dir)\n",
    "    print(r)\n",
    "    display(Image(data=dir, filename=(dir+r)))"
   ]
  },
  {
   "cell_type": "markdown",
   "metadata": {},
   "source": [
    "# Functional categorizer"
   ]
  },
  {
   "cell_type": "markdown",
   "metadata": {},
   "source": [
    "## Key"
   ]
  },
  {
   "cell_type": "markdown",
   "metadata": {},
   "source": [
    "Any number of categories are possible, as long as they can be reliably distinguished.\n",
    "\n",
    "        0: unrated\n",
    "        1: category 1\n",
    "        2: category 2\n",
    "        3: category 3\n",
    "        4: category 4\n",
    "        5: category 5"
   ]
  },
  {
   "cell_type": "markdown",
   "metadata": {},
   "source": [
    "## Get data"
   ]
  },
  {
   "cell_type": "raw",
   "metadata": {
    "ExecuteTime": {
     "end_time": "2019-07-15T13:27:38.002751Z",
     "start_time": "2019-07-15T13:27:37.877479Z"
    }
   },
   "source": [
    "# for first use, load initial df with this cell\n",
    "\n",
    "image_df = pd.read_csv(\"image_df_initial.csv\", sep=\";\", index_col=0)\n",
    "image_df.sort_values(\n",
    "    by=\"category\", ascending=True)"
   ]
  },
  {
   "cell_type": "code",
   "execution_count": null,
   "metadata": {
    "ExecuteTime": {
     "end_time": "2019-07-24T07:24:11.792097Z",
     "start_time": "2019-07-24T07:24:11.690519Z"
    }
   },
   "outputs": [],
   "source": [
    "# load most recent table in later uses\n",
    "\n",
    "image_df = pd.read_csv(\"image_df_classification.csv\", sep=\";\", index_col=0)\n",
    "image_df.head()"
   ]
  },
  {
   "cell_type": "markdown",
   "metadata": {},
   "source": [
    "## Data integrity and exclusion/selection list"
   ]
  },
  {
   "cell_type": "code",
   "execution_count": null,
   "metadata": {
    "ExecuteTime": {
     "end_time": "2019-07-24T07:24:22.379270Z",
     "start_time": "2019-07-24T07:24:22.370799Z"
    }
   },
   "outputs": [],
   "source": [
    "# list of images already rated\n",
    "\n",
    "exclusion_df=image_df[image_df[\"category\"] >= 1.0]\n",
    "\n",
    "exclusion_list=exclusion_df[\"filename\"].to_list()\n",
    "\n",
    "len(exclusion_list)"
   ]
  },
  {
   "cell_type": "code",
   "execution_count": null,
   "metadata": {
    "ExecuteTime": {
     "end_time": "2019-07-24T07:24:16.545092Z",
     "start_time": "2019-07-24T07:24:16.524393Z"
    }
   },
   "outputs": [],
   "source": [
    "image_df.isna().sum()"
   ]
  },
  {
   "cell_type": "markdown",
   "metadata": {},
   "source": [
    "## Categorizing"
   ]
  },
  {
   "cell_type": "code",
   "execution_count": null,
   "metadata": {
    "ExecuteTime": {
     "end_time": "2019-07-22T07:52:08.181671Z",
     "start_time": "2019-07-22T07:48:09.123373Z"
    }
   },
   "outputs": [],
   "source": [
    "# sample from folder\n",
    "\n",
    "img = []\n",
    "cat = []\n",
    "\n",
    "for i in range(50):\n",
    "    clear_output()\n",
    "    dir = dir\n",
    "    r = random_file(dir)\n",
    "    \n",
    "    if r in exclusion_list: # exclude these mages\n",
    "        pass\n",
    "    \n",
    "    else:\n",
    "        print(r)\n",
    "        display(Image(data=dir, filename=(dir+r)))\n",
    "        variable = int(input()) # so it can later more easily be manipulated\n",
    "        cat.append(variable)\n",
    "        img.append(r)"
   ]
  },
  {
   "cell_type": "code",
   "execution_count": null,
   "metadata": {
    "ExecuteTime": {
     "end_time": "2019-07-22T07:52:11.659448Z",
     "start_time": "2019-07-22T07:52:11.647846Z"
    }
   },
   "outputs": [],
   "source": [
    "# create dataframe with img and cat list\n",
    "\n",
    "rating_df = pd.DataFrame(list(zip(img, cat)), columns =[\"filename\", \"category_rated\"]) \n",
    "rating_df.category_rated.astype(float)\n",
    "rating_df.info()"
   ]
  },
  {
   "cell_type": "code",
   "execution_count": null,
   "metadata": {
    "ExecuteTime": {
     "end_time": "2019-07-22T07:52:11.944006Z",
     "start_time": "2019-07-22T07:52:11.935721Z"
    }
   },
   "outputs": [],
   "source": [
    "#rating_df[\"category_rated\"] = rating_df.category_rated.replace(to_replace=44, value=4) # fix typos\n",
    "rating_df.head()"
   ]
  },
  {
   "cell_type": "markdown",
   "metadata": {},
   "source": [
    "## Updating dataframe and exclusion list"
   ]
  },
  {
   "cell_type": "markdown",
   "metadata": {},
   "source": [
    "To be able to exclude previously categorized images, the dataframe and the resulting exclusion list need to be updated continously."
   ]
  },
  {
   "cell_type": "code",
   "execution_count": null,
   "metadata": {
    "ExecuteTime": {
     "end_time": "2019-07-22T07:52:12.882181Z",
     "start_time": "2019-07-22T07:52:12.829025Z"
    }
   },
   "outputs": [],
   "source": [
    "# merge rating_df (contains names and categories) and image_df (contains names and information)\n",
    "\n",
    "image_df.head()\n",
    "image_df.sort_values(\n",
    "    by=\"category\", ascending=False)\n",
    "\n",
    "left_join_image_df = pd.merge(image_df, rating_df, on=\"filename\", how=\"left\")\n",
    "left_join_image_df = left_join_image_df.sort_values(\n",
    "    by=\"category_rated\", ascending=False)\n",
    "\n",
    "#left_join_image_df.drop(columns=[\"Unnamed: 0\"]).head(10)\n",
    "left_join_image_df.head()"
   ]
  },
  {
   "cell_type": "code",
   "execution_count": null,
   "metadata": {
    "ExecuteTime": {
     "end_time": "2019-07-22T07:52:13.027834Z",
     "start_time": "2019-07-22T07:52:13.008414Z"
    }
   },
   "outputs": [],
   "source": [
    "# overwrite category = 0 with true rating, where present\n",
    "\n",
    "left_join_image_df[\"category\"] = np.where(\n",
    "    left_join_image_df[\"category\"] < 1, left_join_image_df[\"category_rated\"], left_join_image_df[\"category\"])\n",
    "\n",
    "left_join_image_df.head()"
   ]
  },
  {
   "cell_type": "code",
   "execution_count": null,
   "metadata": {
    "ExecuteTime": {
     "end_time": "2019-07-22T07:52:13.339648Z",
     "start_time": "2019-07-22T07:52:13.318993Z"
    }
   },
   "outputs": [],
   "source": [
    "# collect finished new image_df\n",
    "\n",
    "image_df = left_join_image_df.drop(columns=[\"category_rated\"])\n",
    "\n",
    "image_df.category.fillna(0, inplace=True)\n",
    "\n",
    "image_df.head()"
   ]
  },
  {
   "cell_type": "markdown",
   "metadata": {},
   "source": [
    "## Check NaNs and save to CSV"
   ]
  },
  {
   "cell_type": "code",
   "execution_count": null,
   "metadata": {
    "ExecuteTime": {
     "end_time": "2019-07-22T07:52:14.150639Z",
     "start_time": "2019-07-22T07:52:14.131097Z"
    }
   },
   "outputs": [],
   "source": [
    "image_df.isna().sum()"
   ]
  },
  {
   "cell_type": "code",
   "execution_count": null,
   "metadata": {
    "ExecuteTime": {
     "end_time": "2019-07-22T07:52:15.418907Z",
     "start_time": "2019-07-22T07:52:15.233302Z"
    }
   },
   "outputs": [],
   "source": [
    "image_df.to_csv(\"image_df_classification.csv\", sep=\";\") # update numbering to keep versions"
   ]
  },
  {
   "cell_type": "code",
   "execution_count": null,
   "metadata": {
    "ExecuteTime": {
     "end_time": "2019-07-22T07:52:15.552721Z",
     "start_time": "2019-07-22T07:52:15.540691Z"
    }
   },
   "outputs": [],
   "source": [
    "# exclude previously rated images (category of 1 or higher)\n",
    "\n",
    "exclusion_df=image_df[image_df[\"category\"] >= 1]\n",
    "\n",
    "exclusion_list=exclusion_df[\"filename\"].to_list()\n",
    "\n",
    "len(exclusion_list)"
   ]
  },
  {
   "cell_type": "code",
   "execution_count": null,
   "metadata": {
    "ExecuteTime": {
     "end_time": "2019-07-22T07:52:15.980333Z",
     "start_time": "2019-07-22T07:52:15.969234Z"
    }
   },
   "outputs": [],
   "source": [
    "image_df[\"category\"].value_counts()"
   ]
  },
  {
   "cell_type": "markdown",
   "metadata": {},
   "source": [
    "Back to [Categorizing](#Categorizing) to continue labeling"
   ]
  }
 ],
 "metadata": {
  "kernelspec": {
   "display_name": "Python 3",
   "language": "python",
   "name": "python3"
  },
  "language_info": {
   "codemirror_mode": {
    "name": "ipython",
    "version": 3
   },
   "file_extension": ".py",
   "mimetype": "text/x-python",
   "name": "python",
   "nbconvert_exporter": "python",
   "pygments_lexer": "ipython3",
   "version": "3.7.3"
  },
  "toc": {
   "base_numbering": 1,
   "nav_menu": {},
   "number_sections": true,
   "sideBar": true,
   "skip_h1_title": false,
   "title_cell": "Table of Contents",
   "title_sidebar": "Contents",
   "toc_cell": false,
   "toc_position": {
    "height": "calc(100% - 180px)",
    "left": "10px",
    "top": "150px",
    "width": "319.467px"
   },
   "toc_section_display": true,
   "toc_window_display": false
  }
 },
 "nbformat": 4,
 "nbformat_minor": 2
}
