{
 "cells": [
  {
   "cell_type": "markdown",
   "metadata": {
    "colab_type": "text",
    "id": "3P9tVDUhK_Tg"
   },
   "source": [
    "# Banking - Logistic Regression"
   ]
  },
  {
   "cell_type": "markdown",
   "metadata": {
    "colab_type": "text",
    "id": "D9E6fTjzK_Tk"
   },
   "source": [
    "Goal: Use the bank direct marketing dataset (banking.csv) to train a logistic regression predicting if a client will subscribe (1/0) to a term deposit (variable called ‘y’).\n",
    "\n",
    "Methods: train model with k-fold cross-validation, L1- and L2-penalty or no penalty, plot the ROC curve as well as precision and recall with varying thresholds\n",
    "\n",
    "The dataset is based on http://archive.ics.uci.edu/ml/datasets/Bank+Marketing\n",
    "\n",
    "The CSV I've used: https://raw.githubusercontent.com/madmashup/targeted-marketing-predictive-engine/master/banking.csv"
   ]
  },
  {
   "cell_type": "code",
   "execution_count": 1,
   "metadata": {
    "ExecuteTime": {
     "end_time": "2019-07-09T17:02:49.653197Z",
     "start_time": "2019-07-09T17:02:48.997550Z"
    },
    "colab": {
     "base_uri": "https://localhost:8080/",
     "height": 72
    },
    "colab_type": "code",
    "id": "JmQB4KPPK_Tm",
    "outputId": "a6966f9f-e475-40a1-c101-7346f504067c"
   },
   "outputs": [
    {
     "name": "stderr",
     "output_type": "stream",
     "text": [
      "/home/simon/anaconda3/envs/Python_Widgets/lib/python3.7/site-packages/sklearn/externals/six.py:31: DeprecationWarning: The module is deprecated in version 0.21 and will be removed in version 0.23 since we've dropped support for Python 2.7. Please rely on the official version of six (https://pypi.org/project/six/).\n",
      "  \"(https://pypi.org/project/six/).\", DeprecationWarning)\n"
     ]
    }
   ],
   "source": [
    "%matplotlib inline\n",
    "import matplotlib.pyplot as plt\n",
    "import numpy as np\n",
    "import pandas as pd\n",
    "import random\n",
    "\n",
    "from sklearn.linear_model import LogisticRegression\n",
    "from sklearn import linear_model\n",
    "from sklearn.model_selection import train_test_split\n",
    "from sklearn.metrics import roc_auc_score\n",
    "\n",
    "from sklearn.preprocessing import StandardScaler\n",
    "from sklearn.preprocessing import OneHotEncoder\n",
    "\n",
    "from sklearn.model_selection import cross_val_score\n",
    "from sklearn import metrics\n",
    "from sklearn.utils import shuffle\n",
    "from sklearn.model_selection import RandomizedSearchCV # for random search\n",
    "from sklearn.model_selection import GridSearchCV # for grid search\n",
    "\n",
    "import seaborn as sns\n",
    "\n",
    "from imblearn.over_sampling import SMOTE\n",
    "from collections import Counter"
   ]
  },
  {
   "cell_type": "code",
   "execution_count": 2,
   "metadata": {
    "ExecuteTime": {
     "end_time": "2019-07-09T17:02:50.489515Z",
     "start_time": "2019-07-09T17:02:49.655489Z"
    },
    "colab": {},
    "colab_type": "code",
    "id": "I8cBSivUK_T1"
   },
   "outputs": [],
   "source": [
    "bank_data = pd.read_csv(\n",
    "    'https://raw.githubusercontent.com/madmashup/targeted-marketing-predictive-engine/master/banking.csv', delimiter=\",\")"
   ]
  },
  {
   "cell_type": "markdown",
   "metadata": {
    "colab_type": "text",
    "id": "2z6jgnp_K_T_"
   },
   "source": [
    "## Data description"
   ]
  },
  {
   "cell_type": "code",
   "execution_count": 3,
   "metadata": {
    "ExecuteTime": {
     "end_time": "2019-07-09T17:02:50.760389Z",
     "start_time": "2019-07-09T17:02:50.739634Z"
    },
    "colab": {
     "base_uri": "https://localhost:8080/",
     "height": 226
    },
    "colab_type": "code",
    "id": "kWlDnFqbK_UB",
    "outputId": "7541960e-6b20-4ac5-9a2c-0776bffff45d"
   },
   "outputs": [
    {
     "data": {
      "text/html": [
       "<div>\n",
       "<style scoped>\n",
       "    .dataframe tbody tr th:only-of-type {\n",
       "        vertical-align: middle;\n",
       "    }\n",
       "\n",
       "    .dataframe tbody tr th {\n",
       "        vertical-align: top;\n",
       "    }\n",
       "\n",
       "    .dataframe thead th {\n",
       "        text-align: right;\n",
       "    }\n",
       "</style>\n",
       "<table border=\"1\" class=\"dataframe\">\n",
       "  <thead>\n",
       "    <tr style=\"text-align: right;\">\n",
       "      <th></th>\n",
       "      <th>age</th>\n",
       "      <th>job</th>\n",
       "      <th>marital</th>\n",
       "      <th>education</th>\n",
       "      <th>default</th>\n",
       "      <th>housing</th>\n",
       "      <th>loan</th>\n",
       "      <th>contact</th>\n",
       "      <th>month</th>\n",
       "      <th>day_of_week</th>\n",
       "      <th>...</th>\n",
       "      <th>campaign</th>\n",
       "      <th>pdays</th>\n",
       "      <th>previous</th>\n",
       "      <th>poutcome</th>\n",
       "      <th>emp_var_rate</th>\n",
       "      <th>cons_price_idx</th>\n",
       "      <th>cons_conf_idx</th>\n",
       "      <th>euribor3m</th>\n",
       "      <th>nr_employed</th>\n",
       "      <th>y</th>\n",
       "    </tr>\n",
       "  </thead>\n",
       "  <tbody>\n",
       "    <tr>\n",
       "      <th>0</th>\n",
       "      <td>44</td>\n",
       "      <td>blue-collar</td>\n",
       "      <td>married</td>\n",
       "      <td>basic.4y</td>\n",
       "      <td>unknown</td>\n",
       "      <td>yes</td>\n",
       "      <td>no</td>\n",
       "      <td>cellular</td>\n",
       "      <td>aug</td>\n",
       "      <td>thu</td>\n",
       "      <td>...</td>\n",
       "      <td>1</td>\n",
       "      <td>999</td>\n",
       "      <td>0</td>\n",
       "      <td>nonexistent</td>\n",
       "      <td>1.4</td>\n",
       "      <td>93.444</td>\n",
       "      <td>-36.1</td>\n",
       "      <td>4.963</td>\n",
       "      <td>5228.1</td>\n",
       "      <td>0</td>\n",
       "    </tr>\n",
       "    <tr>\n",
       "      <th>1</th>\n",
       "      <td>53</td>\n",
       "      <td>technician</td>\n",
       "      <td>married</td>\n",
       "      <td>unknown</td>\n",
       "      <td>no</td>\n",
       "      <td>no</td>\n",
       "      <td>no</td>\n",
       "      <td>cellular</td>\n",
       "      <td>nov</td>\n",
       "      <td>fri</td>\n",
       "      <td>...</td>\n",
       "      <td>1</td>\n",
       "      <td>999</td>\n",
       "      <td>0</td>\n",
       "      <td>nonexistent</td>\n",
       "      <td>-0.1</td>\n",
       "      <td>93.200</td>\n",
       "      <td>-42.0</td>\n",
       "      <td>4.021</td>\n",
       "      <td>5195.8</td>\n",
       "      <td>0</td>\n",
       "    </tr>\n",
       "    <tr>\n",
       "      <th>2</th>\n",
       "      <td>28</td>\n",
       "      <td>management</td>\n",
       "      <td>single</td>\n",
       "      <td>university.degree</td>\n",
       "      <td>no</td>\n",
       "      <td>yes</td>\n",
       "      <td>no</td>\n",
       "      <td>cellular</td>\n",
       "      <td>jun</td>\n",
       "      <td>thu</td>\n",
       "      <td>...</td>\n",
       "      <td>3</td>\n",
       "      <td>6</td>\n",
       "      <td>2</td>\n",
       "      <td>success</td>\n",
       "      <td>-1.7</td>\n",
       "      <td>94.055</td>\n",
       "      <td>-39.8</td>\n",
       "      <td>0.729</td>\n",
       "      <td>4991.6</td>\n",
       "      <td>1</td>\n",
       "    </tr>\n",
       "    <tr>\n",
       "      <th>3</th>\n",
       "      <td>39</td>\n",
       "      <td>services</td>\n",
       "      <td>married</td>\n",
       "      <td>high.school</td>\n",
       "      <td>no</td>\n",
       "      <td>no</td>\n",
       "      <td>no</td>\n",
       "      <td>cellular</td>\n",
       "      <td>apr</td>\n",
       "      <td>fri</td>\n",
       "      <td>...</td>\n",
       "      <td>2</td>\n",
       "      <td>999</td>\n",
       "      <td>0</td>\n",
       "      <td>nonexistent</td>\n",
       "      <td>-1.8</td>\n",
       "      <td>93.075</td>\n",
       "      <td>-47.1</td>\n",
       "      <td>1.405</td>\n",
       "      <td>5099.1</td>\n",
       "      <td>0</td>\n",
       "    </tr>\n",
       "    <tr>\n",
       "      <th>4</th>\n",
       "      <td>55</td>\n",
       "      <td>retired</td>\n",
       "      <td>married</td>\n",
       "      <td>basic.4y</td>\n",
       "      <td>no</td>\n",
       "      <td>yes</td>\n",
       "      <td>no</td>\n",
       "      <td>cellular</td>\n",
       "      <td>aug</td>\n",
       "      <td>fri</td>\n",
       "      <td>...</td>\n",
       "      <td>1</td>\n",
       "      <td>3</td>\n",
       "      <td>1</td>\n",
       "      <td>success</td>\n",
       "      <td>-2.9</td>\n",
       "      <td>92.201</td>\n",
       "      <td>-31.4</td>\n",
       "      <td>0.869</td>\n",
       "      <td>5076.2</td>\n",
       "      <td>1</td>\n",
       "    </tr>\n",
       "  </tbody>\n",
       "</table>\n",
       "<p>5 rows × 21 columns</p>\n",
       "</div>"
      ],
      "text/plain": [
       "   age          job  marital          education  default housing loan  \\\n",
       "0   44  blue-collar  married           basic.4y  unknown     yes   no   \n",
       "1   53   technician  married            unknown       no      no   no   \n",
       "2   28   management   single  university.degree       no     yes   no   \n",
       "3   39     services  married        high.school       no      no   no   \n",
       "4   55      retired  married           basic.4y       no     yes   no   \n",
       "\n",
       "    contact month day_of_week  ...  campaign  pdays  previous     poutcome  \\\n",
       "0  cellular   aug         thu  ...         1    999         0  nonexistent   \n",
       "1  cellular   nov         fri  ...         1    999         0  nonexistent   \n",
       "2  cellular   jun         thu  ...         3      6         2      success   \n",
       "3  cellular   apr         fri  ...         2    999         0  nonexistent   \n",
       "4  cellular   aug         fri  ...         1      3         1      success   \n",
       "\n",
       "  emp_var_rate  cons_price_idx  cons_conf_idx  euribor3m  nr_employed  y  \n",
       "0          1.4          93.444          -36.1      4.963       5228.1  0  \n",
       "1         -0.1          93.200          -42.0      4.021       5195.8  0  \n",
       "2         -1.7          94.055          -39.8      0.729       4991.6  1  \n",
       "3         -1.8          93.075          -47.1      1.405       5099.1  0  \n",
       "4         -2.9          92.201          -31.4      0.869       5076.2  1  \n",
       "\n",
       "[5 rows x 21 columns]"
      ]
     },
     "execution_count": 3,
     "metadata": {},
     "output_type": "execute_result"
    }
   ],
   "source": [
    "bank_data.head()"
   ]
  },
  {
   "cell_type": "code",
   "execution_count": 4,
   "metadata": {
    "ExecuteTime": {
     "end_time": "2019-07-09T17:02:51.349417Z",
     "start_time": "2019-07-09T17:02:51.316218Z"
    },
    "colab": {
     "base_uri": "https://localhost:8080/",
     "height": 469
    },
    "colab_type": "code",
    "id": "MzDNPxvyK_UI",
    "outputId": "0e985e0b-d4ab-4e9f-b1ae-b6856e88b9cd"
   },
   "outputs": [
    {
     "name": "stdout",
     "output_type": "stream",
     "text": [
      "<class 'pandas.core.frame.DataFrame'>\n",
      "RangeIndex: 41188 entries, 0 to 41187\n",
      "Data columns (total 21 columns):\n",
      "age               41188 non-null int64\n",
      "job               41188 non-null object\n",
      "marital           41188 non-null object\n",
      "education         41188 non-null object\n",
      "default           41188 non-null object\n",
      "housing           41188 non-null object\n",
      "loan              41188 non-null object\n",
      "contact           41188 non-null object\n",
      "month             41188 non-null object\n",
      "day_of_week       41188 non-null object\n",
      "duration          41188 non-null int64\n",
      "campaign          41188 non-null int64\n",
      "pdays             41188 non-null int64\n",
      "previous          41188 non-null int64\n",
      "poutcome          41188 non-null object\n",
      "emp_var_rate      41188 non-null float64\n",
      "cons_price_idx    41188 non-null float64\n",
      "cons_conf_idx     41188 non-null float64\n",
      "euribor3m         41188 non-null float64\n",
      "nr_employed       41188 non-null float64\n",
      "y                 41188 non-null int64\n",
      "dtypes: float64(5), int64(6), object(10)\n",
      "memory usage: 6.6+ MB\n"
     ]
    }
   ],
   "source": [
    "bank_data.info() # there are no values missing"
   ]
  },
  {
   "cell_type": "markdown",
   "metadata": {
    "colab_type": "text",
    "id": "UZgqMR2bOX53"
   },
   "source": [
    "## Check and remove correlated numeric features\n",
    "\n",
    "Correlation in the independent variables is a problem for regression as it can decrease the precision if the model."
   ]
  },
  {
   "cell_type": "code",
   "execution_count": 5,
   "metadata": {
    "ExecuteTime": {
     "end_time": "2019-07-09T17:02:53.042889Z",
     "start_time": "2019-07-09T17:02:52.564659Z"
    },
    "colab": {
     "base_uri": "https://localhost:8080/",
     "height": 562
    },
    "colab_type": "code",
    "id": "QJASYlg3K_UP",
    "outputId": "caf509d5-126d-4c2c-9426-0027a80c5d1f"
   },
   "outputs": [
    {
     "data": {
      "image/png": "[encoded data removed]",
      "text/plain": [
       "<Figure size 720x576 with 2 Axes>"
      ]
     },
     "metadata": {
      "needs_background": "light"
     },
     "output_type": "display_data"
    }
   ],
   "source": [
    "# creating pairwise correlation of columns using Pearson's\n",
    "corr = bank_data.loc[:, bank_data.columns != 'y'].corr(method='pearson')\n",
    "\n",
    "# plotting the correlation coefficients on a seasborn heatmap matrix\n",
    "fig, ax = plt.subplots(figsize=(10, 8))\n",
    "sns.heatmap(corr, annot=True, xticklabels=corr.columns,\n",
    "            yticklabels=corr.columns, ax=ax, linewidths=.5,\n",
    "            vmin=-1, vmax=1, center=0)\n",
    "\n",
    "plt.title('Correlation HeatMap')\n",
    "plt.show()"
   ]
  },
  {
   "cell_type": "code",
   "execution_count": 6,
   "metadata": {
    "ExecuteTime": {
     "end_time": "2019-07-09T17:02:53.200055Z",
     "start_time": "2019-07-09T17:02:53.194049Z"
    },
    "colab": {
     "base_uri": "https://localhost:8080/",
     "height": 34
    },
    "colab_type": "code",
    "id": "C4c-6p9EMOZl",
    "outputId": "157ed1e7-d005-4f79-ef5c-40e2ff49d38a"
   },
   "outputs": [
    {
     "data": {
      "text/plain": [
       "{'euribor3m', 'nr_employed'}"
      ]
     },
     "execution_count": 6,
     "metadata": {},
     "output_type": "execute_result"
    }
   ],
   "source": [
    "# loop to get the columns with highly correlated features\n",
    "\n",
    "correlated_features = set()\n",
    "for i in range(len(corr.columns)):\n",
    "    for j in range(i):\n",
    "        # this number could be lower or higher, depending on the data and number of features\n",
    "        if abs(corr.iloc[i, j]) > abs(0.85):\n",
    "            colname = corr.columns[i]\n",
    "            correlated_features.add(colname)\n",
    "correlated_features"
   ]
  },
  {
   "cell_type": "code",
   "execution_count": 7,
   "metadata": {
    "ExecuteTime": {
     "end_time": "2019-07-09T17:02:53.830439Z",
     "start_time": "2019-07-09T17:02:53.806243Z"
    },
    "colab": {
     "base_uri": "https://localhost:8080/",
     "height": 226
    },
    "colab_type": "code",
    "id": "bw7JWGegNntJ",
    "outputId": "c726b35d-d77f-4c60-de01-9073d7986881"
   },
   "outputs": [
    {
     "data": {
      "text/html": [
       "<div>\n",
       "<style scoped>\n",
       "    .dataframe tbody tr th:only-of-type {\n",
       "        vertical-align: middle;\n",
       "    }\n",
       "\n",
       "    .dataframe tbody tr th {\n",
       "        vertical-align: top;\n",
       "    }\n",
       "\n",
       "    .dataframe thead th {\n",
       "        text-align: right;\n",
       "    }\n",
       "</style>\n",
       "<table border=\"1\" class=\"dataframe\">\n",
       "  <thead>\n",
       "    <tr style=\"text-align: right;\">\n",
       "      <th></th>\n",
       "      <th>age</th>\n",
       "      <th>job</th>\n",
       "      <th>marital</th>\n",
       "      <th>education</th>\n",
       "      <th>default</th>\n",
       "      <th>housing</th>\n",
       "      <th>loan</th>\n",
       "      <th>contact</th>\n",
       "      <th>month</th>\n",
       "      <th>day_of_week</th>\n",
       "      <th>duration</th>\n",
       "      <th>campaign</th>\n",
       "      <th>pdays</th>\n",
       "      <th>previous</th>\n",
       "      <th>poutcome</th>\n",
       "      <th>emp_var_rate</th>\n",
       "      <th>cons_price_idx</th>\n",
       "      <th>cons_conf_idx</th>\n",
       "      <th>y</th>\n",
       "    </tr>\n",
       "  </thead>\n",
       "  <tbody>\n",
       "    <tr>\n",
       "      <th>0</th>\n",
       "      <td>44</td>\n",
       "      <td>blue-collar</td>\n",
       "      <td>married</td>\n",
       "      <td>basic.4y</td>\n",
       "      <td>unknown</td>\n",
       "      <td>yes</td>\n",
       "      <td>no</td>\n",
       "      <td>cellular</td>\n",
       "      <td>aug</td>\n",
       "      <td>thu</td>\n",
       "      <td>210</td>\n",
       "      <td>1</td>\n",
       "      <td>999</td>\n",
       "      <td>0</td>\n",
       "      <td>nonexistent</td>\n",
       "      <td>1.4</td>\n",
       "      <td>93.444</td>\n",
       "      <td>-36.1</td>\n",
       "      <td>0</td>\n",
       "    </tr>\n",
       "    <tr>\n",
       "      <th>1</th>\n",
       "      <td>53</td>\n",
       "      <td>technician</td>\n",
       "      <td>married</td>\n",
       "      <td>unknown</td>\n",
       "      <td>no</td>\n",
       "      <td>no</td>\n",
       "      <td>no</td>\n",
       "      <td>cellular</td>\n",
       "      <td>nov</td>\n",
       "      <td>fri</td>\n",
       "      <td>138</td>\n",
       "      <td>1</td>\n",
       "      <td>999</td>\n",
       "      <td>0</td>\n",
       "      <td>nonexistent</td>\n",
       "      <td>-0.1</td>\n",
       "      <td>93.200</td>\n",
       "      <td>-42.0</td>\n",
       "      <td>0</td>\n",
       "    </tr>\n",
       "    <tr>\n",
       "      <th>2</th>\n",
       "      <td>28</td>\n",
       "      <td>management</td>\n",
       "      <td>single</td>\n",
       "      <td>university.degree</td>\n",
       "      <td>no</td>\n",
       "      <td>yes</td>\n",
       "      <td>no</td>\n",
       "      <td>cellular</td>\n",
       "      <td>jun</td>\n",
       "      <td>thu</td>\n",
       "      <td>339</td>\n",
       "      <td>3</td>\n",
       "      <td>6</td>\n",
       "      <td>2</td>\n",
       "      <td>success</td>\n",
       "      <td>-1.7</td>\n",
       "      <td>94.055</td>\n",
       "      <td>-39.8</td>\n",
       "      <td>1</td>\n",
       "    </tr>\n",
       "    <tr>\n",
       "      <th>3</th>\n",
       "      <td>39</td>\n",
       "      <td>services</td>\n",
       "      <td>married</td>\n",
       "      <td>high.school</td>\n",
       "      <td>no</td>\n",
       "      <td>no</td>\n",
       "      <td>no</td>\n",
       "      <td>cellular</td>\n",
       "      <td>apr</td>\n",
       "      <td>fri</td>\n",
       "      <td>185</td>\n",
       "      <td>2</td>\n",
       "      <td>999</td>\n",
       "      <td>0</td>\n",
       "      <td>nonexistent</td>\n",
       "      <td>-1.8</td>\n",
       "      <td>93.075</td>\n",
       "      <td>-47.1</td>\n",
       "      <td>0</td>\n",
       "    </tr>\n",
       "    <tr>\n",
       "      <th>4</th>\n",
       "      <td>55</td>\n",
       "      <td>retired</td>\n",
       "      <td>married</td>\n",
       "      <td>basic.4y</td>\n",
       "      <td>no</td>\n",
       "      <td>yes</td>\n",
       "      <td>no</td>\n",
       "      <td>cellular</td>\n",
       "      <td>aug</td>\n",
       "      <td>fri</td>\n",
       "      <td>137</td>\n",
       "      <td>1</td>\n",
       "      <td>3</td>\n",
       "      <td>1</td>\n",
       "      <td>success</td>\n",
       "      <td>-2.9</td>\n",
       "      <td>92.201</td>\n",
       "      <td>-31.4</td>\n",
       "      <td>1</td>\n",
       "    </tr>\n",
       "  </tbody>\n",
       "</table>\n",
       "</div>"
      ],
      "text/plain": [
       "   age          job  marital          education  default housing loan  \\\n",
       "0   44  blue-collar  married           basic.4y  unknown     yes   no   \n",
       "1   53   technician  married            unknown       no      no   no   \n",
       "2   28   management   single  university.degree       no     yes   no   \n",
       "3   39     services  married        high.school       no      no   no   \n",
       "4   55      retired  married           basic.4y       no     yes   no   \n",
       "\n",
       "    contact month day_of_week  duration  campaign  pdays  previous  \\\n",
       "0  cellular   aug         thu       210         1    999         0   \n",
       "1  cellular   nov         fri       138         1    999         0   \n",
       "2  cellular   jun         thu       339         3      6         2   \n",
       "3  cellular   apr         fri       185         2    999         0   \n",
       "4  cellular   aug         fri       137         1      3         1   \n",
       "\n",
       "      poutcome  emp_var_rate  cons_price_idx  cons_conf_idx  y  \n",
       "0  nonexistent           1.4          93.444          -36.1  0  \n",
       "1  nonexistent          -0.1          93.200          -42.0  0  \n",
       "2      success          -1.7          94.055          -39.8  1  \n",
       "3  nonexistent          -1.8          93.075          -47.1  0  \n",
       "4      success          -2.9          92.201          -31.4  1  "
      ]
     },
     "execution_count": 7,
     "metadata": {},
     "output_type": "execute_result"
    }
   ],
   "source": [
    "bank_data=bank_data.drop(columns=correlated_features)\n",
    "bank_data.head()"
   ]
  },
  {
   "cell_type": "markdown",
   "metadata": {
    "colab_type": "text",
    "id": "PmfVkgdCK_UU"
   },
   "source": [
    "## Separating X and y"
   ]
  },
  {
   "cell_type": "code",
   "execution_count": 8,
   "metadata": {
    "ExecuteTime": {
     "end_time": "2019-07-09T17:02:55.114397Z",
     "start_time": "2019-07-09T17:02:55.106119Z"
    },
    "colab": {},
    "colab_type": "code",
    "id": "zzl4xQRePhrS"
   },
   "outputs": [],
   "source": [
    "# split table into X (features) and y (target)\n",
    "y= bank_data[\"y\"]\n",
    "X=bank_data.drop(columns=\"y\")"
   ]
  },
  {
   "cell_type": "code",
   "execution_count": 9,
   "metadata": {
    "ExecuteTime": {
     "end_time": "2019-07-09T17:02:55.766230Z",
     "start_time": "2019-07-09T17:02:55.737710Z"
    },
    "colab": {
     "base_uri": "https://localhost:8080/",
     "height": 112
    },
    "colab_type": "code",
    "id": "Ug_VGAnD7P6E",
    "outputId": "0d3f5eb7-4f58-4fb0-8d2d-c27950f54798"
   },
   "outputs": [
    {
     "data": {
      "text/html": [
       "<div>\n",
       "<style scoped>\n",
       "    .dataframe tbody tr th:only-of-type {\n",
       "        vertical-align: middle;\n",
       "    }\n",
       "\n",
       "    .dataframe tbody tr th {\n",
       "        vertical-align: top;\n",
       "    }\n",
       "\n",
       "    .dataframe thead th {\n",
       "        text-align: right;\n",
       "    }\n",
       "</style>\n",
       "<table border=\"1\" class=\"dataframe\">\n",
       "  <thead>\n",
       "    <tr style=\"text-align: right;\">\n",
       "      <th></th>\n",
       "      <th>outcome</th>\n",
       "      <th>count</th>\n",
       "    </tr>\n",
       "  </thead>\n",
       "  <tbody>\n",
       "    <tr>\n",
       "      <th>0</th>\n",
       "      <td>0</td>\n",
       "      <td>36548</td>\n",
       "    </tr>\n",
       "    <tr>\n",
       "      <th>1</th>\n",
       "      <td>1</td>\n",
       "      <td>4640</td>\n",
       "    </tr>\n",
       "  </tbody>\n",
       "</table>\n",
       "</div>"
      ],
      "text/plain": [
       "   outcome  count\n",
       "0        0  36548\n",
       "1        1   4640"
      ]
     },
     "execution_count": 9,
     "metadata": {},
     "output_type": "execute_result"
    }
   ],
   "source": [
    "y_count=pd.DataFrame(y.value_counts()).reset_index()#.rename(columns=[\"outcome\", \"count\"])\n",
    "y_count=y_count.rename(columns={\"index\": \"outcome\", \"y\": \"count\"})\n",
    "y_count"
   ]
  },
  {
   "cell_type": "code",
   "execution_count": 10,
   "metadata": {
    "ExecuteTime": {
     "end_time": "2019-07-09T17:02:56.492504Z",
     "start_time": "2019-07-09T17:02:56.373932Z"
    },
    "colab": {
     "base_uri": "https://localhost:8080/",
     "height": 283
    },
    "colab_type": "code",
    "id": "WkIsbH0m7lCx",
    "outputId": "2657c6c1-5ac5-4e55-ea40-c1b164642d60"
   },
   "outputs": [
    {
     "data": {
      "image/png": "[encoded data removed]",
      "text/plain": [
       "<Figure size 432x288 with 1 Axes>"
      ]
     },
     "metadata": {
      "needs_background": "light"
     },
     "output_type": "display_data"
    }
   ],
   "source": [
    "sns.barplot(data=y_count, x=\"outcome\", y=\"count\")\n",
    "None"
   ]
  },
  {
   "cell_type": "markdown",
   "metadata": {
    "colab_type": "text",
    "id": "w45OVIOq8gFu"
   },
   "source": [
    "The graph above shows that outcome \"1\" (customer signed up) is far less common than outcome \"0\" (the customer didn't sign up). Therefore, y in this dataset is highly unbalanced. Further down I will apply SMOTE to balance the training set."
   ]
  },
  {
   "cell_type": "code",
   "execution_count": 11,
   "metadata": {
    "ExecuteTime": {
     "end_time": "2019-07-09T17:02:57.712675Z",
     "start_time": "2019-07-09T17:02:57.678296Z"
    },
    "colab": {},
    "colab_type": "code",
    "id": "S_Bv3P7nK_Ua"
   },
   "outputs": [],
   "source": [
    "# divide X into columns with numerical values and categorical values\n",
    "cat_cols = X.select_dtypes(include=['object']).columns\n",
    "numer_cols = X.select_dtypes(include=['int', 'float']).columns"
   ]
  },
  {
   "cell_type": "code",
   "execution_count": 12,
   "metadata": {
    "ExecuteTime": {
     "end_time": "2019-07-09T17:02:58.393932Z",
     "start_time": "2019-07-09T17:02:58.376717Z"
    },
    "colab": {
     "base_uri": "https://localhost:8080/",
     "height": 206
    },
    "colab_type": "code",
    "id": "idmruyXNK_Ug",
    "outputId": "3dfa4232-db72-4cde-8efb-b917b56bbe5d",
    "scrolled": true
   },
   "outputs": [
    {
     "data": {
      "text/html": [
       "<div>\n",
       "<style scoped>\n",
       "    .dataframe tbody tr th:only-of-type {\n",
       "        vertical-align: middle;\n",
       "    }\n",
       "\n",
       "    .dataframe tbody tr th {\n",
       "        vertical-align: top;\n",
       "    }\n",
       "\n",
       "    .dataframe thead th {\n",
       "        text-align: right;\n",
       "    }\n",
       "</style>\n",
       "<table border=\"1\" class=\"dataframe\">\n",
       "  <thead>\n",
       "    <tr style=\"text-align: right;\">\n",
       "      <th></th>\n",
       "      <th>job</th>\n",
       "      <th>marital</th>\n",
       "      <th>education</th>\n",
       "      <th>default</th>\n",
       "      <th>housing</th>\n",
       "      <th>loan</th>\n",
       "      <th>contact</th>\n",
       "      <th>month</th>\n",
       "      <th>day_of_week</th>\n",
       "      <th>poutcome</th>\n",
       "    </tr>\n",
       "  </thead>\n",
       "  <tbody>\n",
       "    <tr>\n",
       "      <th>0</th>\n",
       "      <td>blue-collar</td>\n",
       "      <td>married</td>\n",
       "      <td>basic.4y</td>\n",
       "      <td>unknown</td>\n",
       "      <td>yes</td>\n",
       "      <td>no</td>\n",
       "      <td>cellular</td>\n",
       "      <td>aug</td>\n",
       "      <td>thu</td>\n",
       "      <td>nonexistent</td>\n",
       "    </tr>\n",
       "    <tr>\n",
       "      <th>1</th>\n",
       "      <td>technician</td>\n",
       "      <td>married</td>\n",
       "      <td>unknown</td>\n",
       "      <td>no</td>\n",
       "      <td>no</td>\n",
       "      <td>no</td>\n",
       "      <td>cellular</td>\n",
       "      <td>nov</td>\n",
       "      <td>fri</td>\n",
       "      <td>nonexistent</td>\n",
       "    </tr>\n",
       "    <tr>\n",
       "      <th>2</th>\n",
       "      <td>management</td>\n",
       "      <td>single</td>\n",
       "      <td>university.degree</td>\n",
       "      <td>no</td>\n",
       "      <td>yes</td>\n",
       "      <td>no</td>\n",
       "      <td>cellular</td>\n",
       "      <td>jun</td>\n",
       "      <td>thu</td>\n",
       "      <td>success</td>\n",
       "    </tr>\n",
       "    <tr>\n",
       "      <th>3</th>\n",
       "      <td>services</td>\n",
       "      <td>married</td>\n",
       "      <td>high.school</td>\n",
       "      <td>no</td>\n",
       "      <td>no</td>\n",
       "      <td>no</td>\n",
       "      <td>cellular</td>\n",
       "      <td>apr</td>\n",
       "      <td>fri</td>\n",
       "      <td>nonexistent</td>\n",
       "    </tr>\n",
       "    <tr>\n",
       "      <th>4</th>\n",
       "      <td>retired</td>\n",
       "      <td>married</td>\n",
       "      <td>basic.4y</td>\n",
       "      <td>no</td>\n",
       "      <td>yes</td>\n",
       "      <td>no</td>\n",
       "      <td>cellular</td>\n",
       "      <td>aug</td>\n",
       "      <td>fri</td>\n",
       "      <td>success</td>\n",
       "    </tr>\n",
       "  </tbody>\n",
       "</table>\n",
       "</div>"
      ],
      "text/plain": [
       "           job  marital          education  default housing loan   contact  \\\n",
       "0  blue-collar  married           basic.4y  unknown     yes   no  cellular   \n",
       "1   technician  married            unknown       no      no   no  cellular   \n",
       "2   management   single  university.degree       no     yes   no  cellular   \n",
       "3     services  married        high.school       no      no   no  cellular   \n",
       "4      retired  married           basic.4y       no     yes   no  cellular   \n",
       "\n",
       "  month day_of_week     poutcome  \n",
       "0   aug         thu  nonexistent  \n",
       "1   nov         fri  nonexistent  \n",
       "2   jun         thu      success  \n",
       "3   apr         fri  nonexistent  \n",
       "4   aug         fri      success  "
      ]
     },
     "execution_count": 12,
     "metadata": {},
     "output_type": "execute_result"
    }
   ],
   "source": [
    "X[cat_cols].head()"
   ]
  },
  {
   "cell_type": "markdown",
   "metadata": {
    "colab_type": "text",
    "id": "z-C0UwS2RSZx"
   },
   "source": [
    "## One-hot encode categorical features"
   ]
  },
  {
   "cell_type": "code",
   "execution_count": 13,
   "metadata": {
    "ExecuteTime": {
     "end_time": "2019-07-09T17:03:00.003731Z",
     "start_time": "2019-07-09T17:02:59.954522Z"
    },
    "colab": {
     "base_uri": "https://localhost:8080/",
     "height": 278
    },
    "colab_type": "code",
    "id": "KAUjbdsARJcO",
    "outputId": "80ccffc6-b49c-4aea-9c6d-b7d7394da894"
   },
   "outputs": [
    {
     "data": {
      "text/plain": [
       "[array(['admin.', 'blue-collar', 'entrepreneur', 'housemaid', 'management',\n",
       "        'retired', 'self-employed', 'services', 'student', 'technician',\n",
       "        'unemployed', 'unknown'], dtype=object),\n",
       " array(['divorced', 'married', 'single', 'unknown'], dtype=object),\n",
       " array(['basic.4y', 'basic.6y', 'basic.9y', 'high.school', 'illiterate',\n",
       "        'professional.course', 'university.degree', 'unknown'],\n",
       "       dtype=object),\n",
       " array(['no', 'unknown', 'yes'], dtype=object),\n",
       " array(['no', 'unknown', 'yes'], dtype=object),\n",
       " array(['no', 'unknown', 'yes'], dtype=object),\n",
       " array(['cellular', 'telephone'], dtype=object),\n",
       " array(['apr', 'aug', 'dec', 'jul', 'jun', 'mar', 'may', 'nov', 'oct',\n",
       "        'sep'], dtype=object),\n",
       " array(['fri', 'mon', 'thu', 'tue', 'wed'], dtype=object),\n",
       " array(['failure', 'nonexistent', 'success'], dtype=object)]"
      ]
     },
     "execution_count": 13,
     "metadata": {},
     "output_type": "execute_result"
    }
   ],
   "source": [
    "# OHE: This creates a binary column for each category and returns a sparse matrix or dense array.\n",
    "ohe = OneHotEncoder()\n",
    "\n",
    "# fit data\n",
    "ohe.fit(X[cat_cols])\n",
    "\n",
    "# show the generated categories\n",
    "ohe.categories_"
   ]
  },
  {
   "cell_type": "code",
   "execution_count": 14,
   "metadata": {
    "ExecuteTime": {
     "end_time": "2019-07-09T17:03:05.109968Z",
     "start_time": "2019-07-09T17:03:05.010293Z"
    },
    "colab": {
     "base_uri": "https://localhost:8080/",
     "height": 139
    },
    "colab_type": "code",
    "id": "vhRptfzSRuEZ",
    "outputId": "06dbb51c-f7b7-4521-a185-0f69222b12b4"
   },
   "outputs": [
    {
     "data": {
      "text/plain": [
       "array([[0., 1., 0., ..., 0., 1., 0.],\n",
       "       [0., 0., 0., ..., 0., 1., 0.],\n",
       "       [0., 0., 0., ..., 0., 0., 1.],\n",
       "       ...,\n",
       "       [1., 0., 0., ..., 0., 1., 0.],\n",
       "       [0., 0., 0., ..., 0., 1., 0.],\n",
       "       [0., 0., 0., ..., 0., 1., 0.]])"
      ]
     },
     "execution_count": 14,
     "metadata": {},
     "output_type": "execute_result"
    }
   ],
   "source": [
    "# transform data\n",
    "tranform_data = ohe.transform(X[cat_cols]).toarray()\n",
    "tranform_data # this array now only consist of 0/1, that is, the absence or presence of that particular categorical feature"
   ]
  },
  {
   "cell_type": "code",
   "execution_count": 15,
   "metadata": {
    "ExecuteTime": {
     "end_time": "2019-07-09T17:03:05.713948Z",
     "start_time": "2019-07-09T17:03:05.703604Z"
    },
    "colab": {
     "base_uri": "https://localhost:8080/",
     "height": 225
    },
    "colab_type": "code",
    "id": "cRj3_rUYSDW1",
    "outputId": "5472d620-64b2-431d-8456-24d33bc09fb5"
   },
   "outputs": [
    {
     "data": {
      "text/plain": [
       "array(['x0_admin.', 'x0_blue-collar', 'x0_entrepreneur', 'x0_housemaid',\n",
       "       'x0_management', 'x0_retired', 'x0_self-employed', 'x0_services',\n",
       "       'x0_student', 'x0_technician', 'x0_unemployed', 'x0_unknown',\n",
       "       'x1_divorced', 'x1_married', 'x1_single', 'x1_unknown',\n",
       "       'x2_basic.4y', 'x2_basic.6y', 'x2_basic.9y', 'x2_high.school',\n",
       "       'x2_illiterate', 'x2_professional.course', 'x2_university.degree',\n",
       "       'x2_unknown', 'x3_no', 'x3_unknown', 'x3_yes', 'x4_no',\n",
       "       'x4_unknown', 'x4_yes', 'x5_no', 'x5_unknown', 'x5_yes',\n",
       "       'x6_cellular', 'x6_telephone', 'x7_apr', 'x7_aug', 'x7_dec',\n",
       "       'x7_jul', 'x7_jun', 'x7_mar', 'x7_may', 'x7_nov', 'x7_oct',\n",
       "       'x7_sep', 'x8_fri', 'x8_mon', 'x8_thu', 'x8_tue', 'x8_wed',\n",
       "       'x9_failure', 'x9_nonexistent', 'x9_success'], dtype=object)"
      ]
     },
     "execution_count": 15,
     "metadata": {},
     "output_type": "execute_result"
    }
   ],
   "source": [
    "# get descriptive titles for these new feature columns\n",
    "transform_col_name = ohe.get_feature_names()\n",
    "transform_col_name"
   ]
  },
  {
   "cell_type": "code",
   "execution_count": 16,
   "metadata": {
    "ExecuteTime": {
     "end_time": "2019-07-09T17:03:06.313508Z",
     "start_time": "2019-07-09T17:03:06.305603Z"
    },
    "colab": {},
    "colab_type": "code",
    "id": "tZ_rsU3LSeNu"
   },
   "outputs": [],
   "source": [
    "trans_cat_df = pd.DataFrame(tranform_data, columns=transform_col_name) # put it back into a df"
   ]
  },
  {
   "cell_type": "markdown",
   "metadata": {
    "colab_type": "text",
    "id": "KeWASqB3Swqr"
   },
   "source": [
    "## Scale the numerical features"
   ]
  },
  {
   "cell_type": "code",
   "execution_count": 17,
   "metadata": {
    "ExecuteTime": {
     "end_time": "2019-07-09T17:03:10.126540Z",
     "start_time": "2019-07-09T17:03:10.109925Z"
    },
    "colab": {},
    "colab_type": "code",
    "id": "u09sY-URSqyD"
   },
   "outputs": [],
   "source": [
    "x_numer = X[numer_cols]\n",
    "\n",
    "#Z score transformation by fixing the scaler\n",
    "from sklearn.preprocessing import StandardScaler\n",
    "scaler = StandardScaler()\n",
    "\n",
    "x_numer=scaler.fit_transform(x_numer)"
   ]
  },
  {
   "cell_type": "code",
   "execution_count": 18,
   "metadata": {
    "ExecuteTime": {
     "end_time": "2019-07-09T17:03:10.580216Z",
     "start_time": "2019-07-09T17:03:10.563837Z"
    },
    "colab": {
     "base_uri": "https://localhost:8080/",
     "height": 206
    },
    "colab_type": "code",
    "id": "fFGnWy2ITA1c",
    "outputId": "8d4abd0b-d614-4ce5-f13c-ed76548dc6d3"
   },
   "outputs": [
    {
     "data": {
      "text/html": [
       "<div>\n",
       "<style scoped>\n",
       "    .dataframe tbody tr th:only-of-type {\n",
       "        vertical-align: middle;\n",
       "    }\n",
       "\n",
       "    .dataframe tbody tr th {\n",
       "        vertical-align: top;\n",
       "    }\n",
       "\n",
       "    .dataframe thead th {\n",
       "        text-align: right;\n",
       "    }\n",
       "</style>\n",
       "<table border=\"1\" class=\"dataframe\">\n",
       "  <thead>\n",
       "    <tr style=\"text-align: right;\">\n",
       "      <th></th>\n",
       "      <th>age</th>\n",
       "      <th>duration</th>\n",
       "      <th>campaign</th>\n",
       "      <th>pdays</th>\n",
       "      <th>previous</th>\n",
       "      <th>emp_var_rate</th>\n",
       "      <th>cons_price_idx</th>\n",
       "      <th>cons_conf_idx</th>\n",
       "    </tr>\n",
       "  </thead>\n",
       "  <tbody>\n",
       "    <tr>\n",
       "      <th>0</th>\n",
       "      <td>0.381527</td>\n",
       "      <td>-0.186230</td>\n",
       "      <td>-0.565922</td>\n",
       "      <td>0.195414</td>\n",
       "      <td>-0.349494</td>\n",
       "      <td>0.839061</td>\n",
       "      <td>-0.227465</td>\n",
       "      <td>0.951267</td>\n",
       "    </tr>\n",
       "    <tr>\n",
       "      <th>1</th>\n",
       "      <td>1.245157</td>\n",
       "      <td>-0.463926</td>\n",
       "      <td>-0.565922</td>\n",
       "      <td>0.195414</td>\n",
       "      <td>-0.349494</td>\n",
       "      <td>-0.115781</td>\n",
       "      <td>-0.649003</td>\n",
       "      <td>-0.323542</td>\n",
       "    </tr>\n",
       "    <tr>\n",
       "      <th>2</th>\n",
       "      <td>-1.153816</td>\n",
       "      <td>0.311309</td>\n",
       "      <td>0.156105</td>\n",
       "      <td>-5.117342</td>\n",
       "      <td>3.691766</td>\n",
       "      <td>-1.134279</td>\n",
       "      <td>0.828107</td>\n",
       "      <td>0.151810</td>\n",
       "    </tr>\n",
       "    <tr>\n",
       "      <th>3</th>\n",
       "      <td>-0.098268</td>\n",
       "      <td>-0.282652</td>\n",
       "      <td>-0.204909</td>\n",
       "      <td>0.195414</td>\n",
       "      <td>-0.349494</td>\n",
       "      <td>-1.197935</td>\n",
       "      <td>-0.864955</td>\n",
       "      <td>-1.425496</td>\n",
       "    </tr>\n",
       "    <tr>\n",
       "      <th>4</th>\n",
       "      <td>1.437075</td>\n",
       "      <td>-0.467783</td>\n",
       "      <td>-0.565922</td>\n",
       "      <td>-5.133393</td>\n",
       "      <td>1.671136</td>\n",
       "      <td>-1.898153</td>\n",
       "      <td>-2.374889</td>\n",
       "      <td>1.966794</td>\n",
       "    </tr>\n",
       "  </tbody>\n",
       "</table>\n",
       "</div>"
      ],
      "text/plain": [
       "        age  duration  campaign     pdays  previous  emp_var_rate  \\\n",
       "0  0.381527 -0.186230 -0.565922  0.195414 -0.349494      0.839061   \n",
       "1  1.245157 -0.463926 -0.565922  0.195414 -0.349494     -0.115781   \n",
       "2 -1.153816  0.311309  0.156105 -5.117342  3.691766     -1.134279   \n",
       "3 -0.098268 -0.282652 -0.204909  0.195414 -0.349494     -1.197935   \n",
       "4  1.437075 -0.467783 -0.565922 -5.133393  1.671136     -1.898153   \n",
       "\n",
       "   cons_price_idx  cons_conf_idx  \n",
       "0       -0.227465       0.951267  \n",
       "1       -0.649003      -0.323542  \n",
       "2        0.828107       0.151810  \n",
       "3       -0.864955      -1.425496  \n",
       "4       -2.374889       1.966794  "
      ]
     },
     "execution_count": 18,
     "metadata": {},
     "output_type": "execute_result"
    }
   ],
   "source": [
    "x_numer = pd.DataFrame(x_numer, columns=numer_cols)\n",
    "\n",
    "x_numer.head()"
   ]
  },
  {
   "cell_type": "markdown",
   "metadata": {
    "colab_type": "text",
    "id": "O3O4IW6nK_Ul"
   },
   "source": [
    "## Put the features back together"
   ]
  },
  {
   "cell_type": "code",
   "execution_count": 19,
   "metadata": {
    "ExecuteTime": {
     "end_time": "2019-07-09T17:03:11.825438Z",
     "start_time": "2019-07-09T17:03:11.730422Z"
    },
    "colab": {
     "base_uri": "https://localhost:8080/",
     "height": 1000
    },
    "colab_type": "code",
    "id": "lM8_VKVrK_Um",
    "outputId": "43fc30ab-018d-46b7-b7a4-85c874776045"
   },
   "outputs": [
    {
     "name": "stdout",
     "output_type": "stream",
     "text": [
      "<class 'pandas.core.frame.DataFrame'>\n",
      "RangeIndex: 41188 entries, 0 to 41187\n",
      "Data columns (total 61 columns):\n",
      "x0_admin.                 41188 non-null float64\n",
      "x0_blue-collar            41188 non-null float64\n",
      "x0_entrepreneur           41188 non-null float64\n",
      "x0_housemaid              41188 non-null float64\n",
      "x0_management             41188 non-null float64\n",
      "x0_retired                41188 non-null float64\n",
      "x0_self-employed          41188 non-null float64\n",
      "x0_services               41188 non-null float64\n",
      "x0_student                41188 non-null float64\n",
      "x0_technician             41188 non-null float64\n",
      "x0_unemployed             41188 non-null float64\n",
      "x0_unknown                41188 non-null float64\n",
      "x1_divorced               41188 non-null float64\n",
      "x1_married                41188 non-null float64\n",
      "x1_single                 41188 non-null float64\n",
      "x1_unknown                41188 non-null float64\n",
      "x2_basic.4y               41188 non-null float64\n",
      "x2_basic.6y               41188 non-null float64\n",
      "x2_basic.9y               41188 non-null float64\n",
      "x2_high.school            41188 non-null float64\n",
      "x2_illiterate             41188 non-null float64\n",
      "x2_professional.course    41188 non-null float64\n",
      "x2_university.degree      41188 non-null float64\n",
      "x2_unknown                41188 non-null float64\n",
      "x3_no                     41188 non-null float64\n",
      "x3_unknown                41188 non-null float64\n",
      "x3_yes                    41188 non-null float64\n",
      "x4_no                     41188 non-null float64\n",
      "x4_unknown                41188 non-null float64\n",
      "x4_yes                    41188 non-null float64\n",
      "x5_no                     41188 non-null float64\n",
      "x5_unknown                41188 non-null float64\n",
      "x5_yes                    41188 non-null float64\n",
      "x6_cellular               41188 non-null float64\n",
      "x6_telephone              41188 non-null float64\n",
      "x7_apr                    41188 non-null float64\n",
      "x7_aug                    41188 non-null float64\n",
      "x7_dec                    41188 non-null float64\n",
      "x7_jul                    41188 non-null float64\n",
      "x7_jun                    41188 non-null float64\n",
      "x7_mar                    41188 non-null float64\n",
      "x7_may                    41188 non-null float64\n",
      "x7_nov                    41188 non-null float64\n",
      "x7_oct                    41188 non-null float64\n",
      "x7_sep                    41188 non-null float64\n",
      "x8_fri                    41188 non-null float64\n",
      "x8_mon                    41188 non-null float64\n",
      "x8_thu                    41188 non-null float64\n",
      "x8_tue                    41188 non-null float64\n",
      "x8_wed                    41188 non-null float64\n",
      "x9_failure                41188 non-null float64\n",
      "x9_nonexistent            41188 non-null float64\n",
      "x9_success                41188 non-null float64\n",
      "age                       41188 non-null float64\n",
      "duration                  41188 non-null float64\n",
      "campaign                  41188 non-null float64\n",
      "pdays                     41188 non-null float64\n",
      "previous                  41188 non-null float64\n",
      "emp_var_rate              41188 non-null float64\n",
      "cons_price_idx            41188 non-null float64\n",
      "cons_conf_idx             41188 non-null float64\n",
      "dtypes: float64(61)\n",
      "memory usage: 19.2 MB\n"
     ]
    },
    {
     "data": {
      "text/html": [
       "<div>\n",
       "<style scoped>\n",
       "    .dataframe tbody tr th:only-of-type {\n",
       "        vertical-align: middle;\n",
       "    }\n",
       "\n",
       "    .dataframe tbody tr th {\n",
       "        vertical-align: top;\n",
       "    }\n",
       "\n",
       "    .dataframe thead th {\n",
       "        text-align: right;\n",
       "    }\n",
       "</style>\n",
       "<table border=\"1\" class=\"dataframe\">\n",
       "  <thead>\n",
       "    <tr style=\"text-align: right;\">\n",
       "      <th></th>\n",
       "      <th>x0_admin.</th>\n",
       "      <th>x0_blue-collar</th>\n",
       "      <th>x0_entrepreneur</th>\n",
       "      <th>x0_housemaid</th>\n",
       "      <th>x0_management</th>\n",
       "      <th>x0_retired</th>\n",
       "      <th>x0_self-employed</th>\n",
       "      <th>x0_services</th>\n",
       "      <th>x0_student</th>\n",
       "      <th>x0_technician</th>\n",
       "      <th>...</th>\n",
       "      <th>x9_nonexistent</th>\n",
       "      <th>x9_success</th>\n",
       "      <th>age</th>\n",
       "      <th>duration</th>\n",
       "      <th>campaign</th>\n",
       "      <th>pdays</th>\n",
       "      <th>previous</th>\n",
       "      <th>emp_var_rate</th>\n",
       "      <th>cons_price_idx</th>\n",
       "      <th>cons_conf_idx</th>\n",
       "    </tr>\n",
       "  </thead>\n",
       "  <tbody>\n",
       "    <tr>\n",
       "      <th>0</th>\n",
       "      <td>0.0</td>\n",
       "      <td>1.0</td>\n",
       "      <td>0.0</td>\n",
       "      <td>0.0</td>\n",
       "      <td>0.0</td>\n",
       "      <td>0.0</td>\n",
       "      <td>0.0</td>\n",
       "      <td>0.0</td>\n",
       "      <td>0.0</td>\n",
       "      <td>0.0</td>\n",
       "      <td>...</td>\n",
       "      <td>1.0</td>\n",
       "      <td>0.0</td>\n",
       "      <td>0.381527</td>\n",
       "      <td>-0.186230</td>\n",
       "      <td>-0.565922</td>\n",
       "      <td>0.195414</td>\n",
       "      <td>-0.349494</td>\n",
       "      <td>0.839061</td>\n",
       "      <td>-0.227465</td>\n",
       "      <td>0.951267</td>\n",
       "    </tr>\n",
       "    <tr>\n",
       "      <th>1</th>\n",
       "      <td>0.0</td>\n",
       "      <td>0.0</td>\n",
       "      <td>0.0</td>\n",
       "      <td>0.0</td>\n",
       "      <td>0.0</td>\n",
       "      <td>0.0</td>\n",
       "      <td>0.0</td>\n",
       "      <td>0.0</td>\n",
       "      <td>0.0</td>\n",
       "      <td>1.0</td>\n",
       "      <td>...</td>\n",
       "      <td>1.0</td>\n",
       "      <td>0.0</td>\n",
       "      <td>1.245157</td>\n",
       "      <td>-0.463926</td>\n",
       "      <td>-0.565922</td>\n",
       "      <td>0.195414</td>\n",
       "      <td>-0.349494</td>\n",
       "      <td>-0.115781</td>\n",
       "      <td>-0.649003</td>\n",
       "      <td>-0.323542</td>\n",
       "    </tr>\n",
       "    <tr>\n",
       "      <th>2</th>\n",
       "      <td>0.0</td>\n",
       "      <td>0.0</td>\n",
       "      <td>0.0</td>\n",
       "      <td>0.0</td>\n",
       "      <td>1.0</td>\n",
       "      <td>0.0</td>\n",
       "      <td>0.0</td>\n",
       "      <td>0.0</td>\n",
       "      <td>0.0</td>\n",
       "      <td>0.0</td>\n",
       "      <td>...</td>\n",
       "      <td>0.0</td>\n",
       "      <td>1.0</td>\n",
       "      <td>-1.153816</td>\n",
       "      <td>0.311309</td>\n",
       "      <td>0.156105</td>\n",
       "      <td>-5.117342</td>\n",
       "      <td>3.691766</td>\n",
       "      <td>-1.134279</td>\n",
       "      <td>0.828107</td>\n",
       "      <td>0.151810</td>\n",
       "    </tr>\n",
       "    <tr>\n",
       "      <th>3</th>\n",
       "      <td>0.0</td>\n",
       "      <td>0.0</td>\n",
       "      <td>0.0</td>\n",
       "      <td>0.0</td>\n",
       "      <td>0.0</td>\n",
       "      <td>0.0</td>\n",
       "      <td>0.0</td>\n",
       "      <td>1.0</td>\n",
       "      <td>0.0</td>\n",
       "      <td>0.0</td>\n",
       "      <td>...</td>\n",
       "      <td>1.0</td>\n",
       "      <td>0.0</td>\n",
       "      <td>-0.098268</td>\n",
       "      <td>-0.282652</td>\n",
       "      <td>-0.204909</td>\n",
       "      <td>0.195414</td>\n",
       "      <td>-0.349494</td>\n",
       "      <td>-1.197935</td>\n",
       "      <td>-0.864955</td>\n",
       "      <td>-1.425496</td>\n",
       "    </tr>\n",
       "    <tr>\n",
       "      <th>4</th>\n",
       "      <td>0.0</td>\n",
       "      <td>0.0</td>\n",
       "      <td>0.0</td>\n",
       "      <td>0.0</td>\n",
       "      <td>0.0</td>\n",
       "      <td>1.0</td>\n",
       "      <td>0.0</td>\n",
       "      <td>0.0</td>\n",
       "      <td>0.0</td>\n",
       "      <td>0.0</td>\n",
       "      <td>...</td>\n",
       "      <td>0.0</td>\n",
       "      <td>1.0</td>\n",
       "      <td>1.437075</td>\n",
       "      <td>-0.467783</td>\n",
       "      <td>-0.565922</td>\n",
       "      <td>-5.133393</td>\n",
       "      <td>1.671136</td>\n",
       "      <td>-1.898153</td>\n",
       "      <td>-2.374889</td>\n",
       "      <td>1.966794</td>\n",
       "    </tr>\n",
       "  </tbody>\n",
       "</table>\n",
       "<p>5 rows × 61 columns</p>\n",
       "</div>"
      ],
      "text/plain": [
       "   x0_admin.  x0_blue-collar  x0_entrepreneur  x0_housemaid  x0_management  \\\n",
       "0        0.0             1.0              0.0           0.0            0.0   \n",
       "1        0.0             0.0              0.0           0.0            0.0   \n",
       "2        0.0             0.0              0.0           0.0            1.0   \n",
       "3        0.0             0.0              0.0           0.0            0.0   \n",
       "4        0.0             0.0              0.0           0.0            0.0   \n",
       "\n",
       "   x0_retired  x0_self-employed  x0_services  x0_student  x0_technician  ...  \\\n",
       "0         0.0               0.0          0.0         0.0            0.0  ...   \n",
       "1         0.0               0.0          0.0         0.0            1.0  ...   \n",
       "2         0.0               0.0          0.0         0.0            0.0  ...   \n",
       "3         0.0               0.0          1.0         0.0            0.0  ...   \n",
       "4         1.0               0.0          0.0         0.0            0.0  ...   \n",
       "\n",
       "   x9_nonexistent  x9_success       age  duration  campaign     pdays  \\\n",
       "0             1.0         0.0  0.381527 -0.186230 -0.565922  0.195414   \n",
       "1             1.0         0.0  1.245157 -0.463926 -0.565922  0.195414   \n",
       "2             0.0         1.0 -1.153816  0.311309  0.156105 -5.117342   \n",
       "3             1.0         0.0 -0.098268 -0.282652 -0.204909  0.195414   \n",
       "4             0.0         1.0  1.437075 -0.467783 -0.565922 -5.133393   \n",
       "\n",
       "   previous  emp_var_rate  cons_price_idx  cons_conf_idx  \n",
       "0 -0.349494      0.839061       -0.227465       0.951267  \n",
       "1 -0.349494     -0.115781       -0.649003      -0.323542  \n",
       "2  3.691766     -1.134279        0.828107       0.151810  \n",
       "3 -0.349494     -1.197935       -0.864955      -1.425496  \n",
       "4  1.671136     -1.898153       -2.374889       1.966794  \n",
       "\n",
       "[5 rows x 61 columns]"
      ]
     },
     "execution_count": 19,
     "metadata": {},
     "output_type": "execute_result"
    }
   ],
   "source": [
    "X = pd.concat([trans_cat_df, x_numer], axis=1)\n",
    "\n",
    "X.info() # shows all the columns\n",
    "\n",
    "X.head()"
   ]
  },
  {
   "cell_type": "markdown",
   "metadata": {
    "colab_type": "text",
    "id": "wu1FyxmzUES0"
   },
   "source": [
    "## Train, val, test split"
   ]
  },
  {
   "cell_type": "code",
   "execution_count": 20,
   "metadata": {
    "ExecuteTime": {
     "end_time": "2019-07-09T17:03:16.393120Z",
     "start_time": "2019-07-09T17:03:16.364432Z"
    },
    "colab": {},
    "colab_type": "code",
    "id": "pBsMc7Et-qKz"
   },
   "outputs": [],
   "source": [
    "X_train, X_test, y_train, y_test = train_test_split(X, y, test_size=0.2, random_state=0)"
   ]
  },
  {
   "cell_type": "code",
   "execution_count": 21,
   "metadata": {
    "ExecuteTime": {
     "end_time": "2019-07-09T17:03:17.155476Z",
     "start_time": "2019-07-09T17:03:17.134103Z"
    },
    "colab": {},
    "colab_type": "code",
    "id": "spnA4IJsJiZV"
   },
   "outputs": [],
   "source": [
    "# further divide to get validation set\n",
    "X_train, X_val, y_train, y_val = train_test_split(X_train, y_train, test_size=0.2, random_state=0)"
   ]
  },
  {
   "cell_type": "markdown",
   "metadata": {
    "colab_type": "text",
    "id": "ED4JFlTZ91Fx"
   },
   "source": [
    "## Oversample with Synthetic Minority Oversampling Technique (SMOTE)"
   ]
  },
  {
   "cell_type": "code",
   "execution_count": 22,
   "metadata": {
    "ExecuteTime": {
     "end_time": "2019-07-09T17:03:18.791617Z",
     "start_time": "2019-07-09T17:03:18.275104Z"
    },
    "colab": {},
    "colab_type": "code",
    "id": "2CT9589F84Xx"
   },
   "outputs": [],
   "source": [
    "# resample training set with SMOTE to balance it\n",
    "X_train, y_train = SMOTE().fit_resample(X_train, y_train)"
   ]
  },
  {
   "cell_type": "code",
   "execution_count": 23,
   "metadata": {
    "ExecuteTime": {
     "end_time": "2019-07-09T17:03:20.613061Z",
     "start_time": "2019-07-09T17:03:20.598589Z"
    },
    "colab": {
     "base_uri": "https://localhost:8080/",
     "height": 34
    },
    "colab_type": "code",
    "id": "NrqvIm_W-Nzv",
    "outputId": "0c2e6ac5-9767-4b1d-8f32-3a307c604989"
   },
   "outputs": [
    {
     "name": "stdout",
     "output_type": "stream",
     "text": [
      "[(0, 23364), (1, 23364)]\n"
     ]
    }
   ],
   "source": [
    "print(sorted(Counter(y_train).items()))"
   ]
  },
  {
   "cell_type": "code",
   "execution_count": 24,
   "metadata": {
    "ExecuteTime": {
     "end_time": "2019-07-09T17:03:22.454747Z",
     "start_time": "2019-07-09T17:03:22.451140Z"
    },
    "colab": {
     "base_uri": "https://localhost:8080/",
     "height": 69
    },
    "colab_type": "code",
    "id": "0vpuV_SlUOcU",
    "outputId": "3dfe5cee-e78d-48a6-fb15-f62e9ab50552"
   },
   "outputs": [
    {
     "name": "stdout",
     "output_type": "stream",
     "text": [
      "X_train: 46728\n",
      "X_val: 6590\n",
      "X_test: 8238\n"
     ]
    }
   ],
   "source": [
    "print(\"X_train: \" + str(len(X_train)))\n",
    "print(\"X_val: \" + str(len(X_val)))\n",
    "print(\"X_test: \" + str(len(X_test)))"
   ]
  },
  {
   "cell_type": "markdown",
   "metadata": {
    "colab_type": "text",
    "id": "ESsUwBs8K_VB"
   },
   "source": [
    "## Find ideal parameters for model"
   ]
  },
  {
   "cell_type": "markdown",
   "metadata": {
    "colab_type": "text",
    "id": "I-IucAt1g9yt"
   },
   "source": [
    "### Random search "
   ]
  },
  {
   "cell_type": "code",
   "execution_count": 25,
   "metadata": {
    "ExecuteTime": {
     "end_time": "2019-07-09T17:03:26.489428Z",
     "start_time": "2019-07-09T17:03:26.483294Z"
    },
    "colab": {},
    "colab_type": "code",
    "id": "GV8IJK_MhAgk"
   },
   "outputs": [],
   "source": [
    "# the random search is done with little or no prior knowledge about the best parameters\n",
    "logreg = LogisticRegression(random_state=42) # initiate model; class_weight=\"balanced\" is needed if no SMOTE is applied\n",
    "\n",
    "param_grid_random = {\n",
    "    'penalty': [\"l1\", \"l2\"],\n",
    "    'tol': [1e-6,1e-5,1e-4,1e-3],\n",
    "    'C': [0.1,0.3,0.5,0.7,1,1.2,1.5, 1.8,2],\n",
    "    'solver': [\"liblinear\"],\n",
    "    'max_iter': [80,100, 150]\n",
    "}"
   ]
  },
  {
   "cell_type": "code",
   "execution_count": 26,
   "metadata": {
    "ExecuteTime": {
     "end_time": "2019-07-09T17:29:31.508545Z",
     "start_time": "2019-07-09T17:03:27.139228Z"
    },
    "colab": {
     "base_uri": "https://localhost:8080/",
     "height": 330
    },
    "colab_type": "code",
    "id": "6lI3z713hAng",
    "outputId": "c9b39a61-d87f-4e0a-84a3-e7473347a060"
   },
   "outputs": [
    {
     "data": {
      "text/plain": [
       "RandomizedSearchCV(cv=5, error_score='raise-deprecating',\n",
       "                   estimator=LogisticRegression(C=1.0, class_weight=None,\n",
       "                                                dual=False, fit_intercept=True,\n",
       "                                                intercept_scaling=1,\n",
       "                                                l1_ratio=None, max_iter=100,\n",
       "                                                multi_class='warn', n_jobs=None,\n",
       "                                                penalty='l2', random_state=42,\n",
       "                                                solver='warn', tol=0.0001,\n",
       "                                                verbose=0, warm_start=False),\n",
       "                   iid='warn', n_iter=100, n_jobs=None,\n",
       "                   param_distributions={'C': [0.1, 0.3, 0.5, 0.7, 1, 1.2, 1.5,\n",
       "                                              1.8, 2],\n",
       "                                        'max_iter': [80, 100, 150],\n",
       "                                        'penalty': ['l1', 'l2'],\n",
       "                                        'solver': ['liblinear'],\n",
       "                                        'tol': [1e-06, 1e-05, 0.0001, 0.001]},\n",
       "                   pre_dispatch='2*n_jobs', random_state=None, refit=True,\n",
       "                   return_train_score=False, scoring='roc_auc', verbose=0)"
      ]
     },
     "execution_count": 26,
     "metadata": {},
     "output_type": "execute_result"
    }
   ],
   "source": [
    "logreg_rs = RandomizedSearchCV(\n",
    "    logreg, param_grid_random, n_iter=100, cv=5, scoring=\"roc_auc\")\n",
    "logreg_rs.fit(X_train, y_train)"
   ]
  },
  {
   "cell_type": "code",
   "execution_count": 27,
   "metadata": {
    "ExecuteTime": {
     "end_time": "2019-07-09T17:29:31.514228Z",
     "start_time": "2019-07-09T17:29:31.510519Z"
    },
    "colab": {
     "base_uri": "https://localhost:8080/",
     "height": 104
    },
    "colab_type": "code",
    "id": "R7OmmGq8hAqR",
    "outputId": "60c82ac7-c17d-4219-d434-ffb11d5b3fff"
   },
   "outputs": [
    {
     "data": {
      "text/plain": [
       "{'tol': 1e-05,\n",
       " 'solver': 'liblinear',\n",
       " 'penalty': 'l2',\n",
       " 'max_iter': 150,\n",
       " 'C': 0.1}"
      ]
     },
     "execution_count": 27,
     "metadata": {},
     "output_type": "execute_result"
    }
   ],
   "source": [
    "# Checking for best parameters\n",
    "logreg_rs.best_params_"
   ]
  },
  {
   "cell_type": "code",
   "execution_count": 28,
   "metadata": {
    "ExecuteTime": {
     "end_time": "2019-07-09T17:29:31.571606Z",
     "start_time": "2019-07-09T17:29:31.516181Z"
    },
    "colab": {
     "base_uri": "https://localhost:8080/",
     "height": 104
    },
    "colab_type": "code",
    "id": "DCbwPke1hAsy",
    "outputId": "f194df1e-eacb-44d7-8928-771f611f7f9e"
   },
   "outputs": [
    {
     "data": {
      "text/plain": [
       "LogisticRegression(C=0.1, class_weight=None, dual=False, fit_intercept=True,\n",
       "                   intercept_scaling=1, l1_ratio=None, max_iter=150,\n",
       "                   multi_class='warn', n_jobs=None, penalty='l2',\n",
       "                   random_state=42, solver='liblinear', tol=1e-05, verbose=0,\n",
       "                   warm_start=False)"
      ]
     },
     "execution_count": 28,
     "metadata": {},
     "output_type": "execute_result"
    }
   ],
   "source": [
    "# Best Model RandomSearch\n",
    "# Applying best model\n",
    "logreg_rs.best_estimator_"
   ]
  },
  {
   "cell_type": "code",
   "execution_count": 29,
   "metadata": {
    "ExecuteTime": {
     "end_time": "2019-07-09T17:29:32.865179Z",
     "start_time": "2019-07-09T17:29:31.577035Z"
    },
    "colab": {
     "base_uri": "https://localhost:8080/",
     "height": 34
    },
    "colab_type": "code",
    "id": "zsh8JfTRhAvN",
    "outputId": "b48f4e49-50f9-4b45-b7bf-1b1218789962"
   },
   "outputs": [
    {
     "data": {
      "text/plain": [
       "0.9407121259319757"
      ]
     },
     "execution_count": 29,
     "metadata": {},
     "output_type": "execute_result"
    }
   ],
   "source": [
    "# Evaluate RandomSearch model\n",
    "scores_rs = cross_val_score(logreg_rs.best_estimator_,\n",
    "                            X_train, y_train, cv=5, scoring='roc_auc')\n",
    "scores_rs.mean()"
   ]
  },
  {
   "cell_type": "markdown",
   "metadata": {
    "colab_type": "text",
    "id": "_FczNXMdhBdH"
   },
   "source": [
    "### Grid search"
   ]
  },
  {
   "cell_type": "code",
   "execution_count": 30,
   "metadata": {
    "ExecuteTime": {
     "end_time": "2019-07-09T17:34:46.802591Z",
     "start_time": "2019-07-09T17:34:46.798321Z"
    },
    "colab": {},
    "colab_type": "code",
    "id": "cVlcqY4cnmKa"
   },
   "outputs": [],
   "source": [
    "# grid search is a more targeted search for parameters, based on the preliminary findngs from random search\n",
    "logreg = LogisticRegression(random_state=42)  # initiate model\n",
    "param_grid_grid = {\n",
    "    'penalty': [\"l1\", \"l2\"],\n",
    "    'tol': [1e-5, 5e-5, 1e-4, 1e-3],\n",
    "    'C': [0.05, 0.1, 0.2, 0.3, 0.4],\n",
    "    'solver': [\"liblinear\"],\n",
    "    'max_iter': [120, 150, 170]\n",
    "}"
   ]
  },
  {
   "cell_type": "code",
   "execution_count": 31,
   "metadata": {
    "ExecuteTime": {
     "end_time": "2019-07-09T17:38:24.779162Z",
     "start_time": "2019-07-09T17:34:47.747449Z"
    },
    "colab": {
     "base_uri": "https://localhost:8080/",
     "height": 295
    },
    "colab_type": "code",
    "id": "CWfnZeu2nmHt",
    "outputId": "0e3694bd-6e7d-41b6-fab7-c5c6056b3286"
   },
   "outputs": [
    {
     "data": {
      "text/plain": [
       "GridSearchCV(cv=5, error_score='raise-deprecating',\n",
       "             estimator=LogisticRegression(C=1.0, class_weight=None, dual=False,\n",
       "                                          fit_intercept=True,\n",
       "                                          intercept_scaling=1, l1_ratio=None,\n",
       "                                          max_iter=100, multi_class='warn',\n",
       "                                          n_jobs=None, penalty='l2',\n",
       "                                          random_state=42, solver='warn',\n",
       "                                          tol=0.0001, verbose=0,\n",
       "                                          warm_start=False),\n",
       "             iid='warn', n_jobs=-1,\n",
       "             param_grid={'C': [0.05, 0.1, 0.2, 0.3, 0.4],\n",
       "                         'max_iter': [120, 150, 170], 'penalty': ['l1', 'l2'],\n",
       "                         'solver': ['liblinear'],\n",
       "                         'tol': [1e-05, 5e-05, 0.0001, 0.001]},\n",
       "             pre_dispatch='2*n_jobs', refit=True, return_train_score=False,\n",
       "             scoring='roc_auc', verbose=0)"
      ]
     },
     "execution_count": 31,
     "metadata": {},
     "output_type": "execute_result"
    }
   ],
   "source": [
    "# Build Grid Search model\n",
    "logreg_gs = GridSearchCV(logreg, param_grid_grid, cv=5,\n",
    "                         scoring='roc_auc', n_jobs=-1)\n",
    "logreg_gs.fit(X_train, y_train)"
   ]
  },
  {
   "cell_type": "code",
   "execution_count": 32,
   "metadata": {
    "ExecuteTime": {
     "end_time": "2019-07-09T17:38:24.792768Z",
     "start_time": "2019-07-09T17:38:24.782712Z"
    },
    "colab": {
     "base_uri": "https://localhost:8080/",
     "height": 104
    },
    "colab_type": "code",
    "id": "q1RTvRrGnmE1",
    "outputId": "28ebeb0a-a4a6-45b9-d427-325e4e497d8e"
   },
   "outputs": [
    {
     "data": {
      "text/plain": [
       "{'C': 0.1,\n",
       " 'max_iter': 120,\n",
       " 'penalty': 'l2',\n",
       " 'solver': 'liblinear',\n",
       " 'tol': 1e-05}"
      ]
     },
     "execution_count": 32,
     "metadata": {},
     "output_type": "execute_result"
    }
   ],
   "source": [
    "# Checking for best parameters\n",
    "logreg_gs.best_params_"
   ]
  },
  {
   "cell_type": "code",
   "execution_count": 33,
   "metadata": {
    "ExecuteTime": {
     "end_time": "2019-07-09T17:38:24.803220Z",
     "start_time": "2019-07-09T17:38:24.796441Z"
    },
    "colab": {
     "base_uri": "https://localhost:8080/",
     "height": 104
    },
    "colab_type": "code",
    "id": "GvuC4dBunmBw",
    "outputId": "65ac3979-581a-4f68-d2d6-b96f056a6d13"
   },
   "outputs": [
    {
     "data": {
      "text/plain": [
       "LogisticRegression(C=0.1, class_weight=None, dual=False, fit_intercept=True,\n",
       "                   intercept_scaling=1, l1_ratio=None, max_iter=120,\n",
       "                   multi_class='warn', n_jobs=None, penalty='l2',\n",
       "                   random_state=42, solver='liblinear', tol=1e-05, verbose=0,\n",
       "                   warm_start=False)"
      ]
     },
     "execution_count": 33,
     "metadata": {},
     "output_type": "execute_result"
    }
   ],
   "source": [
    "# Best Model GridSearch\n",
    "# Applying best model\n",
    "logreg_gs.best_estimator_"
   ]
  },
  {
   "cell_type": "code",
   "execution_count": 34,
   "metadata": {
    "ExecuteTime": {
     "end_time": "2019-07-09T17:38:27.460876Z",
     "start_time": "2019-07-09T17:38:24.806486Z"
    },
    "colab": {
     "base_uri": "https://localhost:8080/",
     "height": 34
    },
    "colab_type": "code",
    "id": "v2mGosggn9J9",
    "outputId": "1ab2c69c-8df6-4212-8524-08f754c94094"
   },
   "outputs": [
    {
     "data": {
      "text/plain": [
       "0.9407121259319757"
      ]
     },
     "execution_count": 34,
     "metadata": {},
     "output_type": "execute_result"
    }
   ],
   "source": [
    "# Evaluate GridSearch model\n",
    "scores_logreg_gs = cross_val_score(logreg_gs.best_estimator_,\n",
    "                            X_train, y_train, cv=5, scoring='roc_auc')\n",
    "scores_logreg_gs.mean()"
   ]
  },
  {
   "cell_type": "markdown",
   "metadata": {
    "colab_type": "text",
    "id": "1vxkDIyMoGAT"
   },
   "source": [
    "## Optimized LogReg model"
   ]
  },
  {
   "cell_type": "code",
   "execution_count": 35,
   "metadata": {
    "ExecuteTime": {
     "end_time": "2019-07-09T17:38:48.915532Z",
     "start_time": "2019-07-09T17:38:45.751753Z"
    },
    "colab": {
     "base_uri": "https://localhost:8080/",
     "height": 34
    },
    "colab_type": "code",
    "id": "x0RJOCnan9EL",
    "outputId": "61020e6e-7888-4777-de5b-08e8997f4a7a"
   },
   "outputs": [
    {
     "name": "stdout",
     "output_type": "stream",
     "text": [
      "5-fold cross validation score: 0.9407121259319757\n"
     ]
    }
   ],
   "source": [
    "# this is the same model as found above after grid search\n",
    "logreg = logreg_gs.best_estimator_.fit(X_train, y_train)\n",
    "\n",
    "logreg_scores = cross_val_score(\n",
    "    logreg, X_train, y_train, cv=5, scoring='roc_auc')\n",
    "print(\"5-fold cross validation score: \" + str(logreg_scores.mean()))"
   ]
  },
  {
   "cell_type": "markdown",
   "metadata": {
    "colab_type": "text",
    "id": "dMhONbJPwIFl"
   },
   "source": [
    "## Predictions on the validation set"
   ]
  },
  {
   "cell_type": "code",
   "execution_count": 36,
   "metadata": {
    "ExecuteTime": {
     "end_time": "2019-07-09T17:38:52.547993Z",
     "start_time": "2019-07-09T17:38:52.520432Z"
    },
    "colab": {
     "base_uri": "https://localhost:8080/",
     "height": 34
    },
    "colab_type": "code",
    "id": "hg6TpxybK_Vk",
    "outputId": "303f7413-a404-465b-bbaf-7a349f9add1c"
   },
   "outputs": [
    {
     "data": {
      "text/plain": [
       "0.8635811836115326"
      ]
     },
     "execution_count": 36,
     "metadata": {},
     "output_type": "execute_result"
    }
   ],
   "source": [
    "# predictions on validation set\n",
    "predictions = logreg.predict(X_val)\n",
    "predictions_prob = logreg.predict_proba(X_val)\n",
    "\n",
    "logreg.score(X_val, y_val)"
   ]
  },
  {
   "cell_type": "code",
   "execution_count": 37,
   "metadata": {
    "ExecuteTime": {
     "end_time": "2019-07-09T17:38:54.489005Z",
     "start_time": "2019-07-09T17:38:53.354472Z"
    },
    "colab": {},
    "colab_type": "code",
    "id": "WbZkiGA6K_Vr"
   },
   "outputs": [],
   "source": [
    "df = pd.DataFrame([np.array(y_val), predictions])"
   ]
  },
  {
   "cell_type": "code",
   "execution_count": 38,
   "metadata": {
    "ExecuteTime": {
     "end_time": "2019-07-09T17:38:54.501163Z",
     "start_time": "2019-07-09T17:38:54.493638Z"
    },
    "colab": {
     "base_uri": "https://localhost:8080/",
     "height": 139
    },
    "colab_type": "code",
    "id": "dWlUxSPVK_Vw",
    "outputId": "1ea8fd57-4681-444c-ac78-6e18d2930623"
   },
   "outputs": [
    {
     "data": {
      "text/plain": [
       "array([[0, 0],\n",
       "       [0, 0],\n",
       "       [0, 0],\n",
       "       ...,\n",
       "       [1, 0],\n",
       "       [0, 1],\n",
       "       [0, 0]])"
      ]
     },
     "execution_count": 38,
     "metadata": {},
     "output_type": "execute_result"
    }
   ],
   "source": [
    "np.array([np.array(y_val), predictions]).reshape(-1,2)"
   ]
  },
  {
   "cell_type": "code",
   "execution_count": 39,
   "metadata": {
    "ExecuteTime": {
     "end_time": "2019-07-09T17:38:54.893264Z",
     "start_time": "2019-07-09T17:38:54.874518Z"
    },
    "colab": {
     "base_uri": "https://localhost:8080/",
     "height": 52
    },
    "colab_type": "code",
    "id": "AdQuIV70K_V0",
    "outputId": "311a872d-392b-4434-9ba1-85e1957265b9"
   },
   "outputs": [
    {
     "name": "stdout",
     "output_type": "stream",
     "text": [
      "Sum all true y=1: 1110\n",
      "Sum all predicted y=1: 1075\n"
     ]
    }
   ],
   "source": [
    "df = pd.DataFrame(np.array([np.array(y_val), predictions]).reshape(-1,2)) # y test data into DF\n",
    "df.columns = ['y','pred_y'] # Rename columns\n",
    "df.head(20)\n",
    "\n",
    "print(\"Sum all true y=1: \" + str(sum(df[\"y\"])))\n",
    "print(\"Sum all predicted y=1: \" + str(sum(df[\"pred_y\"])))"
   ]
  },
  {
   "cell_type": "markdown",
   "metadata": {
    "colab_type": "text",
    "id": "iswZagg2K_WB"
   },
   "source": [
    "### Performance "
   ]
  },
  {
   "cell_type": "code",
   "execution_count": 40,
   "metadata": {
    "ExecuteTime": {
     "end_time": "2019-07-09T17:39:00.053673Z",
     "start_time": "2019-07-09T17:39:00.024843Z"
    },
    "colab": {
     "base_uri": "https://localhost:8080/",
     "height": 52
    },
    "colab_type": "code",
    "id": "IrGYtl8KK_V2",
    "outputId": "b539ab01-bf0e-4e05-b193-cee577923706"
   },
   "outputs": [
    {
     "data": {
      "text/plain": [
       "array([[5048,  811],\n",
       "       [  88,  643]])"
      ]
     },
     "execution_count": 40,
     "metadata": {},
     "output_type": "execute_result"
    }
   ],
   "source": [
    "# create a confusion matrix\n",
    "# TN | FP\n",
    "# FN | TP\n",
    "\n",
    "from sklearn.metrics import confusion_matrix\n",
    "\n",
    "confusion_matrix(y_val, predictions)"
   ]
  },
  {
   "cell_type": "code",
   "execution_count": 41,
   "metadata": {
    "ExecuteTime": {
     "end_time": "2019-07-09T17:39:01.201551Z",
     "start_time": "2019-07-09T17:39:01.172378Z"
    },
    "colab": {
     "base_uri": "https://localhost:8080/",
     "height": 173
    },
    "colab_type": "code",
    "id": "9YQaB1T_K_WC",
    "outputId": "e9131c94-5479-47cc-b6c1-7356d49e0b2c"
   },
   "outputs": [
    {
     "name": "stdout",
     "output_type": "stream",
     "text": [
      "              precision    recall  f1-score   support\n",
      "\n",
      "           0       0.98      0.86      0.92      5859\n",
      "           1       0.44      0.88      0.59       731\n",
      "\n",
      "    accuracy                           0.86      6590\n",
      "   macro avg       0.71      0.87      0.75      6590\n",
      "weighted avg       0.92      0.86      0.88      6590\n",
      "\n"
     ]
    }
   ],
   "source": [
    "# get the metrics for the classifications\n",
    "from sklearn.metrics import classification_report\n",
    "\n",
    "print(classification_report(y_val, predictions))"
   ]
  },
  {
   "cell_type": "code",
   "execution_count": 42,
   "metadata": {
    "ExecuteTime": {
     "end_time": "2019-07-09T17:43:53.583900Z",
     "start_time": "2019-07-09T17:43:53.308202Z"
    },
    "colab": {
     "base_uri": "https://localhost:8080/",
     "height": 295
    },
    "colab_type": "code",
    "id": "oN_ccJyyK_WL",
    "outputId": "a805c00e-c52a-44e2-b572-743dca38f58b"
   },
   "outputs": [
    {
     "data": {
      "image/png": "[encoded data removed]",
      "text/plain": [
       "<Figure size 432x288 with 1 Axes>"
      ]
     },
     "metadata": {
      "needs_background": "light"
     },
     "output_type": "display_data"
    }
   ],
   "source": [
    "from sklearn.metrics import roc_curve\n",
    "\n",
    "logit_roc_auc = roc_auc_score(y_val, logreg.predict(X_val))\n",
    "fpr, tpr, thresholds = roc_curve(\n",
    "    y_val, logreg.predict_proba(X_val)[:, 1])\n",
    "plt.figure()\n",
    "plt.plot(fpr, tpr, label='Logistic Regression (area = %0.2f)' % logit_roc_auc)\n",
    "plt.plot([0, 1], [0, 1], 'r--')\n",
    "plt.xlim([0.0, 1.0])\n",
    "plt.ylim([0.0, 1.05])\n",
    "plt.xlabel('False Positive Rate')\n",
    "plt.ylabel('True Positive Rate')\n",
    "plt.title('Receiver operating characteristic')\n",
    "plt.legend(loc=\"lower right\")\n",
    "# plt.savefig('Log_ROC')\n",
    "plt.show()"
   ]
  },
  {
   "cell_type": "markdown",
   "metadata": {
    "colab_type": "text",
    "id": "h3U7LMmRzPu4"
   },
   "source": [
    "The model seems to be quite good. Should even better predictions be needed, the model could be further adjusted. However, for now this looks close enough and I will do the final predictions on the test set."
   ]
  },
  {
   "cell_type": "markdown",
   "metadata": {
    "colab_type": "text",
    "id": "qijdM-ifzlym"
   },
   "source": [
    "## Predictions on the test set"
   ]
  },
  {
   "cell_type": "code",
   "execution_count": 43,
   "metadata": {
    "ExecuteTime": {
     "end_time": "2019-07-09T17:43:57.124713Z",
     "start_time": "2019-07-09T17:43:57.107441Z"
    },
    "colab": {
     "base_uri": "https://localhost:8080/",
     "height": 34
    },
    "colab_type": "code",
    "id": "rCF16pzCzibf",
    "outputId": "3327c990-e2c3-4410-adc8-d09a6d2fc0dc"
   },
   "outputs": [
    {
     "data": {
      "text/plain": [
       "0.8578538480213644"
      ]
     },
     "execution_count": 43,
     "metadata": {},
     "output_type": "execute_result"
    }
   ],
   "source": [
    "# predictions on validation set\n",
    "predictions = logreg.predict(X_test)\n",
    "predictions_prob = logreg.predict_proba(X_test)\n",
    "\n",
    "logreg.score(X_test, y_test)"
   ]
  },
  {
   "cell_type": "code",
   "execution_count": 44,
   "metadata": {
    "ExecuteTime": {
     "end_time": "2019-07-09T17:43:57.997217Z",
     "start_time": "2019-07-09T17:43:57.504173Z"
    },
    "colab": {
     "base_uri": "https://localhost:8080/",
     "height": 139
    },
    "colab_type": "code",
    "id": "QqdOkN3dztNj",
    "outputId": "5e9fe3f7-5e78-4fa1-cd87-ab3f16cbf0d7"
   },
   "outputs": [
    {
     "data": {
      "text/plain": [
       "array([[0, 0],\n",
       "       [0, 0],\n",
       "       [0, 0],\n",
       "       ...,\n",
       "       [0, 0],\n",
       "       [0, 0],\n",
       "       [0, 0]])"
      ]
     },
     "execution_count": 44,
     "metadata": {},
     "output_type": "execute_result"
    }
   ],
   "source": [
    "df = pd.DataFrame([np.array(y_test), predictions])\n",
    "np.array([np.array(y_test), predictions]).reshape(-1,2)"
   ]
  },
  {
   "cell_type": "code",
   "execution_count": 45,
   "metadata": {
    "ExecuteTime": {
     "end_time": "2019-07-09T17:43:58.100754Z",
     "start_time": "2019-07-09T17:43:58.083649Z"
    },
    "colab": {
     "base_uri": "https://localhost:8080/",
     "height": 52
    },
    "colab_type": "code",
    "id": "JJm6Aghszxfp",
    "outputId": "170841d7-96b6-465c-990e-e17201825dde"
   },
   "outputs": [
    {
     "name": "stdout",
     "output_type": "stream",
     "text": [
      "Sum all true y=1: 1351\n",
      "Sum all predicted y=1: 1398\n"
     ]
    }
   ],
   "source": [
    "df = pd.DataFrame(np.array([np.array(y_test), predictions]).reshape(-1,2)) # y test data into DF\n",
    "df.columns = ['y','pred_y'] # Rename columns\n",
    "df.head(20)\n",
    "\n",
    "print(\"Sum all true y=1: \" + str(sum(df[\"y\"])))\n",
    "print(\"Sum all predicted y=1: \" + str(sum(df[\"pred_y\"])))"
   ]
  },
  {
   "cell_type": "markdown",
   "metadata": {
    "colab_type": "text",
    "id": "jmx8OjeB0Qca"
   },
   "source": [
    "### Performance"
   ]
  },
  {
   "cell_type": "code",
   "execution_count": 46,
   "metadata": {
    "ExecuteTime": {
     "end_time": "2019-07-09T17:44:00.883467Z",
     "start_time": "2019-07-09T17:44:00.861847Z"
    },
    "colab": {
     "base_uri": "https://localhost:8080/",
     "height": 52
    },
    "colab_type": "code",
    "id": "tBFxVaNV0Bm0",
    "outputId": "01f7c16b-0e44-4775-c4b3-1f802e267d59"
   },
   "outputs": [
    {
     "data": {
      "text/plain": [
       "array([[6278, 1047],\n",
       "       [ 124,  789]])"
      ]
     },
     "execution_count": 46,
     "metadata": {},
     "output_type": "execute_result"
    }
   ],
   "source": [
    "# create a confusion matrix\n",
    "# TN | FP\n",
    "# FN | TP\n",
    "\n",
    "from sklearn.metrics import confusion_matrix\n",
    "\n",
    "confusion_matrix(y_test, predictions)"
   ]
  },
  {
   "cell_type": "code",
   "execution_count": 47,
   "metadata": {
    "ExecuteTime": {
     "end_time": "2019-07-09T17:44:01.299015Z",
     "start_time": "2019-07-09T17:44:01.270968Z"
    },
    "colab": {
     "base_uri": "https://localhost:8080/",
     "height": 173
    },
    "colab_type": "code",
    "id": "3kURFNZd0Hc3",
    "outputId": "23746336-6c00-495a-e74b-a8e4c7f75a76"
   },
   "outputs": [
    {
     "name": "stdout",
     "output_type": "stream",
     "text": [
      "              precision    recall  f1-score   support\n",
      "\n",
      "           0       0.98      0.86      0.91      7325\n",
      "           1       0.43      0.86      0.57       913\n",
      "\n",
      "    accuracy                           0.86      8238\n",
      "   macro avg       0.71      0.86      0.74      8238\n",
      "weighted avg       0.92      0.86      0.88      8238\n",
      "\n"
     ]
    }
   ],
   "source": [
    "# get the metrics for the classifications\n",
    "\n",
    "from sklearn.metrics import classification_report\n",
    "\n",
    "print(classification_report(y_test, predictions))"
   ]
  },
  {
   "cell_type": "code",
   "execution_count": 48,
   "metadata": {
    "ExecuteTime": {
     "end_time": "2019-07-09T17:44:09.676097Z",
     "start_time": "2019-07-09T17:44:09.374107Z"
    },
    "colab": {
     "base_uri": "https://localhost:8080/",
     "height": 295
    },
    "colab_type": "code",
    "id": "K7nqVyNG0Nt6",
    "outputId": "94c15a6a-ad23-4081-a807-4ef69fa2d0c5"
   },
   "outputs": [
    {
     "data": {
      "image/png": "[encoded data removed]",
      "text/plain": [
       "<Figure size 432x288 with 1 Axes>"
      ]
     },
     "metadata": {
      "needs_background": "light"
     },
     "output_type": "display_data"
    }
   ],
   "source": [
    "from sklearn.metrics import roc_curve\n",
    "\n",
    "logit_roc_auc = roc_auc_score(y_test, logreg.predict(X_test))\n",
    "fpr, tpr, thresholds = roc_curve(\n",
    "    y_test, logreg.predict_proba(X_test)[:, 1])\n",
    "plt.figure()\n",
    "plt.plot(fpr, tpr, label='Logistic Regression (area = %0.2f)' % logit_roc_auc)\n",
    "plt.plot([0, 1], [0, 1], 'r--')\n",
    "plt.xlim([0.0, 1.0])\n",
    "plt.ylim([0.0, 1.05])\n",
    "plt.xlabel('False Positive Rate')\n",
    "plt.ylabel('True Positive Rate')\n",
    "plt.title('Receiver operating characteristic')\n",
    "plt.legend(loc=\"lower right\")\n",
    "# plt.savefig('Log_ROC')\n",
    "plt.show()"
   ]
  },
  {
   "cell_type": "markdown",
   "metadata": {
    "colab_type": "text",
    "id": "zgaq1QGWa8e2"
   },
   "source": [
    "## Conclusion\n",
    "\n",
    "The logistic regression model can be used to predict whether a customer will sign up for the service or not. It performs quite well on the validation and test data after being trained on SMOTE resampled data.\n",
    "\n",
    "More detailed feature selection could be used to further improve the predictive power of the model."
   ]
  }
 ],
 "metadata": {
  "accelerator": "GPU",
  "colab": {
   "collapsed_sections": [],
   "name": "logistic_regression_banking.ipynb",
   "provenance": [],
   "toc_visible": true,
   "version": "0.3.2"
  },
  "kernelspec": {
   "display_name": "Python 3",
   "language": "python",
   "name": "python3"
  },
  "language_info": {
   "codemirror_mode": {
    "name": "ipython",
    "version": 3
   },
   "file_extension": ".py",
   "mimetype": "text/x-python",
   "name": "python",
   "nbconvert_exporter": "python",
   "pygments_lexer": "ipython3",
   "version": "3.7.3"
  },
  "toc": {
   "base_numbering": 1,
   "nav_menu": {},
   "number_sections": true,
   "sideBar": true,
   "skip_h1_title": false,
   "title_cell": "Table of Contents",
   "title_sidebar": "Contents",
   "toc_cell": false,
   "toc_position": {},
   "toc_section_display": true,
   "toc_window_display": true
  }
 },
 "nbformat": 4,
 "nbformat_minor": 1
}
