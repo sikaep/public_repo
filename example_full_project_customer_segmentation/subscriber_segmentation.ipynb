{
 "cells": [
  {
   "cell_type": "markdown",
   "metadata": {},
   "source": [
    "# Description of Challenge\n",
    "## Note on the data\n",
    "\n",
    "The original task included data of a proprietary product. The data used here is anonymized using the faker library. \n",
    "\n",
    "## Note on the workflow\n",
    "\n",
    "The problem could be approached in different ways, including unsupervised machine learning, e.g. using clustering algorithms. I added Part 2 to show the general workflow (encoding, removing correlated features etc.) and some results. \n",
    "However, since explainability for marketing purposes was a key requirement, I decided on a more hands-on data analysis-based approach (Part 1).\n",
    "\n",
    "## Documents and data source\n",
    "\n",
    "Data source: X\n",
    "\n",
    "The data is of 500k players that subscribe to the fictional online game *Space Pirates*. Each pirate has a home port city from where they start into their adventure. Subscribers can choose any of the pirates, but typically start their adventures at the pirate's home port. Separate add-ons can be purchased, which add to the playing experience.\n",
    "\n",
    "## Task\n",
    "\n",
    "Use the subscriber dataset which includes 500k unique subscribers to segment the subscribers. Then explain the segments and give recommendations"
   ]
  },
  {
   "cell_type": "markdown",
   "metadata": {},
   "source": [
    "# Paths"
   ]
  },
  {
   "cell_type": "code",
   "execution_count": 1,
   "metadata": {
    "ExecuteTime": {
     "end_time": "2021-06-10T12:08:29.676917Z",
     "start_time": "2021-06-10T12:08:29.674729Z"
    }
   },
   "outputs": [],
   "source": [
    "# change to your local path\n",
    "wdir = \"/home/simon/Documents/projects/wip/2k\""
   ]
  },
  {
   "cell_type": "code",
   "execution_count": 2,
   "metadata": {
    "ExecuteTime": {
     "end_time": "2021-06-10T12:08:29.682611Z",
     "start_time": "2021-06-10T12:08:29.678820Z"
    }
   },
   "outputs": [
    {
     "name": "stdout",
     "output_type": "stream",
     "text": [
      "/home/simon/Documents/projects/wip/2k\n"
     ]
    }
   ],
   "source": [
    "%cd {wdir}"
   ]
  },
  {
   "cell_type": "code",
   "execution_count": 3,
   "metadata": {
    "ExecuteTime": {
     "end_time": "2021-06-10T12:08:29.688361Z",
     "start_time": "2021-06-10T12:08:29.684794Z"
    }
   },
   "outputs": [
    {
     "name": "stdout",
     "output_type": "stream",
     "text": [
      "START = 01/07/2021 16:57:21\n"
     ]
    }
   ],
   "source": [
    "from datetime import datetime\n",
    "now = datetime.now()\n",
    "\n",
    "dt_string = now.strftime(\"%d/%m/%Y %H:%M:%S\")\n",
    "print(\"START =\", dt_string)"
   ]
  },
  {
   "cell_type": "markdown",
   "metadata": {},
   "source": [
    "# Libraries"
   ]
  },
  {
   "cell_type": "code",
   "execution_count": 4,
   "metadata": {
    "ExecuteTime": {
     "end_time": "2021-06-10T12:08:30.582836Z",
     "start_time": "2021-06-10T12:08:29.726408Z"
    }
   },
   "outputs": [],
   "source": [
    "import warnings\n",
    "warnings.filterwarnings('ignore')\n",
    "\n",
    "import numpy as np\n",
    "import pandas as pd\n",
    "import datetime as dt\n",
    "from datetime import datetime\n",
    "import dateutil.relativedelta\n",
    "import gc\n",
    "\n",
    "%matplotlib inline\n",
    "import matplotlib.pyplot as plt\n",
    "import seaborn as sns\n",
    "sns.set(style=\"whitegrid\")\n",
    "import missingno as msno\n",
    "pd.set_option('use_inf_as_na', True)\n",
    "\n",
    "from fuzzywuzzy import fuzz, process # only used in the original task\n",
    "\n",
    "# clustering\n",
    "from sklearn.cluster import KMeans\n",
    "from sklearn.preprocessing import MinMaxScaler\n",
    "from sklearn.preprocessing import OneHotEncoder\n",
    "\n",
    "from mpl_toolkits.mplot3d import Axes3D # 3D plots, only used in original task"
   ]
  },
  {
   "cell_type": "markdown",
   "metadata": {},
   "source": [
    "# Data"
   ]
  },
  {
   "cell_type": "code",
   "execution_count": 5,
   "metadata": {
    "ExecuteTime": {
     "end_time": "2021-06-10T12:09:07.861508Z",
     "start_time": "2021-06-10T12:08:30.584587Z"
    }
   },
   "outputs": [],
   "source": [
    "# read from folder\n",
    "data = pd.read_csv('data_anonymous.csv')"
   ]
  },
  {
   "cell_type": "code",
   "execution_count": 6,
   "metadata": {
    "ExecuteTime": {
     "end_time": "2021-06-10T12:09:07.878642Z",
     "start_time": "2021-06-10T12:09:07.863146Z"
    },
    "scrolled": false
   },
   "outputs": [
    {
     "data": {
      "text/html": [
       "<div>\n",
       "<style scoped>\n",
       "    .dataframe tbody tr th:only-of-type {\n",
       "        vertical-align: middle;\n",
       "    }\n",
       "\n",
       "    .dataframe tbody tr th {\n",
       "        vertical-align: top;\n",
       "    }\n",
       "\n",
       "    .dataframe thead th {\n",
       "        text-align: right;\n",
       "    }\n",
       "</style>\n",
       "<table border=\"1\" class=\"dataframe\">\n",
       "  <thead>\n",
       "    <tr style=\"text-align: right;\">\n",
       "      <th></th>\n",
       "      <th>ID</th>\n",
       "      <th>PORTCITY</th>\n",
       "      <th>PIRATE</th>\n",
       "      <th>SIGNUPDATE</th>\n",
       "      <th>ACTIVEDAYS</th>\n",
       "      <th>LASTACTIVEDAY</th>\n",
       "      <th>FLEETS</th>\n",
       "      <th>STRANGERTIDES</th>\n",
       "      <th>ASTEROIDMINING</th>\n",
       "      <th>FIRSTCONTACT</th>\n",
       "      <th>EVENTHORIZON</th>\n",
       "      <th>COLONIES</th>\n",
       "      <th>ESCAPEPODRACE</th>\n",
       "      <th>ALLIANCES</th>\n",
       "    </tr>\n",
       "  </thead>\n",
       "  <tbody>\n",
       "    <tr>\n",
       "      <th>0</th>\n",
       "      <td>0</td>\n",
       "      <td>New Kathleenport</td>\n",
       "      <td>Else</td>\n",
       "      <td>2018-05-22</td>\n",
       "      <td>1</td>\n",
       "      <td>2018-05-22</td>\n",
       "      <td>NaN</td>\n",
       "      <td>NaN</td>\n",
       "      <td>NaN</td>\n",
       "      <td>NaN</td>\n",
       "      <td>NaN</td>\n",
       "      <td>NaN</td>\n",
       "      <td>NaN</td>\n",
       "      <td>NaN</td>\n",
       "    </tr>\n",
       "    <tr>\n",
       "      <th>1</th>\n",
       "      <td>1</td>\n",
       "      <td>New Ashleytown</td>\n",
       "      <td>Algot</td>\n",
       "      <td>2018-05-22</td>\n",
       "      <td>3</td>\n",
       "      <td>2018-05-26</td>\n",
       "      <td>NaN</td>\n",
       "      <td>NaN</td>\n",
       "      <td>NaN</td>\n",
       "      <td>NaN</td>\n",
       "      <td>NaN</td>\n",
       "      <td>NaN</td>\n",
       "      <td>NaN</td>\n",
       "      <td>NaN</td>\n",
       "    </tr>\n",
       "    <tr>\n",
       "      <th>2</th>\n",
       "      <td>2</td>\n",
       "      <td>East Derek</td>\n",
       "      <td>Ashly</td>\n",
       "      <td>2018-05-22</td>\n",
       "      <td>115</td>\n",
       "      <td>2018-11-22</td>\n",
       "      <td>NaN</td>\n",
       "      <td>NaN</td>\n",
       "      <td>NaN</td>\n",
       "      <td>NaN</td>\n",
       "      <td>NaN</td>\n",
       "      <td>NaN</td>\n",
       "      <td>NaN</td>\n",
       "      <td>NaN</td>\n",
       "    </tr>\n",
       "    <tr>\n",
       "      <th>3</th>\n",
       "      <td>3</td>\n",
       "      <td>Catherinebury</td>\n",
       "      <td>Aron</td>\n",
       "      <td>2018-07-19</td>\n",
       "      <td>112</td>\n",
       "      <td>2020-02-19</td>\n",
       "      <td>NaN</td>\n",
       "      <td>NaN</td>\n",
       "      <td>NaN</td>\n",
       "      <td>NaN</td>\n",
       "      <td>NaN</td>\n",
       "      <td>NaN</td>\n",
       "      <td>NaN</td>\n",
       "      <td>NaN</td>\n",
       "    </tr>\n",
       "    <tr>\n",
       "      <th>4</th>\n",
       "      <td>4</td>\n",
       "      <td>Ambershire</td>\n",
       "      <td>Mansfield</td>\n",
       "      <td>2018-07-27</td>\n",
       "      <td>1</td>\n",
       "      <td>2018-07-27</td>\n",
       "      <td>NaN</td>\n",
       "      <td>NaN</td>\n",
       "      <td>2018-07-27</td>\n",
       "      <td>NaN</td>\n",
       "      <td>NaN</td>\n",
       "      <td>NaN</td>\n",
       "      <td>NaN</td>\n",
       "      <td>NaN</td>\n",
       "    </tr>\n",
       "  </tbody>\n",
       "</table>\n",
       "</div>"
      ],
      "text/plain": [
       "   ID          PORTCITY     PIRATE  SIGNUPDATE  ACTIVEDAYS LASTACTIVEDAY  \\\n",
       "0   0  New Kathleenport       Else  2018-05-22           1    2018-05-22   \n",
       "1   1    New Ashleytown      Algot  2018-05-22           3    2018-05-26   \n",
       "2   2        East Derek      Ashly  2018-05-22         115    2018-11-22   \n",
       "3   3     Catherinebury       Aron  2018-07-19         112    2020-02-19   \n",
       "4   4        Ambershire  Mansfield  2018-07-27           1    2018-07-27   \n",
       "\n",
       "  FLEETS STRANGERTIDES ASTEROIDMINING FIRSTCONTACT EVENTHORIZON COLONIES  \\\n",
       "0    NaN           NaN            NaN          NaN          NaN      NaN   \n",
       "1    NaN           NaN            NaN          NaN          NaN      NaN   \n",
       "2    NaN           NaN            NaN          NaN          NaN      NaN   \n",
       "3    NaN           NaN            NaN          NaN          NaN      NaN   \n",
       "4    NaN           NaN     2018-07-27          NaN          NaN      NaN   \n",
       "\n",
       "  ESCAPEPODRACE ALLIANCES  \n",
       "0           NaN       NaN  \n",
       "1           NaN       NaN  \n",
       "2           NaN       NaN  \n",
       "3           NaN       NaN  \n",
       "4           NaN       NaN  "
      ]
     },
     "execution_count": 6,
     "metadata": {},
     "output_type": "execute_result"
    }
   ],
   "source": [
    "data.head()"
   ]
  },
  {
   "cell_type": "code",
   "execution_count": 7,
   "metadata": {
    "ExecuteTime": {
     "end_time": "2021-06-10T12:09:07.884041Z",
     "start_time": "2021-06-10T12:09:07.880366Z"
    }
   },
   "outputs": [
    {
     "name": "stdout",
     "output_type": "stream",
     "text": [
      "This dataset has 14 columns and 500000 rows. \n",
      "Per the description, each row represents a unique subscriber.\n"
     ]
    }
   ],
   "source": [
    "print(\"This dataset has \" + str(len(data.columns)) + \n",
    "      \" columns and \" + str(len(data)) + \n",
    "      \" rows. \\nPer the description, each row represents a unique subscriber.\")"
   ]
  },
  {
   "cell_type": "markdown",
   "metadata": {},
   "source": [
    "## Data exploration"
   ]
  },
  {
   "cell_type": "code",
   "execution_count": 8,
   "metadata": {
    "ExecuteTime": {
     "end_time": "2021-06-10T12:09:08.021468Z",
     "start_time": "2021-06-10T12:09:07.886094Z"
    }
   },
   "outputs": [
    {
     "name": "stdout",
     "output_type": "stream",
     "text": [
      "<class 'pandas.core.frame.DataFrame'>\n",
      "RangeIndex: 500000 entries, 0 to 499999\n",
      "Data columns (total 14 columns):\n",
      " #   Column          Non-Null Count   Dtype \n",
      "---  ------          --------------   ----- \n",
      " 0   ID              500000 non-null  int64 \n",
      " 1   PORTCITY        500000 non-null  object\n",
      " 2   PIRATE          500000 non-null  object\n",
      " 3   SIGNUPDATE      500000 non-null  object\n",
      " 4   ACTIVEDAYS      500000 non-null  int64 \n",
      " 5   LASTACTIVEDAY   500000 non-null  object\n",
      " 6   FLEETS          44665 non-null   object\n",
      " 7   STRANGERTIDES   29385 non-null   object\n",
      " 8   ASTEROIDMINING  26678 non-null   object\n",
      " 9   FIRSTCONTACT    68484 non-null   object\n",
      " 10  EVENTHORIZON    60841 non-null   object\n",
      " 11  COLONIES        18670 non-null   object\n",
      " 12  ESCAPEPODRACE   110739 non-null  object\n",
      " 13  ALLIANCES       21078 non-null   object\n",
      "dtypes: int64(2), object(12)\n",
      "memory usage: 53.4+ MB\n"
     ]
    }
   ],
   "source": [
    "data.info()"
   ]
  },
  {
   "cell_type": "code",
   "execution_count": 9,
   "metadata": {},
   "outputs": [
    {
     "data": {
      "text/plain": [
       "Index(['ID', 'PORTCITY', 'PIRATE', 'SIGNUPDATE', 'ACTIVEDAYS', 'LASTACTIVEDAY',\n",
       "       'FLEETS', 'STRANGERTIDES', 'ASTEROIDMINING', 'FIRSTCONTACT',\n",
       "       'EVENTHORIZON', 'COLONIES', 'ESCAPEPODRACE', 'ALLIANCES'],\n",
       "      dtype='object')"
      ]
     },
     "execution_count": 9,
     "metadata": {},
     "output_type": "execute_result"
    }
   ],
   "source": [
    "data.columns"
   ]
  },
  {
   "cell_type": "code",
   "execution_count": 10,
   "metadata": {},
   "outputs": [],
   "source": [
    "data[['SIGNUPDATE', 'LASTACTIVEDAY',\n",
    "      'FLEETS', 'STRANGERTIDES', 'ASTEROIDMINING', 'FIRSTCONTACT',\n",
    "       'EVENTHORIZON', 'COLONIES', 'ESCAPEPODRACE', 'ALLIANCES']]=data[['SIGNUPDATE', 'LASTACTIVEDAY',\n",
    "       'FLEETS', 'STRANGERTIDES', 'ASTEROIDMINING', 'FIRSTCONTACT',\n",
    "       'EVENTHORIZON', 'COLONIES', 'ESCAPEPODRACE', 'ALLIANCES']].astype('datetime64')"
   ]
  },
  {
   "cell_type": "markdown",
   "metadata": {},
   "source": [
    "### Most recent date in whole dataset\n",
    "\n",
    "To get an idea of how recent the data is, I'm getting the most recent date in the whole dataframe."
   ]
  },
  {
   "cell_type": "code",
   "execution_count": 11,
   "metadata": {
    "ExecuteTime": {
     "end_time": "2021-06-10T12:09:08.028048Z",
     "start_time": "2021-06-10T12:09:08.022983Z"
    }
   },
   "outputs": [
    {
     "name": "stdout",
     "output_type": "stream",
     "text": [
      "The most recent date in the table is the 2020-02-22 and the earliest is the 2017-03-03. \n",
      "It captures the game's first two years.\n"
     ]
    }
   ],
   "source": [
    "print(\"The most recent date in the table is the \" + str(data.LASTACTIVEDAY.max().date()) + \n",
    "      \" and the earliest is the \" + str(data.LASTACTIVEDAY.min().date()) +\n",
    "      \". \\nIt captures the game's first two years.\")"
   ]
  },
  {
   "cell_type": "code",
   "execution_count": 12,
   "metadata": {
    "ExecuteTime": {
     "end_time": "2021-06-10T12:09:08.033647Z",
     "start_time": "2021-06-10T12:09:08.029416Z"
    }
   },
   "outputs": [
    {
     "data": {
      "text/plain": [
       "datetime.date(2020, 2, 22)"
      ]
     },
     "execution_count": 12,
     "metadata": {},
     "output_type": "execute_result"
    }
   ],
   "source": [
    "lastday = data.LASTACTIVEDAY.max().date()\n",
    "lastday"
   ]
  },
  {
   "cell_type": "markdown",
   "metadata": {},
   "source": [
    "### Top leaders and civilizations"
   ]
  },
  {
   "cell_type": "code",
   "execution_count": 13,
   "metadata": {
    "ExecuteTime": {
     "end_time": "2021-06-10T12:09:09.532036Z",
     "start_time": "2021-06-10T12:09:09.475245Z"
    }
   },
   "outputs": [
    {
     "name": "stdout",
     "output_type": "stream",
     "text": [
      "Unique space pirates:\n",
      "668\n",
      "Unique port cities:\n",
      "479\n"
     ]
    }
   ],
   "source": [
    "print(\"Unique space pirates:\")\n",
    "print(data.PIRATE.nunique())\n",
    "\n",
    "print(\"Unique port cities:\")\n",
    "print(data.PORTCITY.nunique())"
   ]
  },
  {
   "cell_type": "code",
   "execution_count": 14,
   "metadata": {
    "ExecuteTime": {
     "end_time": "2021-06-10T12:09:09.565377Z",
     "start_time": "2021-06-10T12:09:09.533502Z"
    },
    "scrolled": true
   },
   "outputs": [
    {
     "data": {
      "text/plain": [
       "array(['Else', 'Algot', 'Ashly', 'Aron', 'Mansfield', 'Brandy', 'Press',\n",
       "       'Eduardo', 'Shirlene', 'Ione', 'Newman', 'Bryant', 'Chaim',\n",
       "       'Neoma', 'Rhona', 'Trent', 'Sydney', 'Arline', 'Edyth', 'Terra',\n",
       "       'Cappie', 'Casen', 'Shelvie', 'Kara', 'Chancy', 'Mildred',\n",
       "       'Garrison', 'Dorman', 'Blaise', 'Hardie', 'Ahmad', 'Johnnie',\n",
       "       'Eleanor', 'Aime', 'Tambra', 'Kurt', 'Alaya', 'Torrey', 'Renae',\n",
       "       'Chrystal', 'Trace', 'Joey', 'Bev', 'Jobe', 'French', 'Howell',\n",
       "       'Martha', 'Cleora', 'Julio', 'Tennie', 'Terance', 'Foster',\n",
       "       'Luther', 'Karyn', 'Unique', 'Lemon', 'Lora', 'Nonie', 'Kerry',\n",
       "       'Iyanna', 'Yancy', 'Augusta', 'Makayla', 'Terence', 'Bret',\n",
       "       'Lillard', 'Shavonne', 'Tyrell', 'Emmalee', 'Janice', 'Agustus',\n",
       "       'North', 'Eva', 'Arly', 'Armin', 'Marius', 'Harden', 'Hart',\n",
       "       'Jillian', 'Ramiro', 'Orvel', 'Amari', 'Brenton', 'Barbra',\n",
       "       'Darryll', 'Flora', 'Lonnie', 'Eliezer', 'Sharen', 'Jeremey',\n",
       "       'Marcela', 'Emit', 'Abigail', 'Krystal', 'Bradford', 'Josiah',\n",
       "       'Donal', 'Barney', 'Arlan', 'Adrain', 'Lorraine', 'Shawnna',\n",
       "       'Alecia', 'Fleeta', 'Sage', 'Shepherd', 'Mohamed', 'Alize', 'Vick',\n",
       "       'Cathy', 'Ottis', 'Juli', 'Dirk', 'Susie', 'Neha', 'Lillia',\n",
       "       'Brett', 'Maren', 'Molly', 'Anitra', 'Dequan', 'Arra', 'Goldia',\n",
       "       'Elmyra', 'Kayleen', 'Simon', 'Rex', 'Bennett', 'Angeles', 'Retha',\n",
       "       'Amir', 'Mallie', 'Cordero', 'Jovanny', 'Sigmund', 'Mina', 'Cari',\n",
       "       'Stacy', 'Lonna', 'Duwayne', 'Eliana', 'Lissa', 'Agusta', 'Lily',\n",
       "       'Vicy', 'Uriah', 'Ethyle', 'Francisquita', 'Carrie', 'Theron',\n",
       "       'Theresia', 'Atha', 'Vern', 'Jeramiah', 'Arther', 'Manerva',\n",
       "       'Dana', 'Rick', 'Vincent', 'Vincenzo', 'Kelley', 'Kaleena',\n",
       "       'Lindsey', 'Ina', 'Inga', 'Artis', 'Andreas', 'Denisha', 'Lourdes',\n",
       "       'Malaki', 'Mitzi', 'Gardner', 'Kiyoko', 'Jordon', 'Dollie', 'Mira',\n",
       "       'Claus', 'Callie', 'Shellie', 'Dominique', 'Leisha', 'Kendall',\n",
       "       'Gayle', 'Clarabelle', 'Pranav', 'Joycelyn', 'Mari', 'Beau',\n",
       "       'Babyboy', 'Londyn', 'Golden', 'Christopher', 'Vita', 'London',\n",
       "       'Britta', 'Savilla', 'Kylee', 'Douglas', 'Angus', 'Harding',\n",
       "       'Jamir', 'Hugo', 'Eudora', 'Zelda', 'Newell', 'Ashley', 'Arnie',\n",
       "       'Idabelle', 'Ritchie', 'Lemmie', 'Khalilah', 'Rennie', 'Manuel',\n",
       "       'Ruie', 'Josh', 'Orlando', 'Vonda', 'Schuyler', 'Lamar', 'Jimmy',\n",
       "       'Phylis', 'Luvenia', 'Lum', 'Emma', 'Elgie', 'Lawton', 'Shirlie',\n",
       "       'Jada', 'Eda', 'Jahiem', 'Emmett', 'Laisha', 'Jadiel', 'Maryellen',\n",
       "       'Kimora', 'Vanessa', 'Malachi', 'Madison', 'Marleigh', 'Casey',\n",
       "       'Hyrum', 'Ballard', 'Jace', 'Tillman', 'Dorris', 'Claud', 'Karley',\n",
       "       'Elige', 'Berton', 'Karim', 'Glendora', 'Lurana', 'Bridget',\n",
       "       'Thaddeus', 'Linette', 'Israel', 'Sabastian', 'Mamie', 'Marci',\n",
       "       'Izola', 'Amya', 'Valentina', 'Althea', 'Finley', 'Carmel',\n",
       "       'Ezzard', 'Derwin', 'Tanner', 'Burleigh', 'Mya', 'Ashlea',\n",
       "       'Consuelo', 'Starling', 'Rakeem', 'Marshall', 'Almina', 'Janelle',\n",
       "       'Hakim', 'Yair', 'Ima', 'Annemarie', 'Traci', 'Lilla', 'Oral',\n",
       "       'Alina', 'Adriene', 'Hanna', 'Melissia', 'Elwood', 'Milburn',\n",
       "       'Gladstone', 'Donald', 'Lorna', 'Drew', 'Jaymes', 'Fumiko',\n",
       "       'Kamya', 'Rachael', 'Cathey', 'Joe', 'Iliana', 'Romona', 'Dejah',\n",
       "       'Clare', 'Catherine', 'Anita', 'Lelah', 'James', 'Tex', 'Kaylah',\n",
       "       'Chelsea', 'Aubrey', 'Tayler', 'Mariano', 'Jazmine', 'Marissa',\n",
       "       'Gladys', 'Elvira', 'Branden', 'Kody', 'Mae', 'Alexandro', 'Dyan',\n",
       "       'Dessie', 'Lottie', 'Kwame', 'Dannielle', 'Makaila', 'Jaime',\n",
       "       'Jewell', 'Beckham', 'Chrissy', 'Andra', 'Hailee', 'Gael',\n",
       "       'Autumn', 'Erland', 'Giselle', 'Hassan', 'Devan', 'Tuan', 'Lott',\n",
       "       'Iridian', 'Latarsha', 'Arlen', 'Birdella', 'Cory', 'Lucindy',\n",
       "       'Dixie', 'Archie', 'Konnor', 'Korbin', 'Floyd', 'Axel', 'Elise',\n",
       "       'Jenelle', 'Jonnie', 'Vernon', 'Marla', 'Daryl', 'Cliff', 'Lenard',\n",
       "       'Maurine', 'Toshio', 'Heyward', 'Marques', 'Deena', 'Otelia',\n",
       "       'Shara', 'Kiara', 'Walter', 'Pearlene', 'Hope', 'Adelia', 'Dakota',\n",
       "       'Illa', 'Antione', 'Amare', 'Delfina', 'Jaret', 'Brandie',\n",
       "       'Sidney', 'Mathias', 'Isidor', 'Malcolm', 'Valentin', 'Tamera',\n",
       "       'Windell', 'Raquan', 'Florie', 'Ronna', 'Arvil', 'Kobe', 'Logan',\n",
       "       'Kyle', 'Opal', 'Michal', 'Ewart', 'Bradyn', 'Gorden', 'Katie',\n",
       "       'Deric', 'Lucious', 'Holden', 'Halsey', 'Maricela', 'Berta',\n",
       "       'Avon', 'Yoel', 'Evertt', 'Jermey', 'Lynne', 'Jasper', 'Jammie',\n",
       "       'Page', 'Gifford', 'Orvis', 'Madonna', 'Mikala', 'Wendell',\n",
       "       'Theodocia', 'Adison', 'Nick', 'Alek', 'Latoyia', 'Caesar',\n",
       "       'Mendy', 'Tim', 'Elissa', 'Orland', 'Love', 'Lucile', 'Kendal',\n",
       "       'Adonis', 'Mannie', 'Classie', 'Doll', 'Kelly', 'Napoleon',\n",
       "       'Carlo', 'Leonidas', 'Velma', 'Concepcion', 'Romello', 'Shedrick',\n",
       "       'Linwood', 'Nathanael', 'Becky', 'Sarrah', 'Kennedy', 'Coby',\n",
       "       'Jaleel', 'Kolten', 'Luetta', 'Joelle', 'Emery', 'Devon', 'Vara',\n",
       "       'Rozanne', 'Helma', 'Ted', 'Candice', 'Jaclyn', 'Launa', 'Trudie',\n",
       "       'Angelia', 'Hershell', 'Mickey', 'Harrell', 'Bryon', 'Raul',\n",
       "       'Lindell', 'Winston', 'Irine', 'Drury', 'Judith', 'Jaidyn',\n",
       "       'Lakisha', 'Rylie', 'Leopoldo', 'Alison', 'Symone', 'Ferris',\n",
       "       'Jocelyne', 'America', 'Jerald', 'Leatha', 'Gail', 'Mathew',\n",
       "       'Bobbie', 'Ottilie', 'Evon', 'Ann', 'Peggie', 'Valentino',\n",
       "       'Matilde', 'Aleck', 'Netta', 'Darion', 'Cristopher', 'Jesus',\n",
       "       'Trish', 'Ila', 'Irene', 'Trena', 'Reva', 'Kristen', 'Mikaela',\n",
       "       'Yamilet', 'Velva', 'Hulda', 'Johney', 'Johnpaul', 'Noreen',\n",
       "       'Taylor', 'Plummer', 'Tana', 'Isidore', 'Tawanda', 'Kit', 'Luna',\n",
       "       'Marina', 'Tilda', 'Felix', 'Earlie', 'Rickie', 'Ozie', 'Darl',\n",
       "       'Enriqueta', 'Lainey', 'Lexie', 'Trevor', 'Nigel', 'Eldred',\n",
       "       'Victoriano', 'Dylon', 'Armando', 'Carri', 'Vada', 'Mariam',\n",
       "       'Gerald', 'Candi', 'Susann', 'Jessi', 'Lorrie', 'Garrett', 'Eulah',\n",
       "       'Sariah', 'Devonte', 'Maiya', 'Jimmie', 'Blane', 'Alayna', 'Kala',\n",
       "       'Marietta', 'Jordy', 'Rhett', 'Squire', 'Leana', 'Arah', 'Shirley',\n",
       "       'Kyra', 'Freddy', 'Lashunda', 'Chanda', 'Alexander', 'Roberta',\n",
       "       'Maureen', 'Birtha', 'Kamden', 'Laverne', 'Lydia', 'Willodean',\n",
       "       'Scot', 'Asa', 'Delton', 'Cathryn', 'Giuseppe', 'Nona', 'Theda',\n",
       "       'Thalia', 'Courtney', 'Van', 'Codey', 'Cruz', 'Marylou', 'Albert',\n",
       "       'Destin', 'Savion', 'Alysha', 'Lorrayne', 'Laverna', 'Darian',\n",
       "       'Adda', 'Wellington', 'Clora', 'Kaila', 'Angelo', 'Merl', 'Fabian',\n",
       "       'Elliana', 'Keven', 'Hoke', 'Pauline', 'Randell', 'Cherryl',\n",
       "       'Kesha', 'Carrol', 'Geralyn', 'Olena', 'Mirna', 'Markus',\n",
       "       'Earline', 'Gavin', 'Shameka', 'Treva', 'Lilie', 'Irven',\n",
       "       'Chelsie', 'Verlin', 'Elex', 'Sherita', 'Gunnar', 'Ethie',\n",
       "       'Louella', 'Job', 'Keyla', 'Beulah', 'Violetta', 'Angie', 'Oney',\n",
       "       'Tawnya', 'Barnett', 'Sonny', 'Rodrigo', 'Stephaine', 'Velia',\n",
       "       'Bea', 'Coretta', 'Libbie', 'Bettyjane', 'Aiyanna', 'Kaci',\n",
       "       'Sherwin', 'Lashonda', 'Powell', 'Zillah', 'Samie', 'Corbett',\n",
       "       'Jonna', 'Madge', 'Albion', 'Orla', 'Katia', 'Anibal', 'Charlene',\n",
       "       'Deliah', 'Burrel', 'Rishi', 'Manda', 'Myrl', 'Kailee', 'Doloris',\n",
       "       'Melbourne', 'Gigi', 'May', 'Brynlee', 'Carter'], dtype=object)"
      ]
     },
     "execution_count": 14,
     "metadata": {},
     "output_type": "execute_result"
    }
   ],
   "source": [
    "data.PIRATE.unique()"
   ]
  },
  {
   "cell_type": "code",
   "execution_count": 15,
   "metadata": {
    "ExecuteTime": {
     "end_time": "2021-06-10T12:09:09.599544Z",
     "start_time": "2021-06-10T12:09:09.566802Z"
    },
    "scrolled": true
   },
   "outputs": [
    {
     "data": {
      "text/plain": [
       "array(['New Kathleenport', 'New Ashleytown', 'East Derek',\n",
       "       'Catherinebury', 'Ambershire', 'West Valerieland', 'Parksport',\n",
       "       'East Sherry', 'North Ericamouth', 'West Elizabethtown', 'Roseton',\n",
       "       'Port Alexisberg', 'West Darlene', 'South Laurieborough',\n",
       "       'Meganland', 'North Susan', 'West Andrewbury', 'Reynoldsburgh',\n",
       "       'Jasontown', 'Campbellfort', 'Mcculloughbury', 'Vargasbury',\n",
       "       'Hartton', 'South Theresaborough', 'Sarahton', 'New Markfort',\n",
       "       'West Steven', 'Lake Adrian', 'East Michaelmouth', 'Tonimouth',\n",
       "       'Lake John', 'New Robertshire', 'Kristenview', 'Lake Ashley',\n",
       "       'Huntermouth', 'Lake Davidton', 'West Elizabeth', 'Megantown',\n",
       "       'Port Sheila', 'East Ashley', 'Espinozaview', 'Davishaven',\n",
       "       'Summersville', 'New Michael', 'Joseton', 'Lake Brandy',\n",
       "       'Derekview', 'South Anthonyburgh', 'North Nathanmouth',\n",
       "       'South Megan', 'South Patriciaville', 'Richardstad', 'Evansstad',\n",
       "       'Wilsonbury', 'Amberburgh', 'Susanchester', 'Timothyshire',\n",
       "       'New Michelle', 'New Crystalberg', 'Port Jasmine',\n",
       "       'Livingstonfort', 'South Dale', 'Lake Matthew', 'Lesliemouth',\n",
       "       'New Jackiefurt', 'West Jakeshire', 'Wheelerfort', 'New Kylie',\n",
       "       'East James', 'Judychester', 'Cameronstad', 'West Timothyville',\n",
       "       'New Aprilburgh', 'Port Rachel', 'Douglasshire', 'Lake Molly',\n",
       "       'Jessicashire', 'South Alexistown', 'Nicolehaven', 'Codytown',\n",
       "       'Michaelfort', 'Ronaldshire', 'West Shawnport', 'Shawnhaven',\n",
       "       'West Ericaborough', 'Lake Amber', 'Chaseside', 'Lake Maryview',\n",
       "       'Port Tracy', 'South Brian', 'Monicaport', 'New Reginashire',\n",
       "       'Port Joanna', 'South Christinahaven', 'Lake Jordanhaven',\n",
       "       'Port James', 'Turnerfurt', 'South Susan', 'Garrettton',\n",
       "       'Andreafurt', 'Turnerville', 'Hannahfort', 'Alexisshire',\n",
       "       'Davidside', 'Leblancside', 'North Jonathan', 'Bairdborough',\n",
       "       'Leslieberg', 'Port Ashley', 'Garrettport', 'North Nicholefurt',\n",
       "       'Lynnmouth', 'Kelseyhaven', 'Carpenterburgh', 'Zacharyhaven',\n",
       "       'New Kayla', 'Hillmouth', 'Port William', 'North Nicholas',\n",
       "       'West Christinachester', 'Port Hannah', 'Jordanfurt', 'Tinaport',\n",
       "       'South Michaelshire', 'Woodsland', 'East Alexander',\n",
       "       'New Leahmouth', 'Amberton', 'Saundersfort', 'Lauraton',\n",
       "       'Noahburgh', 'East Brandon', 'New Carlaburgh', 'Port Cynthiamouth',\n",
       "       'Port Darleneview', 'South Erikmouth', 'North Davidville',\n",
       "       'New Victorstad', 'Kimberlyberg', 'Martinland', 'Lake Maryside',\n",
       "       'Gibbsfurt', 'North Charlesstad', 'Sanchezmouth', 'Brenthaven',\n",
       "       'North Anthonyville', 'New Jason', 'Perrytown', 'Simmonschester',\n",
       "       'West Annaville', 'Jenniferport', 'Marshborough', 'Gloriabury',\n",
       "       'South Kimberlyville', 'Scottfurt', 'Kimberlyfort',\n",
       "       'Port Matthewchester', 'Adrienneside', 'North Jamesbury',\n",
       "       'Cynthiatown', 'Bowmanfort', 'Leahchester', 'West Elizabethstad',\n",
       "       'East Dana', 'West Amy', 'Lake Leehaven', 'West Tammy',\n",
       "       'South Stephanie', 'Smithstad', 'New Russell', 'West Rhonda',\n",
       "       'East Betty', 'Cookport', 'North Brent', 'Carterchester',\n",
       "       'Gonzalezburgh', 'Cruzburgh', 'Alanshire', 'Matthewside',\n",
       "       'Robertfurt', 'West Miguelhaven', 'Osbornemouth', 'Lake Nancy',\n",
       "       'Jessicaside', 'Port Jennifermouth', 'Lake Marcview', 'Greenport',\n",
       "       'Lake Haleyshire', 'Stephensshire', 'South Josestad',\n",
       "       'Robinsonport', 'South Mark', 'North Elizabeth', 'New James',\n",
       "       'North Michaelside', 'Charlesview', 'Port Joshuabury',\n",
       "       'Smithchester', 'Thompsonchester', 'Glennmouth', 'Toddshire',\n",
       "       'East Lisa', 'Ginaville', 'Port Dylan', 'Shermanberg',\n",
       "       'Port Carlside', 'Martinezchester', 'Lake Joshuaburgh',\n",
       "       'Bruceberg', 'Hannahshire', 'South Paulton', 'Maxside',\n",
       "       'Fitzgeraldborough', 'Jeffreyfort', 'Lake Alvin', 'Carolynmouth',\n",
       "       'Garzamouth', 'Hughesfort', 'New Elijah', 'Lake Daltonside',\n",
       "       'West Michaelport', 'East Zacharyburgh', 'Zimmermanchester',\n",
       "       'Paulaland', 'Allenchester', 'Kennedychester', 'Jonesbury',\n",
       "       'New Russellchester', 'Port Stacyhaven', 'East William',\n",
       "       'Bushview', 'Trevorport', 'West Aaronfort', 'Raymondmouth',\n",
       "       'South Craigmouth', 'Keithfort', 'New Cheyenne',\n",
       "       'West Patriciaberg', 'Fullerland', 'Adamhaven', 'Simpsonberg',\n",
       "       'Port Jessica', 'West Michaelton', 'Port Cassidy', 'Jasonmouth',\n",
       "       'North Debraland', 'West Josephmouth', 'Gainesmouth',\n",
       "       'Ashleyburgh', 'Nixonstad', 'Woodstad', 'Christinemouth',\n",
       "       'Karenland', 'Stacyton', 'New Angelaberg', 'Webbmouth',\n",
       "       'North Ryanfurt', 'New Christopherview', 'Lake Kimberly',\n",
       "       'West Johnside', 'Jennifermouth', 'Jesseview', 'East Stephen',\n",
       "       'Johnsonchester', 'Longberg', 'New Ryanmouth', 'New Alanburgh',\n",
       "       'Desireeview', 'Davisfurt', 'Parkbury', 'Sanchezshire',\n",
       "       'New Brittanyport', 'Melissabury', 'West Justin', 'South Jesus',\n",
       "       'Rebeccachester', 'Stevenchester', 'West Amandaland',\n",
       "       'Jamesborough', 'South Edward', 'Kylechester', 'Shafferborough',\n",
       "       'West Jasmine', 'Randallburgh', 'Stevechester', 'Williamsside',\n",
       "       'Cherylbury', 'East Michelle', 'East Joshua', 'Nguyenchester',\n",
       "       'Woodview', 'Heatherberg', 'Kristiborough', 'Josephbury',\n",
       "       'Johnsonside', 'North Tiffanyton', 'Feliciaburgh', 'South Sara',\n",
       "       'Kimberlymouth', 'Lake Larrystad', 'Howardfort', 'Morrisonhaven',\n",
       "       'North Laurastad', 'Mooreville', 'Mckenzieview', 'North Dawn',\n",
       "       'Lake Jamie', 'South Amy', 'Smithside', 'Perezshire', 'Connieland',\n",
       "       'South Richard', 'Destinyberg', 'South Michaelbury', 'Masseyshire',\n",
       "       'Karenhaven', 'Hoganshire', 'West Allison', 'Alexisberg',\n",
       "       'New Christinaville', 'Hintonstad', 'South Oliviaburgh',\n",
       "       'Wigginsborough', 'South Jennifer', 'Blankenshipfort', 'Brianview',\n",
       "       'Port Sarafurt', 'Jenningsville', 'Harrisonton',\n",
       "       'North Jermaineland', 'East Rebeccaview', 'Lindamouth',\n",
       "       'Robertport', 'West Alicia', 'Martinezburgh', 'Parkertown',\n",
       "       'Parkerhaven', 'Port Thomastown', 'Port Hannahbury', 'Alexishaven',\n",
       "       'West Brenda', 'North Heather', 'Melissamouth', 'Carlsonside',\n",
       "       'Lawrenceton', 'North Ericbury', 'West Christianfort', 'Jasonfort',\n",
       "       'South Andrefurt', 'Thomasville', 'Roberttown', 'Lake Randy',\n",
       "       'Johnsonville', 'Ortizshire', 'East Robertfort', 'Fergusonport',\n",
       "       'Lake Brianna', 'Zacharyton', 'Larryport', 'Jillville',\n",
       "       'Benderside', 'South Malloryside', 'West Tina', 'South Pennyfurt',\n",
       "       'Lake Crystal', 'East Nathanburgh', 'South Michele', 'Clarkfurt',\n",
       "       'North Scottburgh', 'North Stevenberg', 'Raymouth', 'Marymouth',\n",
       "       'Matthewburgh', 'Avilamouth', 'Port Linda', 'East Seanmouth',\n",
       "       'Coxshire', 'Robertbury', 'South Andrew', 'Tammyhaven',\n",
       "       'Port Kennethville', 'West Cindy', 'Aaronfurt', 'Eduardofurt',\n",
       "       'Port Zachary', 'Boydmouth', 'Port Janetshire', 'South Leslieton',\n",
       "       'Colliershire', 'West David', 'South Sierra', 'Wilsonmouth',\n",
       "       'Port Lawrence', 'Christopherville', 'Jacobside', 'Lake Craig',\n",
       "       'Fieldshaven', 'South Danaborough', 'Port Kendraport',\n",
       "       'West Christina', 'Rhondabury', 'New Jessica', 'Nicoleshire',\n",
       "       'Garciabury', 'Andersonbury', 'New Robinfort', 'East Johnfurt',\n",
       "       'Lake Michaelahaven', 'North Jeremy', 'Joshuaport', 'Terristad',\n",
       "       'East Joseph', 'Sandraton', 'Martinezton', 'Davidchester',\n",
       "       'Grayside', 'Paulstad', 'South Kenneth', 'Denisetown', 'Davidport',\n",
       "       'Liuland', 'South Andrewmouth', 'East Marcfort', 'Kevinchester',\n",
       "       'East Michelleport', 'Sandersland', 'Adamston', 'North Thomas',\n",
       "       'Christianberg', 'New Catherineborough', 'Garciahaven',\n",
       "       'Sanchezhaven', 'Martinezmouth', 'Lake Marvinmouth', 'Gabrielview',\n",
       "       'Mikeburgh', 'New Theresa', 'Lake Deniseside', 'Guerrerochester',\n",
       "       'Mataland', 'Nataliemouth', 'West Cynthiaview', 'West Courtney',\n",
       "       'North Stevenburgh', 'Madisonland', 'New Jenniferland',\n",
       "       'Charlesshire', 'New Jennifer', 'Hollowayfort', 'Hopkinsberg',\n",
       "       'South Debbieview', 'Port Roseville', 'East Stephanie',\n",
       "       'Staffordstad', 'Meyertown', 'North Krista', 'Lake Jacobburgh',\n",
       "       'Lake Erin', 'Danaside', 'Haleyburgh', 'Hallhaven',\n",
       "       'Lake Joshuafort', 'Port Pennyhaven', 'Harperland', 'Jasonburgh',\n",
       "       'West Vickifurt', 'Chungmouth', 'Harrisonstad', 'New Kristi',\n",
       "       'Patriciaton', 'Toddton', 'Port Jamie', 'Hendersonmouth',\n",
       "       'Kathyborough', 'North Mark', 'Colonfurt', 'Reidmouth',\n",
       "       'East Sydneytown', 'Jackiefurt'], dtype=object)"
      ]
     },
     "execution_count": 15,
     "metadata": {},
     "output_type": "execute_result"
    }
   ],
   "source": [
    "data.PORTCITY.unique()"
   ]
  },
  {
   "cell_type": "code",
   "execution_count": 16,
   "metadata": {
    "ExecuteTime": {
     "end_time": "2021-06-10T12:09:09.856254Z",
     "start_time": "2021-06-10T12:09:09.601275Z"
    }
   },
   "outputs": [
    {
     "name": "stdout",
     "output_type": "stream",
     "text": [
      "The most chosen pirate was selected 58186 times.\n",
      "It is Brandy, who was most frequently chosen in 11.6% of cases.\n",
      "---\n",
      "The most frequent port city was selected 58432 times.\n",
      "It is West Valerieland, which was most frequently chosen in 11.7% of cases.\n"
     ]
    }
   ],
   "source": [
    "print(\"The most chosen pirate was selected \" +\n",
    "      str(data['PIRATE'].value_counts().max()) +\n",
    "      \" times.\\nIt is \" + str(data['PIRATE'].mode().item()) +\n",
    "      \", who was most frequently chosen in \" +\n",
    "      str(round(data['PIRATE'].value_counts(\n",
    "      ).max()/len(data)*100, 1)) + \"% of cases.\"\n",
    "      )\n",
    "print(\"---\")\n",
    "print(\"The most frequent port city was selected \" +\n",
    "      str(data['PORTCITY'].value_counts().max()) +\n",
    "      \" times.\\nIt is \" + str(data['PORTCITY'].mode().item()) +\n",
    "      \", which was most frequently chosen in \" +\n",
    "      str(round(data['PORTCITY'].value_counts(\n",
    "      ).max()/len(data)*100, 1)) + \"% of cases.\"\n",
    "      )"
   ]
  },
  {
   "cell_type": "code",
   "execution_count": 17,
   "metadata": {
    "ExecuteTime": {
     "end_time": "2021-06-10T12:09:21.920571Z",
     "start_time": "2021-06-10T12:09:09.857742Z"
    },
    "scrolled": false
   },
   "outputs": [
    {
     "data": {
      "image/png": "[encoded data removed]",
      "text/plain": [
       "<Figure size 1080x360 with 1 Axes>"
      ]
     },
     "metadata": {},
     "output_type": "display_data"
    },
    {
     "data": {
      "image/png": "[encoded data removed]",
      "text/plain": [
       "<Figure size 1080x360 with 1 Axes>"
      ]
     },
     "metadata": {},
     "output_type": "display_data"
    }
   ],
   "source": [
    "clrs1 = ['#ffffff' if (x == \"Brandy\")\n",
    "         else '#EE2E24' for x in data[\"PIRATE\"].value_counts().iloc[0:10].index]\n",
    "sns.catplot(y=\"PIRATE\", kind=\"count\", palette=clrs1, alpha=1, data=data,\n",
    "              order=data.PIRATE.value_counts().iloc[0:10].index, height=5, aspect=3, saturation=1, edgecolor=\"black\")\n",
    "plt.xlabel('Subscribers', size=16)\n",
    "plt.ylabel('Pirate most chosen', size=16)\n",
    "plt.title('Top 10 Pirates', size=20)\n",
    "plt.xticks(size=12)\n",
    "plt.yticks(size=12)\n",
    "#plt.savefig('top10pirates.png', dpi=300, bbox_inches='tight')\n",
    "plt.show()\n",
    "None\n",
    "\n",
    "clrs2 = ['#ffffff' if (x == \"West Valerieland\")\n",
    "         else '#EE2E24' for x in data[\"PORTCITY\"].value_counts().iloc[0:10].index]\n",
    "sns.catplot(y=\"PORTCITY\", kind=\"count\", palette=clrs2, alpha=1, data=data,\n",
    "              order=data.PORTCITY.value_counts().iloc[0:10].index, height=5, aspect=3, saturation=1, edgecolor=\"black\")\n",
    "plt.xlabel('Subscribers', size=16)\n",
    "plt.ylabel('Most frequent port city', size=16)\n",
    "plt.title('Top 10 Ports', size=20)\n",
    "plt.xticks(size=12)\n",
    "plt.yticks(size=12)\n",
    "#plt.savefig('top10ports.png', dpi=300, bbox_inches='tight')\n",
    "plt.show()\n",
    "None"
   ]
  },
  {
   "cell_type": "code",
   "execution_count": 18,
   "metadata": {
    "ExecuteTime": {
     "end_time": "2021-06-10T12:09:21.924532Z",
     "start_time": "2021-06-10T12:09:21.921969Z"
    }
   },
   "outputs": [
    {
     "name": "stdout",
     "output_type": "stream",
     "text": [
      "The top 10 subscribers' choice of space pirate aligns closely with the top 10 top port cities, which is to be expected.\n"
     ]
    }
   ],
   "source": [
    "print(\"The top 10 subscribers' choice of space pirate aligns closely with the top 10 top port cities, which is to be expected.\")"
   ]
  },
  {
   "cell_type": "markdown",
   "metadata": {},
   "source": [
    "### Missing data"
   ]
  },
  {
   "cell_type": "code",
   "execution_count": 19,
   "metadata": {
    "ExecuteTime": {
     "end_time": "2021-06-10T12:09:24.007520Z",
     "start_time": "2021-06-10T12:09:21.925784Z"
    },
    "scrolled": false
   },
   "outputs": [
    {
     "data": {
      "image/png": "[encoded data removed]",
      "text/plain": [
       "<Figure size 1080x360 with 3 Axes>"
      ]
     },
     "metadata": {},
     "output_type": "display_data"
    }
   ],
   "source": [
    "msno.bar(data, color=\"#EE2E24\", figsize=(15, 5), fontsize=12)\n",
    "#plt.savefig('missingvalues.png', dpi=300, bbox_inches='tight')\n",
    "None"
   ]
  },
  {
   "cell_type": "markdown",
   "metadata": {},
   "source": [
    "# Part 1: Intuitive Segmentation\n",
    "\n",
    "As I progress through the data exploration and preparation, intuitive segments are generated as new columns. \n",
    "These columns start with **S[1-7]_**\n",
    "\n",
    "There is a second notebook in which I did clustering using KNN. Spoiler: The segments shown here are more useful."
   ]
  },
  {
   "cell_type": "code",
   "execution_count": 20,
   "metadata": {},
   "outputs": [
    {
     "data": {
      "text/plain": [
       "Index(['ID', 'PORTCITY', 'PIRATE', 'SIGNUPDATE', 'ACTIVEDAYS', 'LASTACTIVEDAY',\n",
       "       'FLEETS', 'STRANGERTIDES', 'ASTEROIDMINING', 'FIRSTCONTACT',\n",
       "       'EVENTHORIZON', 'COLONIES', 'ESCAPEPODRACE', 'ALLIANCES'],\n",
       "      dtype='object')"
      ]
     },
     "execution_count": 20,
     "metadata": {},
     "output_type": "execute_result"
    }
   ],
   "source": [
    "data.columns"
   ]
  },
  {
   "cell_type": "markdown",
   "metadata": {},
   "source": [
    "## S1: Power players\n",
    "\n",
    "For this segmentation, I consider a power player whose ACTIVEDAYS per days active (SIGNUPDATE to LASTDAYACTIVE) are in the top 20% of the dataset."
   ]
  },
  {
   "cell_type": "code",
   "execution_count": 21,
   "metadata": {
    "ExecuteTime": {
     "end_time": "2021-06-10T12:09:25.105207Z",
     "start_time": "2021-06-10T12:09:24.009817Z"
    },
    "scrolled": false
   },
   "outputs": [
    {
     "data": {
      "image/png": "[encoded data removed]",
      "text/plain": [
       "<Figure size 1080x360 with 1 Axes>"
      ]
     },
     "metadata": {},
     "output_type": "display_data"
    },
    {
     "data": {
      "image/png": "[encoded data removed]",
      "text/plain": [
       "<Figure size 1080x360 with 1 Axes>"
      ]
     },
     "metadata": {},
     "output_type": "display_data"
    }
   ],
   "source": [
    "fig = plt.figure(figsize=(15, 5))\n",
    "\n",
    "plt.margins(x=0)\n",
    "\n",
    "sns.histplot(data=data, x=\"ACTIVEDAYS\", binwidth=15,\n",
    "             color=\"#EE2E24\", alpha=1, pmax=1, edgecolor=\"black\")\n",
    "\n",
    "plt.xlabel('Active Days', size=16)\n",
    "plt.ylabel('Subscribers', size=16)\n",
    "plt.title('Active Days per Subscriber', size=20)\n",
    "plt.xticks(size=12)\n",
    "plt.yticks(size=12)\n",
    "#plt.savefig('activedays.png', dpi=300, bbox_inches='tight')\n",
    "plt.show()\n",
    "\n",
    "None\n",
    "\n",
    "# log scaled\n",
    "fig = plt.figure(figsize=(15, 5))\n",
    "\n",
    "plt.margins(x=0)\n",
    "\n",
    "g = sns.histplot(data=data, x=\"ACTIVEDAYS\", binwidth=15,\n",
    "                 color=\"#EE2E24\", alpha=1, pmax=1, edgecolor=\"black\")\n",
    "\n",
    "plt.xlabel('Active Days', size=16)\n",
    "plt.ylabel('Subscribers (log scaled)', size=16)\n",
    "plt.title('Active Days per Subscriber (log scaled)', size=20)\n",
    "plt.xticks(size=12)\n",
    "plt.yticks(size=12)\n",
    "g.set_yscale('log')\n",
    "#plt.savefig('activedays_log.png', dpi=300, bbox_inches='tight')\n",
    "plt.show()\n",
    "\n",
    "None"
   ]
  },
  {
   "cell_type": "code",
   "execution_count": 22,
   "metadata": {
    "ExecuteTime": {
     "end_time": "2021-06-10T12:09:25.126724Z",
     "start_time": "2021-06-10T12:09:25.106756Z"
    }
   },
   "outputs": [
    {
     "name": "stdout",
     "output_type": "stream",
     "text": [
      "The vast majority of players can be considered casual players as seen in the graphs above.\n",
      "The median active days are 8.0 days, and looking at the mean of 23.6 days shows how skewed the data is.\n"
     ]
    }
   ],
   "source": [
    "print(\"The vast majority of players can be considered casual players as seen in the graphs above.\\nThe median active days are \" +\n",
    "      str(round(data[\"ACTIVEDAYS\"].median(), 1)) + \" days, and looking at the mean of \" + \n",
    "      str(round(data[\"ACTIVEDAYS\"].mean(), 1)) + \n",
    "      \" days shows how skewed the data is.\")"
   ]
  },
  {
   "cell_type": "markdown",
   "metadata": {},
   "source": [
    "**Calculations**\n",
    "\n",
    "\\begin{equation*}\n",
    "ACTIVITY=\\frac{ACTIVEDAYS}{LASTACTIVEDAY.days-INSTALLDATE.days}\n",
    "\\end{equation*}\n",
    "\n",
    "followed by the top 20% = POWER\n",
    "\n",
    "(Players who only played once on their first day are excluded, NaN)"
   ]
  },
  {
   "cell_type": "code",
   "execution_count": 23,
   "metadata": {},
   "outputs": [
    {
     "data": {
      "text/plain": [
       "Index(['ID', 'PORTCITY', 'PIRATE', 'SIGNUPDATE', 'ACTIVEDAYS', 'LASTACTIVEDAY',\n",
       "       'FLEETS', 'STRANGERTIDES', 'ASTEROIDMINING', 'FIRSTCONTACT',\n",
       "       'EVENTHORIZON', 'COLONIES', 'ESCAPEPODRACE', 'ALLIANCES'],\n",
       "      dtype='object')"
      ]
     },
     "execution_count": 23,
     "metadata": {},
     "output_type": "execute_result"
    }
   ],
   "source": [
    "data.columns"
   ]
  },
  {
   "cell_type": "code",
   "execution_count": 24,
   "metadata": {
    "ExecuteTime": {
     "end_time": "2021-06-10T12:09:25.153268Z",
     "start_time": "2021-06-10T12:09:25.128831Z"
    }
   },
   "outputs": [],
   "source": [
    "data[\"ACTIVITY\"] = data['ACTIVEDAYS']/(((data['LASTACTIVEDAY']-data['SIGNUPDATE']).dt.days))"
   ]
  },
  {
   "cell_type": "code",
   "execution_count": 25,
   "metadata": {
    "ExecuteTime": {
     "end_time": "2021-06-10T12:09:25.176935Z",
     "start_time": "2021-06-10T12:09:25.155042Z"
    }
   },
   "outputs": [
    {
     "name": "stdout",
     "output_type": "stream",
     "text": [
      "There are 55976 players who only played one day.\n",
      "Those are 11.2% of all players.\n"
     ]
    }
   ],
   "source": [
    "print(\"There are \" + str(data[\"ACTIVITY\"].isna().sum()) + \n",
    "      \" players who only played one day.\\nThose are \" + str(round(data[\"ACTIVITY\"].isna().sum()/len(data)*100, 1)) + \"% of all players.\")"
   ]
  },
  {
   "cell_type": "code",
   "execution_count": 26,
   "metadata": {
    "ExecuteTime": {
     "end_time": "2021-06-10T12:09:25.196427Z",
     "start_time": "2021-06-10T12:09:25.178884Z"
    }
   },
   "outputs": [
    {
     "data": {
      "text/plain": [
       "0.53125"
      ]
     },
     "execution_count": 26,
     "metadata": {},
     "output_type": "execute_result"
    }
   ],
   "source": [
    "data[\"ACTIVITY\"].quantile(0.8)"
   ]
  },
  {
   "cell_type": "code",
   "execution_count": 27,
   "metadata": {
    "ExecuteTime": {
     "end_time": "2021-06-10T12:09:25.220890Z",
     "start_time": "2021-06-10T12:09:25.198339Z"
    }
   },
   "outputs": [],
   "source": [
    "data[\"S1_POWER\"] = np.where(((data['ACTIVITY'] >= data[\"ACTIVITY\"].quantile(0.8)) & \n",
    "                         (data['ACTIVITY'].isna() == False) ) \n",
    "                       , 1, 0)"
   ]
  },
  {
   "cell_type": "code",
   "execution_count": 28,
   "metadata": {
    "ExecuteTime": {
     "end_time": "2021-06-10T12:09:25.267559Z",
     "start_time": "2021-06-10T12:09:25.222438Z"
    }
   },
   "outputs": [
    {
     "name": "stdout",
     "output_type": "stream",
     "text": [
      "There are 88827 power players who, on average, played about every other day (0.53125).\n",
      "This corresponds to 17.8% of all players, not counting the one-day-wonders.\n"
     ]
    }
   ],
   "source": [
    "print(\"There are \" + str(len(data[data['S1_POWER'] == 1])) + \n",
    "      \" power players who, on average, played about every other day (\" +\n",
    "      str(data[\"ACTIVITY\"].quantile(0.8)) +\n",
    "      \").\\nThis corresponds to \" + \n",
    "      str(round(len(data[data['S1_POWER'] == 1])/len(data)*100, 1)) + \"% of all players, not counting the one-day-wonders.\")"
   ]
  },
  {
   "cell_type": "code",
   "execution_count": 29,
   "metadata": {
    "ExecuteTime": {
     "end_time": "2021-06-10T12:09:25.276672Z",
     "start_time": "2021-06-10T12:09:25.272187Z"
    }
   },
   "outputs": [
    {
     "data": {
      "text/plain": [
       "0    0\n",
       "1    1\n",
       "2    1\n",
       "3    0\n",
       "4    0\n",
       "Name: S1_POWER, dtype: int64"
      ]
     },
     "execution_count": 29,
     "metadata": {},
     "output_type": "execute_result"
    }
   ],
   "source": [
    "data[\"S1_POWER\"].head()"
   ]
  },
  {
   "cell_type": "markdown",
   "metadata": {},
   "source": [
    "## S2: Trial Users\n",
    "\n",
    "Some players might be only using the free trial (pirate Brandy, port West Valerieland).\n",
    "\n",
    "For the sake of the argument, I decided that these players will probably only play 1 day to get an idea of the game before deciding whether to subscribe to it or move on. The trial also does not seem to include loading/saving."
   ]
  },
  {
   "cell_type": "code",
   "execution_count": 30,
   "metadata": {
    "ExecuteTime": {
     "end_time": "2021-06-10T12:09:25.344927Z",
     "start_time": "2021-06-10T12:09:25.279645Z"
    }
   },
   "outputs": [],
   "source": [
    "data[\"S2_DEMO\"] = np.where(((data['PIRATE'] == 'Brandy') & \n",
    "                         (data['PORTCITY'] == 'West Valerieland' ) & \n",
    "                         (data['ACTIVEDAYS'] <= 1)) \n",
    "                       , 1, 0)"
   ]
  },
  {
   "cell_type": "code",
   "execution_count": 31,
   "metadata": {
    "ExecuteTime": {
     "end_time": "2021-06-10T12:09:25.364043Z",
     "start_time": "2021-06-10T12:09:25.346209Z"
    }
   },
   "outputs": [
    {
     "name": "stdout",
     "output_type": "stream",
     "text": [
      "There are 5626 players who are likely demo players.\n",
      "This corresponds to 1.1% of all players.\n"
     ]
    }
   ],
   "source": [
    "print(\"There are \" + str(len(data[data['S2_DEMO'] == 1])) + \n",
    "      \" players who are likely demo players.\\nThis corresponds to \" + \n",
    "      str(round(len(data[data['S2_DEMO'] == 1])/len(data)*100, 1)) + \"% of all players.\")"
   ]
  },
  {
   "cell_type": "markdown",
   "metadata": {},
   "source": [
    "## S3: Active Players\n",
    "\n",
    "These players have played the game within the last month of the most recent date."
   ]
  },
  {
   "cell_type": "markdown",
   "metadata": {},
   "source": [
    "**Calculation**\n",
    "\n",
    "\\begin{equation*}\n",
    "RECENCY=(data.LASTACTIVEDAY.max().date()-1 month <= LASTACTIVEDAY)\n",
    "\\end{equation*}\n",
    "\n",
    "where a player is considered active if they played within the last 1 month of the most recent record."
   ]
  },
  {
   "cell_type": "code",
   "execution_count": 32,
   "metadata": {
    "ExecuteTime": {
     "end_time": "2021-06-10T12:09:25.410690Z",
     "start_time": "2021-06-10T12:09:25.365640Z"
    }
   },
   "outputs": [],
   "source": [
    "data[\"RECENCY\"] = data.LASTACTIVEDAY.max().date()- dateutil.relativedelta.relativedelta(months=1)\n",
    "data[\"RECENCY\"]=data[\"RECENCY\"].astype('datetime64')"
   ]
  },
  {
   "cell_type": "code",
   "execution_count": 33,
   "metadata": {
    "ExecuteTime": {
     "end_time": "2021-06-10T12:09:25.419825Z",
     "start_time": "2021-06-10T12:09:25.411961Z"
    }
   },
   "outputs": [],
   "source": [
    "data[\"S3_ACTIVE\"] = pd.Series(np.where(data['LASTACTIVEDAY'] >= data[\"RECENCY\"], 1, 0), index=data.index)"
   ]
  },
  {
   "cell_type": "code",
   "execution_count": 34,
   "metadata": {
    "ExecuteTime": {
     "end_time": "2021-06-10T12:09:25.425159Z",
     "start_time": "2021-06-10T12:09:25.421260Z"
    }
   },
   "outputs": [
    {
     "data": {
      "text/plain": [
       "0    0\n",
       "1    0\n",
       "2    0\n",
       "3    1\n",
       "4    0\n",
       "Name: S3_ACTIVE, dtype: int64"
      ]
     },
     "execution_count": 34,
     "metadata": {},
     "output_type": "execute_result"
    }
   ],
   "source": [
    "data[\"S3_ACTIVE\"].head()"
   ]
  },
  {
   "cell_type": "code",
   "execution_count": 35,
   "metadata": {
    "ExecuteTime": {
     "end_time": "2021-06-10T12:09:25.477003Z",
     "start_time": "2021-06-10T12:09:25.426638Z"
    }
   },
   "outputs": [
    {
     "name": "stdout",
     "output_type": "stream",
     "text": [
      "There are 73837 players who were active in the month before the most recent date.\n",
      "This corresponds to 14.8% of all players.\n"
     ]
    }
   ],
   "source": [
    "print(\"There are \" + str(len(data[data['S3_ACTIVE'] == 1])) + \n",
    "      \" players who were active in the month before the most recent date.\\nThis corresponds to \" + \n",
    "      str(round(len(data[data['S3_ACTIVE'] == 1])/len(data)*100, 1)) + \"% of all players.\")"
   ]
  },
  {
   "cell_type": "markdown",
   "metadata": {},
   "source": [
    "## S4: Loyal Players"
   ]
  },
  {
   "cell_type": "code",
   "execution_count": 36,
   "metadata": {},
   "outputs": [
    {
     "data": {
      "text/plain": [
       "Index(['ID', 'PORTCITY', 'PIRATE', 'SIGNUPDATE', 'ACTIVEDAYS', 'LASTACTIVEDAY',\n",
       "       'FLEETS', 'STRANGERTIDES', 'ASTEROIDMINING', 'FIRSTCONTACT',\n",
       "       'EVENTHORIZON', 'COLONIES', 'ESCAPEPODRACE', 'ALLIANCES', 'ACTIVITY',\n",
       "       'S1_POWER', 'S2_DEMO', 'RECENCY', 'S3_ACTIVE'],\n",
       "      dtype='object')"
      ]
     },
     "execution_count": 36,
     "metadata": {},
     "output_type": "execute_result"
    }
   ],
   "source": [
    "data.columns"
   ]
  },
  {
   "cell_type": "markdown",
   "metadata": {},
   "source": [
    "Subscribers are considered loyal if they have bought at least one add-on."
   ]
  },
  {
   "cell_type": "code",
   "execution_count": 37,
   "metadata": {
    "ExecuteTime": {
     "end_time": "2021-06-10T12:09:25.556531Z",
     "start_time": "2021-06-10T12:09:25.478833Z"
    }
   },
   "outputs": [],
   "source": [
    "addon = ['FLEETS', 'STRANGERTIDES', 'ASTEROIDMINING', 'FIRSTCONTACT',\n",
    "       'EVENTHORIZON', 'COLONIES', 'ESCAPEPODRACE', 'ALLIANCES']\n",
    "\n",
    "data[\"ADDCOUNT\"] = data[addon].count(axis=1)"
   ]
  },
  {
   "cell_type": "code",
   "execution_count": 38,
   "metadata": {
    "ExecuteTime": {
     "end_time": "2021-06-10T12:09:25.566298Z",
     "start_time": "2021-06-10T12:09:25.558002Z"
    }
   },
   "outputs": [],
   "source": [
    "data[\"S4_LOYAL\"] = np.where(((data['ADDCOUNT'] >= 1) ) \n",
    "                       , 1, 0)"
   ]
  },
  {
   "cell_type": "code",
   "execution_count": 39,
   "metadata": {
    "ExecuteTime": {
     "end_time": "2021-06-10T12:09:25.745243Z",
     "start_time": "2021-06-10T12:09:25.567899Z"
    }
   },
   "outputs": [
    {
     "name": "stdout",
     "output_type": "stream",
     "text": [
      "ADDCOUNT\n",
      "0    300896\n",
      "1    110191\n",
      "2     47032\n",
      "3     17588\n",
      "4     10230\n",
      "5      6311\n",
      "6      4472\n",
      "7      2026\n",
      "8      1254\n",
      "Name: ID, dtype: int64\n"
     ]
    },
    {
     "data": {
      "text/html": [
       "<div>\n",
       "<style scoped>\n",
       "    .dataframe tbody tr th:only-of-type {\n",
       "        vertical-align: middle;\n",
       "    }\n",
       "\n",
       "    .dataframe tbody tr th {\n",
       "        vertical-align: top;\n",
       "    }\n",
       "\n",
       "    .dataframe thead th {\n",
       "        text-align: right;\n",
       "    }\n",
       "</style>\n",
       "<table border=\"1\" class=\"dataframe\">\n",
       "  <thead>\n",
       "    <tr style=\"text-align: right;\">\n",
       "      <th></th>\n",
       "      <th>ID</th>\n",
       "      <th>PORTCITY</th>\n",
       "      <th>PIRATE</th>\n",
       "      <th>SIGNUPDATE</th>\n",
       "      <th>ACTIVEDAYS</th>\n",
       "      <th>LASTACTIVEDAY</th>\n",
       "      <th>FLEETS</th>\n",
       "      <th>STRANGERTIDES</th>\n",
       "      <th>ASTEROIDMINING</th>\n",
       "      <th>FIRSTCONTACT</th>\n",
       "      <th>...</th>\n",
       "      <th>COLONIES</th>\n",
       "      <th>ESCAPEPODRACE</th>\n",
       "      <th>ALLIANCES</th>\n",
       "      <th>ACTIVITY</th>\n",
       "      <th>S1_POWER</th>\n",
       "      <th>S2_DEMO</th>\n",
       "      <th>RECENCY</th>\n",
       "      <th>S3_ACTIVE</th>\n",
       "      <th>ADDCOUNT</th>\n",
       "      <th>S4_LOYAL</th>\n",
       "    </tr>\n",
       "  </thead>\n",
       "  <tbody>\n",
       "    <tr>\n",
       "      <th>316988</th>\n",
       "      <td>316988</td>\n",
       "      <td>New Ashleytown</td>\n",
       "      <td>Algot</td>\n",
       "      <td>2017-06-12</td>\n",
       "      <td>112</td>\n",
       "      <td>2020-02-22</td>\n",
       "      <td>2017-06-12</td>\n",
       "      <td>2017-06-12</td>\n",
       "      <td>2017-06-12</td>\n",
       "      <td>2019-07-02</td>\n",
       "      <td>...</td>\n",
       "      <td>2017-06-12</td>\n",
       "      <td>2018-06-26</td>\n",
       "      <td>2017-06-12</td>\n",
       "      <td>0.113706</td>\n",
       "      <td>0</td>\n",
       "      <td>0</td>\n",
       "      <td>2020-01-22</td>\n",
       "      <td>1</td>\n",
       "      <td>8</td>\n",
       "      <td>1</td>\n",
       "    </tr>\n",
       "    <tr>\n",
       "      <th>220342</th>\n",
       "      <td>220342</td>\n",
       "      <td>West Andrewbury</td>\n",
       "      <td>Arline</td>\n",
       "      <td>2018-03-26</td>\n",
       "      <td>71</td>\n",
       "      <td>2019-11-04</td>\n",
       "      <td>2018-03-26</td>\n",
       "      <td>2018-03-26</td>\n",
       "      <td>2018-03-26</td>\n",
       "      <td>2019-07-16</td>\n",
       "      <td>...</td>\n",
       "      <td>2018-03-26</td>\n",
       "      <td>2018-06-27</td>\n",
       "      <td>2018-03-26</td>\n",
       "      <td>0.120748</td>\n",
       "      <td>0</td>\n",
       "      <td>0</td>\n",
       "      <td>2020-01-22</td>\n",
       "      <td>0</td>\n",
       "      <td>8</td>\n",
       "      <td>1</td>\n",
       "    </tr>\n",
       "    <tr>\n",
       "      <th>457139</th>\n",
       "      <td>457139</td>\n",
       "      <td>New Ashleytown</td>\n",
       "      <td>Algot</td>\n",
       "      <td>2017-03-27</td>\n",
       "      <td>49</td>\n",
       "      <td>2020-02-03</td>\n",
       "      <td>2017-03-27</td>\n",
       "      <td>2017-03-27</td>\n",
       "      <td>2017-03-27</td>\n",
       "      <td>2019-07-01</td>\n",
       "      <td>...</td>\n",
       "      <td>2017-03-27</td>\n",
       "      <td>2019-02-05</td>\n",
       "      <td>2017-03-27</td>\n",
       "      <td>0.046980</td>\n",
       "      <td>0</td>\n",
       "      <td>0</td>\n",
       "      <td>2020-01-22</td>\n",
       "      <td>1</td>\n",
       "      <td>8</td>\n",
       "      <td>1</td>\n",
       "    </tr>\n",
       "    <tr>\n",
       "      <th>59844</th>\n",
       "      <td>59844</td>\n",
       "      <td>New Kathleenport</td>\n",
       "      <td>Else</td>\n",
       "      <td>2019-07-03</td>\n",
       "      <td>66</td>\n",
       "      <td>2020-02-13</td>\n",
       "      <td>2019-07-03</td>\n",
       "      <td>2019-07-03</td>\n",
       "      <td>2019-07-03</td>\n",
       "      <td>2020-01-10</td>\n",
       "      <td>...</td>\n",
       "      <td>2019-07-03</td>\n",
       "      <td>2019-07-03</td>\n",
       "      <td>2019-07-03</td>\n",
       "      <td>0.293333</td>\n",
       "      <td>0</td>\n",
       "      <td>0</td>\n",
       "      <td>2020-01-22</td>\n",
       "      <td>1</td>\n",
       "      <td>8</td>\n",
       "      <td>1</td>\n",
       "    </tr>\n",
       "    <tr>\n",
       "      <th>14572</th>\n",
       "      <td>14572</td>\n",
       "      <td>West Steven</td>\n",
       "      <td>Ahmad</td>\n",
       "      <td>2017-03-06</td>\n",
       "      <td>120</td>\n",
       "      <td>2020-02-15</td>\n",
       "      <td>2017-03-06</td>\n",
       "      <td>2017-03-06</td>\n",
       "      <td>2017-03-06</td>\n",
       "      <td>2019-07-01</td>\n",
       "      <td>...</td>\n",
       "      <td>2017-03-06</td>\n",
       "      <td>2018-12-03</td>\n",
       "      <td>2017-03-06</td>\n",
       "      <td>0.111524</td>\n",
       "      <td>0</td>\n",
       "      <td>0</td>\n",
       "      <td>2020-01-22</td>\n",
       "      <td>1</td>\n",
       "      <td>8</td>\n",
       "      <td>1</td>\n",
       "    </tr>\n",
       "  </tbody>\n",
       "</table>\n",
       "<p>5 rows × 21 columns</p>\n",
       "</div>"
      ],
      "text/plain": [
       "            ID          PORTCITY  PIRATE SIGNUPDATE  ACTIVEDAYS LASTACTIVEDAY  \\\n",
       "316988  316988    New Ashleytown   Algot 2017-06-12         112    2020-02-22   \n",
       "220342  220342   West Andrewbury  Arline 2018-03-26          71    2019-11-04   \n",
       "457139  457139    New Ashleytown   Algot 2017-03-27          49    2020-02-03   \n",
       "59844    59844  New Kathleenport    Else 2019-07-03          66    2020-02-13   \n",
       "14572    14572       West Steven   Ahmad 2017-03-06         120    2020-02-15   \n",
       "\n",
       "           FLEETS STRANGERTIDES ASTEROIDMINING FIRSTCONTACT  ...   COLONIES  \\\n",
       "316988 2017-06-12    2017-06-12     2017-06-12   2019-07-02  ... 2017-06-12   \n",
       "220342 2018-03-26    2018-03-26     2018-03-26   2019-07-16  ... 2018-03-26   \n",
       "457139 2017-03-27    2017-03-27     2017-03-27   2019-07-01  ... 2017-03-27   \n",
       "59844  2019-07-03    2019-07-03     2019-07-03   2020-01-10  ... 2019-07-03   \n",
       "14572  2017-03-06    2017-03-06     2017-03-06   2019-07-01  ... 2017-03-06   \n",
       "\n",
       "       ESCAPEPODRACE  ALLIANCES  ACTIVITY  S1_POWER  S2_DEMO    RECENCY  \\\n",
       "316988    2018-06-26 2017-06-12  0.113706         0        0 2020-01-22   \n",
       "220342    2018-06-27 2018-03-26  0.120748         0        0 2020-01-22   \n",
       "457139    2019-02-05 2017-03-27  0.046980         0        0 2020-01-22   \n",
       "59844     2019-07-03 2019-07-03  0.293333         0        0 2020-01-22   \n",
       "14572     2018-12-03 2017-03-06  0.111524         0        0 2020-01-22   \n",
       "\n",
       "       S3_ACTIVE  ADDCOUNT  S4_LOYAL  \n",
       "316988         1         8         1  \n",
       "220342         0         8         1  \n",
       "457139         1         8         1  \n",
       "59844          1         8         1  \n",
       "14572          1         8         1  \n",
       "\n",
       "[5 rows x 21 columns]"
      ]
     },
     "execution_count": 39,
     "metadata": {},
     "output_type": "execute_result"
    }
   ],
   "source": [
    "print(data.groupby('ADDCOUNT')['ID'].nunique())\n",
    "\n",
    "data.sort_values(\"ADDCOUNT\", ascending=False).head()"
   ]
  },
  {
   "cell_type": "code",
   "execution_count": 40,
   "metadata": {
    "ExecuteTime": {
     "end_time": "2021-06-10T12:09:25.807700Z",
     "start_time": "2021-06-10T12:09:25.749626Z"
    }
   },
   "outputs": [
    {
     "name": "stdout",
     "output_type": "stream",
     "text": [
      "There are 199104 players who own at least 1 out of the 8 add-ons of the game.\n",
      "This corresponds to 39.8% of all players.\n",
      "A total of 380540 add-ons were bought and 1254 players have bought all 8 of them.\n"
     ]
    }
   ],
   "source": [
    "print(\"There are \" + str(len(data[data['S4_LOYAL'] == 1])) + \n",
    "      \" players who own at least 1 out of the 8 add-ons of the game.\\nThis corresponds to \" + \n",
    "      str(round(len(data[data['S4_LOYAL'] == 1])/len(data)*100, 1)) + \"% of all players.\\nA total of \" + \n",
    "      str(data[\"ADDCOUNT\"].sum()) + \" add-ons were bought and \"+\n",
    "     str(len(data[data['ADDCOUNT'] == 8])) +\n",
    "      \" players have bought all 8 of them.\"\n",
    "     )"
   ]
  },
  {
   "cell_type": "markdown",
   "metadata": {
    "ExecuteTime": {
     "end_time": "2021-06-05T10:42:53.223388Z",
     "start_time": "2021-06-05T10:42:48.019636Z"
    }
   },
   "source": [
    "## S5: Modding\n",
    "\n",
    "In the original task, this section included fuzzy matching using the fuzzywuzzy library and external sources. For simplicity, this section is omitted here resulting in **S5_Modders** being missing in the evaluation."
   ]
  },
  {
   "cell_type": "markdown",
   "metadata": {},
   "source": [
    "### List of Original Pirates and Port Cities"
   ]
  },
  {
   "cell_type": "raw",
   "metadata": {
    "ExecuteTime": {
     "end_time": "2021-06-10T12:09:25.820691Z",
     "start_time": "2021-06-10T12:09:25.814428Z"
    }
   },
   "source": [
    "load and clean the list"
   ]
  },
  {
   "cell_type": "markdown",
   "metadata": {},
   "source": [
    "### Fuzzy Matching with Pirates/Cities in Dataset; Removing Possible Mods"
   ]
  },
  {
   "cell_type": "raw",
   "metadata": {
    "ExecuteTime": {
     "end_time": "2021-06-10T12:15:23.270293Z",
     "start_time": "2021-06-10T12:09:25.900530Z"
    }
   },
   "source": [
    "matching if 90< match"
   ]
  },
  {
   "cell_type": "markdown",
   "metadata": {},
   "source": [
    "### Get Players using Mods"
   ]
  },
  {
   "cell_type": "raw",
   "metadata": {
    "ExecuteTime": {
     "end_time": "2021-06-10T12:22:21.553879Z",
     "start_time": "2021-06-10T12:22:21.497819Z"
    }
   },
   "source": [
    "set modding players to 1 and create new segment: S5_Modders"
   ]
  },
  {
   "cell_type": "markdown",
   "metadata": {},
   "source": [
    "## S6: Early Adopters\n",
    "\n",
    "In this category players who started playing within the first month of the game's official release are found."
   ]
  },
  {
   "cell_type": "markdown",
   "metadata": {},
   "source": [
    "**Calculation**\n",
    "\n",
    "\\begin{equation*}\n",
    "EARLY=(data.INSTALLDATE.date()<= release date + 15 days)\n",
    "\\end{equation*}"
   ]
  },
  {
   "cell_type": "code",
   "execution_count": 41,
   "metadata": {
    "ExecuteTime": {
     "end_time": "2021-06-10T12:22:22.063093Z",
     "start_time": "2021-06-10T12:22:22.051624Z"
    }
   },
   "outputs": [],
   "source": [
    "release = dt.datetime(2017, 3,7, 0, 0)\n",
    "\n",
    "data[\"EARLY\"] = release + dateutil.relativedelta.relativedelta(days=15)\n",
    "data[\"EARLY\"]=data[\"EARLY\"].astype('datetime64')"
   ]
  },
  {
   "cell_type": "code",
   "execution_count": 42,
   "metadata": {
    "ExecuteTime": {
     "end_time": "2021-06-10T12:22:22.072934Z",
     "start_time": "2021-06-10T12:22:22.064839Z"
    }
   },
   "outputs": [],
   "source": [
    "data[\"S6_EARLY\"] = pd.Series(np.where(data['SIGNUPDATE'] <= data[\"EARLY\"], 1, 0), index=data.index)"
   ]
  },
  {
   "cell_type": "code",
   "execution_count": 43,
   "metadata": {
    "ExecuteTime": {
     "end_time": "2021-06-10T12:22:22.336962Z",
     "start_time": "2021-06-10T12:22:22.074975Z"
    }
   },
   "outputs": [
    {
     "name": "stdout",
     "output_type": "stream",
     "text": [
      "S6_EARLY\n",
      "0    408444\n",
      "1     91556\n",
      "Name: ID, dtype: int64\n"
     ]
    },
    {
     "data": {
      "text/html": [
       "<div>\n",
       "<style scoped>\n",
       "    .dataframe tbody tr th:only-of-type {\n",
       "        vertical-align: middle;\n",
       "    }\n",
       "\n",
       "    .dataframe tbody tr th {\n",
       "        vertical-align: top;\n",
       "    }\n",
       "\n",
       "    .dataframe thead th {\n",
       "        text-align: right;\n",
       "    }\n",
       "</style>\n",
       "<table border=\"1\" class=\"dataframe\">\n",
       "  <thead>\n",
       "    <tr style=\"text-align: right;\">\n",
       "      <th></th>\n",
       "      <th>ID</th>\n",
       "      <th>PORTCITY</th>\n",
       "      <th>PIRATE</th>\n",
       "      <th>SIGNUPDATE</th>\n",
       "      <th>ACTIVEDAYS</th>\n",
       "      <th>LASTACTIVEDAY</th>\n",
       "      <th>FLEETS</th>\n",
       "      <th>STRANGERTIDES</th>\n",
       "      <th>ASTEROIDMINING</th>\n",
       "      <th>FIRSTCONTACT</th>\n",
       "      <th>...</th>\n",
       "      <th>ALLIANCES</th>\n",
       "      <th>ACTIVITY</th>\n",
       "      <th>S1_POWER</th>\n",
       "      <th>S2_DEMO</th>\n",
       "      <th>RECENCY</th>\n",
       "      <th>S3_ACTIVE</th>\n",
       "      <th>ADDCOUNT</th>\n",
       "      <th>S4_LOYAL</th>\n",
       "      <th>EARLY</th>\n",
       "      <th>S6_EARLY</th>\n",
       "    </tr>\n",
       "  </thead>\n",
       "  <tbody>\n",
       "    <tr>\n",
       "      <th>1268</th>\n",
       "      <td>1268</td>\n",
       "      <td>Parksport</td>\n",
       "      <td>Press</td>\n",
       "      <td>2017-01-07</td>\n",
       "      <td>41</td>\n",
       "      <td>2020-01-21</td>\n",
       "      <td>NaT</td>\n",
       "      <td>NaT</td>\n",
       "      <td>NaT</td>\n",
       "      <td>2019-08-10</td>\n",
       "      <td>...</td>\n",
       "      <td>NaT</td>\n",
       "      <td>0.036970</td>\n",
       "      <td>0</td>\n",
       "      <td>0</td>\n",
       "      <td>2020-01-22</td>\n",
       "      <td>0</td>\n",
       "      <td>2</td>\n",
       "      <td>1</td>\n",
       "      <td>2017-03-22</td>\n",
       "      <td>1</td>\n",
       "    </tr>\n",
       "    <tr>\n",
       "      <th>1271</th>\n",
       "      <td>1271</td>\n",
       "      <td>New Kathleenport</td>\n",
       "      <td>Else</td>\n",
       "      <td>2017-01-08</td>\n",
       "      <td>48</td>\n",
       "      <td>2017-03-24</td>\n",
       "      <td>NaT</td>\n",
       "      <td>NaT</td>\n",
       "      <td>NaT</td>\n",
       "      <td>NaT</td>\n",
       "      <td>...</td>\n",
       "      <td>NaT</td>\n",
       "      <td>0.640000</td>\n",
       "      <td>1</td>\n",
       "      <td>0</td>\n",
       "      <td>2020-01-22</td>\n",
       "      <td>0</td>\n",
       "      <td>0</td>\n",
       "      <td>0</td>\n",
       "      <td>2017-03-22</td>\n",
       "      <td>1</td>\n",
       "    </tr>\n",
       "    <tr>\n",
       "      <th>1270</th>\n",
       "      <td>1270</td>\n",
       "      <td>West Andrewbury</td>\n",
       "      <td>Arline</td>\n",
       "      <td>2017-01-08</td>\n",
       "      <td>74</td>\n",
       "      <td>2019-11-02</td>\n",
       "      <td>NaT</td>\n",
       "      <td>NaT</td>\n",
       "      <td>2017-01-08</td>\n",
       "      <td>2019-04-15</td>\n",
       "      <td>...</td>\n",
       "      <td>NaT</td>\n",
       "      <td>0.071984</td>\n",
       "      <td>0</td>\n",
       "      <td>0</td>\n",
       "      <td>2020-01-22</td>\n",
       "      <td>0</td>\n",
       "      <td>2</td>\n",
       "      <td>1</td>\n",
       "      <td>2017-03-22</td>\n",
       "      <td>1</td>\n",
       "    </tr>\n",
       "    <tr>\n",
       "      <th>1269</th>\n",
       "      <td>1269</td>\n",
       "      <td>South Laurieborough</td>\n",
       "      <td>Rhona</td>\n",
       "      <td>2017-01-08</td>\n",
       "      <td>6</td>\n",
       "      <td>2017-03-13</td>\n",
       "      <td>NaT</td>\n",
       "      <td>NaT</td>\n",
       "      <td>NaT</td>\n",
       "      <td>NaT</td>\n",
       "      <td>...</td>\n",
       "      <td>NaT</td>\n",
       "      <td>0.093750</td>\n",
       "      <td>0</td>\n",
       "      <td>0</td>\n",
       "      <td>2020-01-22</td>\n",
       "      <td>0</td>\n",
       "      <td>0</td>\n",
       "      <td>0</td>\n",
       "      <td>2017-03-22</td>\n",
       "      <td>1</td>\n",
       "    </tr>\n",
       "    <tr>\n",
       "      <th>1273</th>\n",
       "      <td>1273</td>\n",
       "      <td>West Elizabethtown</td>\n",
       "      <td>Ione</td>\n",
       "      <td>2017-01-09</td>\n",
       "      <td>159</td>\n",
       "      <td>2020-02-14</td>\n",
       "      <td>2017-01-09</td>\n",
       "      <td>2017-01-09</td>\n",
       "      <td>2017-01-09</td>\n",
       "      <td>2019-02-11</td>\n",
       "      <td>...</td>\n",
       "      <td>2017-01-09</td>\n",
       "      <td>0.140584</td>\n",
       "      <td>0</td>\n",
       "      <td>0</td>\n",
       "      <td>2020-01-22</td>\n",
       "      <td>1</td>\n",
       "      <td>8</td>\n",
       "      <td>1</td>\n",
       "      <td>2017-03-22</td>\n",
       "      <td>1</td>\n",
       "    </tr>\n",
       "  </tbody>\n",
       "</table>\n",
       "<p>5 rows × 23 columns</p>\n",
       "</div>"
      ],
      "text/plain": [
       "        ID             PORTCITY  PIRATE SIGNUPDATE  ACTIVEDAYS LASTACTIVEDAY  \\\n",
       "1268  1268            Parksport   Press 2017-01-07          41    2020-01-21   \n",
       "1271  1271     New Kathleenport    Else 2017-01-08          48    2017-03-24   \n",
       "1270  1270      West Andrewbury  Arline 2017-01-08          74    2019-11-02   \n",
       "1269  1269  South Laurieborough   Rhona 2017-01-08           6    2017-03-13   \n",
       "1273  1273   West Elizabethtown    Ione 2017-01-09         159    2020-02-14   \n",
       "\n",
       "         FLEETS STRANGERTIDES ASTEROIDMINING FIRSTCONTACT  ...  ALLIANCES  \\\n",
       "1268        NaT           NaT            NaT   2019-08-10  ...        NaT   \n",
       "1271        NaT           NaT            NaT          NaT  ...        NaT   \n",
       "1270        NaT           NaT     2017-01-08   2019-04-15  ...        NaT   \n",
       "1269        NaT           NaT            NaT          NaT  ...        NaT   \n",
       "1273 2017-01-09    2017-01-09     2017-01-09   2019-02-11  ... 2017-01-09   \n",
       "\n",
       "      ACTIVITY S1_POWER S2_DEMO    RECENCY  S3_ACTIVE  ADDCOUNT S4_LOYAL  \\\n",
       "1268  0.036970        0       0 2020-01-22          0         2        1   \n",
       "1271  0.640000        1       0 2020-01-22          0         0        0   \n",
       "1270  0.071984        0       0 2020-01-22          0         2        1   \n",
       "1269  0.093750        0       0 2020-01-22          0         0        0   \n",
       "1273  0.140584        0       0 2020-01-22          1         8        1   \n",
       "\n",
       "          EARLY  S6_EARLY  \n",
       "1268 2017-03-22         1  \n",
       "1271 2017-03-22         1  \n",
       "1270 2017-03-22         1  \n",
       "1269 2017-03-22         1  \n",
       "1273 2017-03-22         1  \n",
       "\n",
       "[5 rows x 23 columns]"
      ]
     },
     "execution_count": 43,
     "metadata": {},
     "output_type": "execute_result"
    }
   ],
   "source": [
    "print(data.groupby('S6_EARLY')['ID'].nunique())\n",
    "\n",
    "data.sort_values(\"SIGNUPDATE\", ascending=True).head()"
   ]
  },
  {
   "cell_type": "code",
   "execution_count": 44,
   "metadata": {
    "ExecuteTime": {
     "end_time": "2021-06-10T12:22:22.382754Z",
     "start_time": "2021-06-10T12:22:22.340478Z"
    }
   },
   "outputs": [
    {
     "name": "stdout",
     "output_type": "stream",
     "text": [
      "There are 91556 players who subscribed to the game within 1 month of its release.\n",
      "This corresponds to 18.3% of all players.\n"
     ]
    }
   ],
   "source": [
    "print(\"There are \" + str(len(data[data['S6_EARLY'] == 1])) + \n",
    "      \" players who subscribed to the game within 1 month of its release.\\nThis corresponds to \" + \n",
    "      str(round(len(data[data['S6_EARLY'] == 1])/len(data)*100, 1)) + \"% of all players.\")"
   ]
  },
  {
   "cell_type": "markdown",
   "metadata": {},
   "source": [
    "## S7: Others\n",
    "\n",
    "These are all the subscribers that didn't make it into any of the other groups.\n",
    "\n",
    "Due to S5 being excluded in this notebook, more subscribers ended up in S7 than in the original task."
   ]
  },
  {
   "cell_type": "code",
   "execution_count": 45,
   "metadata": {
    "ExecuteTime": {
     "end_time": "2021-06-10T12:22:22.445343Z",
     "start_time": "2021-06-10T12:22:22.384803Z"
    }
   },
   "outputs": [],
   "source": [
    "segments = ['S1_POWER', 'S2_DEMO', 'S3_ACTIVE',\n",
    "            'S4_LOYAL', 'S6_EARLY']\n",
    "\n",
    "data[\"INSEGMENTS\"] = data[segments].sum(axis=1)"
   ]
  },
  {
   "cell_type": "code",
   "execution_count": 46,
   "metadata": {
    "ExecuteTime": {
     "end_time": "2021-06-10T12:22:22.457237Z",
     "start_time": "2021-06-10T12:22:22.447660Z"
    }
   },
   "outputs": [],
   "source": [
    "data[\"S7_OTHERS\"] = np.where(((data['INSEGMENTS'] == 0) ) \n",
    "                       , 1, 0)"
   ]
  },
  {
   "cell_type": "code",
   "execution_count": 47,
   "metadata": {
    "ExecuteTime": {
     "end_time": "2021-06-10T12:22:22.474820Z",
     "start_time": "2021-06-10T12:22:22.466398Z"
    },
    "scrolled": true
   },
   "outputs": [
    {
     "data": {
      "text/plain": [
       "0         1\n",
       "1         0\n",
       "2         0\n",
       "3         0\n",
       "4         0\n",
       "         ..\n",
       "499995    1\n",
       "499996    1\n",
       "499997    0\n",
       "499998    0\n",
       "499999    1\n",
       "Name: S7_OTHERS, Length: 500000, dtype: int64"
      ]
     },
     "execution_count": 47,
     "metadata": {},
     "output_type": "execute_result"
    }
   ],
   "source": [
    "data[\"S7_OTHERS\"]"
   ]
  },
  {
   "cell_type": "code",
   "execution_count": 48,
   "metadata": {
    "ExecuteTime": {
     "end_time": "2021-06-10T12:22:22.827247Z",
     "start_time": "2021-06-10T12:22:22.478105Z"
    }
   },
   "outputs": [
    {
     "name": "stdout",
     "output_type": "stream",
     "text": [
      "INSEGMENTS\n",
      "0    168724\n",
      "1    218837\n",
      "2     97436\n",
      "3     14771\n",
      "4       232\n",
      "Name: ID, dtype: int64\n"
     ]
    },
    {
     "data": {
      "text/html": [
       "<div>\n",
       "<style scoped>\n",
       "    .dataframe tbody tr th:only-of-type {\n",
       "        vertical-align: middle;\n",
       "    }\n",
       "\n",
       "    .dataframe tbody tr th {\n",
       "        vertical-align: top;\n",
       "    }\n",
       "\n",
       "    .dataframe thead th {\n",
       "        text-align: right;\n",
       "    }\n",
       "</style>\n",
       "<table border=\"1\" class=\"dataframe\">\n",
       "  <thead>\n",
       "    <tr style=\"text-align: right;\">\n",
       "      <th></th>\n",
       "      <th>ID</th>\n",
       "      <th>PORTCITY</th>\n",
       "      <th>PIRATE</th>\n",
       "      <th>SIGNUPDATE</th>\n",
       "      <th>ACTIVEDAYS</th>\n",
       "      <th>LASTACTIVEDAY</th>\n",
       "      <th>FLEETS</th>\n",
       "      <th>STRANGERTIDES</th>\n",
       "      <th>ASTEROIDMINING</th>\n",
       "      <th>FIRSTCONTACT</th>\n",
       "      <th>...</th>\n",
       "      <th>S1_POWER</th>\n",
       "      <th>S2_DEMO</th>\n",
       "      <th>RECENCY</th>\n",
       "      <th>S3_ACTIVE</th>\n",
       "      <th>ADDCOUNT</th>\n",
       "      <th>S4_LOYAL</th>\n",
       "      <th>EARLY</th>\n",
       "      <th>S6_EARLY</th>\n",
       "      <th>INSEGMENTS</th>\n",
       "      <th>S7_OTHERS</th>\n",
       "    </tr>\n",
       "  </thead>\n",
       "  <tbody>\n",
       "    <tr>\n",
       "      <th>486842</th>\n",
       "      <td>486842</td>\n",
       "      <td>East Derek</td>\n",
       "      <td>Ashly</td>\n",
       "      <td>2017-03-07</td>\n",
       "      <td>697</td>\n",
       "      <td>2020-02-12</td>\n",
       "      <td>NaT</td>\n",
       "      <td>NaT</td>\n",
       "      <td>NaT</td>\n",
       "      <td>2019-07-01</td>\n",
       "      <td>...</td>\n",
       "      <td>1</td>\n",
       "      <td>0</td>\n",
       "      <td>2020-01-22</td>\n",
       "      <td>1</td>\n",
       "      <td>2</td>\n",
       "      <td>1</td>\n",
       "      <td>2017-03-22</td>\n",
       "      <td>1</td>\n",
       "      <td>4</td>\n",
       "      <td>0</td>\n",
       "    </tr>\n",
       "    <tr>\n",
       "      <th>69001</th>\n",
       "      <td>69001</td>\n",
       "      <td>North Ericamouth</td>\n",
       "      <td>Shirlene</td>\n",
       "      <td>2017-03-10</td>\n",
       "      <td>1056</td>\n",
       "      <td>2020-02-20</td>\n",
       "      <td>2017-03-10</td>\n",
       "      <td>2017-03-10</td>\n",
       "      <td>2017-03-10</td>\n",
       "      <td>NaT</td>\n",
       "      <td>...</td>\n",
       "      <td>1</td>\n",
       "      <td>0</td>\n",
       "      <td>2020-01-22</td>\n",
       "      <td>1</td>\n",
       "      <td>6</td>\n",
       "      <td>1</td>\n",
       "      <td>2017-03-22</td>\n",
       "      <td>1</td>\n",
       "      <td>4</td>\n",
       "      <td>0</td>\n",
       "    </tr>\n",
       "    <tr>\n",
       "      <th>63124</th>\n",
       "      <td>63124</td>\n",
       "      <td>East Derek</td>\n",
       "      <td>Ashly</td>\n",
       "      <td>2017-03-06</td>\n",
       "      <td>763</td>\n",
       "      <td>2020-02-11</td>\n",
       "      <td>NaT</td>\n",
       "      <td>2017-03-06</td>\n",
       "      <td>2017-03-06</td>\n",
       "      <td>2019-07-05</td>\n",
       "      <td>...</td>\n",
       "      <td>1</td>\n",
       "      <td>0</td>\n",
       "      <td>2020-01-22</td>\n",
       "      <td>1</td>\n",
       "      <td>7</td>\n",
       "      <td>1</td>\n",
       "      <td>2017-03-22</td>\n",
       "      <td>1</td>\n",
       "      <td>4</td>\n",
       "      <td>0</td>\n",
       "    </tr>\n",
       "    <tr>\n",
       "      <th>325381</th>\n",
       "      <td>325381</td>\n",
       "      <td>West Darlene</td>\n",
       "      <td>Kara</td>\n",
       "      <td>2017-03-08</td>\n",
       "      <td>601</td>\n",
       "      <td>2020-02-22</td>\n",
       "      <td>2017-03-08</td>\n",
       "      <td>2017-03-08</td>\n",
       "      <td>2017-03-08</td>\n",
       "      <td>2019-07-01</td>\n",
       "      <td>...</td>\n",
       "      <td>1</td>\n",
       "      <td>0</td>\n",
       "      <td>2020-01-22</td>\n",
       "      <td>1</td>\n",
       "      <td>7</td>\n",
       "      <td>1</td>\n",
       "      <td>2017-03-22</td>\n",
       "      <td>1</td>\n",
       "      <td>4</td>\n",
       "      <td>0</td>\n",
       "    </tr>\n",
       "    <tr>\n",
       "      <th>29220</th>\n",
       "      <td>29220</td>\n",
       "      <td>North Ericamouth</td>\n",
       "      <td>Shirlene</td>\n",
       "      <td>2017-03-09</td>\n",
       "      <td>636</td>\n",
       "      <td>2020-02-22</td>\n",
       "      <td>NaT</td>\n",
       "      <td>NaT</td>\n",
       "      <td>NaT</td>\n",
       "      <td>2019-07-01</td>\n",
       "      <td>...</td>\n",
       "      <td>1</td>\n",
       "      <td>0</td>\n",
       "      <td>2020-01-22</td>\n",
       "      <td>1</td>\n",
       "      <td>3</td>\n",
       "      <td>1</td>\n",
       "      <td>2017-03-22</td>\n",
       "      <td>1</td>\n",
       "      <td>4</td>\n",
       "      <td>0</td>\n",
       "    </tr>\n",
       "  </tbody>\n",
       "</table>\n",
       "<p>5 rows × 25 columns</p>\n",
       "</div>"
      ],
      "text/plain": [
       "            ID          PORTCITY    PIRATE SIGNUPDATE  ACTIVEDAYS  \\\n",
       "486842  486842        East Derek     Ashly 2017-03-07         697   \n",
       "69001    69001  North Ericamouth  Shirlene 2017-03-10        1056   \n",
       "63124    63124        East Derek     Ashly 2017-03-06         763   \n",
       "325381  325381      West Darlene      Kara 2017-03-08         601   \n",
       "29220    29220  North Ericamouth  Shirlene 2017-03-09         636   \n",
       "\n",
       "       LASTACTIVEDAY     FLEETS STRANGERTIDES ASTEROIDMINING FIRSTCONTACT  \\\n",
       "486842    2020-02-12        NaT           NaT            NaT   2019-07-01   \n",
       "69001     2020-02-20 2017-03-10    2017-03-10     2017-03-10          NaT   \n",
       "63124     2020-02-11        NaT    2017-03-06     2017-03-06   2019-07-05   \n",
       "325381    2020-02-22 2017-03-08    2017-03-08     2017-03-08   2019-07-01   \n",
       "29220     2020-02-22        NaT           NaT            NaT   2019-07-01   \n",
       "\n",
       "        ... S1_POWER S2_DEMO    RECENCY S3_ACTIVE  ADDCOUNT  S4_LOYAL  \\\n",
       "486842  ...        1       0 2020-01-22         1         2         1   \n",
       "69001   ...        1       0 2020-01-22         1         6         1   \n",
       "63124   ...        1       0 2020-01-22         1         7         1   \n",
       "325381  ...        1       0 2020-01-22         1         7         1   \n",
       "29220   ...        1       0 2020-01-22         1         3         1   \n",
       "\n",
       "            EARLY S6_EARLY  INSEGMENTS  S7_OTHERS  \n",
       "486842 2017-03-22        1           4          0  \n",
       "69001  2017-03-22        1           4          0  \n",
       "63124  2017-03-22        1           4          0  \n",
       "325381 2017-03-22        1           4          0  \n",
       "29220  2017-03-22        1           4          0  \n",
       "\n",
       "[5 rows x 25 columns]"
      ]
     },
     "execution_count": 48,
     "metadata": {},
     "output_type": "execute_result"
    }
   ],
   "source": [
    "print(data.groupby('INSEGMENTS')['ID'].nunique())\n",
    "\n",
    "data.sort_values(\"INSEGMENTS\", ascending=False).head()"
   ]
  },
  {
   "cell_type": "code",
   "execution_count": 49,
   "metadata": {
    "ExecuteTime": {
     "end_time": "2021-06-10T12:22:23.003639Z",
     "start_time": "2021-06-10T12:22:22.829172Z"
    }
   },
   "outputs": [
    {
     "name": "stdout",
     "output_type": "stream",
     "text": [
      "There are still 168724 players who can't properly be targeted using the intuitive segmentation approach.\n",
      "This corresponds to 33.7% of all players.\n",
      "On the other hand, 112439 players, or 22.5% of all players are in 2 or more segments.\n"
     ]
    }
   ],
   "source": [
    "print(\"There are still \" + str(len(data[data['S7_OTHERS'] == 1])) + \n",
    "      \" players who can't properly be targeted using the intuitive segmentation approach.\\nThis corresponds to \" + \n",
    "      str(round(len(data[data['S7_OTHERS'] == 1])/len(data)*100, 1)) + \"% of all players.\\nOn the other hand, \" +\n",
    "     str((len(data))-len(data[data['INSEGMENTS'] <2])) +\n",
    "      \" players, or \" + str(\n",
    "          round(\n",
    "              (len(data)-len(data[data['INSEGMENTS'] < 2]))/len(data)*100, 1)) +\n",
    "      \"% of all players are in 2 or more segments.\"\n",
    "     )"
   ]
  },
  {
   "cell_type": "markdown",
   "metadata": {},
   "source": [
    "## Summary of Segments"
   ]
  },
  {
   "cell_type": "code",
   "execution_count": 50,
   "metadata": {
    "ExecuteTime": {
     "end_time": "2021-06-10T12:22:23.008443Z",
     "start_time": "2021-06-10T12:22:23.005539Z"
    }
   },
   "outputs": [],
   "source": [
    "segments = ['S1_POWER', 'S2_DEMO', 'S3_ACTIVE', 'S4_LOYAL', 'S6_EARLY', 'S7_OTHERS']"
   ]
  },
  {
   "cell_type": "code",
   "execution_count": 51,
   "metadata": {
    "ExecuteTime": {
     "end_time": "2021-06-10T12:22:23.079879Z",
     "start_time": "2021-06-10T12:22:23.015097Z"
    }
   },
   "outputs": [],
   "source": [
    "segment=data[segments].apply(pd.value_counts)\n",
    "segment.reindex([1,0])\n",
    "segment.rename(index={1:'IN', 0: 'OUT'}, inplace=True)"
   ]
  },
  {
   "cell_type": "code",
   "execution_count": 52,
   "metadata": {
    "ExecuteTime": {
     "end_time": "2021-06-10T12:22:23.090596Z",
     "start_time": "2021-06-10T12:22:23.081697Z"
    }
   },
   "outputs": [
    {
     "data": {
      "text/html": [
       "<div>\n",
       "<style scoped>\n",
       "    .dataframe tbody tr th:only-of-type {\n",
       "        vertical-align: middle;\n",
       "    }\n",
       "\n",
       "    .dataframe tbody tr th {\n",
       "        vertical-align: top;\n",
       "    }\n",
       "\n",
       "    .dataframe thead th {\n",
       "        text-align: right;\n",
       "    }\n",
       "</style>\n",
       "<table border=\"1\" class=\"dataframe\">\n",
       "  <thead>\n",
       "    <tr style=\"text-align: right;\">\n",
       "      <th></th>\n",
       "      <th>S1_POWER</th>\n",
       "      <th>S2_DEMO</th>\n",
       "      <th>S3_ACTIVE</th>\n",
       "      <th>S4_LOYAL</th>\n",
       "      <th>S6_EARLY</th>\n",
       "      <th>S7_OTHERS</th>\n",
       "    </tr>\n",
       "  </thead>\n",
       "  <tbody>\n",
       "    <tr>\n",
       "      <th>OUT</th>\n",
       "      <td>411173</td>\n",
       "      <td>494374</td>\n",
       "      <td>426163</td>\n",
       "      <td>300896</td>\n",
       "      <td>408444</td>\n",
       "      <td>331276</td>\n",
       "    </tr>\n",
       "    <tr>\n",
       "      <th>IN</th>\n",
       "      <td>88827</td>\n",
       "      <td>5626</td>\n",
       "      <td>73837</td>\n",
       "      <td>199104</td>\n",
       "      <td>91556</td>\n",
       "      <td>168724</td>\n",
       "    </tr>\n",
       "  </tbody>\n",
       "</table>\n",
       "</div>"
      ],
      "text/plain": [
       "     S1_POWER  S2_DEMO  S3_ACTIVE  S4_LOYAL  S6_EARLY  S7_OTHERS\n",
       "OUT    411173   494374     426163    300896    408444     331276\n",
       "IN      88827     5626      73837    199104     91556     168724"
      ]
     },
     "execution_count": 52,
     "metadata": {},
     "output_type": "execute_result"
    }
   ],
   "source": [
    "segment"
   ]
  },
  {
   "cell_type": "code",
   "execution_count": 53,
   "metadata": {
    "ExecuteTime": {
     "end_time": "2021-06-10T12:22:24.442278Z",
     "start_time": "2021-06-10T12:22:23.092518Z"
    }
   },
   "outputs": [
    {
     "data": {
      "image/png": "[encoded data removed]",
      "text/plain": [
       "<Figure size 1080x504 with 1 Axes>"
      ]
     },
     "metadata": {},
     "output_type": "display_data"
    }
   ],
   "source": [
    "cmap = ['#EE2E24', '#ffffff']\n",
    "\n",
    "ax = segment.transpose().apply(lambda x: 100-(x*100/sum(x)), axis=1).plot(kind=\"bar\", figsize=(15, 7),\n",
    "                                                                          stacked=True, rot=0, edgecolor=\"black\",color=cmap )\n",
    "\n",
    "plt.xlabel('', size=16)\n",
    "plt.ylabel('Player Population [%]', size=16)\n",
    "plt.title('Segments', size=20)\n",
    "plt.xticks(size=12)\n",
    "plt.yticks(size=12)\n",
    "\n",
    "handles, labels = ax.get_legend_handles_labels()\n",
    "ax.legend(reversed(handles), labels, bbox_to_anchor=(\n",
    "    1.005, 1.025), loc='upper left')\n",
    "#plt.savefig('segments.png', dpi=300, bbox_inches='tight')\n",
    "\n",
    "plt.show()\n",
    "None"
   ]
  },
  {
   "cell_type": "markdown",
   "metadata": {},
   "source": [
    "# Part 2: Machine Learning: Clustering with K-Means\n",
    "\n",
    "Make a copy of the data and set the ID as index"
   ]
  },
  {
   "cell_type": "code",
   "execution_count": 54,
   "metadata": {
    "ExecuteTime": {
     "end_time": "2021-06-10T13:20:53.629651Z",
     "start_time": "2021-06-10T13:20:53.418273Z"
    }
   },
   "outputs": [],
   "source": [
    "data_copy = data.copy()"
   ]
  },
  {
   "cell_type": "code",
   "execution_count": 55,
   "metadata": {
    "ExecuteTime": {
     "end_time": "2021-06-10T13:20:53.691552Z",
     "start_time": "2021-06-10T13:20:53.630980Z"
    }
   },
   "outputs": [],
   "source": [
    "# remove previously defined segments and some helping metrics\n",
    "data_copy.drop(columns=['RECENCY', 'EARLY', 'INSEGMENTS', \"S1_POWER\",  \"S2_DEMO\",\n",
    "                        \"S3_ACTIVE\", \"S4_LOYAL\", \"S6_EARLY\", \"S7_OTHERS\"], inplace=True)"
   ]
  },
  {
   "cell_type": "code",
   "execution_count": 56,
   "metadata": {
    "ExecuteTime": {
     "end_time": "2021-06-10T13:20:53.699446Z",
     "start_time": "2021-06-10T13:20:53.693929Z"
    }
   },
   "outputs": [
    {
     "data": {
      "text/plain": [
       "ID                         int64\n",
       "PORTCITY                  object\n",
       "PIRATE                    object\n",
       "SIGNUPDATE        datetime64[ns]\n",
       "ACTIVEDAYS                 int64\n",
       "LASTACTIVEDAY     datetime64[ns]\n",
       "FLEETS            datetime64[ns]\n",
       "STRANGERTIDES     datetime64[ns]\n",
       "ASTEROIDMINING    datetime64[ns]\n",
       "FIRSTCONTACT      datetime64[ns]\n",
       "EVENTHORIZON      datetime64[ns]\n",
       "COLONIES          datetime64[ns]\n",
       "ESCAPEPODRACE     datetime64[ns]\n",
       "ALLIANCES         datetime64[ns]\n",
       "ACTIVITY                 float64\n",
       "ADDCOUNT                   int64\n",
       "dtype: object"
      ]
     },
     "execution_count": 56,
     "metadata": {},
     "output_type": "execute_result"
    }
   ],
   "source": [
    "data_copy.dtypes"
   ]
  },
  {
   "cell_type": "code",
   "execution_count": 57,
   "metadata": {
    "ExecuteTime": {
     "end_time": "2021-06-10T13:20:54.915119Z",
     "start_time": "2021-06-10T13:20:54.896933Z"
    }
   },
   "outputs": [
    {
     "data": {
      "text/html": [
       "<div>\n",
       "<style scoped>\n",
       "    .dataframe tbody tr th:only-of-type {\n",
       "        vertical-align: middle;\n",
       "    }\n",
       "\n",
       "    .dataframe tbody tr th {\n",
       "        vertical-align: top;\n",
       "    }\n",
       "\n",
       "    .dataframe thead th {\n",
       "        text-align: right;\n",
       "    }\n",
       "</style>\n",
       "<table border=\"1\" class=\"dataframe\">\n",
       "  <thead>\n",
       "    <tr style=\"text-align: right;\">\n",
       "      <th></th>\n",
       "      <th>ID</th>\n",
       "      <th>PORTCITY</th>\n",
       "      <th>PIRATE</th>\n",
       "      <th>SIGNUPDATE</th>\n",
       "      <th>ACTIVEDAYS</th>\n",
       "      <th>LASTACTIVEDAY</th>\n",
       "      <th>FLEETS</th>\n",
       "      <th>STRANGERTIDES</th>\n",
       "      <th>ASTEROIDMINING</th>\n",
       "      <th>FIRSTCONTACT</th>\n",
       "      <th>EVENTHORIZON</th>\n",
       "      <th>COLONIES</th>\n",
       "      <th>ESCAPEPODRACE</th>\n",
       "      <th>ALLIANCES</th>\n",
       "      <th>ACTIVITY</th>\n",
       "      <th>ADDCOUNT</th>\n",
       "    </tr>\n",
       "  </thead>\n",
       "  <tbody>\n",
       "    <tr>\n",
       "      <th>0</th>\n",
       "      <td>0</td>\n",
       "      <td>New Kathleenport</td>\n",
       "      <td>Else</td>\n",
       "      <td>2018-05-22</td>\n",
       "      <td>1</td>\n",
       "      <td>2018-05-22</td>\n",
       "      <td>NaT</td>\n",
       "      <td>NaT</td>\n",
       "      <td>NaT</td>\n",
       "      <td>NaT</td>\n",
       "      <td>NaT</td>\n",
       "      <td>NaT</td>\n",
       "      <td>NaT</td>\n",
       "      <td>NaT</td>\n",
       "      <td>NaN</td>\n",
       "      <td>0</td>\n",
       "    </tr>\n",
       "    <tr>\n",
       "      <th>1</th>\n",
       "      <td>1</td>\n",
       "      <td>New Ashleytown</td>\n",
       "      <td>Algot</td>\n",
       "      <td>2018-05-22</td>\n",
       "      <td>3</td>\n",
       "      <td>2018-05-26</td>\n",
       "      <td>NaT</td>\n",
       "      <td>NaT</td>\n",
       "      <td>NaT</td>\n",
       "      <td>NaT</td>\n",
       "      <td>NaT</td>\n",
       "      <td>NaT</td>\n",
       "      <td>NaT</td>\n",
       "      <td>NaT</td>\n",
       "      <td>0.750000</td>\n",
       "      <td>0</td>\n",
       "    </tr>\n",
       "    <tr>\n",
       "      <th>2</th>\n",
       "      <td>2</td>\n",
       "      <td>East Derek</td>\n",
       "      <td>Ashly</td>\n",
       "      <td>2018-05-22</td>\n",
       "      <td>115</td>\n",
       "      <td>2018-11-22</td>\n",
       "      <td>NaT</td>\n",
       "      <td>NaT</td>\n",
       "      <td>NaT</td>\n",
       "      <td>NaT</td>\n",
       "      <td>NaT</td>\n",
       "      <td>NaT</td>\n",
       "      <td>NaT</td>\n",
       "      <td>NaT</td>\n",
       "      <td>0.625000</td>\n",
       "      <td>0</td>\n",
       "    </tr>\n",
       "    <tr>\n",
       "      <th>3</th>\n",
       "      <td>3</td>\n",
       "      <td>Catherinebury</td>\n",
       "      <td>Aron</td>\n",
       "      <td>2018-07-19</td>\n",
       "      <td>112</td>\n",
       "      <td>2020-02-19</td>\n",
       "      <td>NaT</td>\n",
       "      <td>NaT</td>\n",
       "      <td>NaT</td>\n",
       "      <td>NaT</td>\n",
       "      <td>NaT</td>\n",
       "      <td>NaT</td>\n",
       "      <td>NaT</td>\n",
       "      <td>NaT</td>\n",
       "      <td>0.193103</td>\n",
       "      <td>0</td>\n",
       "    </tr>\n",
       "    <tr>\n",
       "      <th>4</th>\n",
       "      <td>4</td>\n",
       "      <td>Ambershire</td>\n",
       "      <td>Mansfield</td>\n",
       "      <td>2018-07-27</td>\n",
       "      <td>1</td>\n",
       "      <td>2018-07-27</td>\n",
       "      <td>NaT</td>\n",
       "      <td>NaT</td>\n",
       "      <td>2018-07-27</td>\n",
       "      <td>NaT</td>\n",
       "      <td>NaT</td>\n",
       "      <td>NaT</td>\n",
       "      <td>NaT</td>\n",
       "      <td>NaT</td>\n",
       "      <td>NaN</td>\n",
       "      <td>1</td>\n",
       "    </tr>\n",
       "  </tbody>\n",
       "</table>\n",
       "</div>"
      ],
      "text/plain": [
       "   ID          PORTCITY     PIRATE SIGNUPDATE  ACTIVEDAYS LASTACTIVEDAY  \\\n",
       "0   0  New Kathleenport       Else 2018-05-22           1    2018-05-22   \n",
       "1   1    New Ashleytown      Algot 2018-05-22           3    2018-05-26   \n",
       "2   2        East Derek      Ashly 2018-05-22         115    2018-11-22   \n",
       "3   3     Catherinebury       Aron 2018-07-19         112    2020-02-19   \n",
       "4   4        Ambershire  Mansfield 2018-07-27           1    2018-07-27   \n",
       "\n",
       "  FLEETS STRANGERTIDES ASTEROIDMINING FIRSTCONTACT EVENTHORIZON COLONIES  \\\n",
       "0    NaT           NaT            NaT          NaT          NaT      NaT   \n",
       "1    NaT           NaT            NaT          NaT          NaT      NaT   \n",
       "2    NaT           NaT            NaT          NaT          NaT      NaT   \n",
       "3    NaT           NaT            NaT          NaT          NaT      NaT   \n",
       "4    NaT           NaT     2018-07-27          NaT          NaT      NaT   \n",
       "\n",
       "  ESCAPEPODRACE ALLIANCES  ACTIVITY  ADDCOUNT  \n",
       "0           NaT       NaT       NaN         0  \n",
       "1           NaT       NaT  0.750000         0  \n",
       "2           NaT       NaT  0.625000         0  \n",
       "3           NaT       NaT  0.193103         0  \n",
       "4           NaT       NaT       NaN         1  "
      ]
     },
     "execution_count": 57,
     "metadata": {},
     "output_type": "execute_result"
    }
   ],
   "source": [
    "data_copy.head()"
   ]
  },
  {
   "cell_type": "code",
   "execution_count": 58,
   "metadata": {
    "ExecuteTime": {
     "end_time": "2021-06-10T13:20:54.924961Z",
     "start_time": "2021-06-10T13:20:54.918658Z"
    }
   },
   "outputs": [],
   "source": [
    "# set activity NaN == 0\n",
    "\n",
    "data_copy[\"ACTIVITY\"]=data_copy[\"ACTIVITY\"].fillna(0)"
   ]
  },
  {
   "cell_type": "markdown",
   "metadata": {},
   "source": [
    "## Transform and Encode Features"
   ]
  },
  {
   "cell_type": "code",
   "execution_count": 59,
   "metadata": {
    "ExecuteTime": {
     "end_time": "2021-06-10T13:20:54.999643Z",
     "start_time": "2021-06-10T13:20:54.927169Z"
    }
   },
   "outputs": [],
   "source": [
    "# get columns with numerical values, time values, and categorical values\n",
    "cat_cols_data = data_copy.select_dtypes(include=['object']).columns\n",
    "numer_cols_data = data_copy.select_dtypes(include=['int', 'float']).columns\n",
    "time_cols_data = data_copy.select_dtypes(include=['datetime64[ns]']).columns"
   ]
  },
  {
   "cell_type": "code",
   "execution_count": 60,
   "metadata": {
    "ExecuteTime": {
     "end_time": "2021-06-10T13:20:55.005589Z",
     "start_time": "2021-06-10T13:20:55.001536Z"
    }
   },
   "outputs": [
    {
     "data": {
      "text/plain": [
       "Index(['PORTCITY', 'PIRATE'], dtype='object')"
      ]
     },
     "execution_count": 60,
     "metadata": {},
     "output_type": "execute_result"
    }
   ],
   "source": [
    "cat_cols_data"
   ]
  },
  {
   "cell_type": "markdown",
   "metadata": {},
   "source": [
    "### Dates to Binary (Presence, Absence)"
   ]
  },
  {
   "cell_type": "code",
   "execution_count": 61,
   "metadata": {
    "ExecuteTime": {
     "end_time": "2021-06-10T13:20:56.048117Z",
     "start_time": "2021-06-10T13:20:55.007870Z"
    }
   },
   "outputs": [],
   "source": [
    "data_copy[time_cols_data] = np.where(((data_copy[time_cols_data].isna() == False) ) \n",
    "                       , 1, 0)"
   ]
  },
  {
   "cell_type": "code",
   "execution_count": 62,
   "metadata": {
    "ExecuteTime": {
     "end_time": "2021-06-10T13:20:56.111633Z",
     "start_time": "2021-06-10T13:20:56.049331Z"
    }
   },
   "outputs": [
    {
     "data": {
      "text/html": [
       "<div>\n",
       "<style scoped>\n",
       "    .dataframe tbody tr th:only-of-type {\n",
       "        vertical-align: middle;\n",
       "    }\n",
       "\n",
       "    .dataframe tbody tr th {\n",
       "        vertical-align: top;\n",
       "    }\n",
       "\n",
       "    .dataframe thead th {\n",
       "        text-align: right;\n",
       "    }\n",
       "</style>\n",
       "<table border=\"1\" class=\"dataframe\">\n",
       "  <thead>\n",
       "    <tr style=\"text-align: right;\">\n",
       "      <th></th>\n",
       "      <th>SIGNUPDATE</th>\n",
       "      <th>LASTACTIVEDAY</th>\n",
       "      <th>FLEETS</th>\n",
       "      <th>STRANGERTIDES</th>\n",
       "      <th>ASTEROIDMINING</th>\n",
       "      <th>FIRSTCONTACT</th>\n",
       "      <th>EVENTHORIZON</th>\n",
       "      <th>COLONIES</th>\n",
       "      <th>ESCAPEPODRACE</th>\n",
       "      <th>ALLIANCES</th>\n",
       "    </tr>\n",
       "  </thead>\n",
       "  <tbody>\n",
       "    <tr>\n",
       "      <th>0</th>\n",
       "      <td>1</td>\n",
       "      <td>1</td>\n",
       "      <td>0</td>\n",
       "      <td>0</td>\n",
       "      <td>0</td>\n",
       "      <td>0</td>\n",
       "      <td>0</td>\n",
       "      <td>0</td>\n",
       "      <td>0</td>\n",
       "      <td>0</td>\n",
       "    </tr>\n",
       "    <tr>\n",
       "      <th>1</th>\n",
       "      <td>1</td>\n",
       "      <td>1</td>\n",
       "      <td>0</td>\n",
       "      <td>0</td>\n",
       "      <td>0</td>\n",
       "      <td>0</td>\n",
       "      <td>0</td>\n",
       "      <td>0</td>\n",
       "      <td>0</td>\n",
       "      <td>0</td>\n",
       "    </tr>\n",
       "    <tr>\n",
       "      <th>2</th>\n",
       "      <td>1</td>\n",
       "      <td>1</td>\n",
       "      <td>0</td>\n",
       "      <td>0</td>\n",
       "      <td>0</td>\n",
       "      <td>0</td>\n",
       "      <td>0</td>\n",
       "      <td>0</td>\n",
       "      <td>0</td>\n",
       "      <td>0</td>\n",
       "    </tr>\n",
       "    <tr>\n",
       "      <th>3</th>\n",
       "      <td>1</td>\n",
       "      <td>1</td>\n",
       "      <td>0</td>\n",
       "      <td>0</td>\n",
       "      <td>0</td>\n",
       "      <td>0</td>\n",
       "      <td>0</td>\n",
       "      <td>0</td>\n",
       "      <td>0</td>\n",
       "      <td>0</td>\n",
       "    </tr>\n",
       "    <tr>\n",
       "      <th>4</th>\n",
       "      <td>1</td>\n",
       "      <td>1</td>\n",
       "      <td>0</td>\n",
       "      <td>0</td>\n",
       "      <td>1</td>\n",
       "      <td>0</td>\n",
       "      <td>0</td>\n",
       "      <td>0</td>\n",
       "      <td>0</td>\n",
       "      <td>0</td>\n",
       "    </tr>\n",
       "    <tr>\n",
       "      <th>...</th>\n",
       "      <td>...</td>\n",
       "      <td>...</td>\n",
       "      <td>...</td>\n",
       "      <td>...</td>\n",
       "      <td>...</td>\n",
       "      <td>...</td>\n",
       "      <td>...</td>\n",
       "      <td>...</td>\n",
       "      <td>...</td>\n",
       "      <td>...</td>\n",
       "    </tr>\n",
       "    <tr>\n",
       "      <th>499995</th>\n",
       "      <td>1</td>\n",
       "      <td>1</td>\n",
       "      <td>0</td>\n",
       "      <td>0</td>\n",
       "      <td>0</td>\n",
       "      <td>0</td>\n",
       "      <td>0</td>\n",
       "      <td>0</td>\n",
       "      <td>0</td>\n",
       "      <td>0</td>\n",
       "    </tr>\n",
       "    <tr>\n",
       "      <th>499996</th>\n",
       "      <td>1</td>\n",
       "      <td>1</td>\n",
       "      <td>0</td>\n",
       "      <td>0</td>\n",
       "      <td>0</td>\n",
       "      <td>0</td>\n",
       "      <td>0</td>\n",
       "      <td>0</td>\n",
       "      <td>0</td>\n",
       "      <td>0</td>\n",
       "    </tr>\n",
       "    <tr>\n",
       "      <th>499997</th>\n",
       "      <td>1</td>\n",
       "      <td>1</td>\n",
       "      <td>0</td>\n",
       "      <td>0</td>\n",
       "      <td>0</td>\n",
       "      <td>0</td>\n",
       "      <td>0</td>\n",
       "      <td>0</td>\n",
       "      <td>0</td>\n",
       "      <td>0</td>\n",
       "    </tr>\n",
       "    <tr>\n",
       "      <th>499998</th>\n",
       "      <td>1</td>\n",
       "      <td>1</td>\n",
       "      <td>0</td>\n",
       "      <td>0</td>\n",
       "      <td>0</td>\n",
       "      <td>0</td>\n",
       "      <td>0</td>\n",
       "      <td>0</td>\n",
       "      <td>0</td>\n",
       "      <td>0</td>\n",
       "    </tr>\n",
       "    <tr>\n",
       "      <th>499999</th>\n",
       "      <td>1</td>\n",
       "      <td>1</td>\n",
       "      <td>0</td>\n",
       "      <td>0</td>\n",
       "      <td>0</td>\n",
       "      <td>0</td>\n",
       "      <td>0</td>\n",
       "      <td>0</td>\n",
       "      <td>0</td>\n",
       "      <td>0</td>\n",
       "    </tr>\n",
       "  </tbody>\n",
       "</table>\n",
       "<p>500000 rows × 10 columns</p>\n",
       "</div>"
      ],
      "text/plain": [
       "        SIGNUPDATE  LASTACTIVEDAY  FLEETS  STRANGERTIDES  ASTEROIDMINING  \\\n",
       "0                1              1       0              0               0   \n",
       "1                1              1       0              0               0   \n",
       "2                1              1       0              0               0   \n",
       "3                1              1       0              0               0   \n",
       "4                1              1       0              0               1   \n",
       "...            ...            ...     ...            ...             ...   \n",
       "499995           1              1       0              0               0   \n",
       "499996           1              1       0              0               0   \n",
       "499997           1              1       0              0               0   \n",
       "499998           1              1       0              0               0   \n",
       "499999           1              1       0              0               0   \n",
       "\n",
       "        FIRSTCONTACT  EVENTHORIZON  COLONIES  ESCAPEPODRACE  ALLIANCES  \n",
       "0                  0             0         0              0          0  \n",
       "1                  0             0         0              0          0  \n",
       "2                  0             0         0              0          0  \n",
       "3                  0             0         0              0          0  \n",
       "4                  0             0         0              0          0  \n",
       "...              ...           ...       ...            ...        ...  \n",
       "499995             0             0         0              0          0  \n",
       "499996             0             0         0              0          0  \n",
       "499997             0             0         0              0          0  \n",
       "499998             0             0         0              0          0  \n",
       "499999             0             0         0              0          0  \n",
       "\n",
       "[500000 rows x 10 columns]"
      ]
     },
     "execution_count": 62,
     "metadata": {},
     "output_type": "execute_result"
    }
   ],
   "source": [
    "data_copy[time_cols_data]"
   ]
  },
  {
   "cell_type": "markdown",
   "metadata": {},
   "source": [
    "### Scale numerical columns"
   ]
  },
  {
   "cell_type": "code",
   "execution_count": 63,
   "metadata": {
    "ExecuteTime": {
     "end_time": "2021-06-10T13:20:56.115862Z",
     "start_time": "2021-06-10T13:20:56.112843Z"
    }
   },
   "outputs": [
    {
     "data": {
      "text/plain": [
       "Index(['ID', 'ACTIVEDAYS', 'ACTIVITY', 'ADDCOUNT'], dtype='object')"
      ]
     },
     "execution_count": 63,
     "metadata": {},
     "output_type": "execute_result"
    }
   ],
   "source": [
    "numer_cols_data"
   ]
  },
  {
   "cell_type": "code",
   "execution_count": 64,
   "metadata": {
    "ExecuteTime": {
     "end_time": "2021-06-10T13:20:56.193501Z",
     "start_time": "2021-06-10T13:20:56.117281Z"
    }
   },
   "outputs": [
    {
     "data": {
      "text/plain": [
       "0"
      ]
     },
     "execution_count": 64,
     "metadata": {},
     "output_type": "execute_result"
    }
   ],
   "source": [
    "data_copy[numer_cols_data].isna().sum().sum()"
   ]
  },
  {
   "cell_type": "code",
   "execution_count": 65,
   "metadata": {
    "ExecuteTime": {
     "end_time": "2021-06-10T13:20:56.700508Z",
     "start_time": "2021-06-10T13:20:56.195263Z"
    }
   },
   "outputs": [],
   "source": [
    "scaler = MinMaxScaler()\n",
    "data_copy[numer_cols_data]=scaler.fit_transform(data_copy[numer_cols_data])\n",
    "data_copy[numer_cols_data]=pd.DataFrame(data=data_copy[numer_cols_data], columns=data_copy[numer_cols_data].columns)"
   ]
  },
  {
   "cell_type": "code",
   "execution_count": 66,
   "metadata": {
    "ExecuteTime": {
     "end_time": "2021-06-10T13:20:56.744316Z",
     "start_time": "2021-06-10T13:20:56.702023Z"
    },
    "scrolled": true
   },
   "outputs": [
    {
     "data": {
      "text/html": [
       "<div>\n",
       "<style scoped>\n",
       "    .dataframe tbody tr th:only-of-type {\n",
       "        vertical-align: middle;\n",
       "    }\n",
       "\n",
       "    .dataframe tbody tr th {\n",
       "        vertical-align: top;\n",
       "    }\n",
       "\n",
       "    .dataframe thead th {\n",
       "        text-align: right;\n",
       "    }\n",
       "</style>\n",
       "<table border=\"1\" class=\"dataframe\">\n",
       "  <thead>\n",
       "    <tr style=\"text-align: right;\">\n",
       "      <th></th>\n",
       "      <th>ID</th>\n",
       "      <th>ACTIVEDAYS</th>\n",
       "      <th>ACTIVITY</th>\n",
       "      <th>ADDCOUNT</th>\n",
       "    </tr>\n",
       "  </thead>\n",
       "  <tbody>\n",
       "    <tr>\n",
       "      <th>0</th>\n",
       "      <td>0.000000</td>\n",
       "      <td>0.000000</td>\n",
       "      <td>0.000000</td>\n",
       "      <td>0.000</td>\n",
       "    </tr>\n",
       "    <tr>\n",
       "      <th>1</th>\n",
       "      <td>0.000002</td>\n",
       "      <td>0.001852</td>\n",
       "      <td>0.187500</td>\n",
       "      <td>0.000</td>\n",
       "    </tr>\n",
       "    <tr>\n",
       "      <th>2</th>\n",
       "      <td>0.000004</td>\n",
       "      <td>0.105556</td>\n",
       "      <td>0.156250</td>\n",
       "      <td>0.000</td>\n",
       "    </tr>\n",
       "    <tr>\n",
       "      <th>3</th>\n",
       "      <td>0.000006</td>\n",
       "      <td>0.102778</td>\n",
       "      <td>0.048276</td>\n",
       "      <td>0.000</td>\n",
       "    </tr>\n",
       "    <tr>\n",
       "      <th>4</th>\n",
       "      <td>0.000008</td>\n",
       "      <td>0.000000</td>\n",
       "      <td>0.000000</td>\n",
       "      <td>0.125</td>\n",
       "    </tr>\n",
       "    <tr>\n",
       "      <th>...</th>\n",
       "      <td>...</td>\n",
       "      <td>...</td>\n",
       "      <td>...</td>\n",
       "      <td>...</td>\n",
       "    </tr>\n",
       "    <tr>\n",
       "      <th>499995</th>\n",
       "      <td>0.999992</td>\n",
       "      <td>0.009259</td>\n",
       "      <td>0.004816</td>\n",
       "      <td>0.000</td>\n",
       "    </tr>\n",
       "    <tr>\n",
       "      <th>499996</th>\n",
       "      <td>0.999994</td>\n",
       "      <td>0.000926</td>\n",
       "      <td>0.005376</td>\n",
       "      <td>0.000</td>\n",
       "    </tr>\n",
       "    <tr>\n",
       "      <th>499997</th>\n",
       "      <td>0.999996</td>\n",
       "      <td>0.002778</td>\n",
       "      <td>0.142857</td>\n",
       "      <td>0.000</td>\n",
       "    </tr>\n",
       "    <tr>\n",
       "      <th>499998</th>\n",
       "      <td>0.999998</td>\n",
       "      <td>0.004630</td>\n",
       "      <td>0.214286</td>\n",
       "      <td>0.000</td>\n",
       "    </tr>\n",
       "    <tr>\n",
       "      <th>499999</th>\n",
       "      <td>1.000000</td>\n",
       "      <td>0.041667</td>\n",
       "      <td>0.017477</td>\n",
       "      <td>0.000</td>\n",
       "    </tr>\n",
       "  </tbody>\n",
       "</table>\n",
       "<p>500000 rows × 4 columns</p>\n",
       "</div>"
      ],
      "text/plain": [
       "              ID  ACTIVEDAYS  ACTIVITY  ADDCOUNT\n",
       "0       0.000000    0.000000  0.000000     0.000\n",
       "1       0.000002    0.001852  0.187500     0.000\n",
       "2       0.000004    0.105556  0.156250     0.000\n",
       "3       0.000006    0.102778  0.048276     0.000\n",
       "4       0.000008    0.000000  0.000000     0.125\n",
       "...          ...         ...       ...       ...\n",
       "499995  0.999992    0.009259  0.004816     0.000\n",
       "499996  0.999994    0.000926  0.005376     0.000\n",
       "499997  0.999996    0.002778  0.142857     0.000\n",
       "499998  0.999998    0.004630  0.214286     0.000\n",
       "499999  1.000000    0.041667  0.017477     0.000\n",
       "\n",
       "[500000 rows x 4 columns]"
      ]
     },
     "execution_count": 66,
     "metadata": {},
     "output_type": "execute_result"
    }
   ],
   "source": [
    "data_copy[numer_cols_data]"
   ]
  },
  {
   "cell_type": "code",
   "execution_count": 67,
   "metadata": {
    "ExecuteTime": {
     "end_time": "2021-06-10T13:20:56.747966Z",
     "start_time": "2021-06-10T13:20:56.745936Z"
    }
   },
   "outputs": [],
   "source": [
    "#scaler.inverse_transform(data_copy[numer_cols_data])"
   ]
  },
  {
   "cell_type": "markdown",
   "metadata": {},
   "source": [
    "### One-Hot Encode Categorical Features\n",
    "This creates a binary column for each category and returns a sparse matrix or dense array.\n",
    "\n",
    "This part uses quite a lot of memory."
   ]
  },
  {
   "cell_type": "code",
   "execution_count": 68,
   "metadata": {
    "ExecuteTime": {
     "end_time": "2021-06-10T13:20:56.761423Z",
     "start_time": "2021-06-10T13:20:56.749816Z"
    }
   },
   "outputs": [
    {
     "data": {
      "text/plain": [
       "Index(['PORTCITY', 'PIRATE'], dtype='object')"
      ]
     },
     "execution_count": 68,
     "metadata": {},
     "output_type": "execute_result"
    }
   ],
   "source": [
    "data_copy[cat_cols_data].columns"
   ]
  },
  {
   "cell_type": "code",
   "execution_count": 69,
   "metadata": {
    "ExecuteTime": {
     "end_time": "2021-06-10T13:20:56.835567Z",
     "start_time": "2021-06-10T13:20:56.762964Z"
    }
   },
   "outputs": [
    {
     "data": {
      "text/plain": [
       "[array(['Aaronfurt', 'Adamhaven', 'Adamston', 'Adrienneside', 'Alanshire',\n",
       "        'Alexisberg', 'Alexishaven', 'Alexisshire', 'Allenchester',\n",
       "        'Amberburgh', 'Ambershire', 'Amberton', 'Andersonbury',\n",
       "        'Andreafurt', 'Ashleyburgh', 'Avilamouth', 'Bairdborough',\n",
       "        'Benderside', 'Blankenshipfort', 'Bowmanfort', 'Boydmouth',\n",
       "        'Brenthaven', 'Brianview', 'Bruceberg', 'Bushview', 'Cameronstad',\n",
       "        'Campbellfort', 'Carlsonside', 'Carolynmouth', 'Carpenterburgh',\n",
       "        'Carterchester', 'Catherinebury', 'Charlesshire', 'Charlesview',\n",
       "        'Chaseside', 'Cherylbury', 'Christianberg', 'Christinemouth',\n",
       "        'Christopherville', 'Chungmouth', 'Clarkfurt', 'Codytown',\n",
       "        'Colliershire', 'Colonfurt', 'Connieland', 'Cookport', 'Coxshire',\n",
       "        'Cruzburgh', 'Cynthiatown', 'Danaside', 'Davidchester',\n",
       "        'Davidport', 'Davidside', 'Davisfurt', 'Davishaven', 'Denisetown',\n",
       "        'Derekview', 'Desireeview', 'Destinyberg', 'Douglasshire',\n",
       "        'East Alexander', 'East Ashley', 'East Betty', 'East Brandon',\n",
       "        'East Dana', 'East Derek', 'East James', 'East Johnfurt',\n",
       "        'East Joseph', 'East Joshua', 'East Lisa', 'East Marcfort',\n",
       "        'East Michaelmouth', 'East Michelle', 'East Michelleport',\n",
       "        'East Nathanburgh', 'East Rebeccaview', 'East Robertfort',\n",
       "        'East Seanmouth', 'East Sherry', 'East Stephanie', 'East Stephen',\n",
       "        'East Sydneytown', 'East William', 'East Zacharyburgh',\n",
       "        'Eduardofurt', 'Espinozaview', 'Evansstad', 'Feliciaburgh',\n",
       "        'Fergusonport', 'Fieldshaven', 'Fitzgeraldborough', 'Fullerland',\n",
       "        'Gabrielview', 'Gainesmouth', 'Garciabury', 'Garciahaven',\n",
       "        'Garrettport', 'Garrettton', 'Garzamouth', 'Gibbsfurt',\n",
       "        'Ginaville', 'Glennmouth', 'Gloriabury', 'Gonzalezburgh',\n",
       "        'Grayside', 'Greenport', 'Guerrerochester', 'Haleyburgh',\n",
       "        'Hallhaven', 'Hannahfort', 'Hannahshire', 'Harperland',\n",
       "        'Harrisonstad', 'Harrisonton', 'Hartton', 'Heatherberg',\n",
       "        'Hendersonmouth', 'Hillmouth', 'Hintonstad', 'Hoganshire',\n",
       "        'Hollowayfort', 'Hopkinsberg', 'Howardfort', 'Hughesfort',\n",
       "        'Huntermouth', 'Jackiefurt', 'Jacobside', 'Jamesborough',\n",
       "        'Jasonburgh', 'Jasonfort', 'Jasonmouth', 'Jasontown',\n",
       "        'Jeffreyfort', 'Jennifermouth', 'Jenniferport', 'Jenningsville',\n",
       "        'Jesseview', 'Jessicashire', 'Jessicaside', 'Jillville',\n",
       "        'Johnsonchester', 'Johnsonside', 'Johnsonville', 'Jonesbury',\n",
       "        'Jordanfurt', 'Josephbury', 'Joseton', 'Joshuaport', 'Judychester',\n",
       "        'Karenhaven', 'Karenland', 'Kathyborough', 'Keithfort',\n",
       "        'Kelseyhaven', 'Kennedychester', 'Kevinchester', 'Kimberlyberg',\n",
       "        'Kimberlyfort', 'Kimberlymouth', 'Kristenview', 'Kristiborough',\n",
       "        'Kylechester', 'Lake Adrian', 'Lake Alvin', 'Lake Amber',\n",
       "        'Lake Ashley', 'Lake Brandy', 'Lake Brianna', 'Lake Craig',\n",
       "        'Lake Crystal', 'Lake Daltonside', 'Lake Davidton',\n",
       "        'Lake Deniseside', 'Lake Erin', 'Lake Haleyshire',\n",
       "        'Lake Jacobburgh', 'Lake Jamie', 'Lake John', 'Lake Jordanhaven',\n",
       "        'Lake Joshuaburgh', 'Lake Joshuafort', 'Lake Kimberly',\n",
       "        'Lake Larrystad', 'Lake Leehaven', 'Lake Marcview',\n",
       "        'Lake Marvinmouth', 'Lake Maryside', 'Lake Maryview',\n",
       "        'Lake Matthew', 'Lake Michaelahaven', 'Lake Molly', 'Lake Nancy',\n",
       "        'Lake Randy', 'Larryport', 'Lauraton', 'Lawrenceton',\n",
       "        'Leahchester', 'Leblancside', 'Leslieberg', 'Lesliemouth',\n",
       "        'Lindamouth', 'Liuland', 'Livingstonfort', 'Longberg', 'Lynnmouth',\n",
       "        'Madisonland', 'Marshborough', 'Martinezburgh', 'Martinezchester',\n",
       "        'Martinezmouth', 'Martinezton', 'Martinland', 'Marymouth',\n",
       "        'Masseyshire', 'Mataland', 'Matthewburgh', 'Matthewside',\n",
       "        'Maxside', 'Mcculloughbury', 'Mckenzieview', 'Meganland',\n",
       "        'Megantown', 'Melissabury', 'Melissamouth', 'Meyertown',\n",
       "        'Michaelfort', 'Mikeburgh', 'Monicaport', 'Mooreville',\n",
       "        'Morrisonhaven', 'Nataliemouth', 'New Alanburgh', 'New Angelaberg',\n",
       "        'New Aprilburgh', 'New Ashleytown', 'New Brittanyport',\n",
       "        'New Carlaburgh', 'New Catherineborough', 'New Cheyenne',\n",
       "        'New Christinaville', 'New Christopherview', 'New Crystalberg',\n",
       "        'New Elijah', 'New Jackiefurt', 'New James', 'New Jason',\n",
       "        'New Jennifer', 'New Jenniferland', 'New Jessica',\n",
       "        'New Kathleenport', 'New Kayla', 'New Kristi', 'New Kylie',\n",
       "        'New Leahmouth', 'New Markfort', 'New Michael', 'New Michelle',\n",
       "        'New Reginashire', 'New Robertshire', 'New Robinfort',\n",
       "        'New Russell', 'New Russellchester', 'New Ryanmouth',\n",
       "        'New Theresa', 'New Victorstad', 'Nguyenchester', 'Nicolehaven',\n",
       "        'Nicoleshire', 'Nixonstad', 'Noahburgh', 'North Anthonyville',\n",
       "        'North Brent', 'North Charlesstad', 'North Davidville',\n",
       "        'North Dawn', 'North Debraland', 'North Elizabeth',\n",
       "        'North Ericamouth', 'North Ericbury', 'North Heather',\n",
       "        'North Jamesbury', 'North Jeremy', 'North Jermaineland',\n",
       "        'North Jonathan', 'North Krista', 'North Laurastad', 'North Mark',\n",
       "        'North Michaelside', 'North Nathanmouth', 'North Nicholas',\n",
       "        'North Nicholefurt', 'North Ryanfurt', 'North Scottburgh',\n",
       "        'North Stevenberg', 'North Stevenburgh', 'North Susan',\n",
       "        'North Thomas', 'North Tiffanyton', 'Ortizshire', 'Osbornemouth',\n",
       "        'Parkbury', 'Parkerhaven', 'Parkertown', 'Parksport',\n",
       "        'Patriciaton', 'Paulaland', 'Paulstad', 'Perezshire', 'Perrytown',\n",
       "        'Port Alexisberg', 'Port Ashley', 'Port Carlside', 'Port Cassidy',\n",
       "        'Port Cynthiamouth', 'Port Darleneview', 'Port Dylan',\n",
       "        'Port Hannah', 'Port Hannahbury', 'Port James', 'Port Jamie',\n",
       "        'Port Janetshire', 'Port Jasmine', 'Port Jennifermouth',\n",
       "        'Port Jessica', 'Port Joanna', 'Port Joshuabury',\n",
       "        'Port Kendraport', 'Port Kennethville', 'Port Lawrence',\n",
       "        'Port Linda', 'Port Matthewchester', 'Port Pennyhaven',\n",
       "        'Port Rachel', 'Port Roseville', 'Port Sarafurt', 'Port Sheila',\n",
       "        'Port Stacyhaven', 'Port Thomastown', 'Port Tracy', 'Port William',\n",
       "        'Port Zachary', 'Randallburgh', 'Raymondmouth', 'Raymouth',\n",
       "        'Rebeccachester', 'Reidmouth', 'Reynoldsburgh', 'Rhondabury',\n",
       "        'Richardstad', 'Robertbury', 'Robertfurt', 'Robertport',\n",
       "        'Roberttown', 'Robinsonport', 'Ronaldshire', 'Roseton',\n",
       "        'Sanchezhaven', 'Sanchezmouth', 'Sanchezshire', 'Sandersland',\n",
       "        'Sandraton', 'Sarahton', 'Saundersfort', 'Scottfurt',\n",
       "        'Shafferborough', 'Shawnhaven', 'Shermanberg', 'Simmonschester',\n",
       "        'Simpsonberg', 'Smithchester', 'Smithside', 'Smithstad',\n",
       "        'South Alexistown', 'South Amy', 'South Andrefurt', 'South Andrew',\n",
       "        'South Andrewmouth', 'South Anthonyburgh', 'South Brian',\n",
       "        'South Christinahaven', 'South Craigmouth', 'South Dale',\n",
       "        'South Danaborough', 'South Debbieview', 'South Edward',\n",
       "        'South Erikmouth', 'South Jennifer', 'South Jesus',\n",
       "        'South Josestad', 'South Kenneth', 'South Kimberlyville',\n",
       "        'South Laurieborough', 'South Leslieton', 'South Malloryside',\n",
       "        'South Mark', 'South Megan', 'South Michaelbury',\n",
       "        'South Michaelshire', 'South Michele', 'South Oliviaburgh',\n",
       "        'South Patriciaville', 'South Paulton', 'South Pennyfurt',\n",
       "        'South Richard', 'South Sara', 'South Sierra', 'South Stephanie',\n",
       "        'South Susan', 'South Theresaborough', 'Stacyton', 'Staffordstad',\n",
       "        'Stephensshire', 'Stevechester', 'Stevenchester', 'Summersville',\n",
       "        'Susanchester', 'Tammyhaven', 'Terristad', 'Thomasville',\n",
       "        'Thompsonchester', 'Timothyshire', 'Tinaport', 'Toddshire',\n",
       "        'Toddton', 'Tonimouth', 'Trevorport', 'Turnerfurt', 'Turnerville',\n",
       "        'Vargasbury', 'Webbmouth', 'West Aaronfort', 'West Alicia',\n",
       "        'West Allison', 'West Amandaland', 'West Amy', 'West Andrewbury',\n",
       "        'West Annaville', 'West Brenda', 'West Christianfort',\n",
       "        'West Christina', 'West Christinachester', 'West Cindy',\n",
       "        'West Courtney', 'West Cynthiaview', 'West Darlene', 'West David',\n",
       "        'West Elizabeth', 'West Elizabethstad', 'West Elizabethtown',\n",
       "        'West Ericaborough', 'West Jakeshire', 'West Jasmine',\n",
       "        'West Johnside', 'West Josephmouth', 'West Justin',\n",
       "        'West Michaelport', 'West Michaelton', 'West Miguelhaven',\n",
       "        'West Patriciaberg', 'West Rhonda', 'West Shawnport',\n",
       "        'West Steven', 'West Tammy', 'West Timothyville', 'West Tina',\n",
       "        'West Valerieland', 'West Vickifurt', 'Wheelerfort',\n",
       "        'Wigginsborough', 'Williamsside', 'Wilsonbury', 'Wilsonmouth',\n",
       "        'Woodsland', 'Woodstad', 'Woodview', 'Zacharyhaven', 'Zacharyton',\n",
       "        'Zimmermanchester'], dtype=object),\n",
       " array(['Abigail', 'Adda', 'Adelia', 'Adison', 'Adonis', 'Adrain',\n",
       "        'Adriene', 'Agusta', 'Agustus', 'Ahmad', 'Aime', 'Aiyanna',\n",
       "        'Alaya', 'Alayna', 'Albert', 'Albion', 'Alecia', 'Aleck', 'Alek',\n",
       "        'Alexander', 'Alexandro', 'Algot', 'Alina', 'Alison', 'Alize',\n",
       "        'Almina', 'Althea', 'Alysha', 'Amare', 'Amari', 'America', 'Amir',\n",
       "        'Amya', 'Andra', 'Andreas', 'Angeles', 'Angelia', 'Angelo',\n",
       "        'Angie', 'Angus', 'Anibal', 'Anita', 'Anitra', 'Ann', 'Annemarie',\n",
       "        'Antione', 'Arah', 'Archie', 'Arlan', 'Arlen', 'Arline', 'Arly',\n",
       "        'Armando', 'Armin', 'Arnie', 'Aron', 'Arra', 'Arther', 'Artis',\n",
       "        'Arvil', 'Asa', 'Ashlea', 'Ashley', 'Ashly', 'Atha', 'Aubrey',\n",
       "        'Augusta', 'Autumn', 'Avon', 'Axel', 'Babyboy', 'Ballard',\n",
       "        'Barbra', 'Barnett', 'Barney', 'Bea', 'Beau', 'Beckham', 'Becky',\n",
       "        'Bennett', 'Berta', 'Berton', 'Bettyjane', 'Beulah', 'Bev',\n",
       "        'Birdella', 'Birtha', 'Blaise', 'Blane', 'Bobbie', 'Bradford',\n",
       "        'Bradyn', 'Branden', 'Brandie', 'Brandy', 'Brenton', 'Bret',\n",
       "        'Brett', 'Bridget', 'Britta', 'Bryant', 'Brynlee', 'Bryon',\n",
       "        'Burleigh', 'Burrel', 'Caesar', 'Callie', 'Candi', 'Candice',\n",
       "        'Cappie', 'Cari', 'Carlo', 'Carmel', 'Carri', 'Carrie', 'Carrol',\n",
       "        'Carter', 'Casen', 'Casey', 'Catherine', 'Cathey', 'Cathryn',\n",
       "        'Cathy', 'Chaim', 'Chancy', 'Chanda', 'Charlene', 'Chelsea',\n",
       "        'Chelsie', 'Cherryl', 'Chrissy', 'Christopher', 'Chrystal',\n",
       "        'Clarabelle', 'Clare', 'Classie', 'Claud', 'Claus', 'Cleora',\n",
       "        'Cliff', 'Clora', 'Coby', 'Codey', 'Concepcion', 'Consuelo',\n",
       "        'Corbett', 'Cordero', 'Coretta', 'Cory', 'Courtney', 'Cristopher',\n",
       "        'Cruz', 'Dakota', 'Dana', 'Dannielle', 'Darian', 'Darion', 'Darl',\n",
       "        'Darryll', 'Daryl', 'Deena', 'Dejah', 'Delfina', 'Deliah',\n",
       "        'Delton', 'Denisha', 'Dequan', 'Deric', 'Derwin', 'Dessie',\n",
       "        'Destin', 'Devan', 'Devon', 'Devonte', 'Dirk', 'Dixie', 'Doll',\n",
       "        'Dollie', 'Doloris', 'Dominique', 'Donal', 'Donald', 'Dorman',\n",
       "        'Dorris', 'Douglas', 'Drew', 'Drury', 'Duwayne', 'Dyan', 'Dylon',\n",
       "        'Earlie', 'Earline', 'Eda', 'Eduardo', 'Edyth', 'Eldred',\n",
       "        'Eleanor', 'Elex', 'Elgie', 'Eliana', 'Eliezer', 'Elige', 'Elise',\n",
       "        'Elissa', 'Elliana', 'Elmyra', 'Else', 'Elvira', 'Elwood', 'Emery',\n",
       "        'Emit', 'Emma', 'Emmalee', 'Emmett', 'Enriqueta', 'Erland',\n",
       "        'Ethie', 'Ethyle', 'Eudora', 'Eulah', 'Eva', 'Evertt', 'Evon',\n",
       "        'Ewart', 'Ezzard', 'Fabian', 'Felix', 'Ferris', 'Finley', 'Fleeta',\n",
       "        'Flora', 'Florie', 'Floyd', 'Foster', 'Francisquita', 'Freddy',\n",
       "        'French', 'Fumiko', 'Gael', 'Gail', 'Gardner', 'Garrett',\n",
       "        'Garrison', 'Gavin', 'Gayle', 'Gerald', 'Geralyn', 'Gifford',\n",
       "        'Gigi', 'Giselle', 'Giuseppe', 'Gladstone', 'Gladys', 'Glendora',\n",
       "        'Golden', 'Goldia', 'Gorden', 'Gunnar', 'Hailee', 'Hakim',\n",
       "        'Halsey', 'Hanna', 'Harden', 'Hardie', 'Harding', 'Harrell',\n",
       "        'Hart', 'Hassan', 'Helma', 'Hershell', 'Heyward', 'Hoke', 'Holden',\n",
       "        'Hope', 'Howell', 'Hugo', 'Hulda', 'Hyrum', 'Idabelle', 'Ila',\n",
       "        'Iliana', 'Illa', 'Ima', 'Ina', 'Inga', 'Ione', 'Irene', 'Iridian',\n",
       "        'Irine', 'Irven', 'Isidor', 'Isidore', 'Israel', 'Iyanna', 'Izola',\n",
       "        'Jace', 'Jaclyn', 'Jada', 'Jadiel', 'Jahiem', 'Jaidyn', 'Jaime',\n",
       "        'Jaleel', 'James', 'Jamir', 'Jammie', 'Janelle', 'Janice', 'Jaret',\n",
       "        'Jasper', 'Jaymes', 'Jazmine', 'Jenelle', 'Jerald', 'Jeramiah',\n",
       "        'Jeremey', 'Jermey', 'Jessi', 'Jesus', 'Jewell', 'Jillian',\n",
       "        'Jimmie', 'Jimmy', 'Job', 'Jobe', 'Jocelyne', 'Joe', 'Joelle',\n",
       "        'Joey', 'Johney', 'Johnnie', 'Johnpaul', 'Jonna', 'Jonnie',\n",
       "        'Jordon', 'Jordy', 'Josh', 'Josiah', 'Jovanny', 'Joycelyn',\n",
       "        'Judith', 'Juli', 'Julio', 'Kaci', 'Kaila', 'Kailee', 'Kala',\n",
       "        'Kaleena', 'Kamden', 'Kamya', 'Kara', 'Karim', 'Karley', 'Karyn',\n",
       "        'Katia', 'Katie', 'Kaylah', 'Kayleen', 'Kelley', 'Kelly', 'Kendal',\n",
       "        'Kendall', 'Kennedy', 'Kerry', 'Kesha', 'Keven', 'Keyla',\n",
       "        'Khalilah', 'Kiara', 'Kimora', 'Kit', 'Kiyoko', 'Kobe', 'Kody',\n",
       "        'Kolten', 'Konnor', 'Korbin', 'Kristen', 'Krystal', 'Kurt',\n",
       "        'Kwame', 'Kyle', 'Kylee', 'Kyra', 'Lainey', 'Laisha', 'Lakisha',\n",
       "        'Lamar', 'Lashonda', 'Lashunda', 'Latarsha', 'Latoyia', 'Launa',\n",
       "        'Laverna', 'Laverne', 'Lawton', 'Leana', 'Leatha', 'Leisha',\n",
       "        'Lelah', 'Lemmie', 'Lemon', 'Lenard', 'Leonidas', 'Leopoldo',\n",
       "        'Lexie', 'Libbie', 'Lilie', 'Lilla', 'Lillard', 'Lillia', 'Lily',\n",
       "        'Lindell', 'Lindsey', 'Linette', 'Linwood', 'Lissa', 'Logan',\n",
       "        'London', 'Londyn', 'Lonna', 'Lonnie', 'Lora', 'Lorna', 'Lorraine',\n",
       "        'Lorrayne', 'Lorrie', 'Lott', 'Lottie', 'Louella', 'Lourdes',\n",
       "        'Love', 'Lucile', 'Lucindy', 'Lucious', 'Luetta', 'Lum', 'Luna',\n",
       "        'Lurana', 'Luther', 'Luvenia', 'Lydia', 'Lynne', 'Madge',\n",
       "        'Madison', 'Madonna', 'Mae', 'Maiya', 'Makaila', 'Makayla',\n",
       "        'Malachi', 'Malaki', 'Malcolm', 'Mallie', 'Mamie', 'Manda',\n",
       "        'Manerva', 'Mannie', 'Mansfield', 'Manuel', 'Marcela', 'Marci',\n",
       "        'Maren', 'Mari', 'Mariam', 'Mariano', 'Maricela', 'Marietta',\n",
       "        'Marina', 'Marissa', 'Marius', 'Markus', 'Marla', 'Marleigh',\n",
       "        'Marques', 'Marshall', 'Martha', 'Maryellen', 'Marylou', 'Mathew',\n",
       "        'Mathias', 'Matilde', 'Maureen', 'Maurine', 'May', 'Melbourne',\n",
       "        'Melissia', 'Mendy', 'Merl', 'Michal', 'Mickey', 'Mikaela',\n",
       "        'Mikala', 'Milburn', 'Mildred', 'Mina', 'Mira', 'Mirna', 'Mitzi',\n",
       "        'Mohamed', 'Molly', 'Mya', 'Myrl', 'Napoleon', 'Nathanael', 'Neha',\n",
       "        'Neoma', 'Netta', 'Newell', 'Newman', 'Nick', 'Nigel', 'Nona',\n",
       "        'Nonie', 'Noreen', 'North', 'Olena', 'Oney', 'Opal', 'Oral',\n",
       "        'Orla', 'Orland', 'Orlando', 'Orvel', 'Orvis', 'Otelia', 'Ottilie',\n",
       "        'Ottis', 'Ozie', 'Page', 'Pauline', 'Pearlene', 'Peggie', 'Phylis',\n",
       "        'Plummer', 'Powell', 'Pranav', 'Press', 'Rachael', 'Rakeem',\n",
       "        'Ramiro', 'Randell', 'Raquan', 'Raul', 'Renae', 'Rennie', 'Retha',\n",
       "        'Reva', 'Rex', 'Rhett', 'Rhona', 'Rick', 'Rickie', 'Rishi',\n",
       "        'Ritchie', 'Roberta', 'Rodrigo', 'Romello', 'Romona', 'Ronna',\n",
       "        'Rozanne', 'Ruie', 'Rylie', 'Sabastian', 'Sage', 'Samie', 'Sariah',\n",
       "        'Sarrah', 'Savilla', 'Savion', 'Schuyler', 'Scot', 'Shameka',\n",
       "        'Shara', 'Sharen', 'Shavonne', 'Shawnna', 'Shedrick', 'Shellie',\n",
       "        'Shelvie', 'Shepherd', 'Sherita', 'Sherwin', 'Shirlene', 'Shirley',\n",
       "        'Shirlie', 'Sidney', 'Sigmund', 'Simon', 'Sonny', 'Squire',\n",
       "        'Stacy', 'Starling', 'Stephaine', 'Susann', 'Susie', 'Sydney',\n",
       "        'Symone', 'Tambra', 'Tamera', 'Tana', 'Tanner', 'Tawanda',\n",
       "        'Tawnya', 'Tayler', 'Taylor', 'Ted', 'Tennie', 'Terance',\n",
       "        'Terence', 'Terra', 'Tex', 'Thaddeus', 'Thalia', 'Theda',\n",
       "        'Theodocia', 'Theresia', 'Theron', 'Tilda', 'Tillman', 'Tim',\n",
       "        'Torrey', 'Toshio', 'Trace', 'Traci', 'Trena', 'Trent', 'Treva',\n",
       "        'Trevor', 'Trish', 'Trudie', 'Tuan', 'Tyrell', 'Unique', 'Uriah',\n",
       "        'Vada', 'Valentin', 'Valentina', 'Valentino', 'Van', 'Vanessa',\n",
       "        'Vara', 'Velia', 'Velma', 'Velva', 'Verlin', 'Vern', 'Vernon',\n",
       "        'Vick', 'Victoriano', 'Vicy', 'Vincent', 'Vincenzo', 'Violetta',\n",
       "        'Vita', 'Vonda', 'Walter', 'Wellington', 'Wendell', 'Willodean',\n",
       "        'Windell', 'Winston', 'Yair', 'Yamilet', 'Yancy', 'Yoel', 'Zelda',\n",
       "        'Zillah'], dtype=object)]"
      ]
     },
     "execution_count": 69,
     "metadata": {},
     "output_type": "execute_result"
    }
   ],
   "source": [
    "ohe = OneHotEncoder()\n",
    "\n",
    "# fit data\n",
    "ohe.fit(data_copy[cat_cols_data])\n",
    "\n",
    "ohe.categories_"
   ]
  },
  {
   "cell_type": "code",
   "execution_count": 70,
   "metadata": {
    "ExecuteTime": {
     "end_time": "2021-06-10T13:20:58.936522Z",
     "start_time": "2021-06-10T13:20:56.837584Z"
    }
   },
   "outputs": [
    {
     "data": {
      "text/plain": [
       "array([[0., 0., 0., ..., 0., 0., 0.],\n",
       "       [0., 0., 0., ..., 0., 0., 0.],\n",
       "       [0., 0., 0., ..., 0., 0., 0.],\n",
       "       ...,\n",
       "       [0., 0., 0., ..., 0., 0., 0.],\n",
       "       [0., 0., 0., ..., 0., 0., 0.],\n",
       "       [0., 0., 0., ..., 0., 0., 0.]])"
      ]
     },
     "execution_count": 70,
     "metadata": {},
     "output_type": "execute_result"
    }
   ],
   "source": [
    "data_transf = ohe.transform(data_copy[cat_cols_data]).toarray()\n",
    "data_transf"
   ]
  },
  {
   "cell_type": "code",
   "execution_count": 71,
   "metadata": {
    "ExecuteTime": {
     "end_time": "2021-06-10T13:20:58.941501Z",
     "start_time": "2021-06-10T13:20:58.938005Z"
    }
   },
   "outputs": [
    {
     "data": {
      "text/plain": [
       "array(['x0_Aaronfurt', 'x0_Adamhaven', 'x0_Adamston', ..., 'x1_Yoel',\n",
       "       'x1_Zelda', 'x1_Zillah'], dtype=object)"
      ]
     },
     "execution_count": 71,
     "metadata": {},
     "output_type": "execute_result"
    }
   ],
   "source": [
    "transform_col_name = ohe.get_feature_names()\n",
    "transform_col_name"
   ]
  },
  {
   "cell_type": "code",
   "execution_count": 72,
   "metadata": {
    "ExecuteTime": {
     "end_time": "2021-06-10T13:20:58.946799Z",
     "start_time": "2021-06-10T13:20:58.943426Z"
    }
   },
   "outputs": [],
   "source": [
    "trans_cat_df = pd.DataFrame(data_transf, columns=transform_col_name)"
   ]
  },
  {
   "cell_type": "code",
   "execution_count": 73,
   "metadata": {
    "ExecuteTime": {
     "end_time": "2021-06-10T13:20:59.660574Z",
     "start_time": "2021-06-10T13:20:58.948873Z"
    }
   },
   "outputs": [
    {
     "data": {
      "text/html": [
       "<div>\n",
       "<style scoped>\n",
       "    .dataframe tbody tr th:only-of-type {\n",
       "        vertical-align: middle;\n",
       "    }\n",
       "\n",
       "    .dataframe tbody tr th {\n",
       "        vertical-align: top;\n",
       "    }\n",
       "\n",
       "    .dataframe thead th {\n",
       "        text-align: right;\n",
       "    }\n",
       "</style>\n",
       "<table border=\"1\" class=\"dataframe\">\n",
       "  <thead>\n",
       "    <tr style=\"text-align: right;\">\n",
       "      <th></th>\n",
       "      <th>x0_Aaronfurt</th>\n",
       "      <th>x0_Adamhaven</th>\n",
       "      <th>x0_Adamston</th>\n",
       "      <th>x0_Adrienneside</th>\n",
       "      <th>x0_Alanshire</th>\n",
       "      <th>x0_Alexisberg</th>\n",
       "      <th>x0_Alexishaven</th>\n",
       "      <th>x0_Alexisshire</th>\n",
       "      <th>x0_Allenchester</th>\n",
       "      <th>x0_Amberburgh</th>\n",
       "      <th>...</th>\n",
       "      <th>x1_Wendell</th>\n",
       "      <th>x1_Willodean</th>\n",
       "      <th>x1_Windell</th>\n",
       "      <th>x1_Winston</th>\n",
       "      <th>x1_Yair</th>\n",
       "      <th>x1_Yamilet</th>\n",
       "      <th>x1_Yancy</th>\n",
       "      <th>x1_Yoel</th>\n",
       "      <th>x1_Zelda</th>\n",
       "      <th>x1_Zillah</th>\n",
       "    </tr>\n",
       "  </thead>\n",
       "  <tbody>\n",
       "    <tr>\n",
       "      <th>0</th>\n",
       "      <td>0.0</td>\n",
       "      <td>0.0</td>\n",
       "      <td>0.0</td>\n",
       "      <td>0.0</td>\n",
       "      <td>0.0</td>\n",
       "      <td>0.0</td>\n",
       "      <td>0.0</td>\n",
       "      <td>0.0</td>\n",
       "      <td>0.0</td>\n",
       "      <td>0.0</td>\n",
       "      <td>...</td>\n",
       "      <td>0.0</td>\n",
       "      <td>0.0</td>\n",
       "      <td>0.0</td>\n",
       "      <td>0.0</td>\n",
       "      <td>0.0</td>\n",
       "      <td>0.0</td>\n",
       "      <td>0.0</td>\n",
       "      <td>0.0</td>\n",
       "      <td>0.0</td>\n",
       "      <td>0.0</td>\n",
       "    </tr>\n",
       "    <tr>\n",
       "      <th>1</th>\n",
       "      <td>0.0</td>\n",
       "      <td>0.0</td>\n",
       "      <td>0.0</td>\n",
       "      <td>0.0</td>\n",
       "      <td>0.0</td>\n",
       "      <td>0.0</td>\n",
       "      <td>0.0</td>\n",
       "      <td>0.0</td>\n",
       "      <td>0.0</td>\n",
       "      <td>0.0</td>\n",
       "      <td>...</td>\n",
       "      <td>0.0</td>\n",
       "      <td>0.0</td>\n",
       "      <td>0.0</td>\n",
       "      <td>0.0</td>\n",
       "      <td>0.0</td>\n",
       "      <td>0.0</td>\n",
       "      <td>0.0</td>\n",
       "      <td>0.0</td>\n",
       "      <td>0.0</td>\n",
       "      <td>0.0</td>\n",
       "    </tr>\n",
       "    <tr>\n",
       "      <th>2</th>\n",
       "      <td>0.0</td>\n",
       "      <td>0.0</td>\n",
       "      <td>0.0</td>\n",
       "      <td>0.0</td>\n",
       "      <td>0.0</td>\n",
       "      <td>0.0</td>\n",
       "      <td>0.0</td>\n",
       "      <td>0.0</td>\n",
       "      <td>0.0</td>\n",
       "      <td>0.0</td>\n",
       "      <td>...</td>\n",
       "      <td>0.0</td>\n",
       "      <td>0.0</td>\n",
       "      <td>0.0</td>\n",
       "      <td>0.0</td>\n",
       "      <td>0.0</td>\n",
       "      <td>0.0</td>\n",
       "      <td>0.0</td>\n",
       "      <td>0.0</td>\n",
       "      <td>0.0</td>\n",
       "      <td>0.0</td>\n",
       "    </tr>\n",
       "    <tr>\n",
       "      <th>3</th>\n",
       "      <td>0.0</td>\n",
       "      <td>0.0</td>\n",
       "      <td>0.0</td>\n",
       "      <td>0.0</td>\n",
       "      <td>0.0</td>\n",
       "      <td>0.0</td>\n",
       "      <td>0.0</td>\n",
       "      <td>0.0</td>\n",
       "      <td>0.0</td>\n",
       "      <td>0.0</td>\n",
       "      <td>...</td>\n",
       "      <td>0.0</td>\n",
       "      <td>0.0</td>\n",
       "      <td>0.0</td>\n",
       "      <td>0.0</td>\n",
       "      <td>0.0</td>\n",
       "      <td>0.0</td>\n",
       "      <td>0.0</td>\n",
       "      <td>0.0</td>\n",
       "      <td>0.0</td>\n",
       "      <td>0.0</td>\n",
       "    </tr>\n",
       "    <tr>\n",
       "      <th>4</th>\n",
       "      <td>0.0</td>\n",
       "      <td>0.0</td>\n",
       "      <td>0.0</td>\n",
       "      <td>0.0</td>\n",
       "      <td>0.0</td>\n",
       "      <td>0.0</td>\n",
       "      <td>0.0</td>\n",
       "      <td>0.0</td>\n",
       "      <td>0.0</td>\n",
       "      <td>0.0</td>\n",
       "      <td>...</td>\n",
       "      <td>0.0</td>\n",
       "      <td>0.0</td>\n",
       "      <td>0.0</td>\n",
       "      <td>0.0</td>\n",
       "      <td>0.0</td>\n",
       "      <td>0.0</td>\n",
       "      <td>0.0</td>\n",
       "      <td>0.0</td>\n",
       "      <td>0.0</td>\n",
       "      <td>0.0</td>\n",
       "    </tr>\n",
       "    <tr>\n",
       "      <th>...</th>\n",
       "      <td>...</td>\n",
       "      <td>...</td>\n",
       "      <td>...</td>\n",
       "      <td>...</td>\n",
       "      <td>...</td>\n",
       "      <td>...</td>\n",
       "      <td>...</td>\n",
       "      <td>...</td>\n",
       "      <td>...</td>\n",
       "      <td>...</td>\n",
       "      <td>...</td>\n",
       "      <td>...</td>\n",
       "      <td>...</td>\n",
       "      <td>...</td>\n",
       "      <td>...</td>\n",
       "      <td>...</td>\n",
       "      <td>...</td>\n",
       "      <td>...</td>\n",
       "      <td>...</td>\n",
       "      <td>...</td>\n",
       "      <td>...</td>\n",
       "    </tr>\n",
       "    <tr>\n",
       "      <th>499995</th>\n",
       "      <td>0.0</td>\n",
       "      <td>0.0</td>\n",
       "      <td>0.0</td>\n",
       "      <td>0.0</td>\n",
       "      <td>0.0</td>\n",
       "      <td>0.0</td>\n",
       "      <td>0.0</td>\n",
       "      <td>0.0</td>\n",
       "      <td>0.0</td>\n",
       "      <td>0.0</td>\n",
       "      <td>...</td>\n",
       "      <td>0.0</td>\n",
       "      <td>0.0</td>\n",
       "      <td>0.0</td>\n",
       "      <td>0.0</td>\n",
       "      <td>0.0</td>\n",
       "      <td>0.0</td>\n",
       "      <td>0.0</td>\n",
       "      <td>0.0</td>\n",
       "      <td>0.0</td>\n",
       "      <td>0.0</td>\n",
       "    </tr>\n",
       "    <tr>\n",
       "      <th>499996</th>\n",
       "      <td>0.0</td>\n",
       "      <td>0.0</td>\n",
       "      <td>0.0</td>\n",
       "      <td>0.0</td>\n",
       "      <td>0.0</td>\n",
       "      <td>0.0</td>\n",
       "      <td>0.0</td>\n",
       "      <td>0.0</td>\n",
       "      <td>0.0</td>\n",
       "      <td>0.0</td>\n",
       "      <td>...</td>\n",
       "      <td>0.0</td>\n",
       "      <td>0.0</td>\n",
       "      <td>0.0</td>\n",
       "      <td>0.0</td>\n",
       "      <td>0.0</td>\n",
       "      <td>0.0</td>\n",
       "      <td>0.0</td>\n",
       "      <td>0.0</td>\n",
       "      <td>0.0</td>\n",
       "      <td>0.0</td>\n",
       "    </tr>\n",
       "    <tr>\n",
       "      <th>499997</th>\n",
       "      <td>0.0</td>\n",
       "      <td>0.0</td>\n",
       "      <td>0.0</td>\n",
       "      <td>0.0</td>\n",
       "      <td>0.0</td>\n",
       "      <td>0.0</td>\n",
       "      <td>0.0</td>\n",
       "      <td>0.0</td>\n",
       "      <td>0.0</td>\n",
       "      <td>0.0</td>\n",
       "      <td>...</td>\n",
       "      <td>0.0</td>\n",
       "      <td>0.0</td>\n",
       "      <td>0.0</td>\n",
       "      <td>0.0</td>\n",
       "      <td>0.0</td>\n",
       "      <td>0.0</td>\n",
       "      <td>0.0</td>\n",
       "      <td>0.0</td>\n",
       "      <td>0.0</td>\n",
       "      <td>0.0</td>\n",
       "    </tr>\n",
       "    <tr>\n",
       "      <th>499998</th>\n",
       "      <td>0.0</td>\n",
       "      <td>0.0</td>\n",
       "      <td>0.0</td>\n",
       "      <td>0.0</td>\n",
       "      <td>0.0</td>\n",
       "      <td>0.0</td>\n",
       "      <td>0.0</td>\n",
       "      <td>0.0</td>\n",
       "      <td>0.0</td>\n",
       "      <td>0.0</td>\n",
       "      <td>...</td>\n",
       "      <td>0.0</td>\n",
       "      <td>0.0</td>\n",
       "      <td>0.0</td>\n",
       "      <td>0.0</td>\n",
       "      <td>0.0</td>\n",
       "      <td>0.0</td>\n",
       "      <td>0.0</td>\n",
       "      <td>0.0</td>\n",
       "      <td>0.0</td>\n",
       "      <td>0.0</td>\n",
       "    </tr>\n",
       "    <tr>\n",
       "      <th>499999</th>\n",
       "      <td>0.0</td>\n",
       "      <td>0.0</td>\n",
       "      <td>0.0</td>\n",
       "      <td>0.0</td>\n",
       "      <td>0.0</td>\n",
       "      <td>0.0</td>\n",
       "      <td>0.0</td>\n",
       "      <td>0.0</td>\n",
       "      <td>0.0</td>\n",
       "      <td>0.0</td>\n",
       "      <td>...</td>\n",
       "      <td>0.0</td>\n",
       "      <td>0.0</td>\n",
       "      <td>0.0</td>\n",
       "      <td>0.0</td>\n",
       "      <td>0.0</td>\n",
       "      <td>0.0</td>\n",
       "      <td>0.0</td>\n",
       "      <td>0.0</td>\n",
       "      <td>0.0</td>\n",
       "      <td>0.0</td>\n",
       "    </tr>\n",
       "  </tbody>\n",
       "</table>\n",
       "<p>500000 rows × 1147 columns</p>\n",
       "</div>"
      ],
      "text/plain": [
       "        x0_Aaronfurt  x0_Adamhaven  x0_Adamston  x0_Adrienneside  \\\n",
       "0                0.0           0.0          0.0              0.0   \n",
       "1                0.0           0.0          0.0              0.0   \n",
       "2                0.0           0.0          0.0              0.0   \n",
       "3                0.0           0.0          0.0              0.0   \n",
       "4                0.0           0.0          0.0              0.0   \n",
       "...              ...           ...          ...              ...   \n",
       "499995           0.0           0.0          0.0              0.0   \n",
       "499996           0.0           0.0          0.0              0.0   \n",
       "499997           0.0           0.0          0.0              0.0   \n",
       "499998           0.0           0.0          0.0              0.0   \n",
       "499999           0.0           0.0          0.0              0.0   \n",
       "\n",
       "        x0_Alanshire  x0_Alexisberg  x0_Alexishaven  x0_Alexisshire  \\\n",
       "0                0.0            0.0             0.0             0.0   \n",
       "1                0.0            0.0             0.0             0.0   \n",
       "2                0.0            0.0             0.0             0.0   \n",
       "3                0.0            0.0             0.0             0.0   \n",
       "4                0.0            0.0             0.0             0.0   \n",
       "...              ...            ...             ...             ...   \n",
       "499995           0.0            0.0             0.0             0.0   \n",
       "499996           0.0            0.0             0.0             0.0   \n",
       "499997           0.0            0.0             0.0             0.0   \n",
       "499998           0.0            0.0             0.0             0.0   \n",
       "499999           0.0            0.0             0.0             0.0   \n",
       "\n",
       "        x0_Allenchester  x0_Amberburgh  ...  x1_Wendell  x1_Willodean  \\\n",
       "0                   0.0            0.0  ...         0.0           0.0   \n",
       "1                   0.0            0.0  ...         0.0           0.0   \n",
       "2                   0.0            0.0  ...         0.0           0.0   \n",
       "3                   0.0            0.0  ...         0.0           0.0   \n",
       "4                   0.0            0.0  ...         0.0           0.0   \n",
       "...                 ...            ...  ...         ...           ...   \n",
       "499995              0.0            0.0  ...         0.0           0.0   \n",
       "499996              0.0            0.0  ...         0.0           0.0   \n",
       "499997              0.0            0.0  ...         0.0           0.0   \n",
       "499998              0.0            0.0  ...         0.0           0.0   \n",
       "499999              0.0            0.0  ...         0.0           0.0   \n",
       "\n",
       "        x1_Windell  x1_Winston  x1_Yair  x1_Yamilet  x1_Yancy  x1_Yoel  \\\n",
       "0              0.0         0.0      0.0         0.0       0.0      0.0   \n",
       "1              0.0         0.0      0.0         0.0       0.0      0.0   \n",
       "2              0.0         0.0      0.0         0.0       0.0      0.0   \n",
       "3              0.0         0.0      0.0         0.0       0.0      0.0   \n",
       "4              0.0         0.0      0.0         0.0       0.0      0.0   \n",
       "...            ...         ...      ...         ...       ...      ...   \n",
       "499995         0.0         0.0      0.0         0.0       0.0      0.0   \n",
       "499996         0.0         0.0      0.0         0.0       0.0      0.0   \n",
       "499997         0.0         0.0      0.0         0.0       0.0      0.0   \n",
       "499998         0.0         0.0      0.0         0.0       0.0      0.0   \n",
       "499999         0.0         0.0      0.0         0.0       0.0      0.0   \n",
       "\n",
       "        x1_Zelda  x1_Zillah  \n",
       "0            0.0        0.0  \n",
       "1            0.0        0.0  \n",
       "2            0.0        0.0  \n",
       "3            0.0        0.0  \n",
       "4            0.0        0.0  \n",
       "...          ...        ...  \n",
       "499995       0.0        0.0  \n",
       "499996       0.0        0.0  \n",
       "499997       0.0        0.0  \n",
       "499998       0.0        0.0  \n",
       "499999       0.0        0.0  \n",
       "\n",
       "[500000 rows x 1147 columns]"
      ]
     },
     "execution_count": 73,
     "metadata": {},
     "output_type": "execute_result"
    }
   ],
   "source": [
    "trans_cat_df"
   ]
  },
  {
   "cell_type": "markdown",
   "metadata": {},
   "source": [
    "#### Remove highly correlated OHE features\n"
   ]
  },
  {
   "cell_type": "code",
   "execution_count": 74,
   "metadata": {
    "ExecuteTime": {
     "end_time": "2021-06-10T13:21:04.894766Z",
     "start_time": "2021-06-10T13:20:59.662503Z"
    }
   },
   "outputs": [
    {
     "data": {
      "text/plain": [
       "{'x0_Derekview',\n",
       " 'x0_East Joshua',\n",
       " 'x0_East Lisa',\n",
       " 'x0_East Michelleport',\n",
       " 'x0_East Zacharyburgh',\n",
       " 'x0_Fullerland',\n",
       " 'x0_Gabrielview',\n",
       " 'x0_Garciahaven',\n",
       " 'x0_Garrettport',\n",
       " 'x0_Hopkinsberg',\n",
       " 'x0_Howardfort',\n",
       " 'x0_Jasonburgh',\n",
       " 'x0_Jenniferport',\n",
       " 'x0_Johnsonside',\n",
       " 'x0_Jonesbury',\n",
       " 'x0_Jordanfurt',\n",
       " 'x0_Karenhaven',\n",
       " 'x0_Kathyborough',\n",
       " 'x0_Lake Brandy',\n",
       " 'x0_Lake Jacobburgh',\n",
       " 'x0_Lake Jordanhaven',\n",
       " 'x0_Lake Michaelahaven',\n",
       " 'x0_Lake Molly',\n",
       " 'x0_Leblancside',\n",
       " 'x0_Lesliemouth',\n",
       " 'x0_Liuland',\n",
       " 'x0_Lynnmouth',\n",
       " 'x0_Martinezmouth',\n",
       " 'x0_Meganland',\n",
       " 'x0_Monicaport',\n",
       " 'x0_New Angelaberg',\n",
       " 'x0_New Carlaburgh',\n",
       " 'x0_New Catherineborough',\n",
       " 'x0_New James',\n",
       " 'x0_New Jennifer',\n",
       " 'x0_New Jessica',\n",
       " 'x0_New Kristi',\n",
       " 'x0_New Michael',\n",
       " 'x0_New Reginashire',\n",
       " 'x0_New Ryanmouth',\n",
       " 'x0_Nguyenchester',\n",
       " 'x0_Nicoleshire',\n",
       " 'x0_Noahburgh',\n",
       " 'x0_North Brent',\n",
       " 'x0_North Charlesstad',\n",
       " 'x0_North Ericbury',\n",
       " 'x0_North Jermaineland',\n",
       " 'x0_North Mark',\n",
       " 'x0_North Michaelside',\n",
       " 'x0_North Nathanmouth',\n",
       " 'x0_North Nicholas',\n",
       " 'x0_North Ryanfurt',\n",
       " 'x0_North Stevenburgh',\n",
       " 'x0_North Thomas',\n",
       " 'x0_North Tiffanyton',\n",
       " 'x0_Ortizshire',\n",
       " 'x0_Osbornemouth',\n",
       " 'x0_Parksport',\n",
       " 'x0_Patriciaton',\n",
       " 'x0_Perezshire',\n",
       " 'x0_Port Carlside',\n",
       " 'x0_Port Cynthiamouth',\n",
       " 'x0_Port Dylan',\n",
       " 'x0_Port Hannah',\n",
       " 'x0_Port Hannahbury',\n",
       " 'x0_Port James',\n",
       " 'x0_Port Janetshire',\n",
       " 'x0_Port Jasmine',\n",
       " 'x0_Port Jessica',\n",
       " 'x0_Port Joanna',\n",
       " 'x0_Port Joshuabury',\n",
       " 'x0_Port Lawrence',\n",
       " 'x0_Port Linda',\n",
       " 'x0_Port Matthewchester',\n",
       " 'x0_Port Pennyhaven',\n",
       " 'x0_Port Rachel',\n",
       " 'x0_Port Roseville',\n",
       " 'x0_Port Stacyhaven',\n",
       " 'x0_Port Tracy',\n",
       " 'x0_Port William',\n",
       " 'x0_Port Zachary',\n",
       " 'x0_Randallburgh',\n",
       " 'x0_Raymondmouth',\n",
       " 'x0_Raymouth',\n",
       " 'x0_Rebeccachester',\n",
       " 'x0_Reidmouth',\n",
       " 'x0_Rhondabury',\n",
       " 'x0_Robertfurt',\n",
       " 'x0_Robertport',\n",
       " 'x0_Robinsonport',\n",
       " 'x0_Ronaldshire',\n",
       " 'x0_Sanchezhaven',\n",
       " 'x0_Sanchezmouth',\n",
       " 'x0_Sanchezshire',\n",
       " 'x0_Sandraton',\n",
       " 'x0_Sarahton',\n",
       " 'x0_Saundersfort',\n",
       " 'x0_Shafferborough',\n",
       " 'x0_Shawnhaven',\n",
       " 'x0_Simmonschester',\n",
       " 'x0_Simpsonberg',\n",
       " 'x0_Smithside',\n",
       " 'x0_Smithstad',\n",
       " 'x0_South Alexistown',\n",
       " 'x0_South Amy',\n",
       " 'x0_South Andrefurt',\n",
       " 'x0_South Andrew',\n",
       " 'x0_South Andrewmouth',\n",
       " 'x0_South Anthonyburgh',\n",
       " 'x0_South Brian',\n",
       " 'x0_South Christinahaven',\n",
       " 'x0_South Dale',\n",
       " 'x0_South Debbieview',\n",
       " 'x0_South Edward',\n",
       " 'x0_South Erikmouth',\n",
       " 'x0_South Jennifer',\n",
       " 'x0_South Jesus',\n",
       " 'x0_South Kenneth',\n",
       " 'x0_South Kimberlyville',\n",
       " 'x0_South Laurieborough',\n",
       " 'x0_South Mark',\n",
       " 'x0_South Michaelbury',\n",
       " 'x0_South Michaelshire',\n",
       " 'x0_South Michele',\n",
       " 'x0_South Oliviaburgh',\n",
       " 'x0_South Pennyfurt',\n",
       " 'x0_South Richard',\n",
       " 'x0_South Sara',\n",
       " 'x0_South Sierra',\n",
       " 'x0_South Stephanie',\n",
       " 'x0_South Theresaborough',\n",
       " 'x0_Stacyton',\n",
       " 'x0_Staffordstad',\n",
       " 'x0_Stevechester',\n",
       " 'x0_Stevenchester',\n",
       " 'x0_Susanchester',\n",
       " 'x0_Thomasville',\n",
       " 'x0_Thompsonchester',\n",
       " 'x0_Timothyshire',\n",
       " 'x0_Tinaport',\n",
       " 'x0_Toddshire',\n",
       " 'x0_Toddton',\n",
       " 'x0_Trevorport',\n",
       " 'x0_Turnerfurt',\n",
       " 'x0_Webbmouth',\n",
       " 'x0_West Aaronfort',\n",
       " 'x0_West Alicia',\n",
       " 'x0_West Allison',\n",
       " 'x0_West Amy',\n",
       " 'x0_West Andrewbury',\n",
       " 'x0_West Annaville',\n",
       " 'x0_West Brenda',\n",
       " 'x0_West Christianfort',\n",
       " 'x0_West Christina',\n",
       " 'x0_West Christinachester',\n",
       " 'x0_West Cindy',\n",
       " 'x0_West Courtney',\n",
       " 'x0_West Cynthiaview',\n",
       " 'x0_West Darlene',\n",
       " 'x0_West David',\n",
       " 'x0_West Elizabeth',\n",
       " 'x0_West Elizabethstad',\n",
       " 'x0_West Ericaborough',\n",
       " 'x0_West Jakeshire',\n",
       " 'x0_West Jasmine',\n",
       " 'x0_West Johnside',\n",
       " 'x0_West Josephmouth',\n",
       " 'x0_West Justin',\n",
       " 'x0_West Michaelport',\n",
       " 'x0_West Michaelton',\n",
       " 'x0_West Miguelhaven',\n",
       " 'x0_West Rhonda',\n",
       " 'x0_West Shawnport',\n",
       " 'x0_West Steven',\n",
       " 'x0_West Tammy',\n",
       " 'x0_West Timothyville',\n",
       " 'x0_West Tina',\n",
       " 'x0_West Vickifurt',\n",
       " 'x0_Wheelerfort',\n",
       " 'x0_Wigginsborough',\n",
       " 'x0_Williamsside',\n",
       " 'x0_Wilsonbury',\n",
       " 'x0_Wilsonmouth',\n",
       " 'x0_Woodsland',\n",
       " 'x0_Woodstad',\n",
       " 'x0_Woodview',\n",
       " 'x0_Zacharyhaven',\n",
       " 'x0_Zacharyton',\n",
       " 'x0_Zimmermanchester',\n",
       " 'x1_Abigail',\n",
       " 'x1_Adda',\n",
       " 'x1_Adelia',\n",
       " 'x1_Adison',\n",
       " 'x1_Adonis',\n",
       " 'x1_Adrain',\n",
       " 'x1_Adriene',\n",
       " 'x1_Agusta',\n",
       " 'x1_Agustus',\n",
       " 'x1_Ahmad',\n",
       " 'x1_Aime',\n",
       " 'x1_Aiyanna',\n",
       " 'x1_Alaya',\n",
       " 'x1_Alayna',\n",
       " 'x1_Albert',\n",
       " 'x1_Albion',\n",
       " 'x1_Alecia',\n",
       " 'x1_Aleck',\n",
       " 'x1_Alek',\n",
       " 'x1_Alexander',\n",
       " 'x1_Alexandro',\n",
       " 'x1_Algot',\n",
       " 'x1_Alina',\n",
       " 'x1_Alison',\n",
       " 'x1_Alize',\n",
       " 'x1_Almina',\n",
       " 'x1_Althea',\n",
       " 'x1_Alysha',\n",
       " 'x1_Amare',\n",
       " 'x1_Amari',\n",
       " 'x1_America',\n",
       " 'x1_Amir',\n",
       " 'x1_Amya',\n",
       " 'x1_Andra',\n",
       " 'x1_Andreas',\n",
       " 'x1_Angeles',\n",
       " 'x1_Angelia',\n",
       " 'x1_Angelo',\n",
       " 'x1_Angie',\n",
       " 'x1_Angus',\n",
       " 'x1_Anibal',\n",
       " 'x1_Anita',\n",
       " 'x1_Anitra',\n",
       " 'x1_Ann',\n",
       " 'x1_Annemarie',\n",
       " 'x1_Antione',\n",
       " 'x1_Arah',\n",
       " 'x1_Archie',\n",
       " 'x1_Arlan',\n",
       " 'x1_Arlen',\n",
       " 'x1_Arline',\n",
       " 'x1_Arly',\n",
       " 'x1_Armando',\n",
       " 'x1_Armin',\n",
       " 'x1_Arnie',\n",
       " 'x1_Aron',\n",
       " 'x1_Arra',\n",
       " 'x1_Arther',\n",
       " 'x1_Artis',\n",
       " 'x1_Arvil',\n",
       " 'x1_Asa',\n",
       " 'x1_Ashlea',\n",
       " 'x1_Ashley',\n",
       " 'x1_Ashly',\n",
       " 'x1_Atha',\n",
       " 'x1_Aubrey',\n",
       " 'x1_Augusta',\n",
       " 'x1_Autumn',\n",
       " 'x1_Avon',\n",
       " 'x1_Axel',\n",
       " 'x1_Babyboy',\n",
       " 'x1_Ballard',\n",
       " 'x1_Barbra',\n",
       " 'x1_Barnett',\n",
       " 'x1_Barney',\n",
       " 'x1_Bea',\n",
       " 'x1_Beau',\n",
       " 'x1_Beckham',\n",
       " 'x1_Becky',\n",
       " 'x1_Bennett',\n",
       " 'x1_Berta',\n",
       " 'x1_Berton',\n",
       " 'x1_Bettyjane',\n",
       " 'x1_Beulah',\n",
       " 'x1_Bev',\n",
       " 'x1_Birdella',\n",
       " 'x1_Birtha',\n",
       " 'x1_Blaise',\n",
       " 'x1_Blane',\n",
       " 'x1_Bobbie',\n",
       " 'x1_Bradford',\n",
       " 'x1_Bradyn',\n",
       " 'x1_Branden',\n",
       " 'x1_Brandie',\n",
       " 'x1_Brandy',\n",
       " 'x1_Brenton',\n",
       " 'x1_Bret',\n",
       " 'x1_Brett',\n",
       " 'x1_Bridget',\n",
       " 'x1_Britta',\n",
       " 'x1_Bryant',\n",
       " 'x1_Brynlee',\n",
       " 'x1_Bryon',\n",
       " 'x1_Burleigh',\n",
       " 'x1_Burrel',\n",
       " 'x1_Caesar',\n",
       " 'x1_Callie',\n",
       " 'x1_Candi',\n",
       " 'x1_Candice',\n",
       " 'x1_Cappie',\n",
       " 'x1_Cari',\n",
       " 'x1_Carlo',\n",
       " 'x1_Carmel',\n",
       " 'x1_Carri',\n",
       " 'x1_Carrie',\n",
       " 'x1_Carrol',\n",
       " 'x1_Carter',\n",
       " 'x1_Casen',\n",
       " 'x1_Casey',\n",
       " 'x1_Catherine',\n",
       " 'x1_Cathey',\n",
       " 'x1_Cathryn',\n",
       " 'x1_Cathy',\n",
       " 'x1_Chaim',\n",
       " 'x1_Chancy',\n",
       " 'x1_Chanda',\n",
       " 'x1_Charlene',\n",
       " 'x1_Chelsea',\n",
       " 'x1_Chelsie',\n",
       " 'x1_Cherryl',\n",
       " 'x1_Chrissy',\n",
       " 'x1_Christopher',\n",
       " 'x1_Chrystal',\n",
       " 'x1_Clarabelle',\n",
       " 'x1_Clare',\n",
       " 'x1_Classie',\n",
       " 'x1_Claud',\n",
       " 'x1_Claus',\n",
       " 'x1_Cleora',\n",
       " 'x1_Cliff',\n",
       " 'x1_Clora',\n",
       " 'x1_Coby',\n",
       " 'x1_Codey',\n",
       " 'x1_Concepcion',\n",
       " 'x1_Consuelo',\n",
       " 'x1_Corbett',\n",
       " 'x1_Cordero',\n",
       " 'x1_Coretta',\n",
       " 'x1_Cory',\n",
       " 'x1_Courtney',\n",
       " 'x1_Cristopher',\n",
       " 'x1_Cruz',\n",
       " 'x1_Dakota',\n",
       " 'x1_Dana',\n",
       " 'x1_Dannielle',\n",
       " 'x1_Darian',\n",
       " 'x1_Darion',\n",
       " 'x1_Darl',\n",
       " 'x1_Darryll',\n",
       " 'x1_Daryl',\n",
       " 'x1_Deena',\n",
       " 'x1_Dejah',\n",
       " 'x1_Delfina',\n",
       " 'x1_Deliah',\n",
       " 'x1_Delton',\n",
       " 'x1_Denisha',\n",
       " 'x1_Dequan',\n",
       " 'x1_Deric',\n",
       " 'x1_Derwin',\n",
       " 'x1_Dessie',\n",
       " 'x1_Destin',\n",
       " 'x1_Devan',\n",
       " 'x1_Devon',\n",
       " 'x1_Devonte',\n",
       " 'x1_Dirk',\n",
       " 'x1_Dixie',\n",
       " 'x1_Doll',\n",
       " 'x1_Dollie',\n",
       " 'x1_Doloris',\n",
       " 'x1_Dominique',\n",
       " 'x1_Donal',\n",
       " 'x1_Donald',\n",
       " 'x1_Dorman',\n",
       " 'x1_Dorris',\n",
       " 'x1_Douglas',\n",
       " 'x1_Drew',\n",
       " 'x1_Drury',\n",
       " 'x1_Duwayne',\n",
       " 'x1_Dyan',\n",
       " 'x1_Dylon',\n",
       " 'x1_Earlie',\n",
       " 'x1_Earline',\n",
       " 'x1_Eda',\n",
       " 'x1_Eduardo',\n",
       " 'x1_Edyth',\n",
       " 'x1_Eldred',\n",
       " 'x1_Eleanor',\n",
       " 'x1_Elex',\n",
       " 'x1_Elgie',\n",
       " 'x1_Eliana',\n",
       " 'x1_Eliezer',\n",
       " 'x1_Elige',\n",
       " 'x1_Elise',\n",
       " 'x1_Elissa',\n",
       " 'x1_Elliana',\n",
       " 'x1_Elmyra',\n",
       " 'x1_Else',\n",
       " 'x1_Elvira',\n",
       " 'x1_Elwood',\n",
       " 'x1_Emery',\n",
       " 'x1_Emit',\n",
       " 'x1_Emma',\n",
       " 'x1_Emmalee',\n",
       " 'x1_Emmett',\n",
       " 'x1_Enriqueta',\n",
       " 'x1_Erland',\n",
       " 'x1_Ethie',\n",
       " 'x1_Ethyle',\n",
       " 'x1_Eudora',\n",
       " 'x1_Eulah',\n",
       " 'x1_Eva',\n",
       " 'x1_Evertt',\n",
       " 'x1_Evon',\n",
       " 'x1_Ewart',\n",
       " 'x1_Ezzard',\n",
       " 'x1_Fabian',\n",
       " 'x1_Felix',\n",
       " 'x1_Ferris',\n",
       " 'x1_Finley',\n",
       " 'x1_Fleeta',\n",
       " 'x1_Flora',\n",
       " 'x1_Florie',\n",
       " 'x1_Floyd',\n",
       " 'x1_Foster',\n",
       " 'x1_Francisquita',\n",
       " 'x1_Freddy',\n",
       " 'x1_French',\n",
       " 'x1_Fumiko',\n",
       " 'x1_Gael',\n",
       " 'x1_Gail',\n",
       " 'x1_Gardner',\n",
       " 'x1_Garrett',\n",
       " 'x1_Garrison',\n",
       " 'x1_Gavin',\n",
       " 'x1_Gayle',\n",
       " 'x1_Gerald',\n",
       " 'x1_Geralyn',\n",
       " 'x1_Gifford',\n",
       " 'x1_Gigi',\n",
       " 'x1_Giselle',\n",
       " 'x1_Giuseppe',\n",
       " 'x1_Gladstone',\n",
       " 'x1_Gladys',\n",
       " 'x1_Glendora',\n",
       " 'x1_Golden',\n",
       " 'x1_Goldia',\n",
       " 'x1_Gorden',\n",
       " 'x1_Gunnar',\n",
       " 'x1_Hailee',\n",
       " 'x1_Hakim',\n",
       " 'x1_Halsey',\n",
       " 'x1_Hanna',\n",
       " 'x1_Harden',\n",
       " 'x1_Hardie',\n",
       " 'x1_Harding',\n",
       " 'x1_Harrell',\n",
       " 'x1_Hart',\n",
       " 'x1_Hassan',\n",
       " 'x1_Helma',\n",
       " 'x1_Hershell',\n",
       " 'x1_Heyward',\n",
       " 'x1_Hoke',\n",
       " 'x1_Holden',\n",
       " 'x1_Hope',\n",
       " 'x1_Howell',\n",
       " 'x1_Hugo',\n",
       " 'x1_Hulda',\n",
       " 'x1_Hyrum',\n",
       " 'x1_Idabelle',\n",
       " 'x1_Ila',\n",
       " 'x1_Iliana',\n",
       " 'x1_Illa',\n",
       " 'x1_Ima',\n",
       " 'x1_Ina',\n",
       " 'x1_Inga',\n",
       " 'x1_Ione',\n",
       " 'x1_Irene',\n",
       " 'x1_Iridian',\n",
       " 'x1_Irine',\n",
       " 'x1_Irven',\n",
       " 'x1_Isidor',\n",
       " 'x1_Isidore',\n",
       " 'x1_Israel',\n",
       " 'x1_Iyanna',\n",
       " 'x1_Izola',\n",
       " 'x1_Jace',\n",
       " 'x1_Jaclyn',\n",
       " 'x1_Jada',\n",
       " 'x1_Jadiel',\n",
       " 'x1_Jahiem',\n",
       " 'x1_Jaidyn',\n",
       " 'x1_Jaime',\n",
       " 'x1_Jaleel',\n",
       " 'x1_James',\n",
       " 'x1_Jamir',\n",
       " 'x1_Jammie',\n",
       " 'x1_Janelle',\n",
       " 'x1_Janice',\n",
       " 'x1_Jaret',\n",
       " 'x1_Jasper',\n",
       " 'x1_Jaymes',\n",
       " 'x1_Jazmine',\n",
       " 'x1_Jenelle',\n",
       " 'x1_Jerald',\n",
       " 'x1_Jeramiah',\n",
       " 'x1_Jeremey',\n",
       " 'x1_Jermey',\n",
       " 'x1_Jessi',\n",
       " 'x1_Jesus',\n",
       " 'x1_Jewell',\n",
       " 'x1_Jillian',\n",
       " 'x1_Jimmie',\n",
       " 'x1_Jimmy',\n",
       " 'x1_Job',\n",
       " 'x1_Jobe',\n",
       " 'x1_Jocelyne',\n",
       " 'x1_Joe',\n",
       " 'x1_Joelle',\n",
       " 'x1_Joey',\n",
       " 'x1_Johney',\n",
       " 'x1_Johnnie',\n",
       " 'x1_Johnpaul',\n",
       " 'x1_Jonna',\n",
       " 'x1_Jonnie',\n",
       " 'x1_Jordon',\n",
       " 'x1_Jordy',\n",
       " 'x1_Josh',\n",
       " 'x1_Josiah',\n",
       " 'x1_Jovanny',\n",
       " 'x1_Joycelyn',\n",
       " 'x1_Judith',\n",
       " 'x1_Juli',\n",
       " 'x1_Julio',\n",
       " 'x1_Kaci',\n",
       " 'x1_Kaila',\n",
       " 'x1_Kailee',\n",
       " 'x1_Kala',\n",
       " 'x1_Kaleena',\n",
       " 'x1_Kamden',\n",
       " 'x1_Kamya',\n",
       " 'x1_Kara',\n",
       " 'x1_Karim',\n",
       " 'x1_Karley',\n",
       " 'x1_Karyn',\n",
       " 'x1_Katia',\n",
       " 'x1_Katie',\n",
       " 'x1_Kaylah',\n",
       " 'x1_Kayleen',\n",
       " 'x1_Kelley',\n",
       " 'x1_Kelly',\n",
       " 'x1_Kendal',\n",
       " 'x1_Kendall',\n",
       " 'x1_Kennedy',\n",
       " 'x1_Kerry',\n",
       " 'x1_Kesha',\n",
       " 'x1_Keven',\n",
       " 'x1_Keyla',\n",
       " 'x1_Khalilah',\n",
       " 'x1_Kiara',\n",
       " 'x1_Kimora',\n",
       " 'x1_Kit',\n",
       " 'x1_Kiyoko',\n",
       " 'x1_Kobe',\n",
       " 'x1_Kody',\n",
       " 'x1_Kolten',\n",
       " 'x1_Konnor',\n",
       " 'x1_Korbin',\n",
       " 'x1_Kristen',\n",
       " 'x1_Krystal',\n",
       " 'x1_Kurt',\n",
       " 'x1_Kwame',\n",
       " 'x1_Kyle',\n",
       " 'x1_Kylee',\n",
       " 'x1_Kyra',\n",
       " 'x1_Lainey',\n",
       " 'x1_Laisha',\n",
       " 'x1_Lakisha',\n",
       " 'x1_Lamar',\n",
       " 'x1_Lashonda',\n",
       " 'x1_Lashunda',\n",
       " 'x1_Latarsha',\n",
       " 'x1_Latoyia',\n",
       " 'x1_Launa',\n",
       " 'x1_Laverna',\n",
       " 'x1_Laverne',\n",
       " 'x1_Lawton',\n",
       " 'x1_Leana',\n",
       " 'x1_Leatha',\n",
       " 'x1_Leisha',\n",
       " 'x1_Lelah',\n",
       " 'x1_Lemmie',\n",
       " 'x1_Lemon',\n",
       " 'x1_Lenard',\n",
       " 'x1_Leonidas',\n",
       " 'x1_Leopoldo',\n",
       " 'x1_Lexie',\n",
       " 'x1_Libbie',\n",
       " 'x1_Lilie',\n",
       " 'x1_Lilla',\n",
       " 'x1_Lillard',\n",
       " 'x1_Lillia',\n",
       " 'x1_Lily',\n",
       " 'x1_Lindell',\n",
       " 'x1_Lindsey',\n",
       " 'x1_Linette',\n",
       " 'x1_Linwood',\n",
       " 'x1_Lissa',\n",
       " 'x1_Logan',\n",
       " 'x1_London',\n",
       " 'x1_Londyn',\n",
       " 'x1_Lonna',\n",
       " 'x1_Lonnie',\n",
       " 'x1_Lora',\n",
       " 'x1_Lorna',\n",
       " 'x1_Lorraine',\n",
       " 'x1_Lorrayne',\n",
       " 'x1_Lorrie',\n",
       " 'x1_Lott',\n",
       " 'x1_Lottie',\n",
       " 'x1_Louella',\n",
       " 'x1_Lourdes',\n",
       " 'x1_Love',\n",
       " 'x1_Lucile',\n",
       " 'x1_Lucindy',\n",
       " 'x1_Lucious',\n",
       " 'x1_Luetta',\n",
       " 'x1_Lum',\n",
       " 'x1_Luna',\n",
       " 'x1_Lurana',\n",
       " 'x1_Luther',\n",
       " 'x1_Luvenia',\n",
       " 'x1_Lydia',\n",
       " 'x1_Lynne',\n",
       " 'x1_Madge',\n",
       " 'x1_Madison',\n",
       " 'x1_Madonna',\n",
       " 'x1_Mae',\n",
       " 'x1_Maiya',\n",
       " 'x1_Makaila',\n",
       " 'x1_Makayla',\n",
       " 'x1_Malachi',\n",
       " 'x1_Malaki',\n",
       " 'x1_Malcolm',\n",
       " 'x1_Mallie',\n",
       " 'x1_Mamie',\n",
       " 'x1_Manda',\n",
       " 'x1_Manerva',\n",
       " 'x1_Mannie',\n",
       " 'x1_Mansfield',\n",
       " 'x1_Manuel',\n",
       " 'x1_Marcela',\n",
       " 'x1_Marci',\n",
       " 'x1_Maren',\n",
       " 'x1_Mari',\n",
       " 'x1_Mariam',\n",
       " 'x1_Mariano',\n",
       " 'x1_Maricela',\n",
       " 'x1_Marietta',\n",
       " 'x1_Marina',\n",
       " 'x1_Marissa',\n",
       " 'x1_Marius',\n",
       " 'x1_Markus',\n",
       " 'x1_Marla',\n",
       " 'x1_Marleigh',\n",
       " 'x1_Marques',\n",
       " 'x1_Marshall',\n",
       " 'x1_Martha',\n",
       " 'x1_Maryellen',\n",
       " 'x1_Marylou',\n",
       " 'x1_Mathew',\n",
       " 'x1_Mathias',\n",
       " 'x1_Matilde',\n",
       " 'x1_Maureen',\n",
       " 'x1_Maurine',\n",
       " 'x1_May',\n",
       " 'x1_Melbourne',\n",
       " 'x1_Melissia',\n",
       " 'x1_Mendy',\n",
       " 'x1_Merl',\n",
       " 'x1_Michal',\n",
       " 'x1_Mickey',\n",
       " 'x1_Mikaela',\n",
       " 'x1_Mikala',\n",
       " 'x1_Milburn',\n",
       " 'x1_Mildred',\n",
       " 'x1_Mina',\n",
       " 'x1_Mira',\n",
       " 'x1_Mirna',\n",
       " 'x1_Mitzi',\n",
       " 'x1_Mohamed',\n",
       " 'x1_Molly',\n",
       " 'x1_Mya',\n",
       " 'x1_Myrl',\n",
       " 'x1_Napoleon',\n",
       " 'x1_Nathanael',\n",
       " 'x1_Neha',\n",
       " 'x1_Neoma',\n",
       " 'x1_Netta',\n",
       " 'x1_Newell',\n",
       " 'x1_Newman',\n",
       " 'x1_Nick',\n",
       " 'x1_Nigel',\n",
       " 'x1_Nona',\n",
       " 'x1_Nonie',\n",
       " 'x1_Noreen',\n",
       " 'x1_North',\n",
       " 'x1_Olena',\n",
       " 'x1_Oney',\n",
       " 'x1_Opal',\n",
       " 'x1_Oral',\n",
       " 'x1_Orla',\n",
       " 'x1_Orland',\n",
       " 'x1_Orlando',\n",
       " 'x1_Orvel',\n",
       " 'x1_Orvis',\n",
       " 'x1_Otelia',\n",
       " 'x1_Ottilie',\n",
       " 'x1_Ottis',\n",
       " 'x1_Ozie',\n",
       " 'x1_Page',\n",
       " 'x1_Pauline',\n",
       " 'x1_Pearlene',\n",
       " 'x1_Peggie',\n",
       " 'x1_Phylis',\n",
       " 'x1_Plummer',\n",
       " 'x1_Powell',\n",
       " 'x1_Pranav',\n",
       " 'x1_Press',\n",
       " 'x1_Rachael',\n",
       " 'x1_Rakeem',\n",
       " 'x1_Ramiro',\n",
       " 'x1_Randell',\n",
       " 'x1_Raquan',\n",
       " 'x1_Raul',\n",
       " 'x1_Renae',\n",
       " 'x1_Rennie',\n",
       " 'x1_Retha',\n",
       " 'x1_Reva',\n",
       " 'x1_Rex',\n",
       " 'x1_Rhett',\n",
       " 'x1_Rhona',\n",
       " 'x1_Rick',\n",
       " 'x1_Rickie',\n",
       " 'x1_Rishi',\n",
       " 'x1_Ritchie',\n",
       " 'x1_Roberta',\n",
       " 'x1_Rodrigo',\n",
       " 'x1_Romello',\n",
       " 'x1_Romona',\n",
       " 'x1_Ronna',\n",
       " 'x1_Rozanne',\n",
       " 'x1_Ruie',\n",
       " 'x1_Rylie',\n",
       " 'x1_Sabastian',\n",
       " 'x1_Sage',\n",
       " 'x1_Samie',\n",
       " 'x1_Sariah',\n",
       " 'x1_Sarrah',\n",
       " 'x1_Savilla',\n",
       " 'x1_Savion',\n",
       " 'x1_Schuyler',\n",
       " 'x1_Scot',\n",
       " 'x1_Shameka',\n",
       " 'x1_Shara',\n",
       " 'x1_Sharen',\n",
       " 'x1_Shavonne',\n",
       " 'x1_Shawnna',\n",
       " 'x1_Shedrick',\n",
       " 'x1_Shellie',\n",
       " 'x1_Shelvie',\n",
       " 'x1_Shepherd',\n",
       " 'x1_Sherita',\n",
       " 'x1_Sherwin',\n",
       " 'x1_Shirlene',\n",
       " 'x1_Shirley',\n",
       " 'x1_Shirlie',\n",
       " 'x1_Sidney',\n",
       " 'x1_Sigmund',\n",
       " 'x1_Simon',\n",
       " 'x1_Sonny',\n",
       " 'x1_Squire',\n",
       " 'x1_Stacy',\n",
       " 'x1_Starling',\n",
       " 'x1_Stephaine',\n",
       " 'x1_Susann',\n",
       " 'x1_Susie',\n",
       " 'x1_Sydney',\n",
       " 'x1_Symone',\n",
       " 'x1_Tambra',\n",
       " 'x1_Tamera',\n",
       " 'x1_Tana',\n",
       " 'x1_Tanner',\n",
       " 'x1_Tawanda',\n",
       " 'x1_Tawnya',\n",
       " 'x1_Tayler',\n",
       " 'x1_Taylor',\n",
       " 'x1_Ted',\n",
       " 'x1_Tennie',\n",
       " 'x1_Terance',\n",
       " 'x1_Terence',\n",
       " 'x1_Terra',\n",
       " 'x1_Tex',\n",
       " 'x1_Thaddeus',\n",
       " 'x1_Thalia',\n",
       " 'x1_Theda',\n",
       " 'x1_Theodocia',\n",
       " 'x1_Theresia',\n",
       " 'x1_Theron',\n",
       " 'x1_Tilda',\n",
       " 'x1_Tillman',\n",
       " 'x1_Tim',\n",
       " 'x1_Torrey',\n",
       " 'x1_Toshio',\n",
       " 'x1_Trace',\n",
       " 'x1_Traci',\n",
       " 'x1_Trena',\n",
       " 'x1_Trent',\n",
       " 'x1_Treva',\n",
       " 'x1_Trevor',\n",
       " 'x1_Trish',\n",
       " 'x1_Trudie',\n",
       " 'x1_Tuan',\n",
       " 'x1_Tyrell',\n",
       " 'x1_Unique',\n",
       " 'x1_Uriah',\n",
       " 'x1_Vada',\n",
       " 'x1_Valentin',\n",
       " 'x1_Valentina',\n",
       " 'x1_Valentino',\n",
       " 'x1_Van',\n",
       " 'x1_Vanessa',\n",
       " 'x1_Vara',\n",
       " 'x1_Velia',\n",
       " 'x1_Velma',\n",
       " 'x1_Velva',\n",
       " 'x1_Verlin',\n",
       " 'x1_Vern',\n",
       " 'x1_Vernon',\n",
       " 'x1_Vick',\n",
       " 'x1_Victoriano',\n",
       " 'x1_Vicy',\n",
       " 'x1_Vincent',\n",
       " 'x1_Vincenzo',\n",
       " 'x1_Violetta',\n",
       " 'x1_Vita',\n",
       " 'x1_Vonda',\n",
       " 'x1_Walter',\n",
       " 'x1_Wellington',\n",
       " 'x1_Wendell',\n",
       " 'x1_Willodean',\n",
       " 'x1_Windell',\n",
       " 'x1_Winston',\n",
       " 'x1_Yair',\n",
       " 'x1_Yamilet',\n",
       " 'x1_Yancy',\n",
       " 'x1_Yoel',\n",
       " 'x1_Zelda',\n",
       " 'x1_Zillah'}"
      ]
     },
     "execution_count": 74,
     "metadata": {},
     "output_type": "execute_result"
    }
   ],
   "source": [
    "# loop to get the columns with highly correlated features\n",
    "\n",
    "drop_final = set()\n",
    "for i in range(len(trans_cat_df.columns)):\n",
    "    for j in range(i):\n",
    "        # this number could be lower or higher, depending on the data and number of features\n",
    "        if abs(trans_cat_df.iloc[i, j]) > 0.85:\n",
    "            colname = trans_cat_df.columns[i]\n",
    "            drop_final.add(colname)\n",
    "drop_final"
   ]
  },
  {
   "cell_type": "code",
   "execution_count": 75,
   "metadata": {
    "ExecuteTime": {
     "end_time": "2021-06-10T13:21:04.898745Z",
     "start_time": "2021-06-10T13:21:04.895971Z"
    }
   },
   "outputs": [
    {
     "data": {
      "text/plain": [
       "857"
      ]
     },
     "execution_count": 75,
     "metadata": {},
     "output_type": "execute_result"
    }
   ],
   "source": [
    "len(drop_final)"
   ]
  },
  {
   "cell_type": "code",
   "execution_count": 76,
   "metadata": {
    "ExecuteTime": {
     "end_time": "2021-06-10T13:21:05.904623Z",
     "start_time": "2021-06-10T13:21:04.900186Z"
    }
   },
   "outputs": [],
   "source": [
    "trans_cat_df=trans_cat_df.drop(columns=drop_final)"
   ]
  },
  {
   "cell_type": "code",
   "execution_count": 77,
   "metadata": {
    "ExecuteTime": {
     "end_time": "2021-06-10T13:21:06.529341Z",
     "start_time": "2021-06-10T13:21:05.906631Z"
    }
   },
   "outputs": [
    {
     "data": {
      "text/html": [
       "<div>\n",
       "<style scoped>\n",
       "    .dataframe tbody tr th:only-of-type {\n",
       "        vertical-align: middle;\n",
       "    }\n",
       "\n",
       "    .dataframe tbody tr th {\n",
       "        vertical-align: top;\n",
       "    }\n",
       "\n",
       "    .dataframe thead th {\n",
       "        text-align: right;\n",
       "    }\n",
       "</style>\n",
       "<table border=\"1\" class=\"dataframe\">\n",
       "  <thead>\n",
       "    <tr style=\"text-align: right;\">\n",
       "      <th></th>\n",
       "      <th>x0_Aaronfurt</th>\n",
       "      <th>x0_Adamhaven</th>\n",
       "      <th>x0_Adamston</th>\n",
       "      <th>x0_Adrienneside</th>\n",
       "      <th>x0_Alanshire</th>\n",
       "      <th>x0_Alexisberg</th>\n",
       "      <th>x0_Alexishaven</th>\n",
       "      <th>x0_Alexisshire</th>\n",
       "      <th>x0_Allenchester</th>\n",
       "      <th>x0_Amberburgh</th>\n",
       "      <th>...</th>\n",
       "      <th>x0_Summersville</th>\n",
       "      <th>x0_Tammyhaven</th>\n",
       "      <th>x0_Terristad</th>\n",
       "      <th>x0_Tonimouth</th>\n",
       "      <th>x0_Turnerville</th>\n",
       "      <th>x0_Vargasbury</th>\n",
       "      <th>x0_West Amandaland</th>\n",
       "      <th>x0_West Elizabethtown</th>\n",
       "      <th>x0_West Patriciaberg</th>\n",
       "      <th>x0_West Valerieland</th>\n",
       "    </tr>\n",
       "  </thead>\n",
       "  <tbody>\n",
       "    <tr>\n",
       "      <th>0</th>\n",
       "      <td>0.0</td>\n",
       "      <td>0.0</td>\n",
       "      <td>0.0</td>\n",
       "      <td>0.0</td>\n",
       "      <td>0.0</td>\n",
       "      <td>0.0</td>\n",
       "      <td>0.0</td>\n",
       "      <td>0.0</td>\n",
       "      <td>0.0</td>\n",
       "      <td>0.0</td>\n",
       "      <td>...</td>\n",
       "      <td>0.0</td>\n",
       "      <td>0.0</td>\n",
       "      <td>0.0</td>\n",
       "      <td>0.0</td>\n",
       "      <td>0.0</td>\n",
       "      <td>0.0</td>\n",
       "      <td>0.0</td>\n",
       "      <td>0.0</td>\n",
       "      <td>0.0</td>\n",
       "      <td>0.0</td>\n",
       "    </tr>\n",
       "    <tr>\n",
       "      <th>1</th>\n",
       "      <td>0.0</td>\n",
       "      <td>0.0</td>\n",
       "      <td>0.0</td>\n",
       "      <td>0.0</td>\n",
       "      <td>0.0</td>\n",
       "      <td>0.0</td>\n",
       "      <td>0.0</td>\n",
       "      <td>0.0</td>\n",
       "      <td>0.0</td>\n",
       "      <td>0.0</td>\n",
       "      <td>...</td>\n",
       "      <td>0.0</td>\n",
       "      <td>0.0</td>\n",
       "      <td>0.0</td>\n",
       "      <td>0.0</td>\n",
       "      <td>0.0</td>\n",
       "      <td>0.0</td>\n",
       "      <td>0.0</td>\n",
       "      <td>0.0</td>\n",
       "      <td>0.0</td>\n",
       "      <td>0.0</td>\n",
       "    </tr>\n",
       "    <tr>\n",
       "      <th>2</th>\n",
       "      <td>0.0</td>\n",
       "      <td>0.0</td>\n",
       "      <td>0.0</td>\n",
       "      <td>0.0</td>\n",
       "      <td>0.0</td>\n",
       "      <td>0.0</td>\n",
       "      <td>0.0</td>\n",
       "      <td>0.0</td>\n",
       "      <td>0.0</td>\n",
       "      <td>0.0</td>\n",
       "      <td>...</td>\n",
       "      <td>0.0</td>\n",
       "      <td>0.0</td>\n",
       "      <td>0.0</td>\n",
       "      <td>0.0</td>\n",
       "      <td>0.0</td>\n",
       "      <td>0.0</td>\n",
       "      <td>0.0</td>\n",
       "      <td>0.0</td>\n",
       "      <td>0.0</td>\n",
       "      <td>0.0</td>\n",
       "    </tr>\n",
       "    <tr>\n",
       "      <th>3</th>\n",
       "      <td>0.0</td>\n",
       "      <td>0.0</td>\n",
       "      <td>0.0</td>\n",
       "      <td>0.0</td>\n",
       "      <td>0.0</td>\n",
       "      <td>0.0</td>\n",
       "      <td>0.0</td>\n",
       "      <td>0.0</td>\n",
       "      <td>0.0</td>\n",
       "      <td>0.0</td>\n",
       "      <td>...</td>\n",
       "      <td>0.0</td>\n",
       "      <td>0.0</td>\n",
       "      <td>0.0</td>\n",
       "      <td>0.0</td>\n",
       "      <td>0.0</td>\n",
       "      <td>0.0</td>\n",
       "      <td>0.0</td>\n",
       "      <td>0.0</td>\n",
       "      <td>0.0</td>\n",
       "      <td>0.0</td>\n",
       "    </tr>\n",
       "    <tr>\n",
       "      <th>4</th>\n",
       "      <td>0.0</td>\n",
       "      <td>0.0</td>\n",
       "      <td>0.0</td>\n",
       "      <td>0.0</td>\n",
       "      <td>0.0</td>\n",
       "      <td>0.0</td>\n",
       "      <td>0.0</td>\n",
       "      <td>0.0</td>\n",
       "      <td>0.0</td>\n",
       "      <td>0.0</td>\n",
       "      <td>...</td>\n",
       "      <td>0.0</td>\n",
       "      <td>0.0</td>\n",
       "      <td>0.0</td>\n",
       "      <td>0.0</td>\n",
       "      <td>0.0</td>\n",
       "      <td>0.0</td>\n",
       "      <td>0.0</td>\n",
       "      <td>0.0</td>\n",
       "      <td>0.0</td>\n",
       "      <td>0.0</td>\n",
       "    </tr>\n",
       "    <tr>\n",
       "      <th>...</th>\n",
       "      <td>...</td>\n",
       "      <td>...</td>\n",
       "      <td>...</td>\n",
       "      <td>...</td>\n",
       "      <td>...</td>\n",
       "      <td>...</td>\n",
       "      <td>...</td>\n",
       "      <td>...</td>\n",
       "      <td>...</td>\n",
       "      <td>...</td>\n",
       "      <td>...</td>\n",
       "      <td>...</td>\n",
       "      <td>...</td>\n",
       "      <td>...</td>\n",
       "      <td>...</td>\n",
       "      <td>...</td>\n",
       "      <td>...</td>\n",
       "      <td>...</td>\n",
       "      <td>...</td>\n",
       "      <td>...</td>\n",
       "      <td>...</td>\n",
       "    </tr>\n",
       "    <tr>\n",
       "      <th>499995</th>\n",
       "      <td>0.0</td>\n",
       "      <td>0.0</td>\n",
       "      <td>0.0</td>\n",
       "      <td>0.0</td>\n",
       "      <td>0.0</td>\n",
       "      <td>0.0</td>\n",
       "      <td>0.0</td>\n",
       "      <td>0.0</td>\n",
       "      <td>0.0</td>\n",
       "      <td>0.0</td>\n",
       "      <td>...</td>\n",
       "      <td>0.0</td>\n",
       "      <td>0.0</td>\n",
       "      <td>0.0</td>\n",
       "      <td>0.0</td>\n",
       "      <td>0.0</td>\n",
       "      <td>0.0</td>\n",
       "      <td>0.0</td>\n",
       "      <td>0.0</td>\n",
       "      <td>0.0</td>\n",
       "      <td>0.0</td>\n",
       "    </tr>\n",
       "    <tr>\n",
       "      <th>499996</th>\n",
       "      <td>0.0</td>\n",
       "      <td>0.0</td>\n",
       "      <td>0.0</td>\n",
       "      <td>0.0</td>\n",
       "      <td>0.0</td>\n",
       "      <td>0.0</td>\n",
       "      <td>0.0</td>\n",
       "      <td>0.0</td>\n",
       "      <td>0.0</td>\n",
       "      <td>0.0</td>\n",
       "      <td>...</td>\n",
       "      <td>0.0</td>\n",
       "      <td>0.0</td>\n",
       "      <td>0.0</td>\n",
       "      <td>0.0</td>\n",
       "      <td>0.0</td>\n",
       "      <td>0.0</td>\n",
       "      <td>0.0</td>\n",
       "      <td>0.0</td>\n",
       "      <td>0.0</td>\n",
       "      <td>0.0</td>\n",
       "    </tr>\n",
       "    <tr>\n",
       "      <th>499997</th>\n",
       "      <td>0.0</td>\n",
       "      <td>0.0</td>\n",
       "      <td>0.0</td>\n",
       "      <td>0.0</td>\n",
       "      <td>0.0</td>\n",
       "      <td>0.0</td>\n",
       "      <td>0.0</td>\n",
       "      <td>0.0</td>\n",
       "      <td>0.0</td>\n",
       "      <td>0.0</td>\n",
       "      <td>...</td>\n",
       "      <td>0.0</td>\n",
       "      <td>0.0</td>\n",
       "      <td>0.0</td>\n",
       "      <td>0.0</td>\n",
       "      <td>0.0</td>\n",
       "      <td>0.0</td>\n",
       "      <td>0.0</td>\n",
       "      <td>0.0</td>\n",
       "      <td>0.0</td>\n",
       "      <td>1.0</td>\n",
       "    </tr>\n",
       "    <tr>\n",
       "      <th>499998</th>\n",
       "      <td>0.0</td>\n",
       "      <td>0.0</td>\n",
       "      <td>0.0</td>\n",
       "      <td>0.0</td>\n",
       "      <td>0.0</td>\n",
       "      <td>0.0</td>\n",
       "      <td>0.0</td>\n",
       "      <td>0.0</td>\n",
       "      <td>0.0</td>\n",
       "      <td>0.0</td>\n",
       "      <td>...</td>\n",
       "      <td>0.0</td>\n",
       "      <td>0.0</td>\n",
       "      <td>0.0</td>\n",
       "      <td>0.0</td>\n",
       "      <td>0.0</td>\n",
       "      <td>0.0</td>\n",
       "      <td>0.0</td>\n",
       "      <td>0.0</td>\n",
       "      <td>0.0</td>\n",
       "      <td>0.0</td>\n",
       "    </tr>\n",
       "    <tr>\n",
       "      <th>499999</th>\n",
       "      <td>0.0</td>\n",
       "      <td>0.0</td>\n",
       "      <td>0.0</td>\n",
       "      <td>0.0</td>\n",
       "      <td>0.0</td>\n",
       "      <td>0.0</td>\n",
       "      <td>0.0</td>\n",
       "      <td>0.0</td>\n",
       "      <td>0.0</td>\n",
       "      <td>0.0</td>\n",
       "      <td>...</td>\n",
       "      <td>0.0</td>\n",
       "      <td>0.0</td>\n",
       "      <td>0.0</td>\n",
       "      <td>0.0</td>\n",
       "      <td>0.0</td>\n",
       "      <td>0.0</td>\n",
       "      <td>0.0</td>\n",
       "      <td>0.0</td>\n",
       "      <td>0.0</td>\n",
       "      <td>0.0</td>\n",
       "    </tr>\n",
       "  </tbody>\n",
       "</table>\n",
       "<p>500000 rows × 290 columns</p>\n",
       "</div>"
      ],
      "text/plain": [
       "        x0_Aaronfurt  x0_Adamhaven  x0_Adamston  x0_Adrienneside  \\\n",
       "0                0.0           0.0          0.0              0.0   \n",
       "1                0.0           0.0          0.0              0.0   \n",
       "2                0.0           0.0          0.0              0.0   \n",
       "3                0.0           0.0          0.0              0.0   \n",
       "4                0.0           0.0          0.0              0.0   \n",
       "...              ...           ...          ...              ...   \n",
       "499995           0.0           0.0          0.0              0.0   \n",
       "499996           0.0           0.0          0.0              0.0   \n",
       "499997           0.0           0.0          0.0              0.0   \n",
       "499998           0.0           0.0          0.0              0.0   \n",
       "499999           0.0           0.0          0.0              0.0   \n",
       "\n",
       "        x0_Alanshire  x0_Alexisberg  x0_Alexishaven  x0_Alexisshire  \\\n",
       "0                0.0            0.0             0.0             0.0   \n",
       "1                0.0            0.0             0.0             0.0   \n",
       "2                0.0            0.0             0.0             0.0   \n",
       "3                0.0            0.0             0.0             0.0   \n",
       "4                0.0            0.0             0.0             0.0   \n",
       "...              ...            ...             ...             ...   \n",
       "499995           0.0            0.0             0.0             0.0   \n",
       "499996           0.0            0.0             0.0             0.0   \n",
       "499997           0.0            0.0             0.0             0.0   \n",
       "499998           0.0            0.0             0.0             0.0   \n",
       "499999           0.0            0.0             0.0             0.0   \n",
       "\n",
       "        x0_Allenchester  x0_Amberburgh  ...  x0_Summersville  x0_Tammyhaven  \\\n",
       "0                   0.0            0.0  ...              0.0            0.0   \n",
       "1                   0.0            0.0  ...              0.0            0.0   \n",
       "2                   0.0            0.0  ...              0.0            0.0   \n",
       "3                   0.0            0.0  ...              0.0            0.0   \n",
       "4                   0.0            0.0  ...              0.0            0.0   \n",
       "...                 ...            ...  ...              ...            ...   \n",
       "499995              0.0            0.0  ...              0.0            0.0   \n",
       "499996              0.0            0.0  ...              0.0            0.0   \n",
       "499997              0.0            0.0  ...              0.0            0.0   \n",
       "499998              0.0            0.0  ...              0.0            0.0   \n",
       "499999              0.0            0.0  ...              0.0            0.0   \n",
       "\n",
       "        x0_Terristad  x0_Tonimouth  x0_Turnerville  x0_Vargasbury  \\\n",
       "0                0.0           0.0             0.0            0.0   \n",
       "1                0.0           0.0             0.0            0.0   \n",
       "2                0.0           0.0             0.0            0.0   \n",
       "3                0.0           0.0             0.0            0.0   \n",
       "4                0.0           0.0             0.0            0.0   \n",
       "...              ...           ...             ...            ...   \n",
       "499995           0.0           0.0             0.0            0.0   \n",
       "499996           0.0           0.0             0.0            0.0   \n",
       "499997           0.0           0.0             0.0            0.0   \n",
       "499998           0.0           0.0             0.0            0.0   \n",
       "499999           0.0           0.0             0.0            0.0   \n",
       "\n",
       "        x0_West Amandaland  x0_West Elizabethtown  x0_West Patriciaberg  \\\n",
       "0                      0.0                    0.0                   0.0   \n",
       "1                      0.0                    0.0                   0.0   \n",
       "2                      0.0                    0.0                   0.0   \n",
       "3                      0.0                    0.0                   0.0   \n",
       "4                      0.0                    0.0                   0.0   \n",
       "...                    ...                    ...                   ...   \n",
       "499995                 0.0                    0.0                   0.0   \n",
       "499996                 0.0                    0.0                   0.0   \n",
       "499997                 0.0                    0.0                   0.0   \n",
       "499998                 0.0                    0.0                   0.0   \n",
       "499999                 0.0                    0.0                   0.0   \n",
       "\n",
       "        x0_West Valerieland  \n",
       "0                       0.0  \n",
       "1                       0.0  \n",
       "2                       0.0  \n",
       "3                       0.0  \n",
       "4                       0.0  \n",
       "...                     ...  \n",
       "499995                  0.0  \n",
       "499996                  0.0  \n",
       "499997                  1.0  \n",
       "499998                  0.0  \n",
       "499999                  0.0  \n",
       "\n",
       "[500000 rows x 290 columns]"
      ]
     },
     "execution_count": 77,
     "metadata": {},
     "output_type": "execute_result"
    }
   ],
   "source": [
    "trans_cat_df"
   ]
  },
  {
   "cell_type": "code",
   "execution_count": 78,
   "metadata": {
    "ExecuteTime": {
     "end_time": "2021-06-10T13:21:06.579485Z",
     "start_time": "2021-06-10T13:21:06.530868Z"
    }
   },
   "outputs": [
    {
     "data": {
      "text/html": [
       "<div>\n",
       "<style scoped>\n",
       "    .dataframe tbody tr th:only-of-type {\n",
       "        vertical-align: middle;\n",
       "    }\n",
       "\n",
       "    .dataframe tbody tr th {\n",
       "        vertical-align: top;\n",
       "    }\n",
       "\n",
       "    .dataframe thead th {\n",
       "        text-align: right;\n",
       "    }\n",
       "</style>\n",
       "<table border=\"1\" class=\"dataframe\">\n",
       "  <thead>\n",
       "    <tr style=\"text-align: right;\">\n",
       "      <th></th>\n",
       "      <th>x0_Aaronfurt</th>\n",
       "      <th>x0_Adamhaven</th>\n",
       "      <th>x0_Adamston</th>\n",
       "      <th>x0_Adrienneside</th>\n",
       "      <th>x0_Alanshire</th>\n",
       "      <th>x0_Alexisberg</th>\n",
       "      <th>x0_Alexishaven</th>\n",
       "      <th>x0_Alexisshire</th>\n",
       "      <th>x0_Allenchester</th>\n",
       "      <th>x0_Amberburgh</th>\n",
       "      <th>...</th>\n",
       "      <th>x0_Summersville</th>\n",
       "      <th>x0_Tammyhaven</th>\n",
       "      <th>x0_Terristad</th>\n",
       "      <th>x0_Tonimouth</th>\n",
       "      <th>x0_Turnerville</th>\n",
       "      <th>x0_Vargasbury</th>\n",
       "      <th>x0_West Amandaland</th>\n",
       "      <th>x0_West Elizabethtown</th>\n",
       "      <th>x0_West Patriciaberg</th>\n",
       "      <th>x0_West Valerieland</th>\n",
       "    </tr>\n",
       "    <tr>\n",
       "      <th>ID</th>\n",
       "      <th></th>\n",
       "      <th></th>\n",
       "      <th></th>\n",
       "      <th></th>\n",
       "      <th></th>\n",
       "      <th></th>\n",
       "      <th></th>\n",
       "      <th></th>\n",
       "      <th></th>\n",
       "      <th></th>\n",
       "      <th></th>\n",
       "      <th></th>\n",
       "      <th></th>\n",
       "      <th></th>\n",
       "      <th></th>\n",
       "      <th></th>\n",
       "      <th></th>\n",
       "      <th></th>\n",
       "      <th></th>\n",
       "      <th></th>\n",
       "      <th></th>\n",
       "    </tr>\n",
       "  </thead>\n",
       "  <tbody>\n",
       "    <tr>\n",
       "      <th>0</th>\n",
       "      <td>0.0</td>\n",
       "      <td>0.0</td>\n",
       "      <td>0.0</td>\n",
       "      <td>0.0</td>\n",
       "      <td>0.0</td>\n",
       "      <td>0.0</td>\n",
       "      <td>0.0</td>\n",
       "      <td>0.0</td>\n",
       "      <td>0.0</td>\n",
       "      <td>0.0</td>\n",
       "      <td>...</td>\n",
       "      <td>0.0</td>\n",
       "      <td>0.0</td>\n",
       "      <td>0.0</td>\n",
       "      <td>0.0</td>\n",
       "      <td>0.0</td>\n",
       "      <td>0.0</td>\n",
       "      <td>0.0</td>\n",
       "      <td>0.0</td>\n",
       "      <td>0.0</td>\n",
       "      <td>0.0</td>\n",
       "    </tr>\n",
       "    <tr>\n",
       "      <th>1</th>\n",
       "      <td>0.0</td>\n",
       "      <td>0.0</td>\n",
       "      <td>0.0</td>\n",
       "      <td>0.0</td>\n",
       "      <td>0.0</td>\n",
       "      <td>0.0</td>\n",
       "      <td>0.0</td>\n",
       "      <td>0.0</td>\n",
       "      <td>0.0</td>\n",
       "      <td>0.0</td>\n",
       "      <td>...</td>\n",
       "      <td>0.0</td>\n",
       "      <td>0.0</td>\n",
       "      <td>0.0</td>\n",
       "      <td>0.0</td>\n",
       "      <td>0.0</td>\n",
       "      <td>0.0</td>\n",
       "      <td>0.0</td>\n",
       "      <td>0.0</td>\n",
       "      <td>0.0</td>\n",
       "      <td>0.0</td>\n",
       "    </tr>\n",
       "    <tr>\n",
       "      <th>2</th>\n",
       "      <td>0.0</td>\n",
       "      <td>0.0</td>\n",
       "      <td>0.0</td>\n",
       "      <td>0.0</td>\n",
       "      <td>0.0</td>\n",
       "      <td>0.0</td>\n",
       "      <td>0.0</td>\n",
       "      <td>0.0</td>\n",
       "      <td>0.0</td>\n",
       "      <td>0.0</td>\n",
       "      <td>...</td>\n",
       "      <td>0.0</td>\n",
       "      <td>0.0</td>\n",
       "      <td>0.0</td>\n",
       "      <td>0.0</td>\n",
       "      <td>0.0</td>\n",
       "      <td>0.0</td>\n",
       "      <td>0.0</td>\n",
       "      <td>0.0</td>\n",
       "      <td>0.0</td>\n",
       "      <td>0.0</td>\n",
       "    </tr>\n",
       "    <tr>\n",
       "      <th>3</th>\n",
       "      <td>0.0</td>\n",
       "      <td>0.0</td>\n",
       "      <td>0.0</td>\n",
       "      <td>0.0</td>\n",
       "      <td>0.0</td>\n",
       "      <td>0.0</td>\n",
       "      <td>0.0</td>\n",
       "      <td>0.0</td>\n",
       "      <td>0.0</td>\n",
       "      <td>0.0</td>\n",
       "      <td>...</td>\n",
       "      <td>0.0</td>\n",
       "      <td>0.0</td>\n",
       "      <td>0.0</td>\n",
       "      <td>0.0</td>\n",
       "      <td>0.0</td>\n",
       "      <td>0.0</td>\n",
       "      <td>0.0</td>\n",
       "      <td>0.0</td>\n",
       "      <td>0.0</td>\n",
       "      <td>0.0</td>\n",
       "    </tr>\n",
       "    <tr>\n",
       "      <th>4</th>\n",
       "      <td>0.0</td>\n",
       "      <td>0.0</td>\n",
       "      <td>0.0</td>\n",
       "      <td>0.0</td>\n",
       "      <td>0.0</td>\n",
       "      <td>0.0</td>\n",
       "      <td>0.0</td>\n",
       "      <td>0.0</td>\n",
       "      <td>0.0</td>\n",
       "      <td>0.0</td>\n",
       "      <td>...</td>\n",
       "      <td>0.0</td>\n",
       "      <td>0.0</td>\n",
       "      <td>0.0</td>\n",
       "      <td>0.0</td>\n",
       "      <td>0.0</td>\n",
       "      <td>0.0</td>\n",
       "      <td>0.0</td>\n",
       "      <td>0.0</td>\n",
       "      <td>0.0</td>\n",
       "      <td>0.0</td>\n",
       "    </tr>\n",
       "  </tbody>\n",
       "</table>\n",
       "<p>5 rows × 290 columns</p>\n",
       "</div>"
      ],
      "text/plain": [
       "    x0_Aaronfurt  x0_Adamhaven  x0_Adamston  x0_Adrienneside  x0_Alanshire  \\\n",
       "ID                                                                           \n",
       "0            0.0           0.0          0.0              0.0           0.0   \n",
       "1            0.0           0.0          0.0              0.0           0.0   \n",
       "2            0.0           0.0          0.0              0.0           0.0   \n",
       "3            0.0           0.0          0.0              0.0           0.0   \n",
       "4            0.0           0.0          0.0              0.0           0.0   \n",
       "\n",
       "    x0_Alexisberg  x0_Alexishaven  x0_Alexisshire  x0_Allenchester  \\\n",
       "ID                                                                   \n",
       "0             0.0             0.0             0.0              0.0   \n",
       "1             0.0             0.0             0.0              0.0   \n",
       "2             0.0             0.0             0.0              0.0   \n",
       "3             0.0             0.0             0.0              0.0   \n",
       "4             0.0             0.0             0.0              0.0   \n",
       "\n",
       "    x0_Amberburgh  ...  x0_Summersville  x0_Tammyhaven  x0_Terristad  \\\n",
       "ID                 ...                                                 \n",
       "0             0.0  ...              0.0            0.0           0.0   \n",
       "1             0.0  ...              0.0            0.0           0.0   \n",
       "2             0.0  ...              0.0            0.0           0.0   \n",
       "3             0.0  ...              0.0            0.0           0.0   \n",
       "4             0.0  ...              0.0            0.0           0.0   \n",
       "\n",
       "    x0_Tonimouth  x0_Turnerville  x0_Vargasbury  x0_West Amandaland  \\\n",
       "ID                                                                    \n",
       "0            0.0             0.0            0.0                 0.0   \n",
       "1            0.0             0.0            0.0                 0.0   \n",
       "2            0.0             0.0            0.0                 0.0   \n",
       "3            0.0             0.0            0.0                 0.0   \n",
       "4            0.0             0.0            0.0                 0.0   \n",
       "\n",
       "    x0_West Elizabethtown  x0_West Patriciaberg  x0_West Valerieland  \n",
       "ID                                                                    \n",
       "0                     0.0                   0.0                  0.0  \n",
       "1                     0.0                   0.0                  0.0  \n",
       "2                     0.0                   0.0                  0.0  \n",
       "3                     0.0                   0.0                  0.0  \n",
       "4                     0.0                   0.0                  0.0  \n",
       "\n",
       "[5 rows x 290 columns]"
      ]
     },
     "execution_count": 78,
     "metadata": {},
     "output_type": "execute_result"
    }
   ],
   "source": [
    "trans_cat_df[\"ID\"]=data.index\n",
    "\n",
    "trans_cat_df.set_index('ID', inplace=True)\n",
    "trans_cat_df.head()"
   ]
  },
  {
   "cell_type": "markdown",
   "metadata": {
    "ExecuteTime": {
     "end_time": "2021-06-06T16:45:04.952531Z",
     "start_time": "2021-06-06T16:45:04.949572Z"
    }
   },
   "source": [
    "## Put everything back together"
   ]
  },
  {
   "cell_type": "code",
   "execution_count": 79,
   "metadata": {
    "ExecuteTime": {
     "end_time": "2021-06-10T13:21:11.929781Z",
     "start_time": "2021-06-10T13:21:06.581639Z"
    }
   },
   "outputs": [],
   "source": [
    "data_transf = pd.concat([trans_cat_df, data_copy[numer_cols_data], data_copy[time_cols_data]], axis=1)"
   ]
  },
  {
   "cell_type": "code",
   "execution_count": 80,
   "metadata": {
    "ExecuteTime": {
     "end_time": "2021-06-10T13:21:12.101534Z",
     "start_time": "2021-06-10T13:21:11.931952Z"
    }
   },
   "outputs": [
    {
     "data": {
      "text/html": [
       "<div>\n",
       "<style scoped>\n",
       "    .dataframe tbody tr th:only-of-type {\n",
       "        vertical-align: middle;\n",
       "    }\n",
       "\n",
       "    .dataframe tbody tr th {\n",
       "        vertical-align: top;\n",
       "    }\n",
       "\n",
       "    .dataframe thead th {\n",
       "        text-align: right;\n",
       "    }\n",
       "</style>\n",
       "<table border=\"1\" class=\"dataframe\">\n",
       "  <thead>\n",
       "    <tr style=\"text-align: right;\">\n",
       "      <th></th>\n",
       "      <th>x0_Aaronfurt</th>\n",
       "      <th>x0_Adamhaven</th>\n",
       "      <th>x0_Adamston</th>\n",
       "      <th>x0_Adrienneside</th>\n",
       "      <th>x0_Alanshire</th>\n",
       "      <th>x0_Alexisberg</th>\n",
       "      <th>x0_Alexishaven</th>\n",
       "      <th>x0_Alexisshire</th>\n",
       "      <th>x0_Allenchester</th>\n",
       "      <th>x0_Amberburgh</th>\n",
       "      <th>...</th>\n",
       "      <th>SIGNUPDATE</th>\n",
       "      <th>LASTACTIVEDAY</th>\n",
       "      <th>FLEETS</th>\n",
       "      <th>STRANGERTIDES</th>\n",
       "      <th>ASTEROIDMINING</th>\n",
       "      <th>FIRSTCONTACT</th>\n",
       "      <th>EVENTHORIZON</th>\n",
       "      <th>COLONIES</th>\n",
       "      <th>ESCAPEPODRACE</th>\n",
       "      <th>ALLIANCES</th>\n",
       "    </tr>\n",
       "  </thead>\n",
       "  <tbody>\n",
       "    <tr>\n",
       "      <th>0</th>\n",
       "      <td>0.0</td>\n",
       "      <td>0.0</td>\n",
       "      <td>0.0</td>\n",
       "      <td>0.0</td>\n",
       "      <td>0.0</td>\n",
       "      <td>0.0</td>\n",
       "      <td>0.0</td>\n",
       "      <td>0.0</td>\n",
       "      <td>0.0</td>\n",
       "      <td>0.0</td>\n",
       "      <td>...</td>\n",
       "      <td>1</td>\n",
       "      <td>1</td>\n",
       "      <td>0</td>\n",
       "      <td>0</td>\n",
       "      <td>0</td>\n",
       "      <td>0</td>\n",
       "      <td>0</td>\n",
       "      <td>0</td>\n",
       "      <td>0</td>\n",
       "      <td>0</td>\n",
       "    </tr>\n",
       "    <tr>\n",
       "      <th>1</th>\n",
       "      <td>0.0</td>\n",
       "      <td>0.0</td>\n",
       "      <td>0.0</td>\n",
       "      <td>0.0</td>\n",
       "      <td>0.0</td>\n",
       "      <td>0.0</td>\n",
       "      <td>0.0</td>\n",
       "      <td>0.0</td>\n",
       "      <td>0.0</td>\n",
       "      <td>0.0</td>\n",
       "      <td>...</td>\n",
       "      <td>1</td>\n",
       "      <td>1</td>\n",
       "      <td>0</td>\n",
       "      <td>0</td>\n",
       "      <td>0</td>\n",
       "      <td>0</td>\n",
       "      <td>0</td>\n",
       "      <td>0</td>\n",
       "      <td>0</td>\n",
       "      <td>0</td>\n",
       "    </tr>\n",
       "    <tr>\n",
       "      <th>2</th>\n",
       "      <td>0.0</td>\n",
       "      <td>0.0</td>\n",
       "      <td>0.0</td>\n",
       "      <td>0.0</td>\n",
       "      <td>0.0</td>\n",
       "      <td>0.0</td>\n",
       "      <td>0.0</td>\n",
       "      <td>0.0</td>\n",
       "      <td>0.0</td>\n",
       "      <td>0.0</td>\n",
       "      <td>...</td>\n",
       "      <td>1</td>\n",
       "      <td>1</td>\n",
       "      <td>0</td>\n",
       "      <td>0</td>\n",
       "      <td>0</td>\n",
       "      <td>0</td>\n",
       "      <td>0</td>\n",
       "      <td>0</td>\n",
       "      <td>0</td>\n",
       "      <td>0</td>\n",
       "    </tr>\n",
       "    <tr>\n",
       "      <th>3</th>\n",
       "      <td>0.0</td>\n",
       "      <td>0.0</td>\n",
       "      <td>0.0</td>\n",
       "      <td>0.0</td>\n",
       "      <td>0.0</td>\n",
       "      <td>0.0</td>\n",
       "      <td>0.0</td>\n",
       "      <td>0.0</td>\n",
       "      <td>0.0</td>\n",
       "      <td>0.0</td>\n",
       "      <td>...</td>\n",
       "      <td>1</td>\n",
       "      <td>1</td>\n",
       "      <td>0</td>\n",
       "      <td>0</td>\n",
       "      <td>0</td>\n",
       "      <td>0</td>\n",
       "      <td>0</td>\n",
       "      <td>0</td>\n",
       "      <td>0</td>\n",
       "      <td>0</td>\n",
       "    </tr>\n",
       "    <tr>\n",
       "      <th>4</th>\n",
       "      <td>0.0</td>\n",
       "      <td>0.0</td>\n",
       "      <td>0.0</td>\n",
       "      <td>0.0</td>\n",
       "      <td>0.0</td>\n",
       "      <td>0.0</td>\n",
       "      <td>0.0</td>\n",
       "      <td>0.0</td>\n",
       "      <td>0.0</td>\n",
       "      <td>0.0</td>\n",
       "      <td>...</td>\n",
       "      <td>1</td>\n",
       "      <td>1</td>\n",
       "      <td>0</td>\n",
       "      <td>0</td>\n",
       "      <td>1</td>\n",
       "      <td>0</td>\n",
       "      <td>0</td>\n",
       "      <td>0</td>\n",
       "      <td>0</td>\n",
       "      <td>0</td>\n",
       "    </tr>\n",
       "    <tr>\n",
       "      <th>...</th>\n",
       "      <td>...</td>\n",
       "      <td>...</td>\n",
       "      <td>...</td>\n",
       "      <td>...</td>\n",
       "      <td>...</td>\n",
       "      <td>...</td>\n",
       "      <td>...</td>\n",
       "      <td>...</td>\n",
       "      <td>...</td>\n",
       "      <td>...</td>\n",
       "      <td>...</td>\n",
       "      <td>...</td>\n",
       "      <td>...</td>\n",
       "      <td>...</td>\n",
       "      <td>...</td>\n",
       "      <td>...</td>\n",
       "      <td>...</td>\n",
       "      <td>...</td>\n",
       "      <td>...</td>\n",
       "      <td>...</td>\n",
       "      <td>...</td>\n",
       "    </tr>\n",
       "    <tr>\n",
       "      <th>499995</th>\n",
       "      <td>0.0</td>\n",
       "      <td>0.0</td>\n",
       "      <td>0.0</td>\n",
       "      <td>0.0</td>\n",
       "      <td>0.0</td>\n",
       "      <td>0.0</td>\n",
       "      <td>0.0</td>\n",
       "      <td>0.0</td>\n",
       "      <td>0.0</td>\n",
       "      <td>0.0</td>\n",
       "      <td>...</td>\n",
       "      <td>1</td>\n",
       "      <td>1</td>\n",
       "      <td>0</td>\n",
       "      <td>0</td>\n",
       "      <td>0</td>\n",
       "      <td>0</td>\n",
       "      <td>0</td>\n",
       "      <td>0</td>\n",
       "      <td>0</td>\n",
       "      <td>0</td>\n",
       "    </tr>\n",
       "    <tr>\n",
       "      <th>499996</th>\n",
       "      <td>0.0</td>\n",
       "      <td>0.0</td>\n",
       "      <td>0.0</td>\n",
       "      <td>0.0</td>\n",
       "      <td>0.0</td>\n",
       "      <td>0.0</td>\n",
       "      <td>0.0</td>\n",
       "      <td>0.0</td>\n",
       "      <td>0.0</td>\n",
       "      <td>0.0</td>\n",
       "      <td>...</td>\n",
       "      <td>1</td>\n",
       "      <td>1</td>\n",
       "      <td>0</td>\n",
       "      <td>0</td>\n",
       "      <td>0</td>\n",
       "      <td>0</td>\n",
       "      <td>0</td>\n",
       "      <td>0</td>\n",
       "      <td>0</td>\n",
       "      <td>0</td>\n",
       "    </tr>\n",
       "    <tr>\n",
       "      <th>499997</th>\n",
       "      <td>0.0</td>\n",
       "      <td>0.0</td>\n",
       "      <td>0.0</td>\n",
       "      <td>0.0</td>\n",
       "      <td>0.0</td>\n",
       "      <td>0.0</td>\n",
       "      <td>0.0</td>\n",
       "      <td>0.0</td>\n",
       "      <td>0.0</td>\n",
       "      <td>0.0</td>\n",
       "      <td>...</td>\n",
       "      <td>1</td>\n",
       "      <td>1</td>\n",
       "      <td>0</td>\n",
       "      <td>0</td>\n",
       "      <td>0</td>\n",
       "      <td>0</td>\n",
       "      <td>0</td>\n",
       "      <td>0</td>\n",
       "      <td>0</td>\n",
       "      <td>0</td>\n",
       "    </tr>\n",
       "    <tr>\n",
       "      <th>499998</th>\n",
       "      <td>0.0</td>\n",
       "      <td>0.0</td>\n",
       "      <td>0.0</td>\n",
       "      <td>0.0</td>\n",
       "      <td>0.0</td>\n",
       "      <td>0.0</td>\n",
       "      <td>0.0</td>\n",
       "      <td>0.0</td>\n",
       "      <td>0.0</td>\n",
       "      <td>0.0</td>\n",
       "      <td>...</td>\n",
       "      <td>1</td>\n",
       "      <td>1</td>\n",
       "      <td>0</td>\n",
       "      <td>0</td>\n",
       "      <td>0</td>\n",
       "      <td>0</td>\n",
       "      <td>0</td>\n",
       "      <td>0</td>\n",
       "      <td>0</td>\n",
       "      <td>0</td>\n",
       "    </tr>\n",
       "    <tr>\n",
       "      <th>499999</th>\n",
       "      <td>0.0</td>\n",
       "      <td>0.0</td>\n",
       "      <td>0.0</td>\n",
       "      <td>0.0</td>\n",
       "      <td>0.0</td>\n",
       "      <td>0.0</td>\n",
       "      <td>0.0</td>\n",
       "      <td>0.0</td>\n",
       "      <td>0.0</td>\n",
       "      <td>0.0</td>\n",
       "      <td>...</td>\n",
       "      <td>1</td>\n",
       "      <td>1</td>\n",
       "      <td>0</td>\n",
       "      <td>0</td>\n",
       "      <td>0</td>\n",
       "      <td>0</td>\n",
       "      <td>0</td>\n",
       "      <td>0</td>\n",
       "      <td>0</td>\n",
       "      <td>0</td>\n",
       "    </tr>\n",
       "  </tbody>\n",
       "</table>\n",
       "<p>500000 rows × 304 columns</p>\n",
       "</div>"
      ],
      "text/plain": [
       "        x0_Aaronfurt  x0_Adamhaven  x0_Adamston  x0_Adrienneside  \\\n",
       "0                0.0           0.0          0.0              0.0   \n",
       "1                0.0           0.0          0.0              0.0   \n",
       "2                0.0           0.0          0.0              0.0   \n",
       "3                0.0           0.0          0.0              0.0   \n",
       "4                0.0           0.0          0.0              0.0   \n",
       "...              ...           ...          ...              ...   \n",
       "499995           0.0           0.0          0.0              0.0   \n",
       "499996           0.0           0.0          0.0              0.0   \n",
       "499997           0.0           0.0          0.0              0.0   \n",
       "499998           0.0           0.0          0.0              0.0   \n",
       "499999           0.0           0.0          0.0              0.0   \n",
       "\n",
       "        x0_Alanshire  x0_Alexisberg  x0_Alexishaven  x0_Alexisshire  \\\n",
       "0                0.0            0.0             0.0             0.0   \n",
       "1                0.0            0.0             0.0             0.0   \n",
       "2                0.0            0.0             0.0             0.0   \n",
       "3                0.0            0.0             0.0             0.0   \n",
       "4                0.0            0.0             0.0             0.0   \n",
       "...              ...            ...             ...             ...   \n",
       "499995           0.0            0.0             0.0             0.0   \n",
       "499996           0.0            0.0             0.0             0.0   \n",
       "499997           0.0            0.0             0.0             0.0   \n",
       "499998           0.0            0.0             0.0             0.0   \n",
       "499999           0.0            0.0             0.0             0.0   \n",
       "\n",
       "        x0_Allenchester  x0_Amberburgh  ...  SIGNUPDATE  LASTACTIVEDAY  \\\n",
       "0                   0.0            0.0  ...           1              1   \n",
       "1                   0.0            0.0  ...           1              1   \n",
       "2                   0.0            0.0  ...           1              1   \n",
       "3                   0.0            0.0  ...           1              1   \n",
       "4                   0.0            0.0  ...           1              1   \n",
       "...                 ...            ...  ...         ...            ...   \n",
       "499995              0.0            0.0  ...           1              1   \n",
       "499996              0.0            0.0  ...           1              1   \n",
       "499997              0.0            0.0  ...           1              1   \n",
       "499998              0.0            0.0  ...           1              1   \n",
       "499999              0.0            0.0  ...           1              1   \n",
       "\n",
       "        FLEETS  STRANGERTIDES  ASTEROIDMINING  FIRSTCONTACT  EVENTHORIZON  \\\n",
       "0            0              0               0             0             0   \n",
       "1            0              0               0             0             0   \n",
       "2            0              0               0             0             0   \n",
       "3            0              0               0             0             0   \n",
       "4            0              0               1             0             0   \n",
       "...        ...            ...             ...           ...           ...   \n",
       "499995       0              0               0             0             0   \n",
       "499996       0              0               0             0             0   \n",
       "499997       0              0               0             0             0   \n",
       "499998       0              0               0             0             0   \n",
       "499999       0              0               0             0             0   \n",
       "\n",
       "        COLONIES  ESCAPEPODRACE  ALLIANCES  \n",
       "0              0              0          0  \n",
       "1              0              0          0  \n",
       "2              0              0          0  \n",
       "3              0              0          0  \n",
       "4              0              0          0  \n",
       "...          ...            ...        ...  \n",
       "499995         0              0          0  \n",
       "499996         0              0          0  \n",
       "499997         0              0          0  \n",
       "499998         0              0          0  \n",
       "499999         0              0          0  \n",
       "\n",
       "[500000 rows x 304 columns]"
      ]
     },
     "execution_count": 80,
     "metadata": {},
     "output_type": "execute_result"
    }
   ],
   "source": [
    "data_transf"
   ]
  },
  {
   "cell_type": "markdown",
   "metadata": {},
   "source": [
    "## Clustering"
   ]
  },
  {
   "cell_type": "markdown",
   "metadata": {},
   "source": [
    "### Find best number for K with a data sample"
   ]
  },
  {
   "cell_type": "code",
   "execution_count": 81,
   "metadata": {
    "ExecuteTime": {
     "end_time": "2021-06-10T13:21:12.999479Z",
     "start_time": "2021-06-10T13:21:12.102746Z"
    }
   },
   "outputs": [],
   "source": [
    "sample= data_transf.sample(frac=0.1, replace=False, random_state=13)"
   ]
  },
  {
   "cell_type": "code",
   "execution_count": 82,
   "metadata": {
    "ExecuteTime": {
     "end_time": "2021-06-10T13:21:13.010539Z",
     "start_time": "2021-06-10T13:21:13.006390Z"
    }
   },
   "outputs": [
    {
     "data": {
      "text/plain": [
       "50000"
      ]
     },
     "execution_count": 82,
     "metadata": {},
     "output_type": "execute_result"
    }
   ],
   "source": [
    "len(sample)"
   ]
  },
  {
   "cell_type": "code",
   "execution_count": 83,
   "metadata": {
    "ExecuteTime": {
     "end_time": "2021-06-10T13:22:26.493861Z",
     "start_time": "2021-06-10T13:21:13.012701Z"
    }
   },
   "outputs": [
    {
     "data": {
      "image/png": "[encoded data removed]",
      "text/plain": [
       "<Figure size 432x288 with 1 Axes>"
      ]
     },
     "metadata": {},
     "output_type": "display_data"
    }
   ],
   "source": [
    "Nc = range(1, 15)\n",
    "\n",
    "kmeans = [KMeans(n_clusters=i) for i in Nc]\n",
    "\n",
    "score = [kmeans[i].fit(sample).score(sample) for i in range(len(kmeans))]\n",
    "\n",
    "score\n",
    "\n",
    "plt.plot(Nc,score, marker='o')\n",
    "\n",
    "plt.xlabel('Number of Clusters')\n",
    "\n",
    "plt.ylabel('Score')\n",
    "\n",
    "plt.title(\"Elbow Curve (sample n=50'000)\")\n",
    "\n",
    "plt.show()"
   ]
  },
  {
   "cell_type": "markdown",
   "metadata": {},
   "source": [
    "### Find best number for K with the full data set\n",
    "\n",
    "This takes a bit longer and is quite unnecessary. "
   ]
  },
  {
   "cell_type": "code",
   "execution_count": 84,
   "metadata": {
    "ExecuteTime": {
     "end_time": "2021-06-10T10:45:53.008228Z",
     "start_time": "2021-06-10T10:34:47.517022Z"
    }
   },
   "outputs": [
    {
     "data": {
      "image/png": "[encoded data removed]",
      "text/plain": [
       "<Figure size 432x288 with 1 Axes>"
      ]
     },
     "metadata": {},
     "output_type": "display_data"
    }
   ],
   "source": [
    "# takes ~ 10mins to run\n",
    "Nc = range(1, 15)\n",
    "\n",
    "kmeans = [KMeans(n_clusters=i) for i in Nc]\n",
    "\n",
    "score = [kmeans[i].fit(data_transf).score(data_transf) for i in range(len(kmeans))]\n",
    "\n",
    "score\n",
    "\n",
    "plt.plot(Nc,score, marker='o') \n",
    "\n",
    "plt.xlabel('Number of Clusters')\n",
    "\n",
    "plt.ylabel('Score')\n",
    "\n",
    "plt.title(\"Elbow Curve (full dataset n=500'000)\")\n",
    "\n",
    "plt.show()"
   ]
  },
  {
   "cell_type": "code",
   "execution_count": 85,
   "metadata": {
    "ExecuteTime": {
     "end_time": "2021-06-10T13:22:26.498340Z",
     "start_time": "2021-06-10T13:22:26.495583Z"
    }
   },
   "outputs": [
    {
     "name": "stdout",
     "output_type": "stream",
     "text": [
      "Looking at the above graphs, using a random sample of 10% of the data led to the identification of k=6.\n",
      "Using the whole dataset did not change this finding.\n"
     ]
    }
   ],
   "source": [
    "print(\"Looking at the above graphs, using a random sample of 10% of the data led to the identification of k=6.\\nUsing the whole dataset did not change this finding.\"\n",
    "     )"
   ]
  },
  {
   "cell_type": "markdown",
   "metadata": {},
   "source": [
    "### Run k-means, k=6"
   ]
  },
  {
   "cell_type": "code",
   "execution_count": 86,
   "metadata": {
    "ExecuteTime": {
     "end_time": "2021-06-10T13:23:33.455687Z",
     "start_time": "2021-06-10T13:22:26.499969Z"
    },
    "scrolled": true
   },
   "outputs": [
    {
     "name": "stdout",
     "output_type": "stream",
     "text": [
      "Initialization complete\n",
      "Iteration 0, inertia 629116.1686942448\n",
      "Iteration 1, inertia 523644.7487043119\n",
      "Iteration 2, inertia 512144.5902716334\n",
      "Iteration 3, inertia 510228.0547266967\n",
      "Iteration 4, inertia 510066.9753302499\n",
      "Iteration 5, inertia 509883.16129801667\n",
      "Iteration 6, inertia 509561.5582074527\n",
      "Iteration 7, inertia 509397.51609543734\n",
      "Iteration 8, inertia 509325.234097224\n",
      "Iteration 9, inertia 509283.3317018796\n",
      "Iteration 10, inertia 509249.88343679206\n",
      "Iteration 11, inertia 509217.22281136387\n",
      "Iteration 12, inertia 509180.0022276341\n",
      "Iteration 13, inertia 509133.43567756074\n",
      "Iteration 14, inertia 509072.0325508666\n",
      "Iteration 15, inertia 508986.11674504384\n",
      "Iteration 16, inertia 508867.7013644441\n",
      "Iteration 17, inertia 508674.49948373827\n",
      "Iteration 18, inertia 508332.45070670743\n",
      "Iteration 19, inertia 508054.17977022287\n",
      "Iteration 20, inertia 507731.1180214632\n",
      "Iteration 21, inertia 507518.8317568197\n",
      "Iteration 22, inertia 507502.78911572957\n",
      "Iteration 23, inertia 507488.93272113\n",
      "Iteration 24, inertia 507475.49149226776\n",
      "Iteration 25, inertia 507461.7895130768\n",
      "Iteration 26, inertia 507447.86761560664\n",
      "Iteration 27, inertia 507433.5513839485\n",
      "Iteration 28, inertia 507416.6046112731\n",
      "Iteration 29, inertia 507396.42488612124\n",
      "Iteration 30, inertia 507369.26240762667\n",
      "Iteration 31, inertia 507330.2335787527\n",
      "Iteration 32, inertia 507264.6570340825\n",
      "Iteration 33, inertia 507128.58382051263\n",
      "Iteration 34, inertia 506750.82922337536\n",
      "Iteration 35, inertia 504956.41751159343\n",
      "Iteration 36, inertia 494420.00599049655\n",
      "Iteration 37, inertia 489384.27362090535\n",
      "Iteration 38, inertia 489383.40768464346\n",
      "Iteration 39, inertia 489383.23210478603\n",
      "Iteration 40, inertia 489383.17318842816\n",
      "Converged at iteration 40: center shift 4.5270161950113436e-07 within tolerance 4.873045087703423e-07.\n",
      "Initialization complete\n",
      "Iteration 0, inertia 699805.7168371425\n",
      "Iteration 1, inertia 579448.8403589355\n",
      "Iteration 2, inertia 579438.4048233757\n",
      "Converged at iteration 2: strict convergence.\n",
      "Initialization complete\n",
      "Iteration 0, inertia 613831.3403918978\n",
      "Iteration 1, inertia 518377.60268476536\n",
      "Iteration 2, inertia 510712.44908004743\n",
      "Iteration 3, inertia 507012.62351115036\n",
      "Iteration 4, inertia 502748.1292727752\n",
      "Iteration 5, inertia 501920.2058964714\n",
      "Iteration 6, inertia 501847.00080937915\n",
      "Iteration 7, inertia 501837.8350678154\n",
      "Iteration 8, inertia 501741.6543892782\n",
      "Iteration 9, inertia 501717.11197072966\n",
      "Iteration 10, inertia 501716.96401411045\n",
      "Converged at iteration 10: center shift 8.006395818797767e-09 within tolerance 4.873045087703423e-07.\n",
      "Initialization complete\n",
      "Iteration 0, inertia 812903.2604801146\n",
      "Iteration 1, inertia 558437.5179990656\n",
      "Iteration 2, inertia 518256.0842611387\n",
      "Iteration 3, inertia 506640.06185963453\n",
      "Iteration 4, inertia 505261.82955395133\n",
      "Iteration 5, inertia 504557.0776383264\n",
      "Iteration 6, inertia 504372.08818254195\n",
      "Iteration 7, inertia 504261.4065504333\n",
      "Iteration 8, inertia 504185.0659944827\n",
      "Iteration 9, inertia 504127.54668135516\n",
      "Iteration 10, inertia 504075.26879937504\n",
      "Iteration 11, inertia 504025.18545145914\n",
      "Iteration 12, inertia 503973.1328971196\n",
      "Iteration 13, inertia 503912.67547846644\n",
      "Iteration 14, inertia 503830.27393062576\n",
      "Iteration 15, inertia 503688.3451134852\n",
      "Iteration 16, inertia 503358.0025709407\n",
      "Iteration 17, inertia 502077.9697761886\n",
      "Iteration 18, inertia 493948.7932933267\n",
      "Iteration 19, inertia 485554.7612816803\n",
      "Iteration 20, inertia 485552.97838238097\n",
      "Iteration 21, inertia 485552.6481295085\n",
      "Iteration 22, inertia 485552.58874572424\n",
      "Converged at iteration 22: center shift 2.9602413335738637e-07 within tolerance 4.873045087703423e-07.\n",
      "Initialization complete\n",
      "Iteration 0, inertia 654195.6872524903\n",
      "Iteration 1, inertia 540609.6232283362\n",
      "Iteration 2, inertia 533308.2880676162\n",
      "Iteration 3, inertia 532728.934892156\n",
      "Iteration 4, inertia 532136.0644892683\n",
      "Iteration 5, inertia 530610.0162415518\n",
      "Iteration 6, inertia 530315.1256306317\n",
      "Iteration 7, inertia 530220.1520881939\n",
      "Iteration 8, inertia 530217.1928689745\n",
      "Iteration 9, inertia 530217.1194783185\n",
      "Converged at iteration 9: center shift 2.6825817591017723e-07 within tolerance 4.873045087703423e-07.\n",
      "Initialization complete\n",
      "Iteration 0, inertia 850308.5651391712\n",
      "Iteration 1, inertia 532041.0993586404\n",
      "Iteration 2, inertia 512088.8595765058\n",
      "Iteration 3, inertia 498243.87784456665\n",
      "Iteration 4, inertia 493905.07118201116\n",
      "Iteration 5, inertia 493857.83442558\n",
      "Iteration 6, inertia 493844.75585654896\n",
      "Iteration 7, inertia 493843.65732969536\n",
      "Iteration 8, inertia 493843.4758188323\n",
      "Iteration 9, inertia 493843.44871273276\n",
      "Converged at iteration 9: center shift 3.729665664044134e-08 within tolerance 4.873045087703423e-07.\n",
      "Initialization complete\n",
      "Iteration 0, inertia 654664.8765786771\n",
      "Iteration 1, inertia 520268.4997966866\n",
      "Iteration 2, inertia 514285.1989263709\n",
      "Iteration 3, inertia 496196.15241656796\n",
      "Iteration 4, inertia 487576.91048088955\n",
      "Iteration 5, inertia 485708.05493363325\n",
      "Iteration 6, inertia 485303.8033207601\n",
      "Iteration 7, inertia 484819.9922475089\n",
      "Iteration 8, inertia 484489.30544773274\n",
      "Iteration 9, inertia 484468.69375632156\n",
      "Iteration 10, inertia 484463.70827514445\n",
      "Iteration 11, inertia 484460.5796127694\n",
      "Iteration 12, inertia 484458.8091276658\n",
      "Iteration 13, inertia 484458.1402626637\n",
      "Iteration 14, inertia 484458.05565415614\n",
      "Converged at iteration 14: center shift 1.9661984960194013e-07 within tolerance 4.873045087703423e-07.\n",
      "Initialization complete\n",
      "Iteration 0, inertia 734752.4089411866\n",
      "Iteration 1, inertia 542168.3123167524\n",
      "Iteration 2, inertia 517762.27995354036\n",
      "Iteration 3, inertia 516797.18364923453\n",
      "Iteration 4, inertia 516775.4932657159\n",
      "Iteration 5, inertia 516772.89208373905\n",
      "Iteration 6, inertia 516770.7220153976\n",
      "Iteration 7, inertia 516769.3638507765\n",
      "Iteration 8, inertia 516768.75382369885\n",
      "Iteration 9, inertia 516768.17372296395\n",
      "Iteration 10, inertia 516767.4581798544\n",
      "Iteration 11, inertia 516766.773960556\n",
      "Iteration 12, inertia 516766.7046926704\n",
      "Converged at iteration 12: center shift 1.698152877968088e-07 within tolerance 4.873045087703423e-07.\n",
      "Initialization complete\n",
      "Iteration 0, inertia 658668.2543662396\n",
      "Iteration 1, inertia 548926.9498652499\n",
      "Iteration 2, inertia 526378.8199908104\n",
      "Iteration 3, inertia 509400.8047612106\n",
      "Iteration 4, inertia 506139.07865080866\n",
      "Iteration 5, inertia 505432.26067518286\n",
      "Iteration 6, inertia 505047.4597354764\n",
      "Iteration 7, inertia 505038.2708903042\n",
      "Iteration 8, inertia 505037.59054466576\n",
      "Iteration 9, inertia 505037.44386428775\n",
      "Converged at iteration 9: center shift 4.705251427163027e-07 within tolerance 4.873045087703423e-07.\n",
      "Initialization complete\n",
      "Iteration 0, inertia 653873.1403531271\n",
      "Iteration 1, inertia 528456.8979397167\n",
      "Iteration 2, inertia 499834.0371429518\n",
      "Iteration 3, inertia 491072.04982203594\n",
      "Iteration 4, inertia 489793.95709675277\n",
      "Iteration 5, inertia 489725.6507446461\n",
      "Iteration 6, inertia 489713.372324312\n",
      "Iteration 7, inertia 489710.2053482169\n",
      "Iteration 8, inertia 489709.0835654866\n",
      "Iteration 9, inertia 489708.7333232083\n",
      "Iteration 10, inertia 489708.62668930495\n",
      "Converged at iteration 10: center shift 3.285002144469516e-07 within tolerance 4.873045087703423e-07.\n"
     ]
    }
   ],
   "source": [
    "kmeans_all = KMeans(n_clusters=6, init=\"k-means++\", n_init=10, \n",
    "                  verbose=1, random_state=13, copy_x=True, n_jobs=-1, algorithm=\"auto\").fit(data_transf)"
   ]
  },
  {
   "cell_type": "code",
   "execution_count": 87,
   "metadata": {
    "ExecuteTime": {
     "end_time": "2021-06-10T13:23:33.461599Z",
     "start_time": "2021-06-10T13:23:33.457561Z"
    },
    "scrolled": true
   },
   "outputs": [
    {
     "data": {
      "text/plain": [
       "array([[-1.24937360e-19,  1.07064965e-18, -1.24937360e-19, ...,\n",
       "         1.37264457e-02,  1.24891705e-01,  1.11002816e-02],\n",
       "       [-8.13998662e-19,  3.58911779e-05,  3.58911779e-06, ...,\n",
       "         1.85377934e-02, -1.58428826e-13,  1.71631613e-02],\n",
       "       [-1.62630326e-19,  1.25360876e-18, -1.62630326e-19, ...,\n",
       "         1.79357962e-02,  1.32792350e-01,  2.93043927e-02],\n",
       "       [-1.14349448e-19,  2.90393774e-05, -1.14349448e-19, ...,\n",
       "         7.89871065e-02,  1.36456034e-01,  9.11546056e-02],\n",
       "       [-3.76929662e-20,  6.53909435e-19, -3.76929662e-20, ...,\n",
       "         3.12891772e-01,  7.86437558e-01,  3.72200061e-01],\n",
       "       [ 1.30220202e-05,  2.60440405e-05,  1.25360876e-19, ...,\n",
       "         2.91172372e-02,  1.00000000e+00,  3.61881942e-02]])"
      ]
     },
     "execution_count": 87,
     "metadata": {},
     "output_type": "execute_result"
    }
   ],
   "source": [
    "kmeans_all.cluster_centers_"
   ]
  },
  {
   "cell_type": "code",
   "execution_count": 88,
   "metadata": {
    "ExecuteTime": {
     "end_time": "2021-06-10T13:23:33.466969Z",
     "start_time": "2021-06-10T13:23:33.463261Z"
    }
   },
   "outputs": [
    {
     "data": {
      "text/plain": [
       "array([1, 0, 1, ..., 2, 1, 1], dtype=int32)"
      ]
     },
     "execution_count": 88,
     "metadata": {},
     "output_type": "execute_result"
    }
   ],
   "source": [
    "kmeans_all.labels_"
   ]
  },
  {
   "cell_type": "code",
   "execution_count": 89,
   "metadata": {
    "ExecuteTime": {
     "end_time": "2021-06-10T13:23:33.473108Z",
     "start_time": "2021-06-10T13:23:33.468996Z"
    }
   },
   "outputs": [],
   "source": [
    "data_copy[\"KNNCLUSTER\"]=kmeans_all.labels_"
   ]
  },
  {
   "cell_type": "code",
   "execution_count": 90,
   "metadata": {
    "ExecuteTime": {
     "end_time": "2021-06-10T13:23:33.478584Z",
     "start_time": "2021-06-10T13:23:33.474861Z"
    }
   },
   "outputs": [
    {
     "data": {
      "text/plain": [
       "Index(['ID', 'PORTCITY', 'PIRATE', 'SIGNUPDATE', 'ACTIVEDAYS', 'LASTACTIVEDAY',\n",
       "       'FLEETS', 'STRANGERTIDES', 'ASTEROIDMINING', 'FIRSTCONTACT',\n",
       "       'EVENTHORIZON', 'COLONIES', 'ESCAPEPODRACE', 'ALLIANCES', 'ACTIVITY',\n",
       "       'ADDCOUNT', 'KNNCLUSTER'],\n",
       "      dtype='object')"
      ]
     },
     "execution_count": 90,
     "metadata": {},
     "output_type": "execute_result"
    }
   ],
   "source": [
    "data_copy.columns"
   ]
  },
  {
   "cell_type": "markdown",
   "metadata": {},
   "source": [
    "## Merge results with data"
   ]
  },
  {
   "cell_type": "code",
   "execution_count": 91,
   "metadata": {
    "ExecuteTime": {
     "end_time": "2021-06-10T13:23:33.689663Z",
     "start_time": "2021-06-10T13:23:33.480086Z"
    }
   },
   "outputs": [],
   "source": [
    "data = pd.merge(data, data_copy[\"KNNCLUSTER\"],  left_index=True, right_index=True)"
   ]
  },
  {
   "cell_type": "code",
   "execution_count": 92,
   "metadata": {
    "ExecuteTime": {
     "end_time": "2021-06-10T13:23:33.698704Z",
     "start_time": "2021-06-10T13:23:33.694142Z"
    }
   },
   "outputs": [
    {
     "data": {
      "text/plain": [
       "Index(['ID', 'PORTCITY', 'PIRATE', 'SIGNUPDATE', 'ACTIVEDAYS', 'LASTACTIVEDAY',\n",
       "       'FLEETS', 'STRANGERTIDES', 'ASTEROIDMINING', 'FIRSTCONTACT',\n",
       "       'EVENTHORIZON', 'COLONIES', 'ESCAPEPODRACE', 'ALLIANCES', 'ACTIVITY',\n",
       "       'S1_POWER', 'S2_DEMO', 'RECENCY', 'S3_ACTIVE', 'ADDCOUNT', 'S4_LOYAL',\n",
       "       'EARLY', 'S6_EARLY', 'INSEGMENTS', 'S7_OTHERS', 'KNNCLUSTER'],\n",
       "      dtype='object')"
      ]
     },
     "execution_count": 92,
     "metadata": {},
     "output_type": "execute_result"
    }
   ],
   "source": [
    "data.columns"
   ]
  },
  {
   "cell_type": "markdown",
   "metadata": {},
   "source": [
    "# Visualizations of Clusters"
   ]
  },
  {
   "cell_type": "code",
   "execution_count": 93,
   "metadata": {
    "ExecuteTime": {
     "end_time": "2021-06-10T13:23:59.037405Z",
     "start_time": "2021-06-10T13:23:33.700454Z"
    }
   },
   "outputs": [
    {
     "data": {
      "image/png": "[encoded data removed]",
      "text/plain": [
       "<Figure size 1080x360 with 1 Axes>"
      ]
     },
     "metadata": {},
     "output_type": "display_data"
    }
   ],
   "source": [
    "fig = plt.figure(figsize=(15, 5))\n",
    "\n",
    "plt.scatter(data[\"ACTIVEDAYS\"], \n",
    "            data[\"ADDCOUNT\"]\n",
    "            , c=data[\"KNNCLUSTER\"], cmap='viridis')\n",
    "plt.xticks(size=12)\n",
    "plt.yticks(size=12)\n",
    "plt.title(\"Clusters base on Active Days, Add-Ons\", size=20)\n",
    "plt.xlabel(\"Active Days\", size=16)\n",
    "plt.ylabel(\"Number of Add-Ons\", size=16)\n",
    "None"
   ]
  },
  {
   "cell_type": "code",
   "execution_count": 94,
   "metadata": {
    "ExecuteTime": {
     "end_time": "2021-06-10T13:24:19.159518Z",
     "start_time": "2021-06-10T13:24:19.156799Z"
    }
   },
   "outputs": [
    {
     "name": "stdout",
     "output_type": "stream",
     "text": [
      "One of the ways KNN divided the subscribers is based on the number of purchased add-ons.\n",
      "Subscribers owning 4 or more of them were mostly grouped together.\n",
      "Subscribers owning 1 appear together and so do players not owning any. Those owning 2-3 are distributed roughlty into 2 clusters.\n"
     ]
    }
   ],
   "source": [
    "print(\"One of the ways KNN divided the subscribers is based on the number of purchased add-ons.\\nSubscribers owning 4 or more of them were mostly grouped together.\"\n",
    "     )\n",
    "print(\"Subscribers owning 1 appear together and so do players not owning any. Those owning 2-3 are distributed roughlty into 2 clusters.\")"
   ]
  },
  {
   "cell_type": "code",
   "execution_count": 95,
   "metadata": {
    "ExecuteTime": {
     "end_time": "2021-06-10T13:24:19.170757Z",
     "start_time": "2021-06-10T13:24:19.161059Z"
    }
   },
   "outputs": [
    {
     "name": "stdout",
     "output_type": "stream",
     "text": [
      "END = 01/07/2021 17:10:42\n"
     ]
    }
   ],
   "source": [
    "now = datetime.now()\n",
    "\n",
    "dt_string = now.strftime(\"%d/%m/%Y %H:%M:%S\")\n",
    "print(\"END =\", dt_string)"
   ]
  }
 ],
 "metadata": {
  "kernelspec": {
   "display_name": "Python 3",
   "language": "python",
   "name": "python3"
  },
  "language_info": {
   "codemirror_mode": {
    "name": "ipython",
    "version": 3
   },
   "file_extension": ".py",
   "mimetype": "text/x-python",
   "name": "python",
   "nbconvert_exporter": "python",
   "pygments_lexer": "ipython3",
   "version": "3.7.3"
  },
  "toc": {
   "base_numbering": 1,
   "nav_menu": {},
   "number_sections": true,
   "sideBar": true,
   "skip_h1_title": false,
   "title_cell": "Table of Contents",
   "title_sidebar": "Contents",
   "toc_cell": false,
   "toc_position": {
    "height": "calc(100% - 180px)",
    "left": "10px",
    "top": "150px",
    "width": "340.083px"
   },
   "toc_section_display": true,
   "toc_window_display": true
  }
 },
 "nbformat": 4,
 "nbformat_minor": 2
}
