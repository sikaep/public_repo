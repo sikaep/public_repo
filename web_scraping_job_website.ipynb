{
 "cells": [
  {
   "cell_type": "markdown",
   "metadata": {},
   "source": [
    "# Web scraping job ads\n",
    "\n",
    "Goal: apply web scraping to obtain information about currently available jobs from th Swiss website www.jobs.ch, which publishes job ads and aggregates ads from company websites.\n",
    "\n",
    "Methods: use BeautifulSoup (https://www.crummy.com/software/BeautifulSoup/bs4/doc/) to get the information from the website's HTML code, analyze job ads"
   ]
  },
  {
   "cell_type": "markdown",
   "metadata": {},
   "source": [
    "## Import necessary packages"
   ]
  },
  {
   "cell_type": "code",
   "execution_count": 1,
   "metadata": {
    "ExecuteTime": {
     "end_time": "2019-06-30T12:08:19.404980Z",
     "start_time": "2019-06-30T12:08:18.714898Z"
    }
   },
   "outputs": [],
   "source": [
    "import pandas as pd\n",
    "import numpy as np\n",
    "import time\n",
    "from datetime import datetime\n",
    "from os import path\n",
    "import requests\n",
    "\n",
    "from bs4 import BeautifulSoup # for the actual web scraping\n",
    "import math # for rounding\n",
    "import re # regular expressions for filtering of links\n",
    "from tqdm import tqdm # status bar\n",
    "\n",
    "# for graphs\n",
    "import seaborn as sns \n",
    "import matplotlib\n",
    "%matplotlib inline\n",
    "import matplotlib.pyplot as plt"
   ]
  },
  {
   "cell_type": "markdown",
   "metadata": {},
   "source": [
    "## Set up access to main website"
   ]
  },
  {
   "cell_type": "markdown",
   "metadata": {},
   "source": [
    "https://www.jobs.ch/en/vacancies/ shows all vacancies\n",
    "\n",
    "To find out how to scrape the website, it has to be inspected first. This is best done using the \"inspect element\" option in a web browser."
   ]
  },
  {
   "cell_type": "code",
   "execution_count": 2,
   "metadata": {
    "ExecuteTime": {
     "end_time": "2019-06-30T12:08:19.792981Z",
     "start_time": "2019-06-30T12:08:19.407137Z"
    }
   },
   "outputs": [
    {
     "name": "stdout",
     "output_type": "stream",
     "text": [
      "200\n"
     ]
    },
    {
     "data": {
      "text/plain": [
       "['https://www.jobs.ch/en/vacancies/admin-hr-consulting-ceo/',\n",
       " 'https://www.jobs.ch/en/vacancies/banking-insurance/',\n",
       " 'https://www.jobs.ch/en/vacancies/catering-food-tourism/',\n",
       " 'https://www.jobs.ch/en/vacancies/chemical-pharma-biotechnology/',\n",
       " 'https://www.jobs.ch/en/vacancies/construction-architecture-engineer/',\n",
       " 'https://www.jobs.ch/en/vacancies/electronics-engineering-watches/',\n",
       " 'https://www.jobs.ch/en/vacancies/finance-trusts-real-estate/',\n",
       " 'https://www.jobs.ch/en/vacancies/graphic-art-typography-printing/',\n",
       " 'https://www.jobs.ch/en/vacancies/information-technology-telecom/',\n",
       " 'https://www.jobs.ch/en/vacancies/machine-plant-engin-manufacturing/',\n",
       " 'https://www.jobs.ch/en/vacancies/medicine-care-therapy/',\n",
       " 'https://www.jobs.ch/en/vacancies/marketing-communications-editorial/',\n",
       " 'https://www.jobs.ch/en/vacancies/public-admin-education-social/',\n",
       " 'https://www.jobs.ch/en/vacancies/purchasing-logistics-trading/',\n",
       " 'https://www.jobs.ch/en/vacancies/sales-customer-service-admin/',\n",
       " 'https://www.jobs.ch/en/vacancies/sport-spas-wellness-culture/',\n",
       " 'https://www.jobs.ch/en/vacancies/surveillance-police-customs-rescue/',\n",
       " 'https://www.jobs.ch/en/vacancies/vehicles-craft-warehouse-transport/']"
      ]
     },
     "execution_count": 2,
     "metadata": {},
     "output_type": "execute_result"
    }
   ],
   "source": [
    "# Create the link as a composite\n",
    "link_first_part = 'https://www.jobs.ch'\n",
    "\n",
    "\n",
    "url = link_first_part + \"/en/\"\n",
    "\n",
    "# get the content from the link\n",
    "response = requests.get(url, timeout=50)\n",
    "\n",
    "# parse the content with BeautifulSoup with the html.parser method\n",
    "soup = BeautifulSoup(response.content, \"html.parser\")\n",
    "\n",
    "# check status code of the loaded page, it should return 200 to indicate an accessible website\n",
    "print(response.status_code)\n",
    "\n",
    "# link path to each category\n",
    "soup.findAll('div', {\n",
    "             'class': 'category-list x--category-list margin-bottom-4 margin-bottom-sm-6'})[0].find('a').get('href')\n",
    "\n",
    "# [0].find('a').get('href')\n",
    "length = len(soup.find('ul', {\"class\": \"list-links-unstyled\"}).findAll(\"li\"))\n",
    "job_links = []\n",
    "for e in range(length):\n",
    "    job_links.append(link_first_part + soup.find('ul',\n",
    "                                                 {\"class\": \"list-links-unstyled\"}).findAll(\"li\")[e].find('a').get('href'))\n",
    "\n",
    "job_links # this will return a list showing all the main job category links"
   ]
  },
  {
   "cell_type": "code",
   "execution_count": 3,
   "metadata": {
    "ExecuteTime": {
     "end_time": "2019-06-30T12:08:19.797482Z",
     "start_time": "2019-06-30T12:08:19.794535Z"
    }
   },
   "outputs": [
    {
     "data": {
      "text/plain": [
       "'https://www.jobs.ch/en/vacancies/admin-hr-consulting-ceo/'"
      ]
     },
     "execution_count": 3,
     "metadata": {},
     "output_type": "execute_result"
    }
   ],
   "source": [
    "link = job_links[0] #set the link to be accessed\n",
    "link # this will show the link to the first job category"
   ]
  },
  {
   "cell_type": "code",
   "execution_count": 4,
   "metadata": {
    "ExecuteTime": {
     "end_time": "2019-06-30T12:08:20.239492Z",
     "start_time": "2019-06-30T12:08:19.798858Z"
    }
   },
   "outputs": [],
   "source": [
    "# for that link we load the page and parse it with BeautifulSoup\n",
    "response = requests.get(link, timeout=50)\n",
    "soup = BeautifulSoup(response.content, \"html.parser\")"
   ]
  },
  {
   "cell_type": "markdown",
   "metadata": {},
   "source": [
    "## Number of jobs per category"
   ]
  },
  {
   "cell_type": "markdown",
   "metadata": {},
   "source": [
    "In this part we will find the total number of jobs listed in each category.\n",
    "The result will be added to a pandas dataframe."
   ]
  },
  {
   "cell_type": "code",
   "execution_count": 5,
   "metadata": {
    "ExecuteTime": {
     "end_time": "2019-06-30T12:08:42.153247Z",
     "start_time": "2019-06-30T12:08:20.240755Z"
    }
   },
   "outputs": [
    {
     "name": "stderr",
     "output_type": "stream",
     "text": [
      "100%|██████████| 18/18 [00:21<00:00,  1.33s/it]\n"
     ]
    }
   ],
   "source": [
    "# first, we get the number of jobs and job categories in one line\n",
    "\n",
    "jobnr = []\n",
    "dfall = pd.DataFrame()\n",
    "for link in tqdm(job_links):  # tqdm gives a progress bar as it can take a while to run\n",
    "    response = requests.get(link, timeout=50)\n",
    "    soup = BeautifulSoup(response.content, \"html.parser\")\n",
    "    try:\n",
    "        jobnr = soup.find('span', {'class': 'x--page-header'}).get_text()\n",
    "\n",
    "    except:\n",
    "        jobnr = np.nan\n",
    "\n",
    "    # we append the data to the dataframe\n",
    "    dfall = dfall.append({\n",
    "        'Date parsed': datetime.now().date(),\n",
    "        'Jobs': jobnr,\n",
    "    }, ignore_index=True)\n",
    "    # before the end of the loop we introduce a time delay to respect others that want to access the website\n",
    "    # not adding a delay can lead to your parsing being interrupted as the website may find your rate of access suspicious\n",
    "    time.sleep(0.6)"
   ]
  },
  {
   "cell_type": "code",
   "execution_count": 6,
   "metadata": {
    "ExecuteTime": {
     "end_time": "2019-06-30T12:08:42.167535Z",
     "start_time": "2019-06-30T12:08:42.155127Z"
    }
   },
   "outputs": [
    {
     "data": {
      "text/html": [
       "<div>\n",
       "<style scoped>\n",
       "    .dataframe tbody tr th:only-of-type {\n",
       "        vertical-align: middle;\n",
       "    }\n",
       "\n",
       "    .dataframe tbody tr th {\n",
       "        vertical-align: top;\n",
       "    }\n",
       "\n",
       "    .dataframe thead th {\n",
       "        text-align: right;\n",
       "    }\n",
       "</style>\n",
       "<table border=\"1\" class=\"dataframe\">\n",
       "  <thead>\n",
       "    <tr style=\"text-align: right;\">\n",
       "      <th></th>\n",
       "      <th>Date parsed</th>\n",
       "      <th>Jobs</th>\n",
       "    </tr>\n",
       "  </thead>\n",
       "  <tbody>\n",
       "    <tr>\n",
       "      <th>0</th>\n",
       "      <td>2019-06-30</td>\n",
       "      <td>8'299 Admin. / HR / Consulting / CEO job offers</td>\n",
       "    </tr>\n",
       "    <tr>\n",
       "      <th>1</th>\n",
       "      <td>2019-06-30</td>\n",
       "      <td>5'463 Banking / Insurance job offers</td>\n",
       "    </tr>\n",
       "    <tr>\n",
       "      <th>2</th>\n",
       "      <td>2019-06-30</td>\n",
       "      <td>3'133 Catering / Food / Tourism job offers</td>\n",
       "    </tr>\n",
       "    <tr>\n",
       "      <th>3</th>\n",
       "      <td>2019-06-30</td>\n",
       "      <td>1'443 Chemical / Pharma / Biotechnology job of...</td>\n",
       "    </tr>\n",
       "    <tr>\n",
       "      <th>4</th>\n",
       "      <td>2019-06-30</td>\n",
       "      <td>8'765 Construction / Architecture / Engineer j...</td>\n",
       "    </tr>\n",
       "  </tbody>\n",
       "</table>\n",
       "</div>"
      ],
      "text/plain": [
       "  Date parsed                                               Jobs\n",
       "0  2019-06-30    8'299 Admin. / HR / Consulting / CEO job offers\n",
       "1  2019-06-30               5'463 Banking / Insurance job offers\n",
       "2  2019-06-30         3'133 Catering / Food / Tourism job offers\n",
       "3  2019-06-30  1'443 Chemical / Pharma / Biotechnology job of...\n",
       "4  2019-06-30  8'765 Construction / Architecture / Engineer j..."
      ]
     },
     "execution_count": 6,
     "metadata": {},
     "output_type": "execute_result"
    }
   ],
   "source": [
    "dfall.head()"
   ]
  },
  {
   "cell_type": "code",
   "execution_count": 7,
   "metadata": {
    "ExecuteTime": {
     "end_time": "2019-06-30T12:08:42.184914Z",
     "start_time": "2019-06-30T12:08:42.170922Z"
    }
   },
   "outputs": [],
   "source": [
    "# since it's not very useful to have it in that format, regular expressions can be used to separate job categories and job numbers\n",
    "# to create regular expressions, use https://regex101.com/ or similar to cross-check your expressions\n",
    "\n",
    "dfnr = pd.DataFrame()  # initiate new, empty dataframe\n",
    "\n",
    "# declare your regular expressions\n",
    "regex1 = \"(([0-9]\\'[0-9]{0,4})|([0-9]{0,4}))\" # will catch 0-9 and '\n",
    "regex2 = \"( job offers)\" # will catch the string \" job offers\" in each category name\n",
    "regex3 = \"['A-Za-z&./]{1,}\" # will catch everything except 0-9\n",
    "\n",
    "dfnr[\"Date parsed\"] = dfall[\"Date parsed\"] # so you know how up-to-date your numbers are\n",
    "dfnr[\"Categories\"] = dfall.Jobs.replace(to_replace=(regex2, regex1), value='', regex=True)\n",
    "dfnr[\"Jobs\"] = dfall.Jobs.replace(to_replace=regex3, value='', regex=True)"
   ]
  },
  {
   "cell_type": "code",
   "execution_count": 8,
   "metadata": {
    "ExecuteTime": {
     "end_time": "2019-06-30T12:08:42.193735Z",
     "start_time": "2019-06-30T12:08:42.187194Z"
    }
   },
   "outputs": [
    {
     "name": "stdout",
     "output_type": "stream",
     "text": [
      "<class 'pandas.core.frame.DataFrame'>\n",
      "RangeIndex: 18 entries, 0 to 17\n",
      "Data columns (total 3 columns):\n",
      "Date parsed    18 non-null object\n",
      "Categories     18 non-null object\n",
      "Jobs           18 non-null object\n",
      "dtypes: object(3)\n",
      "memory usage: 512.0+ bytes\n"
     ]
    }
   ],
   "source": [
    "# to see the type of your new dataframe's colums, use .info()\n",
    "dfnr.info()"
   ]
  },
  {
   "cell_type": "code",
   "execution_count": 9,
   "metadata": {
    "ExecuteTime": {
     "end_time": "2019-06-30T12:08:42.211218Z",
     "start_time": "2019-06-30T12:08:42.195340Z"
    }
   },
   "outputs": [
    {
     "name": "stdout",
     "output_type": "stream",
     "text": [
      "Date parsed    datetime64[ns]\n",
      "Categories             object\n",
      "Jobs                    int64\n",
      "dtype: object\n"
     ]
    },
    {
     "data": {
      "text/html": [
       "<div>\n",
       "<style scoped>\n",
       "    .dataframe tbody tr th:only-of-type {\n",
       "        vertical-align: middle;\n",
       "    }\n",
       "\n",
       "    .dataframe tbody tr th {\n",
       "        vertical-align: top;\n",
       "    }\n",
       "\n",
       "    .dataframe thead th {\n",
       "        text-align: right;\n",
       "    }\n",
       "</style>\n",
       "<table border=\"1\" class=\"dataframe\">\n",
       "  <thead>\n",
       "    <tr style=\"text-align: right;\">\n",
       "      <th></th>\n",
       "      <th>Date parsed</th>\n",
       "      <th>Categories</th>\n",
       "      <th>Jobs</th>\n",
       "    </tr>\n",
       "  </thead>\n",
       "  <tbody>\n",
       "    <tr>\n",
       "      <th>0</th>\n",
       "      <td>2019-06-30 00:00:00</td>\n",
       "      <td>Admin. / HR / Consulting / CEO</td>\n",
       "      <td>8299</td>\n",
       "    </tr>\n",
       "    <tr>\n",
       "      <th>1</th>\n",
       "      <td>2019-06-30 00:00:00</td>\n",
       "      <td>Banking / Insurance</td>\n",
       "      <td>5463</td>\n",
       "    </tr>\n",
       "    <tr>\n",
       "      <th>2</th>\n",
       "      <td>2019-06-30 00:00:00</td>\n",
       "      <td>Catering / Food / Tourism</td>\n",
       "      <td>3133</td>\n",
       "    </tr>\n",
       "    <tr>\n",
       "      <th>3</th>\n",
       "      <td>2019-06-30 00:00:00</td>\n",
       "      <td>Chemical / Pharma / Biotechnology</td>\n",
       "      <td>1443</td>\n",
       "    </tr>\n",
       "    <tr>\n",
       "      <th>4</th>\n",
       "      <td>2019-06-30 00:00:00</td>\n",
       "      <td>Construction / Architecture / Engineer</td>\n",
       "      <td>8765</td>\n",
       "    </tr>\n",
       "    <tr>\n",
       "      <th>5</th>\n",
       "      <td>2019-06-30 00:00:00</td>\n",
       "      <td>Electronics / Engineering / Watches</td>\n",
       "      <td>3507</td>\n",
       "    </tr>\n",
       "    <tr>\n",
       "      <th>6</th>\n",
       "      <td>2019-06-30 00:00:00</td>\n",
       "      <td>Finance / Trusts / Real Estate</td>\n",
       "      <td>2904</td>\n",
       "    </tr>\n",
       "    <tr>\n",
       "      <th>7</th>\n",
       "      <td>2019-06-30 00:00:00</td>\n",
       "      <td>Graphic Art / Typography / Printing</td>\n",
       "      <td>315</td>\n",
       "    </tr>\n",
       "    <tr>\n",
       "      <th>8</th>\n",
       "      <td>2019-06-30 00:00:00</td>\n",
       "      <td>Information Technology / Telecom.</td>\n",
       "      <td>8212</td>\n",
       "    </tr>\n",
       "    <tr>\n",
       "      <th>9</th>\n",
       "      <td>2019-06-30 00:00:00</td>\n",
       "      <td>Machine / Plant Engin. / Manufacturing</td>\n",
       "      <td>4537</td>\n",
       "    </tr>\n",
       "    <tr>\n",
       "      <th>10</th>\n",
       "      <td>2019-06-30 00:00:00</td>\n",
       "      <td>Medicine / Care / Therapy</td>\n",
       "      <td>7248</td>\n",
       "    </tr>\n",
       "    <tr>\n",
       "      <th>11</th>\n",
       "      <td>2019-06-30 00:00:00</td>\n",
       "      <td>Marketing / Communications / Editorial</td>\n",
       "      <td>2294</td>\n",
       "    </tr>\n",
       "    <tr>\n",
       "      <th>12</th>\n",
       "      <td>2019-06-30 00:00:00</td>\n",
       "      <td>Public Admin. / Education / Social</td>\n",
       "      <td>3967</td>\n",
       "    </tr>\n",
       "    <tr>\n",
       "      <th>13</th>\n",
       "      <td>2019-06-30 00:00:00</td>\n",
       "      <td>Purchasing / Logistics / Trading</td>\n",
       "      <td>1865</td>\n",
       "    </tr>\n",
       "    <tr>\n",
       "      <th>14</th>\n",
       "      <td>2019-06-30 00:00:00</td>\n",
       "      <td>Sales / Customer Service / Admin.</td>\n",
       "      <td>7604</td>\n",
       "    </tr>\n",
       "    <tr>\n",
       "      <th>15</th>\n",
       "      <td>2019-06-30 00:00:00</td>\n",
       "      <td>Sport / Spas&amp;Wellness / Culture</td>\n",
       "      <td>502</td>\n",
       "    </tr>\n",
       "    <tr>\n",
       "      <th>16</th>\n",
       "      <td>2019-06-30 00:00:00</td>\n",
       "      <td>Surveillance / Police / Customs / Rescue</td>\n",
       "      <td>554</td>\n",
       "    </tr>\n",
       "    <tr>\n",
       "      <th>17</th>\n",
       "      <td>2019-06-30 00:00:00</td>\n",
       "      <td>Vehicles / Craft / Warehouse / Transport</td>\n",
       "      <td>3789</td>\n",
       "    </tr>\n",
       "    <tr>\n",
       "      <th>18</th>\n",
       "      <td></td>\n",
       "      <td>Total</td>\n",
       "      <td>74401</td>\n",
       "    </tr>\n",
       "  </tbody>\n",
       "</table>\n",
       "</div>"
      ],
      "text/plain": [
       "            Date parsed                                 Categories   Jobs\n",
       "0   2019-06-30 00:00:00             Admin. / HR / Consulting / CEO   8299\n",
       "1   2019-06-30 00:00:00                        Banking / Insurance   5463\n",
       "2   2019-06-30 00:00:00                  Catering / Food / Tourism   3133\n",
       "3   2019-06-30 00:00:00          Chemical / Pharma / Biotechnology   1443\n",
       "4   2019-06-30 00:00:00     Construction / Architecture / Engineer   8765\n",
       "5   2019-06-30 00:00:00        Electronics / Engineering / Watches   3507\n",
       "6   2019-06-30 00:00:00             Finance / Trusts / Real Estate   2904\n",
       "7   2019-06-30 00:00:00        Graphic Art / Typography / Printing    315\n",
       "8   2019-06-30 00:00:00          Information Technology / Telecom.   8212\n",
       "9   2019-06-30 00:00:00     Machine / Plant Engin. / Manufacturing   4537\n",
       "10  2019-06-30 00:00:00                  Medicine / Care / Therapy   7248\n",
       "11  2019-06-30 00:00:00     Marketing / Communications / Editorial   2294\n",
       "12  2019-06-30 00:00:00         Public Admin. / Education / Social   3967\n",
       "13  2019-06-30 00:00:00           Purchasing / Logistics / Trading   1865\n",
       "14  2019-06-30 00:00:00          Sales / Customer Service / Admin.   7604\n",
       "15  2019-06-30 00:00:00            Sport / Spas&Wellness / Culture    502\n",
       "16  2019-06-30 00:00:00   Surveillance / Police / Customs / Rescue    554\n",
       "17  2019-06-30 00:00:00   Vehicles / Craft / Warehouse / Transport   3789\n",
       "18                                                           Total  74401"
      ]
     },
     "execution_count": 9,
     "metadata": {},
     "output_type": "execute_result"
    }
   ],
   "source": [
    "# since there will be arithmetic manipulations, the number of jobs need to be in a numeric format\n",
    "dfnr[\"Date parsed\"] = pd.to_datetime(dfnr[\"Date parsed\"])\n",
    "dfnr[\"Jobs\"] = pd.to_numeric(dfnr[\"Jobs\"])\n",
    "\n",
    "print(dfnr.dtypes)\n",
    "\n",
    "# get the final dataframe with the sum of all jobs\n",
    "totaljobs = {'Categories': \"Total\",\n",
    "             'Jobs': dfnr['Jobs'].sum(),\n",
    "             \"Date parsed\": \"\"}\n",
    "dftotal = dfnr.append(totaljobs, ignore_index=True)\n",
    "\n",
    "dftotal"
   ]
  },
  {
   "cell_type": "markdown",
   "metadata": {},
   "source": [
    "## Visualize jobs per category"
   ]
  },
  {
   "cell_type": "code",
   "execution_count": 10,
   "metadata": {
    "ExecuteTime": {
     "end_time": "2019-06-30T12:08:42.639461Z",
     "start_time": "2019-06-30T12:08:42.212656Z"
    }
   },
   "outputs": [
    {
     "data": {
      "image/png": "[encoded data removed]",
      "text/plain": [
       "<Figure size 864x576 with 1 Axes>"
      ]
     },
     "metadata": {
      "needs_background": "light"
     },
     "output_type": "display_data"
    }
   ],
   "source": [
    "# make a plot using the seaborn library\n",
    "fig, g = plt.subplots(figsize=(12, 8))\n",
    "g = sns.barplot(data=dfnr, x=\"Categories\", y=\"Jobs\")\n",
    "g.set_xticklabels(rotation=90, labels=dfnr[\"Categories\"])\n",
    "\n",
    "# add the count of jobs on top of each bar\n",
    "for i, v in enumerate(dfnr[\"Jobs\"].iteritems()):\n",
    "    g.text(i, v[1], \"{:}\".format(v[1]), color='black',\n",
    "           ha=\"center\", va='bottom', rotation=0)\n",
    "\n",
    "# remove top and right axis for aesthetic reasons\n",
    "g.spines['right'].set_visible(False)\n",
    "g.spines['top'].set_visible(False)"
   ]
  },
  {
   "cell_type": "code",
   "execution_count": 11,
   "metadata": {
    "ExecuteTime": {
     "end_time": "2019-06-30T12:08:42.926293Z",
     "start_time": "2019-06-30T12:08:42.640908Z"
    }
   },
   "outputs": [
    {
     "data": {
      "image/png": "[encoded data removed]",
      "text/plain": [
       "<Figure size 864x576 with 1 Axes>"
      ]
     },
     "metadata": {
      "needs_background": "light"
     },
     "output_type": "display_data"
    }
   ],
   "source": [
    "# sort by number of jobs\n",
    "\n",
    "dfnr_sorted = dfnr.sort_values(['Jobs']).reset_index(drop=True)\n",
    "#print (dfnr_sorted)\n",
    "\n",
    "# visualize sorted table and apply color gradient\n",
    "plt.figure(figsize=(12, 8))\n",
    "g = sns.barplot(y=\"Jobs\", x=\"Categories\", data=dfnr_sorted, palette=(\"plasma\"))\n",
    "\n",
    "g.set_xticklabels(rotation=90, labels=dfnr_sorted[\"Categories\"])\n",
    "\n",
    "# add the count of jobs on top of each bar\n",
    "for i, v in enumerate(dfnr_sorted[\"Jobs\"].iteritems()):\n",
    "    g.text(i, v[1], \"{:}\".format(v[1]), color='black',\n",
    "           va='bottom', ha=\"center\", rotation=0)\n",
    "\n",
    "\n",
    "# remove top and right axis for aesthetic reasons\n",
    "g.spines['right'].set_visible(False)\n",
    "g.spines['top'].set_visible(False)"
   ]
  },
  {
   "cell_type": "markdown",
   "metadata": {},
   "source": [
    "# Number of pages"
   ]
  },
  {
   "cell_type": "markdown",
   "metadata": {},
   "source": [
    "Here, the goal is to find how many pages of jobs there are in each category and print the results to a csv file"
   ]
  },
  {
   "cell_type": "code",
   "execution_count": 12,
   "metadata": {
    "ExecuteTime": {
     "end_time": "2019-06-30T12:08:42.931632Z",
     "start_time": "2019-06-30T12:08:42.927687Z"
    }
   },
   "outputs": [
    {
     "data": {
      "text/plain": [
       "int"
      ]
     },
     "execution_count": 12,
     "metadata": {},
     "output_type": "execute_result"
    }
   ],
   "source": [
    "allnumbers = pd.to_numeric(dfnr['Jobs'].sum())  # total number of jobs\n",
    "allnumbersp = allnumbers.item()\n",
    "type(allnumbersp)  # it needs to be in the int format for the upcoming math"
   ]
  },
  {
   "cell_type": "code",
   "execution_count": 13,
   "metadata": {
    "ExecuteTime": {
     "end_time": "2019-06-30T12:08:42.936038Z",
     "start_time": "2019-06-30T12:08:42.933189Z"
    }
   },
   "outputs": [
    {
     "name": "stdout",
     "output_type": "stream",
     "text": [
      "There are 3101 pages job ads right now\n"
     ]
    }
   ],
   "source": [
    "# there are 24 job ads per page, so the total number of pages can be found by simple division\n",
    "allpages=(math.ceil(allnumbersp/24)) #always round up, as ther are no half-pages\n",
    "print(\"There are \" +str(allpages) +\" pages job ads right now\")"
   ]
  },
  {
   "cell_type": "code",
   "execution_count": 14,
   "metadata": {
    "ExecuteTime": {
     "end_time": "2019-06-30T12:08:42.955462Z",
     "start_time": "2019-06-30T12:08:42.937671Z"
    }
   },
   "outputs": [
    {
     "data": {
      "text/html": [
       "<div>\n",
       "<style scoped>\n",
       "    .dataframe tbody tr th:only-of-type {\n",
       "        vertical-align: middle;\n",
       "    }\n",
       "\n",
       "    .dataframe tbody tr th {\n",
       "        vertical-align: top;\n",
       "    }\n",
       "\n",
       "    .dataframe thead th {\n",
       "        text-align: right;\n",
       "    }\n",
       "</style>\n",
       "<table border=\"1\" class=\"dataframe\">\n",
       "  <thead>\n",
       "    <tr style=\"text-align: right;\">\n",
       "      <th></th>\n",
       "      <th>Date parsed</th>\n",
       "      <th>Categories</th>\n",
       "      <th>Jobs</th>\n",
       "      <th>Pages</th>\n",
       "    </tr>\n",
       "  </thead>\n",
       "  <tbody>\n",
       "    <tr>\n",
       "      <th>0</th>\n",
       "      <td>2019-06-30 00:00:00</td>\n",
       "      <td>Admin. / HR / Consulting / CEO</td>\n",
       "      <td>8299</td>\n",
       "      <td>346</td>\n",
       "    </tr>\n",
       "    <tr>\n",
       "      <th>1</th>\n",
       "      <td>2019-06-30 00:00:00</td>\n",
       "      <td>Banking / Insurance</td>\n",
       "      <td>5463</td>\n",
       "      <td>228</td>\n",
       "    </tr>\n",
       "    <tr>\n",
       "      <th>2</th>\n",
       "      <td>2019-06-30 00:00:00</td>\n",
       "      <td>Catering / Food / Tourism</td>\n",
       "      <td>3133</td>\n",
       "      <td>131</td>\n",
       "    </tr>\n",
       "    <tr>\n",
       "      <th>3</th>\n",
       "      <td>2019-06-30 00:00:00</td>\n",
       "      <td>Chemical / Pharma / Biotechnology</td>\n",
       "      <td>1443</td>\n",
       "      <td>61</td>\n",
       "    </tr>\n",
       "    <tr>\n",
       "      <th>4</th>\n",
       "      <td>2019-06-30 00:00:00</td>\n",
       "      <td>Construction / Architecture / Engineer</td>\n",
       "      <td>8765</td>\n",
       "      <td>366</td>\n",
       "    </tr>\n",
       "    <tr>\n",
       "      <th>5</th>\n",
       "      <td>2019-06-30 00:00:00</td>\n",
       "      <td>Electronics / Engineering / Watches</td>\n",
       "      <td>3507</td>\n",
       "      <td>147</td>\n",
       "    </tr>\n",
       "    <tr>\n",
       "      <th>6</th>\n",
       "      <td>2019-06-30 00:00:00</td>\n",
       "      <td>Finance / Trusts / Real Estate</td>\n",
       "      <td>2904</td>\n",
       "      <td>121</td>\n",
       "    </tr>\n",
       "    <tr>\n",
       "      <th>7</th>\n",
       "      <td>2019-06-30 00:00:00</td>\n",
       "      <td>Graphic Art / Typography / Printing</td>\n",
       "      <td>315</td>\n",
       "      <td>14</td>\n",
       "    </tr>\n",
       "    <tr>\n",
       "      <th>8</th>\n",
       "      <td>2019-06-30 00:00:00</td>\n",
       "      <td>Information Technology / Telecom.</td>\n",
       "      <td>8212</td>\n",
       "      <td>343</td>\n",
       "    </tr>\n",
       "    <tr>\n",
       "      <th>9</th>\n",
       "      <td>2019-06-30 00:00:00</td>\n",
       "      <td>Machine / Plant Engin. / Manufacturing</td>\n",
       "      <td>4537</td>\n",
       "      <td>190</td>\n",
       "    </tr>\n",
       "    <tr>\n",
       "      <th>10</th>\n",
       "      <td>2019-06-30 00:00:00</td>\n",
       "      <td>Medicine / Care / Therapy</td>\n",
       "      <td>7248</td>\n",
       "      <td>302</td>\n",
       "    </tr>\n",
       "    <tr>\n",
       "      <th>11</th>\n",
       "      <td>2019-06-30 00:00:00</td>\n",
       "      <td>Marketing / Communications / Editorial</td>\n",
       "      <td>2294</td>\n",
       "      <td>96</td>\n",
       "    </tr>\n",
       "    <tr>\n",
       "      <th>12</th>\n",
       "      <td>2019-06-30 00:00:00</td>\n",
       "      <td>Public Admin. / Education / Social</td>\n",
       "      <td>3967</td>\n",
       "      <td>166</td>\n",
       "    </tr>\n",
       "    <tr>\n",
       "      <th>13</th>\n",
       "      <td>2019-06-30 00:00:00</td>\n",
       "      <td>Purchasing / Logistics / Trading</td>\n",
       "      <td>1865</td>\n",
       "      <td>78</td>\n",
       "    </tr>\n",
       "    <tr>\n",
       "      <th>14</th>\n",
       "      <td>2019-06-30 00:00:00</td>\n",
       "      <td>Sales / Customer Service / Admin.</td>\n",
       "      <td>7604</td>\n",
       "      <td>317</td>\n",
       "    </tr>\n",
       "    <tr>\n",
       "      <th>15</th>\n",
       "      <td>2019-06-30 00:00:00</td>\n",
       "      <td>Sport / Spas&amp;Wellness / Culture</td>\n",
       "      <td>502</td>\n",
       "      <td>21</td>\n",
       "    </tr>\n",
       "    <tr>\n",
       "      <th>16</th>\n",
       "      <td>2019-06-30 00:00:00</td>\n",
       "      <td>Surveillance / Police / Customs / Rescue</td>\n",
       "      <td>554</td>\n",
       "      <td>24</td>\n",
       "    </tr>\n",
       "    <tr>\n",
       "      <th>17</th>\n",
       "      <td>2019-06-30 00:00:00</td>\n",
       "      <td>Vehicles / Craft / Warehouse / Transport</td>\n",
       "      <td>3789</td>\n",
       "      <td>158</td>\n",
       "    </tr>\n",
       "    <tr>\n",
       "      <th>18</th>\n",
       "      <td></td>\n",
       "      <td>Total</td>\n",
       "      <td>74401</td>\n",
       "      <td>3101</td>\n",
       "    </tr>\n",
       "  </tbody>\n",
       "</table>\n",
       "</div>"
      ],
      "text/plain": [
       "            Date parsed                                 Categories   Jobs  \\\n",
       "0   2019-06-30 00:00:00             Admin. / HR / Consulting / CEO   8299   \n",
       "1   2019-06-30 00:00:00                        Banking / Insurance   5463   \n",
       "2   2019-06-30 00:00:00                  Catering / Food / Tourism   3133   \n",
       "3   2019-06-30 00:00:00          Chemical / Pharma / Biotechnology   1443   \n",
       "4   2019-06-30 00:00:00     Construction / Architecture / Engineer   8765   \n",
       "5   2019-06-30 00:00:00        Electronics / Engineering / Watches   3507   \n",
       "6   2019-06-30 00:00:00             Finance / Trusts / Real Estate   2904   \n",
       "7   2019-06-30 00:00:00        Graphic Art / Typography / Printing    315   \n",
       "8   2019-06-30 00:00:00          Information Technology / Telecom.   8212   \n",
       "9   2019-06-30 00:00:00     Machine / Plant Engin. / Manufacturing   4537   \n",
       "10  2019-06-30 00:00:00                  Medicine / Care / Therapy   7248   \n",
       "11  2019-06-30 00:00:00     Marketing / Communications / Editorial   2294   \n",
       "12  2019-06-30 00:00:00         Public Admin. / Education / Social   3967   \n",
       "13  2019-06-30 00:00:00           Purchasing / Logistics / Trading   1865   \n",
       "14  2019-06-30 00:00:00          Sales / Customer Service / Admin.   7604   \n",
       "15  2019-06-30 00:00:00            Sport / Spas&Wellness / Culture    502   \n",
       "16  2019-06-30 00:00:00   Surveillance / Police / Customs / Rescue    554   \n",
       "17  2019-06-30 00:00:00   Vehicles / Craft / Warehouse / Transport   3789   \n",
       "18                                                           Total  74401   \n",
       "\n",
       "    Pages  \n",
       "0     346  \n",
       "1     228  \n",
       "2     131  \n",
       "3      61  \n",
       "4     366  \n",
       "5     147  \n",
       "6     121  \n",
       "7      14  \n",
       "8     343  \n",
       "9     190  \n",
       "10    302  \n",
       "11     96  \n",
       "12    166  \n",
       "13     78  \n",
       "14    317  \n",
       "15     21  \n",
       "16     24  \n",
       "17    158  \n",
       "18   3101  "
      ]
     },
     "execution_count": 14,
     "metadata": {},
     "output_type": "execute_result"
    }
   ],
   "source": [
    "# find the number of pages per category and add it to the dataframe\n",
    "\n",
    "dftotal[\"Pages1\"] = dftotal['Jobs'] # create new column with \"job\" values\n",
    "\n",
    "dfToList = dftotal[\"Pages1\"].tolist() # cast new column to list\n",
    "\n",
    "dfList = list(dftotal['Pages1'])\n",
    "\n",
    "dfValues = dftotal['Pages1'].values\n",
    "\n",
    "p = []  # initiate p for the number of pages coming out of the for-loop\n",
    "for i in dfValues:\n",
    "    p.append(math.ceil(i/24))\n",
    "\n",
    "pdpage = pd.DataFrame([p], [0])\n",
    "\n",
    "pdpaget = pdpage.transpose()\n",
    "pdpaget.rename(columns={0: \"Pages\"}, inplace=True)\n",
    "pdpaget\n",
    "\n",
    "# join the dataframes\n",
    "total = pd.concat([dftotal, pdpaget], axis=1)\n",
    "\n",
    "# remove the helper column \"Pages1\"\n",
    "total.drop([\"Pages1\"], axis=1)"
   ]
  },
  {
   "cell_type": "code",
   "execution_count": 15,
   "metadata": {
    "ExecuteTime": {
     "end_time": "2019-06-30T12:08:42.960793Z",
     "start_time": "2019-06-30T12:08:42.956935Z"
    }
   },
   "outputs": [],
   "source": [
    "# print dataframe to csv file in current directory\n",
    "# no index numbers\n",
    "# with header of columns\n",
    "\n",
    "total_pages_csv = total.to_csv('total_job_pages.csv', index=None, header=True)"
   ]
  }
 ],
 "metadata": {
  "kernelspec": {
   "display_name": "Python 3",
   "language": "python",
   "name": "python3"
  },
  "language_info": {
   "codemirror_mode": {
    "name": "ipython",
    "version": 3
   },
   "file_extension": ".py",
   "mimetype": "text/x-python",
   "name": "python",
   "nbconvert_exporter": "python",
   "pygments_lexer": "ipython3",
   "version": "3.7.3"
  },
  "toc": {
   "base_numbering": 1,
   "nav_menu": {},
   "number_sections": true,
   "sideBar": true,
   "skip_h1_title": false,
   "title_cell": "Table of Contents",
   "title_sidebar": "Contents",
   "toc_cell": false,
   "toc_position": {},
   "toc_section_display": true,
   "toc_window_display": true
  }
 },
 "nbformat": 4,
 "nbformat_minor": 2
}
